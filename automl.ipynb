{
 "cells": [
  {
   "cell_type": "markdown",
   "metadata": {},
   "source": [
    "# Automated ML\n",
    "\n",
    "Import Dependencies. In the cell below, I imported all the dependencies that needed to complete the project."
   ]
  },
  {
   "cell_type": "code",
   "execution_count": 1,
   "metadata": {
    "gather": {
     "logged": 1621174818447
    },
    "jupyter": {
     "outputs_hidden": false,
     "source_hidden": false
    },
    "nteract": {
     "transient": {
      "deleting": false
     }
    }
   },
   "outputs": [
    {
     "name": "stdout",
     "output_type": "stream",
     "text": [
      "SDK version: 1.27.0\n"
     ]
    }
   ],
   "source": [
    "import logging\n",
    "import os\n",
    "import csv\n",
    "\n",
    "from matplotlib import pyplot as plt\n",
    "import numpy as np\n",
    "import pandas as pd\n",
    "from sklearn import datasets\n",
    "import pkg_resources\n",
    "\n",
    "import azureml.core\n",
    "from azureml.core.experiment import Experiment\n",
    "from azureml.core.workspace import Workspace\n",
    "from azureml.train.automl import AutoMLConfig\n",
    "from azureml.core.dataset import Dataset\n",
    "\n",
    "from azureml.pipeline.steps import AutoMLStep\n",
    "\n",
    "# Check core SDK version number\n",
    "print(\"SDK version:\", azureml.core.VERSION)"
   ]
  },
  {
   "cell_type": "code",
   "execution_count": 2,
   "metadata": {
    "gather": {
     "logged": 1621174822878
    },
    "jupyter": {
     "outputs_hidden": false,
     "source_hidden": false
    },
    "nteract": {
     "transient": {
      "deleting": false
     }
    }
   },
   "outputs": [
    {
     "data": {
      "text/html": [
       "<table style=\"width:100%\"><tr><th>Name</th><th>Workspace</th><th>Report Page</th><th>Docs Page</th></tr><tr><td>customer-churn</td><td>quick-starts-ws-144967</td><td><a href=\"https://ml.azure.com/experiments/id/8ad3d59c-613a-4ef5-b3e2-4ba6679f5625?wsid=/subscriptions/9e65f93e-bdd8-437b-b1e8-0647cd6098f7/resourcegroups/aml-quickstarts-144967/workspaces/quick-starts-ws-144967&amp;tid=660b3398-b80e-49d2-bc5b-ac1dc93b5254\" target=\"_blank\" rel=\"noopener\">Link to Azure Machine Learning studio</a></td><td><a href=\"https://docs.microsoft.com/en-us/python/api/azureml-core/azureml.core.experiment.Experiment?view=azure-ml-py\" target=\"_blank\" rel=\"noopener\">Link to Documentation</a></td></tr></table>"
      ],
      "text/plain": [
       "Experiment(Name: customer-churn,\n",
       "Workspace: quick-starts-ws-144967)"
      ]
     },
     "execution_count": 2,
     "metadata": {},
     "output_type": "execute_result"
    }
   ],
   "source": [
    "ws = Workspace.from_config()\n",
    "\n",
    "experiment_name = 'customer-churn'\n",
    "project_folder = './pipeline-project'\n",
    "\n",
    "experiment=Experiment(ws, experiment_name)\n",
    "experiment"
   ]
  },
  {
   "cell_type": "markdown",
   "metadata": {
    "nteract": {
     "transient": {
      "deleting": false
     }
    }
   },
   "source": [
    "## Create or Attach an AmlCompute Cluster"
   ]
  },
  {
   "cell_type": "code",
   "execution_count": 3,
   "metadata": {
    "gather": {
     "logged": 1621174839867
    },
    "jupyter": {
     "outputs_hidden": false,
     "source_hidden": false
    },
    "nteract": {
     "transient": {
      "deleting": false
     }
    }
   },
   "outputs": [
    {
     "name": "stdout",
     "output_type": "stream",
     "text": [
      "Found existing cluster, use it.\n",
      "Succeeded\n",
      "AmlCompute wait for completion finished\n",
      "\n",
      "Minimum number of nodes requested have been provisioned\n"
     ]
    }
   ],
   "source": [
    "from azureml.core.compute import AmlCompute\n",
    "from azureml.core.compute import ComputeTarget\n",
    "from azureml.core.compute_target import ComputeTargetException\n",
    "\n",
    "# NOTE: update the cluster name to match the existing cluster\n",
    "# Choose a name for your CPU cluster\n",
    "amlcompute_cluster_name = \"capstone-cluster\"\n",
    "\n",
    "# Verify that cluster does not exist already\n",
    "try:\n",
    "    compute_target = ComputeTarget(workspace=ws, name=amlcompute_cluster_name)\n",
    "    print('Found existing cluster, use it.')\n",
    "except ComputeTargetException:\n",
    "    compute_config = AmlCompute.provisioning_configuration(vm_size='STANDARD_D2_V2',# for GPU, use \"STANDARD_NC6\"\n",
    "                                                           #vm_priority = 'lowpriority', # optional\n",
    "                                                           max_nodes=4)\n",
    "    compute_target = ComputeTarget.create(ws, amlcompute_cluster_name, compute_config)\n",
    "\n",
    "compute_target.wait_for_completion(show_output=True, min_node_count = 1, timeout_in_minutes = 10)\n",
    "# For a more detailed view of current AmlCompute status, use get_status()."
   ]
  },
  {
   "cell_type": "markdown",
   "metadata": {},
   "source": [
    "## Dataset\n",
    "\n",
    "### Overview\n",
    "This notebook is used to predict whether a customer will change telecommunications provider, something known as \"churning\".\n",
    "\n",
    "The dataset is part of the Kaggle Customer Churn Prediction 2020 (https://www.kaggle.com/c/customer-churn-prediction-2020/overview).\n",
    "\n",
    "The training dataset contains 4250 samples. Each sample contains 19 features and 1 boolean variable \"churn\" which indicates the class of the sample. The 19 input features and 1 target variable are:\n",
    "\n",
    "\"state\", string. 2-letter code of the US state of customer residence\n",
    "\"account_length\", numerical. Number of months the customer has been with the current telco provider\n",
    "\"area_code\", string=\"area_code_AAA\" where AAA = 3 digit area code.\n",
    "\"international_plan\", . The customer has international plan.\n",
    "\"voice_mail_plan\", . The customer has voice mail plan.\n",
    "\"number_vmail_messages\", numerical. Number of voice-mail messages.\n",
    "\"total_day_minutes\", numerical. Total minutes of day calls.\n",
    "\"total_day_calls\", numerical. Total minutes of day calls.\n",
    "\"total_day_charge\", numerical. Total charge of day calls.\n",
    "\"total_eve_minutes\", numerical. Total minutes of evening calls.\n",
    "\"total_eve_calls\", numerical. Total number of evening calls.\n",
    "\"total_eve_charge\", numerical. Total charge of evening calls.\n",
    "\"total_night_minutes\", numerical. Total minutes of night calls.\n",
    "\"total_night_calls\", numerical. Total number of night calls.\n",
    "\"total_night_charge\", numerical. Total charge of night calls.\n",
    "\"total_intl_minutes\", numerical. Total minutes of international calls.\n",
    "\"total_intl_calls\", numerical. Total number of international calls.\n",
    "\"total_intl_charge\", numerical. Total charge of international calls\n",
    "\"number_customer_service_calls\", numerical. Number of calls to customer service\n",
    "\"churn\", . Customer churn - target variable.\n",
    "\n"
   ]
  },
  {
   "cell_type": "code",
   "execution_count": 4,
   "metadata": {
    "gather": {
     "logged": 1621174851061
    },
    "jupyter": {
     "outputs_hidden": false,
     "source_hidden": false
    },
    "nteract": {
     "transient": {
      "deleting": false
     }
    }
   },
   "outputs": [
    {
     "data": {
      "text/html": [
       "<div>\n",
       "<style scoped>\n",
       "    .dataframe tbody tr th:only-of-type {\n",
       "        vertical-align: middle;\n",
       "    }\n",
       "\n",
       "    .dataframe tbody tr th {\n",
       "        vertical-align: top;\n",
       "    }\n",
       "\n",
       "    .dataframe thead th {\n",
       "        text-align: right;\n",
       "    }\n",
       "</style>\n",
       "<table border=\"1\" class=\"dataframe\">\n",
       "  <thead>\n",
       "    <tr style=\"text-align: right;\">\n",
       "      <th></th>\n",
       "      <th>account_length</th>\n",
       "      <th>number_vmail_messages</th>\n",
       "      <th>total_day_minutes</th>\n",
       "      <th>total_day_calls</th>\n",
       "      <th>total_day_charge</th>\n",
       "      <th>total_eve_minutes</th>\n",
       "      <th>total_eve_calls</th>\n",
       "      <th>total_eve_charge</th>\n",
       "      <th>total_night_minutes</th>\n",
       "      <th>total_night_calls</th>\n",
       "      <th>total_night_charge</th>\n",
       "      <th>total_intl_minutes</th>\n",
       "      <th>total_intl_calls</th>\n",
       "      <th>total_intl_charge</th>\n",
       "      <th>number_customer_service_calls</th>\n",
       "    </tr>\n",
       "  </thead>\n",
       "  <tbody>\n",
       "    <tr>\n",
       "      <th>count</th>\n",
       "      <td>4250.000000</td>\n",
       "      <td>4250.000000</td>\n",
       "      <td>4250.000000</td>\n",
       "      <td>4250.000000</td>\n",
       "      <td>4250.000000</td>\n",
       "      <td>4250.000000</td>\n",
       "      <td>4250.000000</td>\n",
       "      <td>4250.000000</td>\n",
       "      <td>4250.000000</td>\n",
       "      <td>4250.000000</td>\n",
       "      <td>4250.000000</td>\n",
       "      <td>4250.000000</td>\n",
       "      <td>4250.000000</td>\n",
       "      <td>4250.000000</td>\n",
       "      <td>4250.000000</td>\n",
       "    </tr>\n",
       "    <tr>\n",
       "      <th>mean</th>\n",
       "      <td>100.236235</td>\n",
       "      <td>7.631765</td>\n",
       "      <td>180.259600</td>\n",
       "      <td>99.907294</td>\n",
       "      <td>30.644682</td>\n",
       "      <td>200.173906</td>\n",
       "      <td>100.176471</td>\n",
       "      <td>17.015012</td>\n",
       "      <td>200.527882</td>\n",
       "      <td>99.839529</td>\n",
       "      <td>9.023892</td>\n",
       "      <td>10.256071</td>\n",
       "      <td>4.426353</td>\n",
       "      <td>2.769654</td>\n",
       "      <td>1.559059</td>\n",
       "    </tr>\n",
       "    <tr>\n",
       "      <th>std</th>\n",
       "      <td>39.698401</td>\n",
       "      <td>13.439882</td>\n",
       "      <td>54.012373</td>\n",
       "      <td>19.850817</td>\n",
       "      <td>9.182096</td>\n",
       "      <td>50.249518</td>\n",
       "      <td>19.908591</td>\n",
       "      <td>4.271212</td>\n",
       "      <td>50.353548</td>\n",
       "      <td>20.093220</td>\n",
       "      <td>2.265922</td>\n",
       "      <td>2.760102</td>\n",
       "      <td>2.463069</td>\n",
       "      <td>0.745204</td>\n",
       "      <td>1.311434</td>\n",
       "    </tr>\n",
       "    <tr>\n",
       "      <th>min</th>\n",
       "      <td>1.000000</td>\n",
       "      <td>0.000000</td>\n",
       "      <td>0.000000</td>\n",
       "      <td>0.000000</td>\n",
       "      <td>0.000000</td>\n",
       "      <td>0.000000</td>\n",
       "      <td>0.000000</td>\n",
       "      <td>0.000000</td>\n",
       "      <td>0.000000</td>\n",
       "      <td>0.000000</td>\n",
       "      <td>0.000000</td>\n",
       "      <td>0.000000</td>\n",
       "      <td>0.000000</td>\n",
       "      <td>0.000000</td>\n",
       "      <td>0.000000</td>\n",
       "    </tr>\n",
       "    <tr>\n",
       "      <th>25%</th>\n",
       "      <td>73.000000</td>\n",
       "      <td>0.000000</td>\n",
       "      <td>143.325000</td>\n",
       "      <td>87.000000</td>\n",
       "      <td>24.365000</td>\n",
       "      <td>165.925000</td>\n",
       "      <td>87.000000</td>\n",
       "      <td>14.102500</td>\n",
       "      <td>167.225000</td>\n",
       "      <td>86.000000</td>\n",
       "      <td>7.522500</td>\n",
       "      <td>8.500000</td>\n",
       "      <td>3.000000</td>\n",
       "      <td>2.300000</td>\n",
       "      <td>1.000000</td>\n",
       "    </tr>\n",
       "    <tr>\n",
       "      <th>50%</th>\n",
       "      <td>100.000000</td>\n",
       "      <td>0.000000</td>\n",
       "      <td>180.450000</td>\n",
       "      <td>100.000000</td>\n",
       "      <td>30.680000</td>\n",
       "      <td>200.700000</td>\n",
       "      <td>100.000000</td>\n",
       "      <td>17.060000</td>\n",
       "      <td>200.450000</td>\n",
       "      <td>100.000000</td>\n",
       "      <td>9.020000</td>\n",
       "      <td>10.300000</td>\n",
       "      <td>4.000000</td>\n",
       "      <td>2.780000</td>\n",
       "      <td>1.000000</td>\n",
       "    </tr>\n",
       "    <tr>\n",
       "      <th>75%</th>\n",
       "      <td>127.000000</td>\n",
       "      <td>16.000000</td>\n",
       "      <td>216.200000</td>\n",
       "      <td>113.000000</td>\n",
       "      <td>36.750000</td>\n",
       "      <td>233.775000</td>\n",
       "      <td>114.000000</td>\n",
       "      <td>19.867500</td>\n",
       "      <td>234.700000</td>\n",
       "      <td>113.000000</td>\n",
       "      <td>10.560000</td>\n",
       "      <td>12.000000</td>\n",
       "      <td>6.000000</td>\n",
       "      <td>3.240000</td>\n",
       "      <td>2.000000</td>\n",
       "    </tr>\n",
       "    <tr>\n",
       "      <th>max</th>\n",
       "      <td>243.000000</td>\n",
       "      <td>52.000000</td>\n",
       "      <td>351.500000</td>\n",
       "      <td>165.000000</td>\n",
       "      <td>59.760000</td>\n",
       "      <td>359.300000</td>\n",
       "      <td>170.000000</td>\n",
       "      <td>30.540000</td>\n",
       "      <td>395.000000</td>\n",
       "      <td>175.000000</td>\n",
       "      <td>17.770000</td>\n",
       "      <td>20.000000</td>\n",
       "      <td>20.000000</td>\n",
       "      <td>5.400000</td>\n",
       "      <td>9.000000</td>\n",
       "    </tr>\n",
       "  </tbody>\n",
       "</table>\n",
       "</div>"
      ],
      "text/plain": [
       "       account_length  number_vmail_messages  total_day_minutes  \\\n",
       "count     4250.000000            4250.000000        4250.000000   \n",
       "mean       100.236235               7.631765         180.259600   \n",
       "std         39.698401              13.439882          54.012373   \n",
       "min          1.000000               0.000000           0.000000   \n",
       "25%         73.000000               0.000000         143.325000   \n",
       "50%        100.000000               0.000000         180.450000   \n",
       "75%        127.000000              16.000000         216.200000   \n",
       "max        243.000000              52.000000         351.500000   \n",
       "\n",
       "       total_day_calls  total_day_charge  total_eve_minutes  total_eve_calls  \\\n",
       "count      4250.000000       4250.000000        4250.000000      4250.000000   \n",
       "mean         99.907294         30.644682         200.173906       100.176471   \n",
       "std          19.850817          9.182096          50.249518        19.908591   \n",
       "min           0.000000          0.000000           0.000000         0.000000   \n",
       "25%          87.000000         24.365000         165.925000        87.000000   \n",
       "50%         100.000000         30.680000         200.700000       100.000000   \n",
       "75%         113.000000         36.750000         233.775000       114.000000   \n",
       "max         165.000000         59.760000         359.300000       170.000000   \n",
       "\n",
       "       total_eve_charge  total_night_minutes  total_night_calls  \\\n",
       "count       4250.000000          4250.000000        4250.000000   \n",
       "mean          17.015012           200.527882          99.839529   \n",
       "std            4.271212            50.353548          20.093220   \n",
       "min            0.000000             0.000000           0.000000   \n",
       "25%           14.102500           167.225000          86.000000   \n",
       "50%           17.060000           200.450000         100.000000   \n",
       "75%           19.867500           234.700000         113.000000   \n",
       "max           30.540000           395.000000         175.000000   \n",
       "\n",
       "       total_night_charge  total_intl_minutes  total_intl_calls  \\\n",
       "count         4250.000000         4250.000000       4250.000000   \n",
       "mean             9.023892           10.256071          4.426353   \n",
       "std              2.265922            2.760102          2.463069   \n",
       "min              0.000000            0.000000          0.000000   \n",
       "25%              7.522500            8.500000          3.000000   \n",
       "50%              9.020000           10.300000          4.000000   \n",
       "75%             10.560000           12.000000          6.000000   \n",
       "max             17.770000           20.000000         20.000000   \n",
       "\n",
       "       total_intl_charge  number_customer_service_calls  \n",
       "count        4250.000000                    4250.000000  \n",
       "mean            2.769654                       1.559059  \n",
       "std             0.745204                       1.311434  \n",
       "min             0.000000                       0.000000  \n",
       "25%             2.300000                       1.000000  \n",
       "50%             2.780000                       1.000000  \n",
       "75%             3.240000                       2.000000  \n",
       "max             5.400000                       9.000000  "
      ]
     },
     "execution_count": 4,
     "metadata": {},
     "output_type": "execute_result"
    }
   ],
   "source": [
    "# Try to load the dataset from the Workspace. \n",
    "found = False\n",
    "key = \"customer-churn\"\n",
    "\n",
    "if key in ws.datasets.keys(): \n",
    "        found = True\n",
    "        dataset = ws.datasets[key] \n",
    "\n",
    "df = dataset.to_pandas_dataframe()\n",
    "df.describe()"
   ]
  },
  {
   "cell_type": "code",
   "execution_count": 5,
   "metadata": {
    "gather": {
     "logged": 1621174853700
    },
    "jupyter": {
     "outputs_hidden": false,
     "source_hidden": false
    },
    "nteract": {
     "transient": {
      "deleting": false
     }
    }
   },
   "outputs": [
    {
     "data": {
      "text/html": [
       "<div>\n",
       "<style scoped>\n",
       "    .dataframe tbody tr th:only-of-type {\n",
       "        vertical-align: middle;\n",
       "    }\n",
       "\n",
       "    .dataframe tbody tr th {\n",
       "        vertical-align: top;\n",
       "    }\n",
       "\n",
       "    .dataframe thead th {\n",
       "        text-align: right;\n",
       "    }\n",
       "</style>\n",
       "<table border=\"1\" class=\"dataframe\">\n",
       "  <thead>\n",
       "    <tr style=\"text-align: right;\">\n",
       "      <th></th>\n",
       "      <th>state</th>\n",
       "      <th>account_length</th>\n",
       "      <th>area_code</th>\n",
       "      <th>international_plan</th>\n",
       "      <th>voice_mail_plan</th>\n",
       "      <th>number_vmail_messages</th>\n",
       "      <th>total_day_minutes</th>\n",
       "      <th>total_day_calls</th>\n",
       "      <th>total_day_charge</th>\n",
       "      <th>total_eve_minutes</th>\n",
       "      <th>total_eve_calls</th>\n",
       "      <th>total_eve_charge</th>\n",
       "      <th>total_night_minutes</th>\n",
       "      <th>total_night_calls</th>\n",
       "      <th>total_night_charge</th>\n",
       "      <th>total_intl_minutes</th>\n",
       "      <th>total_intl_calls</th>\n",
       "      <th>total_intl_charge</th>\n",
       "      <th>number_customer_service_calls</th>\n",
       "      <th>churn</th>\n",
       "    </tr>\n",
       "  </thead>\n",
       "  <tbody>\n",
       "    <tr>\n",
       "      <th>0</th>\n",
       "      <td>OH</td>\n",
       "      <td>107</td>\n",
       "      <td>area_code_415</td>\n",
       "      <td>no</td>\n",
       "      <td>yes</td>\n",
       "      <td>26</td>\n",
       "      <td>161.6</td>\n",
       "      <td>123</td>\n",
       "      <td>27.47</td>\n",
       "      <td>195.5</td>\n",
       "      <td>103</td>\n",
       "      <td>16.62</td>\n",
       "      <td>254.4</td>\n",
       "      <td>103</td>\n",
       "      <td>11.45</td>\n",
       "      <td>13.7</td>\n",
       "      <td>3</td>\n",
       "      <td>3.70</td>\n",
       "      <td>1</td>\n",
       "      <td>no</td>\n",
       "    </tr>\n",
       "    <tr>\n",
       "      <th>1</th>\n",
       "      <td>NJ</td>\n",
       "      <td>137</td>\n",
       "      <td>area_code_415</td>\n",
       "      <td>no</td>\n",
       "      <td>no</td>\n",
       "      <td>0</td>\n",
       "      <td>243.4</td>\n",
       "      <td>114</td>\n",
       "      <td>41.38</td>\n",
       "      <td>121.2</td>\n",
       "      <td>110</td>\n",
       "      <td>10.30</td>\n",
       "      <td>162.6</td>\n",
       "      <td>104</td>\n",
       "      <td>7.32</td>\n",
       "      <td>12.2</td>\n",
       "      <td>5</td>\n",
       "      <td>3.29</td>\n",
       "      <td>0</td>\n",
       "      <td>no</td>\n",
       "    </tr>\n",
       "    <tr>\n",
       "      <th>2</th>\n",
       "      <td>OH</td>\n",
       "      <td>84</td>\n",
       "      <td>area_code_408</td>\n",
       "      <td>yes</td>\n",
       "      <td>no</td>\n",
       "      <td>0</td>\n",
       "      <td>299.4</td>\n",
       "      <td>71</td>\n",
       "      <td>50.90</td>\n",
       "      <td>61.9</td>\n",
       "      <td>88</td>\n",
       "      <td>5.26</td>\n",
       "      <td>196.9</td>\n",
       "      <td>89</td>\n",
       "      <td>8.86</td>\n",
       "      <td>6.6</td>\n",
       "      <td>7</td>\n",
       "      <td>1.78</td>\n",
       "      <td>2</td>\n",
       "      <td>no</td>\n",
       "    </tr>\n",
       "    <tr>\n",
       "      <th>3</th>\n",
       "      <td>OK</td>\n",
       "      <td>75</td>\n",
       "      <td>area_code_415</td>\n",
       "      <td>yes</td>\n",
       "      <td>no</td>\n",
       "      <td>0</td>\n",
       "      <td>166.7</td>\n",
       "      <td>113</td>\n",
       "      <td>28.34</td>\n",
       "      <td>148.3</td>\n",
       "      <td>122</td>\n",
       "      <td>12.61</td>\n",
       "      <td>186.9</td>\n",
       "      <td>121</td>\n",
       "      <td>8.41</td>\n",
       "      <td>10.1</td>\n",
       "      <td>3</td>\n",
       "      <td>2.73</td>\n",
       "      <td>3</td>\n",
       "      <td>no</td>\n",
       "    </tr>\n",
       "    <tr>\n",
       "      <th>4</th>\n",
       "      <td>MA</td>\n",
       "      <td>121</td>\n",
       "      <td>area_code_510</td>\n",
       "      <td>no</td>\n",
       "      <td>yes</td>\n",
       "      <td>24</td>\n",
       "      <td>218.2</td>\n",
       "      <td>88</td>\n",
       "      <td>37.09</td>\n",
       "      <td>348.5</td>\n",
       "      <td>108</td>\n",
       "      <td>29.62</td>\n",
       "      <td>212.6</td>\n",
       "      <td>118</td>\n",
       "      <td>9.57</td>\n",
       "      <td>7.5</td>\n",
       "      <td>7</td>\n",
       "      <td>2.03</td>\n",
       "      <td>3</td>\n",
       "      <td>no</td>\n",
       "    </tr>\n",
       "  </tbody>\n",
       "</table>\n",
       "</div>"
      ],
      "text/plain": [
       "  state  account_length      area_code international_plan voice_mail_plan  \\\n",
       "0    OH             107  area_code_415                 no             yes   \n",
       "1    NJ             137  area_code_415                 no              no   \n",
       "2    OH              84  area_code_408                yes              no   \n",
       "3    OK              75  area_code_415                yes              no   \n",
       "4    MA             121  area_code_510                 no             yes   \n",
       "\n",
       "   number_vmail_messages  total_day_minutes  total_day_calls  \\\n",
       "0                     26              161.6              123   \n",
       "1                      0              243.4              114   \n",
       "2                      0              299.4               71   \n",
       "3                      0              166.7              113   \n",
       "4                     24              218.2               88   \n",
       "\n",
       "   total_day_charge  total_eve_minutes  total_eve_calls  total_eve_charge  \\\n",
       "0             27.47              195.5              103             16.62   \n",
       "1             41.38              121.2              110             10.30   \n",
       "2             50.90               61.9               88              5.26   \n",
       "3             28.34              148.3              122             12.61   \n",
       "4             37.09              348.5              108             29.62   \n",
       "\n",
       "   total_night_minutes  total_night_calls  total_night_charge  \\\n",
       "0                254.4                103               11.45   \n",
       "1                162.6                104                7.32   \n",
       "2                196.9                 89                8.86   \n",
       "3                186.9                121                8.41   \n",
       "4                212.6                118                9.57   \n",
       "\n",
       "   total_intl_minutes  total_intl_calls  total_intl_charge  \\\n",
       "0                13.7                 3               3.70   \n",
       "1                12.2                 5               3.29   \n",
       "2                 6.6                 7               1.78   \n",
       "3                10.1                 3               2.73   \n",
       "4                 7.5                 7               2.03   \n",
       "\n",
       "   number_customer_service_calls churn  \n",
       "0                              1    no  \n",
       "1                              0    no  \n",
       "2                              2    no  \n",
       "3                              3    no  \n",
       "4                              3    no  "
      ]
     },
     "execution_count": 5,
     "metadata": {},
     "output_type": "execute_result"
    }
   ],
   "source": [
    "df.head(5)"
   ]
  },
  {
   "cell_type": "markdown",
   "metadata": {},
   "source": [
    "## AutoML Configuration\n",
    "\n",
    "The AutoML experiment will timeout after 15 minutes and uses a maximum of 5 concurrent iterations. It is, however, very possible to adjust those parameters (though a deep learning experiment has a limit of 24 hours).\n",
    "The primary metric is AUC_weighted (area under the curve weighted), which is the metric I want to optimize. The best-fit model will be chosen based on this metric. The binary classification predicts, whether a customer is going to leave the company or not (given in the lab column \"churn\"). \n",
    "For a detailed explanation, see the Readme file."
   ]
  },
  {
   "cell_type": "code",
   "execution_count": 7,
   "metadata": {
    "gather": {
     "logged": 1621174882212
    },
    "jupyter": {
     "outputs_hidden": false,
     "source_hidden": false
    },
    "nteract": {
     "transient": {
      "deleting": false
     }
    }
   },
   "outputs": [],
   "source": [
    "automl_settings = {\n",
    "    \"experiment_timeout_minutes\": 15,\n",
    "    \"max_concurrent_iterations\": 5,\n",
    "    \"primary_metric\" : 'AUC_weighted'\n",
    "}\n",
    "automl_config = AutoMLConfig(compute_target=compute_target,\n",
    "                             task = \"classification\",\n",
    "                             training_data=dataset,\n",
    "                             label_column_name=\"churn\",   \n",
    "                             path = project_folder,\n",
    "                             enable_early_stopping= True,\n",
    "                             featurization= 'auto',\n",
    "                             debug_log = \"automl_errors.log\",\n",
    "                             **automl_settings\n",
    "                            )"
   ]
  },
  {
   "cell_type": "code",
   "execution_count": 8,
   "metadata": {
    "gather": {
     "logged": 1621174890092
    },
    "jupyter": {
     "outputs_hidden": false,
     "source_hidden": false
    },
    "nteract": {
     "transient": {
      "deleting": false
     }
    }
   },
   "outputs": [
    {
     "name": "stdout",
     "output_type": "stream",
     "text": [
      "Submitting remote run.\n"
     ]
    },
    {
     "data": {
      "text/html": [
       "<table style=\"width:100%\"><tr><th>Experiment</th><th>Id</th><th>Type</th><th>Status</th><th>Details Page</th><th>Docs Page</th></tr><tr><td>customer-churn</td><td>AutoML_0442a08e-f9e7-457b-9333-ea80d4ef6c40</td><td>automl</td><td>NotStarted</td><td><a href=\"https://ml.azure.com/runs/AutoML_0442a08e-f9e7-457b-9333-ea80d4ef6c40?wsid=/subscriptions/9e65f93e-bdd8-437b-b1e8-0647cd6098f7/resourcegroups/aml-quickstarts-144967/workspaces/quick-starts-ws-144967&amp;tid=660b3398-b80e-49d2-bc5b-ac1dc93b5254\" target=\"_blank\" rel=\"noopener\">Link to Azure Machine Learning studio</a></td><td><a href=\"https://docs.microsoft.com/en-us/python/api/overview/azure/ml/intro?view=azure-ml-py\" target=\"_blank\" rel=\"noopener\">Link to Documentation</a></td></tr></table>"
      ],
      "text/plain": [
       "<IPython.core.display.HTML object>"
      ]
     },
     "metadata": {},
     "output_type": "display_data"
    }
   ],
   "source": [
    "Submit your experiment\n",
    "remote_run = experiment.submit(automl_config)"
   ]
  },
  {
   "cell_type": "markdown",
   "metadata": {},
   "source": [
    "## Run Details\n",
    "\n",
    "\n",
    "In the cell below, I use the `RunDetails` widget to show the different experiments."
   ]
  },
  {
   "cell_type": "code",
   "execution_count": 9,
   "metadata": {
    "gather": {
     "logged": 1621013939785
    },
    "jupyter": {
     "outputs_hidden": false,
     "source_hidden": false
    },
    "nteract": {
     "transient": {
      "deleting": false
     }
    },
    "scrolled": false
   },
   "outputs": [
    {
     "data": {
      "application/vnd.jupyter.widget-view+json": {
       "model_id": "845845b30ff24c8ab156390d7985bb59",
       "version_major": 2,
       "version_minor": 0
      },
      "text/plain": [
       "_AutoMLWidget(widget_settings={'childWidgetDisplay': 'popup', 'send_telemetry': False, 'log_level': 'INFO', 's…"
      ]
     },
     "metadata": {},
     "output_type": "display_data"
    },
    {
     "data": {
      "application/aml.mini.widget.v1": "{\"status\": \"Completed\", \"workbench_run_details_uri\": \"https://ml.azure.com/runs/AutoML_0442a08e-f9e7-457b-9333-ea80d4ef6c40?wsid=/subscriptions/9e65f93e-bdd8-437b-b1e8-0647cd6098f7/resourcegroups/aml-quickstarts-144967/workspaces/quick-starts-ws-144967&tid=660b3398-b80e-49d2-bc5b-ac1dc93b5254\", \"run_id\": \"AutoML_0442a08e-f9e7-457b-9333-ea80d4ef6c40\", \"run_properties\": {\"run_id\": \"AutoML_0442a08e-f9e7-457b-9333-ea80d4ef6c40\", \"created_utc\": \"2021-05-16T14:27:39.69296Z\", \"properties\": {\"num_iterations\": \"1000\", \"training_type\": \"TrainFull\", \"acquisition_function\": \"EI\", \"primary_metric\": \"AUC_weighted\", \"train_split\": \"0\", \"acquisition_parameter\": \"0\", \"num_cross_validation\": null, \"target\": \"capstone-cluster\", \"AMLSettingsJsonString\": \"{\\\"path\\\":null,\\\"name\\\":\\\"customer-churn\\\",\\\"subscription_id\\\":\\\"9e65f93e-bdd8-437b-b1e8-0647cd6098f7\\\",\\\"resource_group\\\":\\\"aml-quickstarts-144967\\\",\\\"workspace_name\\\":\\\"quick-starts-ws-144967\\\",\\\"region\\\":\\\"southcentralus\\\",\\\"compute_target\\\":\\\"capstone-cluster\\\",\\\"spark_service\\\":null,\\\"azure_service\\\":\\\"remote\\\",\\\"many_models\\\":false,\\\"pipeline_fetch_max_batch_size\\\":1,\\\"enable_batch_run\\\":false,\\\"enable_run_restructure\\\":false,\\\"start_auxiliary_runs_before_parent_complete\\\":false,\\\"iterations\\\":1000,\\\"primary_metric\\\":\\\"AUC_weighted\\\",\\\"task_type\\\":\\\"classification\\\",\\\"data_script\\\":null,\\\"test_size\\\":0.0,\\\"validation_size\\\":0.0,\\\"n_cross_validations\\\":null,\\\"y_min\\\":null,\\\"y_max\\\":null,\\\"num_classes\\\":null,\\\"featurization\\\":\\\"auto\\\",\\\"_ignore_package_version_incompatibilities\\\":false,\\\"is_timeseries\\\":false,\\\"max_cores_per_iteration\\\":1,\\\"max_concurrent_iterations\\\":5,\\\"iteration_timeout_minutes\\\":null,\\\"mem_in_mb\\\":null,\\\"enforce_time_on_windows\\\":false,\\\"experiment_timeout_minutes\\\":15,\\\"experiment_exit_score\\\":null,\\\"whitelist_models\\\":null,\\\"blacklist_algos\\\":[\\\"TensorFlowLinearClassifier\\\",\\\"TensorFlowDNN\\\"],\\\"supported_models\\\":[\\\"GradientBoosting\\\",\\\"SVM\\\",\\\"DecisionTree\\\",\\\"LightGBM\\\",\\\"KNN\\\",\\\"BernoulliNaiveBayes\\\",\\\"XGBoostClassifier\\\",\\\"MultinomialNaiveBayes\\\",\\\"TensorFlowDNN\\\",\\\"TensorFlowLinearClassifier\\\",\\\"LogisticRegression\\\",\\\"LinearSVM\\\",\\\"AveragedPerceptronClassifier\\\",\\\"ExtremeRandomTrees\\\",\\\"RandomForest\\\",\\\"SGD\\\"],\\\"private_models\\\":[],\\\"auto_blacklist\\\":true,\\\"blacklist_samples_reached\\\":false,\\\"exclude_nan_labels\\\":true,\\\"verbosity\\\":20,\\\"_debug_log\\\":\\\"azureml_automl.log\\\",\\\"show_warnings\\\":false,\\\"model_explainability\\\":true,\\\"service_url\\\":null,\\\"sdk_url\\\":null,\\\"sdk_packages\\\":null,\\\"enable_onnx_compatible_models\\\":false,\\\"enable_split_onnx_featurizer_estimator_models\\\":false,\\\"vm_type\\\":\\\"STANDARD_DS3_V2\\\",\\\"telemetry_verbosity\\\":20,\\\"send_telemetry\\\":true,\\\"enable_dnn\\\":false,\\\"scenario\\\":\\\"SDK-1.13.0\\\",\\\"environment_label\\\":null,\\\"save_mlflow\\\":false,\\\"force_text_dnn\\\":false,\\\"enable_feature_sweeping\\\":true,\\\"enable_early_stopping\\\":true,\\\"early_stopping_n_iters\\\":10,\\\"metrics\\\":null,\\\"enable_metric_confidence\\\":false,\\\"enable_ensembling\\\":true,\\\"enable_stack_ensembling\\\":true,\\\"ensemble_iterations\\\":15,\\\"enable_tf\\\":false,\\\"enable_subsampling\\\":null,\\\"subsample_seed\\\":null,\\\"enable_nimbusml\\\":false,\\\"enable_streaming\\\":false,\\\"force_streaming\\\":false,\\\"track_child_runs\\\":true,\\\"allowed_private_models\\\":[],\\\"label_column_name\\\":\\\"churn\\\",\\\"weight_column_name\\\":null,\\\"cv_split_column_names\\\":null,\\\"enable_local_managed\\\":false,\\\"_local_managed_run_id\\\":null,\\\"cost_mode\\\":1,\\\"lag_length\\\":0,\\\"metric_operation\\\":\\\"maximize\\\",\\\"preprocess\\\":true}\", \"DataPrepJsonString\": \"{\\\\\\\"training_data\\\\\\\": {\\\\\\\"datasetId\\\\\\\": \\\\\\\"05dd38b7-707c-49c6-a238-8607d9a910b3\\\\\\\"}, \\\\\\\"datasets\\\\\\\": 0}\", \"EnableSubsampling\": null, \"runTemplate\": \"AutoML\", \"azureml.runsource\": \"automl\", \"display_task_type\": \"classification\", \"dependencies_versions\": \"{\\\"azureml-widgets\\\": \\\"1.27.0\\\", \\\"azureml-train\\\": \\\"1.27.0\\\", \\\"azureml-train-restclients-hyperdrive\\\": \\\"1.27.0\\\", \\\"azureml-train-core\\\": \\\"1.27.0\\\", \\\"azureml-train-automl\\\": \\\"1.27.0\\\", \\\"azureml-train-automl-runtime\\\": \\\"1.27.0\\\", \\\"azureml-train-automl-client\\\": \\\"1.27.0\\\", \\\"azureml-tensorboard\\\": \\\"1.27.0\\\", \\\"azureml-telemetry\\\": \\\"1.27.0\\\", \\\"azureml-sdk\\\": \\\"1.27.0\\\", \\\"azureml-samples\\\": \\\"0+unknown\\\", \\\"azureml-pipeline\\\": \\\"1.27.0\\\", \\\"azureml-pipeline-steps\\\": \\\"1.27.0\\\", \\\"azureml-pipeline-core\\\": \\\"1.27.0\\\", \\\"azureml-opendatasets\\\": \\\"1.27.0\\\", \\\"azureml-model-management-sdk\\\": \\\"1.0.1b6.post1\\\", \\\"azureml-mlflow\\\": \\\"1.27.0\\\", \\\"azureml-interpret\\\": \\\"1.27.0\\\", \\\"azureml-explain-model\\\": \\\"1.27.0\\\", \\\"azureml-defaults\\\": \\\"1.27.0\\\", \\\"azureml-dataset-runtime\\\": \\\"1.27.0\\\", \\\"azureml-dataprep\\\": \\\"2.14.2\\\", \\\"azureml-dataprep-rslex\\\": \\\"1.12.1\\\", \\\"azureml-dataprep-native\\\": \\\"33.0.0\\\", \\\"azureml-datadrift\\\": \\\"1.27.0\\\", \\\"azureml-core\\\": \\\"1.27.0\\\", \\\"azureml-contrib-services\\\": \\\"1.27.0\\\", \\\"azureml-contrib-server\\\": \\\"1.27.0\\\", \\\"azureml-contrib-reinforcementlearning\\\": \\\"1.27.0\\\", \\\"azureml-contrib-pipeline-steps\\\": \\\"1.27.0\\\", \\\"azureml-contrib-notebook\\\": \\\"1.27.0\\\", \\\"azureml-contrib-gbdt\\\": \\\"1.27.0\\\", \\\"azureml-contrib-fairness\\\": \\\"1.27.0\\\", \\\"azureml-contrib-dataset\\\": \\\"1.27.0\\\", \\\"azureml-cli-common\\\": \\\"1.27.0\\\", \\\"azureml-automl-runtime\\\": \\\"1.27.0\\\", \\\"azureml-automl-dnn-nlp\\\": \\\"1.27.0\\\", \\\"azureml-automl-core\\\": \\\"1.27.0\\\", \\\"azureml-accel-models\\\": \\\"1.27.0\\\"}\", \"_aml_system_scenario_identification\": \"Remote.Parent\", \"ClientType\": \"SDK\", \"environment_cpu_name\": \"AzureML-AutoML\", \"environment_cpu_label\": \"prod\", \"environment_gpu_name\": \"AzureML-AutoML-GPU\", \"environment_gpu_label\": \"prod\", \"root_attribution\": \"automl\", \"attribution\": \"AutoML\", \"Orchestrator\": \"AutoML\", \"CancelUri\": \"https://southcentralus.api.azureml.ms/jasmine/v1.0/subscriptions/9e65f93e-bdd8-437b-b1e8-0647cd6098f7/resourceGroups/aml-quickstarts-144967/providers/Microsoft.MachineLearningServices/workspaces/quick-starts-ws-144967/experimentids/8ad3d59c-613a-4ef5-b3e2-4ba6679f5625/cancel/AutoML_0442a08e-f9e7-457b-9333-ea80d4ef6c40\", \"ClientSdkVersion\": \"1.27.0.post1\", \"snapshotId\": \"00000000-0000-0000-0000-000000000000\", \"SetupRunId\": \"AutoML_0442a08e-f9e7-457b-9333-ea80d4ef6c40_setup\", \"SetupRunContainerId\": \"dcid.AutoML_0442a08e-f9e7-457b-9333-ea80d4ef6c40_setup\", \"FeaturizationRunJsonPath\": \"featurizer_container.json\", \"FeaturizationRunId\": \"AutoML_0442a08e-f9e7-457b-9333-ea80d4ef6c40_featurize\", \"ProblemInfoJsonString\": \"{\\\"dataset_num_categorical\\\": 0, \\\"is_sparse\\\": true, \\\"subsampling\\\": false, \\\"dataset_classes\\\": 2, \\\"dataset_features\\\": 145, \\\"dataset_samples\\\": 4250, \\\"single_frequency_class_detected\\\": false}\", \"ModelExplainRunId\": \"AutoML_0442a08e-f9e7-457b-9333-ea80d4ef6c40_ModelExplain\"}, \"tags\": {\"model_explain_run\": \"best_run\", \"_aml_system_azureml.automlComponent\": \"AutoML\", \"pipeline_id\": \"\", \"score\": \"\", \"predicted_cost\": \"\", \"fit_time\": \"\", \"training_percent\": \"\", \"iteration\": \"\", \"run_preprocessor\": \"\", \"run_algorithm\": \"\", \"dynamic_whitelisting_iterations\": \"<25>;<30>;<35>;\", \"automl_best_child_run_id\": \"AutoML_0442a08e-f9e7-457b-9333-ea80d4ef6c40_40\", \"model_explain_best_run_child_id\": \"AutoML_0442a08e-f9e7-457b-9333-ea80d4ef6c40_40\"}, \"end_time_utc\": \"2021-05-16T14:46:39.200296Z\", \"status\": \"Completed\", \"log_files\": {}, \"log_groups\": [], \"run_duration\": \"0:18:59\", \"run_number\": \"11\", \"run_queued_details\": {\"status\": \"Completed\", \"details\": null}}, \"child_runs\": [{\"run_id\": \"AutoML_0442a08e-f9e7-457b-9333-ea80d4ef6c40_4\", \"run_number\": 16, \"metric\": null, \"status\": \"Completed\", \"run_type\": \"azureml.scriptrun\", \"training_percent\": \"100\", \"start_time\": \"2021-05-16T14:33:00.538533Z\", \"end_time\": \"2021-05-16T14:34:28.979571Z\", \"created_time\": \"2021-05-16T14:32:27.690578Z\", \"created_time_dt\": \"2021-05-16T14:32:27.690578Z\", \"duration\": \"0:02:01\", \"iteration\": \"4\", \"goal\": \"AUC_weighted_max\", \"run_name\": \"MaxAbsScaler, RandomForest\", \"run_properties\": \"copy=True\", \"primary_metric\": 0.76826029, \"best_metric\": 0.91181469}, {\"run_id\": \"AutoML_0442a08e-f9e7-457b-9333-ea80d4ef6c40_2\", \"run_number\": 17, \"metric\": null, \"status\": \"Completed\", \"run_type\": \"azureml.scriptrun\", \"training_percent\": \"100\", \"start_time\": \"2021-05-16T14:33:30.813925Z\", \"end_time\": \"2021-05-16T14:34:17.553253Z\", \"created_time\": \"2021-05-16T14:32:27.693888Z\", \"created_time_dt\": \"2021-05-16T14:32:27.693888Z\", \"duration\": \"0:01:49\", \"iteration\": \"2\", \"goal\": \"AUC_weighted_max\", \"run_name\": \"MaxAbsScaler, RandomForest\", \"run_properties\": \"copy=True\", \"primary_metric\": 0.84158698, \"best_metric\": 0.91181469}, {\"run_id\": \"AutoML_0442a08e-f9e7-457b-9333-ea80d4ef6c40_0\", \"run_number\": 18, \"metric\": null, \"status\": \"Completed\", \"run_type\": \"azureml.scriptrun\", \"training_percent\": \"100\", \"start_time\": \"2021-05-16T14:33:19.25627Z\", \"end_time\": \"2021-05-16T14:34:40.864052Z\", \"created_time\": \"2021-05-16T14:32:27.70347Z\", \"created_time_dt\": \"2021-05-16T14:32:27.70347Z\", \"duration\": \"0:02:13\", \"iteration\": \"0\", \"goal\": \"AUC_weighted_max\", \"run_name\": \"MaxAbsScaler, LightGBM\", \"run_properties\": \"copy=True\", \"primary_metric\": 0.89459392, \"best_metric\": 0.89459392}, {\"run_id\": \"AutoML_0442a08e-f9e7-457b-9333-ea80d4ef6c40_1\", \"run_number\": 19, \"metric\": null, \"status\": \"Completed\", \"run_type\": \"azureml.scriptrun\", \"training_percent\": \"100\", \"start_time\": \"2021-05-16T14:33:31.411266Z\", \"end_time\": \"2021-05-16T14:34:18.090083Z\", \"created_time\": \"2021-05-16T14:32:27.785068Z\", \"created_time_dt\": \"2021-05-16T14:32:27.785068Z\", \"duration\": \"0:01:50\", \"iteration\": \"1\", \"goal\": \"AUC_weighted_max\", \"run_name\": \"MaxAbsScaler, XGBoostClassifier\", \"run_properties\": \"copy=True\", \"primary_metric\": 0.91181469, \"best_metric\": 0.91181469}, {\"run_id\": \"AutoML_0442a08e-f9e7-457b-9333-ea80d4ef6c40_3\", \"run_number\": 20, \"metric\": null, \"status\": \"Completed\", \"run_type\": \"azureml.scriptrun\", \"training_percent\": \"100\", \"start_time\": \"2021-05-16T14:34:34.306513Z\", \"end_time\": \"2021-05-16T14:35:21.762028Z\", \"created_time\": \"2021-05-16T14:32:27.710044Z\", \"created_time_dt\": \"2021-05-16T14:32:27.710044Z\", \"duration\": \"0:02:54\", \"iteration\": \"3\", \"goal\": \"AUC_weighted_max\", \"run_name\": \"MaxAbsScaler, RandomForest\", \"run_properties\": \"copy=True\", \"primary_metric\": 0.81978447, \"best_metric\": 0.91181469}, {\"run_id\": \"AutoML_0442a08e-f9e7-457b-9333-ea80d4ef6c40_5\", \"run_number\": 21, \"metric\": null, \"status\": \"Completed\", \"run_type\": \"azureml.scriptrun\", \"training_percent\": \"100\", \"start_time\": \"2021-05-16T14:34:34.322268Z\", \"end_time\": \"2021-05-16T14:35:20.759755Z\", \"created_time\": \"2021-05-16T14:34:20.530275Z\", \"created_time_dt\": \"2021-05-16T14:34:20.530275Z\", \"duration\": \"0:01:00\", \"iteration\": \"5\", \"goal\": \"AUC_weighted_max\", \"run_name\": \"MaxAbsScaler, ExtremeRandomTrees\", \"run_properties\": \"copy=True\", \"primary_metric\": 0.84702539, \"best_metric\": 0.91181469}, {\"run_id\": \"AutoML_0442a08e-f9e7-457b-9333-ea80d4ef6c40_6\", \"run_number\": 22, \"metric\": null, \"status\": \"Completed\", \"run_type\": \"azureml.scriptrun\", \"training_percent\": \"100\", \"start_time\": \"2021-05-16T14:34:40.767607Z\", \"end_time\": \"2021-05-16T14:35:21.970086Z\", \"created_time\": \"2021-05-16T14:34:24.719352Z\", \"created_time_dt\": \"2021-05-16T14:34:24.719352Z\", \"duration\": \"0:00:57\", \"iteration\": \"6\", \"goal\": \"AUC_weighted_max\", \"run_name\": \"MaxAbsScaler, ExtremeRandomTrees\", \"run_properties\": \"copy=True\", \"primary_metric\": 0.87362567, \"best_metric\": 0.91181469}, {\"run_id\": \"AutoML_0442a08e-f9e7-457b-9333-ea80d4ef6c40_7\", \"run_number\": 23, \"metric\": null, \"status\": \"Completed\", \"run_type\": \"azureml.scriptrun\", \"training_percent\": \"100\", \"start_time\": \"2021-05-16T14:34:56.926149Z\", \"end_time\": \"2021-05-16T14:35:40.001477Z\", \"created_time\": \"2021-05-16T14:34:32.798411Z\", \"created_time_dt\": \"2021-05-16T14:34:32.798411Z\", \"duration\": \"0:01:07\", \"iteration\": \"7\", \"goal\": \"AUC_weighted_max\", \"run_name\": \"MaxAbsScaler, ExtremeRandomTrees\", \"run_properties\": \"copy=True\", \"primary_metric\": 0.85760274, \"best_metric\": 0.91181469}, {\"run_id\": \"AutoML_0442a08e-f9e7-457b-9333-ea80d4ef6c40_8\", \"run_number\": 24, \"metric\": null, \"status\": \"Completed\", \"run_type\": \"azureml.scriptrun\", \"training_percent\": \"100\", \"start_time\": \"2021-05-16T14:35:38.997597Z\", \"end_time\": \"2021-05-16T14:36:27.126275Z\", \"created_time\": \"2021-05-16T14:34:43.802108Z\", \"created_time_dt\": \"2021-05-16T14:34:43.802108Z\", \"duration\": \"0:01:43\", \"iteration\": \"8\", \"goal\": \"AUC_weighted_max\", \"run_name\": \"MaxAbsScaler, RandomForest\", \"run_properties\": \"copy=True\", \"primary_metric\": 0.82235725, \"best_metric\": 0.91181469}, {\"run_id\": \"AutoML_0442a08e-f9e7-457b-9333-ea80d4ef6c40_9\", \"run_number\": 25, \"metric\": null, \"status\": \"Completed\", \"run_type\": \"azureml.scriptrun\", \"training_percent\": \"100\", \"start_time\": \"2021-05-16T14:35:38.235324Z\", \"end_time\": \"2021-05-16T14:36:21.586605Z\", \"created_time\": \"2021-05-16T14:35:23.880014Z\", \"created_time_dt\": \"2021-05-16T14:35:23.880014Z\", \"duration\": \"0:00:57\", \"iteration\": \"9\", \"goal\": \"AUC_weighted_max\", \"run_name\": \"MaxAbsScaler, ExtremeRandomTrees\", \"run_properties\": \"copy=True\", \"primary_metric\": 0.85302369, \"best_metric\": 0.91181469}, {\"run_id\": \"AutoML_0442a08e-f9e7-457b-9333-ea80d4ef6c40_10\", \"run_number\": 26, \"metric\": null, \"status\": \"Completed\", \"run_type\": \"azureml.scriptrun\", \"training_percent\": \"100\", \"start_time\": \"2021-05-16T14:35:38.345358Z\", \"end_time\": \"2021-05-16T14:36:20.367545Z\", \"created_time\": \"2021-05-16T14:35:28.707636Z\", \"created_time_dt\": \"2021-05-16T14:35:28.707636Z\", \"duration\": \"0:00:51\", \"iteration\": \"10\", \"goal\": \"AUC_weighted_max\", \"run_name\": \"MaxAbsScaler, RandomForest\", \"run_properties\": \"copy=True\", \"primary_metric\": 0.80478775, \"best_metric\": 0.91181469}, {\"run_id\": \"AutoML_0442a08e-f9e7-457b-9333-ea80d4ef6c40_11\", \"run_number\": 27, \"metric\": null, \"status\": \"Completed\", \"run_type\": \"azureml.scriptrun\", \"training_percent\": \"100\", \"start_time\": \"2021-05-16T14:35:56.588207Z\", \"end_time\": \"2021-05-16T14:36:41.202614Z\", \"created_time\": \"2021-05-16T14:35:28.735799Z\", \"created_time_dt\": \"2021-05-16T14:35:28.735799Z\", \"duration\": \"0:01:12\", \"iteration\": \"11\", \"goal\": \"AUC_weighted_max\", \"run_name\": \"MaxAbsScaler, RandomForest\", \"run_properties\": \"copy=True\", \"primary_metric\": 0.74792774, \"best_metric\": 0.91181469}, {\"run_id\": \"AutoML_0442a08e-f9e7-457b-9333-ea80d4ef6c40_12\", \"run_number\": 28, \"metric\": null, \"status\": \"Completed\", \"run_type\": \"azureml.scriptrun\", \"training_percent\": \"100\", \"start_time\": \"2021-05-16T14:36:37.177545Z\", \"end_time\": \"2021-05-16T14:37:18.323262Z\", \"created_time\": \"2021-05-16T14:35:43.118385Z\", \"created_time_dt\": \"2021-05-16T14:35:43.118385Z\", \"duration\": \"0:01:35\", \"iteration\": \"12\", \"goal\": \"AUC_weighted_max\", \"run_name\": \"MaxAbsScaler, RandomForest\", \"run_properties\": \"copy=True\", \"primary_metric\": 0.77829683, \"best_metric\": 0.91181469}, {\"run_id\": \"AutoML_0442a08e-f9e7-457b-9333-ea80d4ef6c40_13\", \"run_number\": 29, \"metric\": null, \"status\": \"Completed\", \"run_type\": \"azureml.scriptrun\", \"training_percent\": \"100\", \"start_time\": \"2021-05-16T14:37:45.44915Z\", \"end_time\": \"2021-05-16T14:38:36.839944Z\", \"created_time\": \"2021-05-16T14:36:23.313567Z\", \"created_time_dt\": \"2021-05-16T14:36:23.313567Z\", \"duration\": \"0:02:13\", \"iteration\": \"13\", \"goal\": \"AUC_weighted_max\", \"run_name\": \"StandardScalerWrapper, XGBoostClassifier\", \"run_properties\": \"<azureml.automl.runtime.shared.model_wrappers.StandardScalerWrapper object at 0x7f5c3772c4a8\", \"primary_metric\": 0.90293119, \"best_metric\": 0.91181469}, {\"run_id\": \"AutoML_0442a08e-f9e7-457b-9333-ea80d4ef6c40_14\", \"run_number\": 30, \"metric\": null, \"status\": \"Completed\", \"run_type\": \"azureml.scriptrun\", \"training_percent\": \"100\", \"start_time\": \"2021-05-16T14:37:51.805375Z\", \"end_time\": \"2021-05-16T14:38:35.669117Z\", \"created_time\": \"2021-05-16T14:36:27.270175Z\", \"created_time_dt\": \"2021-05-16T14:36:27.270175Z\", \"duration\": \"0:02:08\", \"iteration\": \"14\", \"goal\": \"AUC_weighted_max\", \"run_name\": \"MaxAbsScaler, RandomForest\", \"run_properties\": \"copy=True\", \"primary_metric\": 0.80837533, \"best_metric\": 0.91181469}, {\"run_id\": \"AutoML_0442a08e-f9e7-457b-9333-ea80d4ef6c40_15\", \"run_number\": 31, \"metric\": null, \"status\": \"Completed\", \"run_type\": \"azureml.scriptrun\", \"training_percent\": \"100\", \"start_time\": \"2021-05-16T14:38:28.253857Z\", \"end_time\": \"2021-05-16T14:39:09.700348Z\", \"created_time\": \"2021-05-16T14:36:31.07665Z\", \"created_time_dt\": \"2021-05-16T14:36:31.07665Z\", \"duration\": \"0:02:38\", \"iteration\": \"15\", \"goal\": \"AUC_weighted_max\", \"run_name\": \"StandardScalerWrapper, ExtremeRandomTrees\", \"run_properties\": \"<azureml.automl.runtime.shared.model_wrappers.StandardScalerWrapper object at 0x7f84fc087278\", \"primary_metric\": 0.85663864, \"best_metric\": 0.91181469}, {\"run_id\": \"AutoML_0442a08e-f9e7-457b-9333-ea80d4ef6c40_16\", \"run_number\": 32, \"metric\": null, \"status\": \"Completed\", \"run_type\": \"azureml.scriptrun\", \"training_percent\": \"100\", \"start_time\": \"2021-05-16T14:38:33.865812Z\", \"end_time\": \"2021-05-16T14:39:18.329397Z\", \"created_time\": \"2021-05-16T14:36:44.096959Z\", \"created_time_dt\": \"2021-05-16T14:36:44.096959Z\", \"duration\": \"0:02:34\", \"iteration\": \"16\", \"goal\": \"AUC_weighted_max\", \"run_name\": \"MaxAbsScaler, ExtremeRandomTrees\", \"run_properties\": \"copy=True\", \"primary_metric\": 0.85057208, \"best_metric\": 0.91181469}, {\"run_id\": \"AutoML_0442a08e-f9e7-457b-9333-ea80d4ef6c40_17\", \"run_number\": 33, \"metric\": null, \"status\": \"Completed\", \"run_type\": \"azureml.scriptrun\", \"training_percent\": \"100\", \"start_time\": \"2021-05-16T14:38:49.752536Z\", \"end_time\": \"2021-05-16T14:39:34.220582Z\", \"created_time\": \"2021-05-16T14:37:21.752279Z\", \"created_time_dt\": \"2021-05-16T14:37:21.752279Z\", \"duration\": \"0:02:12\", \"iteration\": \"17\", \"goal\": \"AUC_weighted_max\", \"run_name\": \"MaxAbsScaler, ExtremeRandomTrees\", \"run_properties\": \"copy=True\", \"primary_metric\": 0.82695896, \"best_metric\": 0.91181469}, {\"run_id\": \"AutoML_0442a08e-f9e7-457b-9333-ea80d4ef6c40_18\", \"run_number\": 34, \"metric\": null, \"status\": \"Completed\", \"run_type\": \"azureml.scriptrun\", \"training_percent\": \"100\", \"start_time\": \"2021-05-16T14:40:14.379706Z\", \"end_time\": \"2021-05-16T14:41:00.409254Z\", \"created_time\": \"2021-05-16T14:38:38.732123Z\", \"created_time_dt\": \"2021-05-16T14:38:38.732123Z\", \"duration\": \"0:02:21\", \"iteration\": \"18\", \"goal\": \"AUC_weighted_max\", \"run_name\": \"MaxAbsScaler, RandomForest\", \"run_properties\": \"copy=True\", \"primary_metric\": 0.73509007, \"best_metric\": 0.91181469}, {\"run_id\": \"AutoML_0442a08e-f9e7-457b-9333-ea80d4ef6c40_19\", \"run_number\": 35, \"metric\": null, \"status\": \"Completed\", \"run_type\": \"azureml.scriptrun\", \"training_percent\": \"100\", \"start_time\": \"2021-05-16T14:40:32.241128Z\", \"end_time\": \"2021-05-16T14:41:16.612979Z\", \"created_time\": \"2021-05-16T14:38:42.787835Z\", \"created_time_dt\": \"2021-05-16T14:38:42.787835Z\", \"duration\": \"0:02:33\", \"iteration\": \"19\", \"goal\": \"AUC_weighted_max\", \"run_name\": \"StandardScalerWrapper, LogisticRegression\", \"run_properties\": \"<azureml.automl.runtime.shared.model_wrappers.StandardScalerWrapper object at 0x7fd25dd46048\", \"primary_metric\": 0.82476824, \"best_metric\": 0.91181469}, {\"run_id\": \"AutoML_0442a08e-f9e7-457b-9333-ea80d4ef6c40_20\", \"run_number\": 36, \"metric\": null, \"status\": \"Completed\", \"run_type\": \"azureml.scriptrun\", \"training_percent\": \"100\", \"start_time\": \"2021-05-16T14:40:47.749425Z\", \"end_time\": \"2021-05-16T14:41:33.720152Z\", \"created_time\": \"2021-05-16T14:39:12.214239Z\", \"created_time_dt\": \"2021-05-16T14:39:12.214239Z\", \"duration\": \"0:02:21\", \"iteration\": \"20\", \"goal\": \"AUC_weighted_max\", \"run_name\": \"SparseNormalizer, LightGBM\", \"run_properties\": \"<azureml.automl.runtime.shared.model_wrappers.SparseNormalizer object at 0x7f7afc7e39e8\", \"primary_metric\": 0.89305285, \"best_metric\": 0.91181469}, {\"run_id\": \"AutoML_0442a08e-f9e7-457b-9333-ea80d4ef6c40_21\", \"run_number\": 37, \"metric\": null, \"status\": \"Completed\", \"run_type\": \"azureml.scriptrun\", \"training_percent\": \"100\", \"start_time\": \"2021-05-16T14:40:52.090944Z\", \"end_time\": \"2021-05-16T14:41:45.698163Z\", \"created_time\": \"2021-05-16T14:39:20.420728Z\", \"created_time_dt\": \"2021-05-16T14:39:20.420728Z\", \"duration\": \"0:02:25\", \"iteration\": \"21\", \"goal\": \"AUC_weighted_max\", \"run_name\": \"TruncatedSVDWrapper, XGBoostClassifier\", \"run_properties\": \"n_components=0.2573684210526316, random_state=None\", \"primary_metric\": 0.91397776, \"best_metric\": 0.91397776}, {\"run_id\": \"AutoML_0442a08e-f9e7-457b-9333-ea80d4ef6c40_22\", \"run_number\": 38, \"metric\": null, \"status\": \"Completed\", \"run_type\": \"azureml.scriptrun\", \"training_percent\": \"100\", \"start_time\": \"2021-05-16T14:41:14.694004Z\", \"end_time\": \"2021-05-16T14:41:57.081439Z\", \"created_time\": \"2021-05-16T14:39:36.234387Z\", \"created_time_dt\": \"2021-05-16T14:39:36.234387Z\", \"duration\": \"0:02:20\", \"iteration\": \"22\", \"goal\": \"AUC_weighted_max\", \"run_name\": \"MaxAbsScaler, LightGBM\", \"run_properties\": \"copy=True\", \"primary_metric\": 0.86632302, \"best_metric\": 0.91397776}, {\"run_id\": \"AutoML_0442a08e-f9e7-457b-9333-ea80d4ef6c40_23\", \"run_number\": 39, \"metric\": null, \"status\": \"Completed\", \"run_type\": \"azureml.scriptrun\", \"training_percent\": \"100\", \"start_time\": \"2021-05-16T14:41:27.832368Z\", \"end_time\": \"2021-05-16T14:42:14.609264Z\", \"created_time\": \"2021-05-16T14:41:02.250131Z\", \"created_time_dt\": \"2021-05-16T14:41:02.250131Z\", \"duration\": \"0:01:12\", \"iteration\": \"23\", \"goal\": \"AUC_weighted_max\", \"run_name\": \"StandardScalerWrapper, XGBoostClassifier\", \"run_properties\": \"<azureml.automl.runtime.shared.model_wrappers.StandardScalerWrapper object at 0x7f510f487c18\", \"primary_metric\": 0.90810167, \"best_metric\": 0.91397776}, {\"run_id\": \"AutoML_0442a08e-f9e7-457b-9333-ea80d4ef6c40_24\", \"run_number\": 40, \"metric\": null, \"status\": \"Completed\", \"run_type\": \"azureml.scriptrun\", \"training_percent\": \"100\", \"start_time\": \"2021-05-16T14:41:48.722356Z\", \"end_time\": \"2021-05-16T14:42:33.700328Z\", \"created_time\": \"2021-05-16T14:41:18.508868Z\", \"created_time_dt\": \"2021-05-16T14:41:18.508868Z\", \"duration\": \"0:01:15\", \"iteration\": \"24\", \"goal\": \"AUC_weighted_max\", \"run_name\": \"MaxAbsScaler, LightGBM\", \"run_properties\": \"copy=True\", \"primary_metric\": 0.82758653, \"best_metric\": 0.91397776}, {\"run_id\": \"AutoML_0442a08e-f9e7-457b-9333-ea80d4ef6c40_25\", \"run_number\": 41, \"metric\": null, \"status\": \"Completed\", \"run_type\": \"azureml.scriptrun\", \"training_percent\": \"100\", \"start_time\": \"2021-05-16T14:42:01.927083Z\", \"end_time\": \"2021-05-16T14:42:45.654801Z\", \"created_time\": \"2021-05-16T14:41:36.765531Z\", \"created_time_dt\": \"2021-05-16T14:41:36.765531Z\", \"duration\": \"0:01:08\", \"iteration\": \"25\", \"goal\": \"AUC_weighted_max\", \"run_name\": \"TruncatedSVDWrapper, XGBoostClassifier\", \"run_properties\": \"n_components=0.20789473684210527, random_state=None\", \"primary_metric\": 0.90933513, \"best_metric\": 0.91397776}, {\"run_id\": \"AutoML_0442a08e-f9e7-457b-9333-ea80d4ef6c40_26\", \"run_number\": 42, \"metric\": null, \"status\": \"Completed\", \"run_type\": \"azureml.scriptrun\", \"training_percent\": \"100\", \"start_time\": \"2021-05-16T14:42:12.677779Z\", \"end_time\": \"2021-05-16T14:42:56.289029Z\", \"created_time\": \"2021-05-16T14:41:47.490884Z\", \"created_time_dt\": \"2021-05-16T14:41:47.490884Z\", \"duration\": \"0:01:08\", \"iteration\": \"26\", \"goal\": \"AUC_weighted_max\", \"run_name\": \"MaxAbsScaler, LightGBM\", \"run_properties\": \"copy=True\", \"primary_metric\": 0.84604988, \"best_metric\": 0.91397776}, {\"run_id\": \"AutoML_0442a08e-f9e7-457b-9333-ea80d4ef6c40_27\", \"run_number\": 43, \"metric\": null, \"status\": \"Completed\", \"run_type\": \"azureml.scriptrun\", \"training_percent\": \"100\", \"start_time\": \"2021-05-16T14:42:31.611717Z\", \"end_time\": \"2021-05-16T14:43:17.354737Z\", \"created_time\": \"2021-05-16T14:41:58.965308Z\", \"created_time_dt\": \"2021-05-16T14:41:58.965308Z\", \"duration\": \"0:01:18\", \"iteration\": \"27\", \"goal\": \"AUC_weighted_max\", \"run_name\": \"SparseNormalizer, XGBoostClassifier\", \"run_properties\": \"<azureml.automl.runtime.shared.model_wrappers.SparseNormalizer object at 0x7f0597678a20\", \"primary_metric\": 0.90597958, \"best_metric\": 0.91397776}, {\"run_id\": \"AutoML_0442a08e-f9e7-457b-9333-ea80d4ef6c40_28\", \"run_number\": 44, \"metric\": null, \"status\": \"Completed\", \"run_type\": \"azureml.scriptrun\", \"training_percent\": \"100\", \"start_time\": \"2021-05-16T14:42:46.549803Z\", \"end_time\": \"2021-05-16T14:43:41.257297Z\", \"created_time\": \"2021-05-16T14:42:16.396009Z\", \"created_time_dt\": \"2021-05-16T14:42:16.396009Z\", \"duration\": \"0:01:24\", \"iteration\": \"28\", \"goal\": \"AUC_weighted_max\", \"run_name\": \"SparseNormalizer, XGBoostClassifier\", \"run_properties\": \"<azureml.automl.runtime.shared.model_wrappers.SparseNormalizer object at 0x7f388c1cbcf8\", \"primary_metric\": 0.89439163, \"best_metric\": 0.91397776}, {\"run_id\": \"AutoML_0442a08e-f9e7-457b-9333-ea80d4ef6c40_29\", \"run_number\": 45, \"metric\": null, \"status\": \"Completed\", \"run_type\": \"azureml.scriptrun\", \"training_percent\": \"100\", \"start_time\": \"2021-05-16T14:42:58.342597Z\", \"end_time\": \"2021-05-16T14:43:41.269374Z\", \"created_time\": \"2021-05-16T14:42:35.499055Z\", \"created_time_dt\": \"2021-05-16T14:42:35.499055Z\", \"duration\": \"0:01:05\", \"iteration\": \"29\", \"goal\": \"AUC_weighted_max\", \"run_name\": \"StandardScalerWrapper, XGBoostClassifier\", \"run_properties\": \"<azureml.automl.runtime.shared.model_wrappers.StandardScalerWrapper object at 0x7fdfd0334198\", \"primary_metric\": 0.91089396, \"best_metric\": 0.91397776}, {\"run_id\": \"AutoML_0442a08e-f9e7-457b-9333-ea80d4ef6c40_30\", \"run_number\": 46, \"metric\": null, \"status\": \"Completed\", \"run_type\": \"azureml.scriptrun\", \"training_percent\": \"100\", \"start_time\": \"2021-05-16T14:43:14.414225Z\", \"end_time\": \"2021-05-16T14:44:01.228002Z\", \"created_time\": \"2021-05-16T14:42:48.717973Z\", \"created_time_dt\": \"2021-05-16T14:42:48.717973Z\", \"duration\": \"0:01:12\", \"iteration\": \"30\", \"goal\": \"AUC_weighted_max\", \"run_name\": \"SparseNormalizer, XGBoostClassifier\", \"run_properties\": \"<azureml.automl.runtime.shared.model_wrappers.SparseNormalizer object at 0x7f35aaa480b8\", \"primary_metric\": 0.90802828, \"best_metric\": 0.91397776}, {\"run_id\": \"AutoML_0442a08e-f9e7-457b-9333-ea80d4ef6c40_31\", \"run_number\": 47, \"metric\": null, \"status\": \"Completed\", \"run_type\": \"azureml.scriptrun\", \"training_percent\": \"100\", \"start_time\": \"2021-05-16T14:43:30.960979Z\", \"end_time\": \"2021-05-16T14:44:16.710248Z\", \"created_time\": \"2021-05-16T14:42:58.178374Z\", \"created_time_dt\": \"2021-05-16T14:42:58.178374Z\", \"duration\": \"0:01:18\", \"iteration\": \"31\", \"goal\": \"AUC_weighted_max\", \"run_name\": \"SparseNormalizer, XGBoostClassifier\", \"run_properties\": \"<azureml.automl.runtime.shared.model_wrappers.SparseNormalizer object at 0x7fb9dcb384e0\", \"primary_metric\": 0.90812451, \"best_metric\": 0.91397776}, {\"run_id\": \"AutoML_0442a08e-f9e7-457b-9333-ea80d4ef6c40_32\", \"run_number\": 48, \"metric\": null, \"status\": \"Completed\", \"run_type\": \"azureml.scriptrun\", \"training_percent\": \"100\", \"start_time\": \"2021-05-16T14:43:58.063475Z\", \"end_time\": \"2021-05-16T14:44:45.213382Z\", \"created_time\": \"2021-05-16T14:43:19.271154Z\", \"created_time_dt\": \"2021-05-16T14:43:19.271154Z\", \"duration\": \"0:01:25\", \"iteration\": \"32\", \"goal\": \"AUC_weighted_max\", \"run_name\": \"StandardScalerWrapper, XGBoostClassifier\", \"run_properties\": \"<azureml.automl.runtime.shared.model_wrappers.StandardScalerWrapper object at 0x7f5d775b3e10\", \"primary_metric\": 0.90539257, \"best_metric\": 0.91397776}, {\"run_id\": \"AutoML_0442a08e-f9e7-457b-9333-ea80d4ef6c40_33\", \"run_number\": 49, \"metric\": null, \"status\": \"Completed\", \"run_type\": \"azureml.scriptrun\", \"training_percent\": \"100\", \"start_time\": \"2021-05-16T14:43:57.006411Z\", \"end_time\": \"2021-05-16T14:44:49.237708Z\", \"created_time\": \"2021-05-16T14:43:43.280976Z\", \"created_time_dt\": \"2021-05-16T14:43:43.280976Z\", \"duration\": \"0:01:05\", \"iteration\": \"33\", \"goal\": \"AUC_weighted_max\", \"run_name\": \"StandardScalerWrapper, XGBoostClassifier\", \"run_properties\": \"<azureml.automl.runtime.shared.model_wrappers.StandardScalerWrapper object at 0x7f5ff8f62710\", \"primary_metric\": 0.91015309, \"best_metric\": 0.91397776}, {\"run_id\": \"AutoML_0442a08e-f9e7-457b-9333-ea80d4ef6c40_34\", \"run_number\": 50, \"metric\": null, \"status\": \"Completed\", \"run_type\": \"azureml.scriptrun\", \"training_percent\": \"100\", \"start_time\": \"2021-05-16T14:44:18.503272Z\", \"end_time\": \"2021-05-16T14:45:08.220767Z\", \"created_time\": \"2021-05-16T14:43:43.293243Z\", \"created_time_dt\": \"2021-05-16T14:43:43.293243Z\", \"duration\": \"0:01:24\", \"iteration\": \"34\", \"goal\": \"AUC_weighted_max\", \"run_name\": \"SparseNormalizer, XGBoostClassifier\", \"run_properties\": \"<azureml.automl.runtime.shared.model_wrappers.SparseNormalizer object at 0x7fbd7d6e9278\", \"primary_metric\": 0.90635805, \"best_metric\": 0.91397776}, {\"run_id\": \"AutoML_0442a08e-f9e7-457b-9333-ea80d4ef6c40_35\", \"run_number\": 51, \"metric\": null, \"status\": \"Completed\", \"run_type\": \"azureml.scriptrun\", \"training_percent\": \"100\", \"start_time\": \"2021-05-16T14:44:32.764063Z\", \"end_time\": \"2021-05-16T14:45:17.092348Z\", \"created_time\": \"2021-05-16T14:44:04.23635Z\", \"created_time_dt\": \"2021-05-16T14:44:04.23635Z\", \"duration\": \"0:01:12\", \"iteration\": \"35\", \"goal\": \"AUC_weighted_max\", \"run_name\": \"SparseNormalizer, XGBoostClassifier\", \"run_properties\": \"<azureml.automl.runtime.shared.model_wrappers.SparseNormalizer object at 0x7fea0a66bfd0\", \"primary_metric\": 0.90398154, \"best_metric\": 0.91397776}, {\"run_id\": \"AutoML_0442a08e-f9e7-457b-9333-ea80d4ef6c40_36\", \"run_number\": 52, \"metric\": null, \"status\": \"Canceled\", \"run_type\": \"azureml.scriptrun\", \"training_percent\": \"100\", \"start_time\": \"2021-05-16T14:45:02.268512Z\", \"end_time\": \"2021-05-16T14:45:23.03353Z\", \"created_time\": \"2021-05-16T14:44:18.539797Z\", \"created_time_dt\": \"2021-05-16T14:44:18.539797Z\", \"duration\": \"0:01:04\", \"iteration\": \"36\", \"goal\": null, \"run_name\": \"Canceled\", \"run_properties\": null}, {\"run_id\": \"AutoML_0442a08e-f9e7-457b-9333-ea80d4ef6c40_37\", \"run_number\": 53, \"metric\": null, \"status\": \"Canceled\", \"run_type\": \"azureml.scriptrun\", \"training_percent\": \"100\", \"start_time\": \"2021-05-16T14:45:05.547958Z\", \"end_time\": \"2021-05-16T14:45:23.081618Z\", \"created_time\": \"2021-05-16T14:44:47.485145Z\", \"created_time_dt\": \"2021-05-16T14:44:47.485145Z\", \"duration\": \"0:00:35\", \"iteration\": \"37\", \"goal\": null, \"run_name\": \"Canceled\", \"run_properties\": null}, {\"run_id\": \"AutoML_0442a08e-f9e7-457b-9333-ea80d4ef6c40_38\", \"run_number\": 54, \"metric\": null, \"status\": \"Canceled\", \"run_type\": \"azureml.scriptrun\", \"training_percent\": \"100\", \"start_time\": \"2021-05-16T14:44:51.049103Z\", \"end_time\": \"2021-05-16T14:45:23.067739Z\", \"created_time\": \"2021-05-16T14:44:51.049103Z\", \"created_time_dt\": \"2021-05-16T14:44:51.049103Z\", \"duration\": \"0:00:32\", \"iteration\": \"38\", \"goal\": null, \"run_name\": \"Canceled\", \"run_properties\": null}, {\"run_id\": \"AutoML_0442a08e-f9e7-457b-9333-ea80d4ef6c40_39\", \"run_number\": 55, \"metric\": null, \"status\": \"Canceled\", \"run_type\": \"azureml.scriptrun\", \"training_percent\": \"100\", \"start_time\": \"2021-05-16T14:45:10.179017Z\", \"end_time\": \"2021-05-16T14:45:23.31294Z\", \"created_time\": \"2021-05-16T14:45:10.179017Z\", \"created_time_dt\": \"2021-05-16T14:45:10.179017Z\", \"duration\": \"0:00:13\", \"iteration\": \"39\", \"goal\": null, \"run_name\": \"Canceled\", \"run_properties\": null}, {\"run_id\": \"AutoML_0442a08e-f9e7-457b-9333-ea80d4ef6c40_40\", \"run_number\": 56, \"metric\": null, \"status\": \"Completed\", \"run_type\": \"azureml.scriptrun\", \"training_percent\": \"100\", \"start_time\": \"2021-05-16T14:45:31.80981Z\", \"end_time\": \"2021-05-16T14:46:30.964938Z\", \"created_time\": \"2021-05-16T14:45:24.140572Z\", \"created_time_dt\": \"2021-05-16T14:45:24.140572Z\", \"duration\": \"0:01:06\", \"iteration\": \"40\", \"goal\": \"AUC_weighted_max\", \"run_name\": \"VotingEnsemble\", \"run_properties\": \"classification_labels=None,\\n                              estimators=[('21',\\n                                           Pipeline(memory=None,\\n                                                    steps=[('truncatedsvdwrapper',\\n                                                            TruncatedSVDWrapper(n_components=0.2573684210526316,\\n                                                                                random_state=None\", \"primary_metric\": 0.92542015, \"best_metric\": 0.92542015}, {\"run_id\": \"AutoML_0442a08e-f9e7-457b-9333-ea80d4ef6c40_41\", \"run_number\": 57, \"metric\": null, \"status\": \"Completed\", \"run_type\": \"azureml.scriptrun\", \"training_percent\": \"100\", \"start_time\": \"2021-05-16T14:45:31.433001Z\", \"end_time\": \"2021-05-16T14:46:36.165994Z\", \"created_time\": \"2021-05-16T14:45:24.173468Z\", \"created_time_dt\": \"2021-05-16T14:45:24.173468Z\", \"duration\": \"0:01:11\", \"iteration\": \"41\", \"goal\": \"AUC_weighted_max\", \"run_name\": \"StackEnsemble\", \"run_properties\": \"base_learners=[('21',\\n                                        Pipeline(memory=None,\\n                                                 steps=[('truncatedsvdwrapper',\\n                                                         TruncatedSVDWrapper(n_components=0.2573684210526316,\\n                                                                             random_state=None\", \"primary_metric\": 0.9190576, \"best_metric\": 0.92542015}], \"children_metrics\": {\"categories\": [0], \"series\": {\"f1_score_macro\": [{\"categories\": [\"0\", \"1\", \"2\", \"3\", \"4\", \"5\", \"6\", \"7\", \"8\", \"9\", \"10\", \"11\", \"12\", \"13\", \"14\", \"15\", \"16\", \"17\", \"18\", \"19\", \"20\", \"21\", \"22\", \"23\", \"24\", \"25\", \"26\", \"27\", \"28\", \"29\", \"30\", \"31\", \"32\", \"33\", \"34\", \"35\", \"40\", \"41\"], \"mode\": \"markers\", \"name\": \"f1_score_macro\", \"stepped\": false, \"type\": \"scatter\", \"data\": [0.8780542064565968, 0.8662820952296553, 0.5150578205110522, 0.7031302415019606, 0.4621555837673555, 0.49927319290308936, 0.518952280871179, 0.4621555837673555, 0.4621555837673555, 0.7510575282944224, 0.6767632364583201, 0.64920468619297, 0.6525840923360698, 0.8306877261743342, 0.4639777871288513, 0.4621555837673555, 0.7211352216584762, 0.6967597592577194, 0.6205562923078102, 0.7055709249944867, 0.7863188848653629, 0.8513056800940334, 0.6027311953630625, 0.882766974170885, 0.5022739485658614, 0.7622161941130243, 0.4621555837673555, 0.838256532049864, 0.8064747726426383, 0.873778644021487, 0.8418984906327296, 0.8559967219599361, 0.8660487089895605, 0.8863998911727403, 0.8555623727756642, 0.8340903964663479, 0.8706008090723403, 0.7333145635295292]}, {\"categories\": [\"0\", \"1\", \"2\", \"3\", \"4\", \"5\", \"6\", \"7\", \"8\", \"9\", \"10\", \"11\", \"12\", \"13\", \"14\", \"15\", \"16\", \"17\", \"18\", \"19\", \"20\", \"21\", \"22\", \"23\", \"24\", \"25\", \"26\", \"27\", \"28\", \"29\", \"30\", \"31\", \"32\", \"33\", \"34\", \"35\", \"40\", \"41\"], \"mode\": \"lines\", \"name\": \"f1_score_macro_max\", \"stepped\": true, \"type\": \"scatter\", \"data\": [0.8780542064565968, 0.8780542064565968, 0.8780542064565968, 0.8780542064565968, 0.8780542064565968, 0.8780542064565968, 0.8780542064565968, 0.8780542064565968, 0.8780542064565968, 0.8780542064565968, 0.8780542064565968, 0.8780542064565968, 0.8780542064565968, 0.8780542064565968, 0.8780542064565968, 0.8780542064565968, 0.8780542064565968, 0.8780542064565968, 0.8780542064565968, 0.8780542064565968, 0.8780542064565968, 0.8780542064565968, 0.8780542064565968, 0.882766974170885, 0.882766974170885, 0.882766974170885, 0.882766974170885, 0.882766974170885, 0.882766974170885, 0.882766974170885, 0.882766974170885, 0.882766974170885, 0.882766974170885, 0.8863998911727403, 0.8863998911727403, 0.8863998911727403, 0.8863998911727403, 0.8863998911727403]}], \"weighted_accuracy\": [{\"categories\": [\"0\", \"1\", \"2\", \"3\", \"4\", \"5\", \"6\", \"7\", \"8\", \"9\", \"10\", \"11\", \"12\", \"13\", \"14\", \"15\", \"16\", \"17\", \"18\", \"19\", \"20\", \"21\", \"22\", \"23\", \"24\", \"25\", \"26\", \"27\", \"28\", \"29\", \"30\", \"31\", \"32\", \"33\", \"34\", \"35\", \"40\", \"41\"], \"mode\": \"markers\", \"name\": \"weighted_accuracy\", \"stepped\": false, \"type\": \"scatter\", \"data\": [0.9826464046431177, 0.982344485801225, 0.974147582248766, 0.8729572280566636, 0.9738109668650204, 0.9711622836710574, 0.9747358021333304, 0.9738109668650204, 0.9738109668650204, 0.8597200862036779, 0.8209181687804618, 0.8460067225823785, 0.8277763192034083, 0.9807898559058312, 0.9738515072161474, 0.9738109668650204, 0.8293857283192497, 0.8149445966401562, 0.7956744443021077, 0.8243345574218651, 0.9617112715475971, 0.9773300578376262, 0.9768286198828221, 0.9829370216830878, 0.9725061235277731, 0.9788415505384241, 0.9738109668650204, 0.9745749861093715, 0.9729421350107791, 0.9821029577977475, 0.975075411716411, 0.9735839569446755, 0.9777950172259448, 0.9813585058316262, 0.9733810660418561, 0.9762950480170205, 0.9875809321868324, 0.9830995453286238]}, {\"categories\": [\"0\", \"1\", \"2\", \"3\", \"4\", \"5\", \"6\", \"7\", \"8\", \"9\", \"10\", \"11\", \"12\", \"13\", \"14\", \"15\", \"16\", \"17\", \"18\", \"19\", \"20\", \"21\", \"22\", \"23\", \"24\", \"25\", \"26\", \"27\", \"28\", \"29\", \"30\", \"31\", \"32\", \"33\", \"34\", \"35\", \"40\", \"41\"], \"mode\": \"lines\", \"name\": \"weighted_accuracy_max\", \"stepped\": true, \"type\": \"scatter\", \"data\": [0.9826464046431177, 0.9826464046431177, 0.9826464046431177, 0.9826464046431177, 0.9826464046431177, 0.9826464046431177, 0.9826464046431177, 0.9826464046431177, 0.9826464046431177, 0.9826464046431177, 0.9826464046431177, 0.9826464046431177, 0.9826464046431177, 0.9826464046431177, 0.9826464046431177, 0.9826464046431177, 0.9826464046431177, 0.9826464046431177, 0.9826464046431177, 0.9826464046431177, 0.9826464046431177, 0.9826464046431177, 0.9826464046431177, 0.9829370216830878, 0.9829370216830878, 0.9829370216830878, 0.9829370216830878, 0.9829370216830878, 0.9829370216830878, 0.9829370216830878, 0.9829370216830878, 0.9829370216830878, 0.9829370216830878, 0.9829370216830878, 0.9829370216830878, 0.9829370216830878, 0.9875809321868324, 0.9875809321868324]}], \"AUC_micro\": [{\"categories\": [\"0\", \"1\", \"2\", \"3\", \"4\", \"5\", \"6\", \"7\", \"8\", \"9\", \"10\", \"11\", \"12\", \"13\", \"14\", \"15\", \"16\", \"17\", \"18\", \"19\", \"20\", \"21\", \"22\", \"23\", \"24\", \"25\", \"26\", \"27\", \"28\", \"29\", \"30\", \"31\", \"32\", \"33\", \"34\", \"35\", \"40\", \"41\"], \"mode\": \"markers\", \"name\": \"AUC_micro\", \"stepped\": false, \"type\": \"scatter\", \"data\": [0.9676869528121402, 0.9710625119914686, 0.9419154007645175, 0.9006589296288481, 0.9241095455345688, 0.943225749695908, 0.9496434603507349, 0.945635445639077, 0.9373114296086413, 0.8792749038464788, 0.8647102405381369, 0.8370829156875171, 0.8324987547091428, 0.9664364830763922, 0.9339132025137671, 0.9453994952667704, 0.8509308938897742, 0.8617633287202535, 0.8070755735382553, 0.8619159736391374, 0.9620057346253185, 0.9711214515284219, 0.9491037584618703, 0.9706763604927958, 0.938475363550888, 0.964850779858537, 0.9428476891483734, 0.9681487824264039, 0.9632361210341646, 0.9708482297697394, 0.9690821598265756, 0.9700247626996306, 0.9694455540994044, 0.9716747636314582, 0.9700070802405046, 0.9674807229560948, 0.9744475762425219, 0.968168912548706]}, {\"categories\": [\"0\", \"1\", \"2\", \"3\", \"4\", \"5\", \"6\", \"7\", \"8\", \"9\", \"10\", \"11\", \"12\", \"13\", \"14\", \"15\", \"16\", \"17\", \"18\", \"19\", \"20\", \"21\", \"22\", \"23\", \"24\", \"25\", \"26\", \"27\", \"28\", \"29\", \"30\", \"31\", \"32\", \"33\", \"34\", \"35\", \"40\", \"41\"], \"mode\": \"lines\", \"name\": \"AUC_micro_max\", \"stepped\": true, \"type\": \"scatter\", \"data\": [0.9676869528121402, 0.9710625119914686, 0.9710625119914686, 0.9710625119914686, 0.9710625119914686, 0.9710625119914686, 0.9710625119914686, 0.9710625119914686, 0.9710625119914686, 0.9710625119914686, 0.9710625119914686, 0.9710625119914686, 0.9710625119914686, 0.9710625119914686, 0.9710625119914686, 0.9710625119914686, 0.9710625119914686, 0.9710625119914686, 0.9710625119914686, 0.9710625119914686, 0.9710625119914686, 0.9711214515284219, 0.9711214515284219, 0.9711214515284219, 0.9711214515284219, 0.9711214515284219, 0.9711214515284219, 0.9711214515284219, 0.9711214515284219, 0.9711214515284219, 0.9711214515284219, 0.9711214515284219, 0.9711214515284219, 0.9716747636314582, 0.9716747636314582, 0.9716747636314582, 0.9744475762425219, 0.9744475762425219]}], \"average_precision_score_macro\": [{\"categories\": [\"0\", \"1\", \"2\", \"3\", \"4\", \"5\", \"6\", \"7\", \"8\", \"9\", \"10\", \"11\", \"12\", \"13\", \"14\", \"15\", \"16\", \"17\", \"18\", \"19\", \"20\", \"21\", \"22\", \"23\", \"24\", \"25\", \"26\", \"27\", \"28\", \"29\", \"30\", \"31\", \"32\", \"33\", \"34\", \"35\", \"40\", \"41\"], \"mode\": \"markers\", \"name\": \"average_precision_score_macro\", \"stepped\": false, \"type\": \"scatter\", \"data\": [0.9005004247184077, 0.9071976661655903, 0.7516903328435327, 0.7525205176024397, 0.6915063748910434, 0.7361693681145921, 0.7955266417787676, 0.7452653694462942, 0.7335901876287743, 0.7363035406656332, 0.7318470424448534, 0.7031888335134747, 0.7097320128470547, 0.8841725154737926, 0.7200553710233292, 0.7041023697401677, 0.7268991303471167, 0.7310412127147936, 0.6875075839524837, 0.7149417132785567, 0.8416174497611052, 0.9006198895638171, 0.8285812916951679, 0.9078200887951668, 0.7416121573724584, 0.8790353799663899, 0.7198797471698622, 0.8900068651177105, 0.8606806294879906, 0.9081719486814764, 0.8935463485004002, 0.8979736842693686, 0.8965576528503513, 0.9095246091464602, 0.8951704515277387, 0.8861632043109239, 0.9249993513852454, 0.9220155721209911]}, {\"categories\": [\"0\", \"1\", \"2\", \"3\", \"4\", \"5\", \"6\", \"7\", \"8\", \"9\", \"10\", \"11\", \"12\", \"13\", \"14\", \"15\", \"16\", \"17\", \"18\", \"19\", \"20\", \"21\", \"22\", \"23\", \"24\", \"25\", \"26\", \"27\", \"28\", \"29\", \"30\", \"31\", \"32\", \"33\", \"34\", \"35\", \"40\", \"41\"], \"mode\": \"lines\", \"name\": \"average_precision_score_macro_max\", \"stepped\": true, \"type\": \"scatter\", \"data\": [0.9005004247184077, 0.9071976661655903, 0.9071976661655903, 0.9071976661655903, 0.9071976661655903, 0.9071976661655903, 0.9071976661655903, 0.9071976661655903, 0.9071976661655903, 0.9071976661655903, 0.9071976661655903, 0.9071976661655903, 0.9071976661655903, 0.9071976661655903, 0.9071976661655903, 0.9071976661655903, 0.9071976661655903, 0.9071976661655903, 0.9071976661655903, 0.9071976661655903, 0.9071976661655903, 0.9071976661655903, 0.9071976661655903, 0.9078200887951668, 0.9078200887951668, 0.9078200887951668, 0.9078200887951668, 0.9078200887951668, 0.9078200887951668, 0.9081719486814764, 0.9081719486814764, 0.9081719486814764, 0.9081719486814764, 0.9095246091464602, 0.9095246091464602, 0.9095246091464602, 0.9249993513852454, 0.9249993513852454]}], \"f1_score_weighted\": [{\"categories\": [\"0\", \"1\", \"2\", \"3\", \"4\", \"5\", \"6\", \"7\", \"8\", \"9\", \"10\", \"11\", \"12\", \"13\", \"14\", \"15\", \"16\", \"17\", \"18\", \"19\", \"20\", \"21\", \"22\", \"23\", \"24\", \"25\", \"26\", \"27\", \"28\", \"29\", \"30\", \"31\", \"32\", \"33\", \"34\", \"35\", \"40\", \"41\"], \"mode\": \"markers\", \"name\": \"f1_score_weighted\", \"stepped\": false, \"type\": \"scatter\", \"data\": [0.9441703867892585, 0.9392708112342086, 0.8112336394748213, 0.8470945222435121, 0.794276482828713, 0.8054231445371314, 0.8124869951931207, 0.794276482828713, 0.794276482828713, 0.8638085928167528, 0.8204576815461756, 0.8164835481809214, 0.8116813775217123, 0.9245576748889283, 0.7948460087218668, 0.794276482828713, 0.8423242886203611, 0.8273372029286447, 0.7880342174776058, 0.8340788395629947, 0.9033282347234043, 0.9323583178739421, 0.8412467593542844, 0.9460951047328162, 0.8068464040984878, 0.8981269931844816, 0.794276482828713, 0.9265663444320585, 0.913767917351926, 0.9422609256293836, 0.9281959440020868, 0.9336531970021428, 0.9384081183423568, 0.9475308524999683, 0.9335955437230331, 0.9253433262279841, 0.9417789209277827, 0.891644209038248]}, {\"categories\": [\"0\", \"1\", \"2\", \"3\", \"4\", \"5\", \"6\", \"7\", \"8\", \"9\", \"10\", \"11\", \"12\", \"13\", \"14\", \"15\", \"16\", \"17\", \"18\", \"19\", \"20\", \"21\", \"22\", \"23\", \"24\", \"25\", \"26\", \"27\", \"28\", \"29\", \"30\", \"31\", \"32\", \"33\", \"34\", \"35\", \"40\", \"41\"], \"mode\": \"lines\", \"name\": \"f1_score_weighted_max\", \"stepped\": true, \"type\": \"scatter\", \"data\": [0.9441703867892585, 0.9441703867892585, 0.9441703867892585, 0.9441703867892585, 0.9441703867892585, 0.9441703867892585, 0.9441703867892585, 0.9441703867892585, 0.9441703867892585, 0.9441703867892585, 0.9441703867892585, 0.9441703867892585, 0.9441703867892585, 0.9441703867892585, 0.9441703867892585, 0.9441703867892585, 0.9441703867892585, 0.9441703867892585, 0.9441703867892585, 0.9441703867892585, 0.9441703867892585, 0.9441703867892585, 0.9441703867892585, 0.9460951047328162, 0.9460951047328162, 0.9460951047328162, 0.9460951047328162, 0.9460951047328162, 0.9460951047328162, 0.9460951047328162, 0.9460951047328162, 0.9460951047328162, 0.9460951047328162, 0.9475308524999683, 0.9475308524999683, 0.9475308524999683, 0.9475308524999683, 0.9475308524999683]}], \"average_precision_score_micro\": [{\"categories\": [\"0\", \"1\", \"2\", \"3\", \"4\", \"5\", \"6\", \"7\", \"8\", \"9\", \"10\", \"11\", \"12\", \"13\", \"14\", \"15\", \"16\", \"17\", \"18\", \"19\", \"20\", \"21\", \"22\", \"23\", \"24\", \"25\", \"26\", \"27\", \"28\", \"29\", \"30\", \"31\", \"32\", \"33\", \"34\", \"35\", \"40\", \"41\"], \"mode\": \"markers\", \"name\": \"average_precision_score_micro\", \"stepped\": false, \"type\": \"scatter\", \"data\": [0.9573725685555249, 0.9622171415821849, 0.9343937512127928, 0.889497010799491, 0.9128687243828345, 0.9345575966909127, 0.9422582906185655, 0.9391084779681081, 0.9281121644265014, 0.8572601557407523, 0.8400003135197803, 0.8028386127736423, 0.7983720729099949, 0.9585200287520473, 0.9247690959163489, 0.9391551835265433, 0.8182999789636667, 0.8469272027012448, 0.7738238227429569, 0.8439098810020003, 0.9569434360350746, 0.9634478088911308, 0.9399717127618898, 0.9603695323575377, 0.9298452017816358, 0.9587833587023887, 0.9345217392668844, 0.9600551154118978, 0.9551230652678516, 0.961475920988652, 0.9614953007914432, 0.9616927041582862, 0.960636492287175, 0.9631561871843775, 0.9627955786019647, 0.9603953587512296, 0.9669833081290871, 0.9590542071384102]}, {\"categories\": [\"0\", \"1\", \"2\", \"3\", \"4\", \"5\", \"6\", \"7\", \"8\", \"9\", \"10\", \"11\", \"12\", \"13\", \"14\", \"15\", \"16\", \"17\", \"18\", \"19\", \"20\", \"21\", \"22\", \"23\", \"24\", \"25\", \"26\", \"27\", \"28\", \"29\", \"30\", \"31\", \"32\", \"33\", \"34\", \"35\", \"40\", \"41\"], \"mode\": \"lines\", \"name\": \"average_precision_score_micro_max\", \"stepped\": true, \"type\": \"scatter\", \"data\": [0.9573725685555249, 0.9622171415821849, 0.9622171415821849, 0.9622171415821849, 0.9622171415821849, 0.9622171415821849, 0.9622171415821849, 0.9622171415821849, 0.9622171415821849, 0.9622171415821849, 0.9622171415821849, 0.9622171415821849, 0.9622171415821849, 0.9622171415821849, 0.9622171415821849, 0.9622171415821849, 0.9622171415821849, 0.9622171415821849, 0.9622171415821849, 0.9622171415821849, 0.9622171415821849, 0.9634478088911308, 0.9634478088911308, 0.9634478088911308, 0.9634478088911308, 0.9634478088911308, 0.9634478088911308, 0.9634478088911308, 0.9634478088911308, 0.9634478088911308, 0.9634478088911308, 0.9634478088911308, 0.9634478088911308, 0.9634478088911308, 0.9634478088911308, 0.9634478088911308, 0.9669833081290871, 0.9669833081290871]}], \"precision_score_micro\": [{\"categories\": [\"0\", \"1\", \"2\", \"3\", \"4\", \"5\", \"6\", \"7\", \"8\", \"9\", \"10\", \"11\", \"12\", \"13\", \"14\", \"15\", \"16\", \"17\", \"18\", \"19\", \"20\", \"21\", \"22\", \"23\", \"24\", \"25\", \"26\", \"27\", \"28\", \"29\", \"30\", \"31\", \"32\", \"33\", \"34\", \"35\", \"40\", \"41\"], \"mode\": \"markers\", \"name\": \"precision_score_micro\", \"stepped\": false, \"type\": \"scatter\", \"data\": [0.9475281322972195, 0.943527744219705, 0.8661159155639019, 0.8385874975246769, 0.859293825181712, 0.8618826145260603, 0.8670581996658813, 0.859293825181712, 0.859293825181712, 0.8501153600282819, 0.8007075769476639, 0.8044708988380268, 0.7948325884105701, 0.9317629816580212, 0.8595290639490609, 0.859293825181712, 0.8230545953295136, 0.8056469265456981, 0.7647152148979237, 0.814116020557476, 0.9105858442081424, 0.9369393974432071, 0.8804694674699339, 0.9491754681849535, 0.8630581438465127, 0.91270398988872, 0.859293825181712, 0.9317618187545104, 0.9216443920805606, 0.9458807964094856, 0.9331734174876766, 0.937174137823337, 0.941881072848263, 0.950116257125276, 0.937173473307045, 0.9312910089616667, 0.946587011098751, 0.9173978007168802]}, {\"categories\": [\"0\", \"1\", \"2\", \"3\", \"4\", \"5\", \"6\", \"7\", \"8\", \"9\", \"10\", \"11\", \"12\", \"13\", \"14\", \"15\", \"16\", \"17\", \"18\", \"19\", \"20\", \"21\", \"22\", \"23\", \"24\", \"25\", \"26\", \"27\", \"28\", \"29\", \"30\", \"31\", \"32\", \"33\", \"34\", \"35\", \"40\", \"41\"], \"mode\": \"lines\", \"name\": \"precision_score_micro_max\", \"stepped\": true, \"type\": \"scatter\", \"data\": [0.9475281322972195, 0.9475281322972195, 0.9475281322972195, 0.9475281322972195, 0.9475281322972195, 0.9475281322972195, 0.9475281322972195, 0.9475281322972195, 0.9475281322972195, 0.9475281322972195, 0.9475281322972195, 0.9475281322972195, 0.9475281322972195, 0.9475281322972195, 0.9475281322972195, 0.9475281322972195, 0.9475281322972195, 0.9475281322972195, 0.9475281322972195, 0.9475281322972195, 0.9475281322972195, 0.9475281322972195, 0.9475281322972195, 0.9491754681849535, 0.9491754681849535, 0.9491754681849535, 0.9491754681849535, 0.9491754681849535, 0.9491754681849535, 0.9491754681849535, 0.9491754681849535, 0.9491754681849535, 0.9491754681849535, 0.950116257125276, 0.950116257125276, 0.950116257125276, 0.950116257125276, 0.950116257125276]}], \"average_precision_score_weighted\": [{\"categories\": [\"0\", \"1\", \"2\", \"3\", \"4\", \"5\", \"6\", \"7\", \"8\", \"9\", \"10\", \"11\", \"12\", \"13\", \"14\", \"15\", \"16\", \"17\", \"18\", \"19\", \"20\", \"21\", \"22\", \"23\", \"24\", \"25\", \"26\", \"27\", \"28\", \"29\", \"30\", \"31\", \"32\", \"33\", \"34\", \"35\", \"40\", \"41\"], \"mode\": \"markers\", \"name\": \"average_precision_score_weighted\", \"stepped\": false, \"type\": \"scatter\", \"data\": [0.9470075117163247, 0.9527778143688038, 0.8999959803942529, 0.8965563389882384, 0.869026775620425, 0.8958943206818851, 0.916871462209594, 0.9015230045340851, 0.8910483468476761, 0.8991059939738179, 0.8879473654790772, 0.8669446767340935, 0.8770395043487834, 0.9472091751653212, 0.8851649703020898, 0.890868658298125, 0.8958447372526122, 0.8921809676959945, 0.8610352260770857, 0.8863452224142069, 0.9352759700532549, 0.9526585214090092, 0.923580168928274, 0.9516598969276213, 0.894182209199676, 0.9472637636568283, 0.8920419993481836, 0.948303622813803, 0.9390142679817747, 0.9525537392289669, 0.9497504652059439, 0.9503303584819992, 0.9490658648748173, 0.9537282383269444, 0.9500416478133425, 0.947608951927618, 0.9613496087172516, 0.9566137073221243]}, {\"categories\": [\"0\", \"1\", \"2\", \"3\", \"4\", \"5\", \"6\", \"7\", \"8\", \"9\", \"10\", \"11\", \"12\", \"13\", \"14\", \"15\", \"16\", \"17\", \"18\", \"19\", \"20\", \"21\", \"22\", \"23\", \"24\", \"25\", \"26\", \"27\", \"28\", \"29\", \"30\", \"31\", \"32\", \"33\", \"34\", \"35\", \"40\", \"41\"], \"mode\": \"lines\", \"name\": \"average_precision_score_weighted_max\", \"stepped\": true, \"type\": \"scatter\", \"data\": [0.9470075117163247, 0.9527778143688038, 0.9527778143688038, 0.9527778143688038, 0.9527778143688038, 0.9527778143688038, 0.9527778143688038, 0.9527778143688038, 0.9527778143688038, 0.9527778143688038, 0.9527778143688038, 0.9527778143688038, 0.9527778143688038, 0.9527778143688038, 0.9527778143688038, 0.9527778143688038, 0.9527778143688038, 0.9527778143688038, 0.9527778143688038, 0.9527778143688038, 0.9527778143688038, 0.9527778143688038, 0.9527778143688038, 0.9527778143688038, 0.9527778143688038, 0.9527778143688038, 0.9527778143688038, 0.9527778143688038, 0.9527778143688038, 0.9527778143688038, 0.9527778143688038, 0.9527778143688038, 0.9527778143688038, 0.9537282383269444, 0.9537282383269444, 0.9537282383269444, 0.9613496087172516, 0.9613496087172516]}], \"f1_score_micro\": [{\"categories\": [\"0\", \"1\", \"2\", \"3\", \"4\", \"5\", \"6\", \"7\", \"8\", \"9\", \"10\", \"11\", \"12\", \"13\", \"14\", \"15\", \"16\", \"17\", \"18\", \"19\", \"20\", \"21\", \"22\", \"23\", \"24\", \"25\", \"26\", \"27\", \"28\", \"29\", \"30\", \"31\", \"32\", \"33\", \"34\", \"35\", \"40\", \"41\"], \"mode\": \"markers\", \"name\": \"f1_score_micro\", \"stepped\": false, \"type\": \"scatter\", \"data\": [0.9475281322972195, 0.943527744219705, 0.8661159155639019, 0.8385874975246769, 0.859293825181712, 0.8618826145260603, 0.8670581996658813, 0.859293825181712, 0.859293825181712, 0.8501153600282819, 0.800707576947664, 0.8044708988380268, 0.7948325884105701, 0.9317629816580212, 0.8595290639490609, 0.859293825181712, 0.8230545953295136, 0.8056469265456981, 0.7647152148979237, 0.814116020557476, 0.9105858442081424, 0.9369393974432071, 0.8804694674699339, 0.9491754681849535, 0.8630581438465127, 0.91270398988872, 0.859293825181712, 0.9317618187545104, 0.9216443920805606, 0.9458807964094856, 0.9331734174876766, 0.937174137823337, 0.941881072848263, 0.950116257125276, 0.937173473307045, 0.9312910089616667, 0.946587011098751, 0.9173978007168802]}, {\"categories\": [\"0\", \"1\", \"2\", \"3\", \"4\", \"5\", \"6\", \"7\", \"8\", \"9\", \"10\", \"11\", \"12\", \"13\", \"14\", \"15\", \"16\", \"17\", \"18\", \"19\", \"20\", \"21\", \"22\", \"23\", \"24\", \"25\", \"26\", \"27\", \"28\", \"29\", \"30\", \"31\", \"32\", \"33\", \"34\", \"35\", \"40\", \"41\"], \"mode\": \"lines\", \"name\": \"f1_score_micro_max\", \"stepped\": true, \"type\": \"scatter\", \"data\": [0.9475281322972195, 0.9475281322972195, 0.9475281322972195, 0.9475281322972195, 0.9475281322972195, 0.9475281322972195, 0.9475281322972195, 0.9475281322972195, 0.9475281322972195, 0.9475281322972195, 0.9475281322972195, 0.9475281322972195, 0.9475281322972195, 0.9475281322972195, 0.9475281322972195, 0.9475281322972195, 0.9475281322972195, 0.9475281322972195, 0.9475281322972195, 0.9475281322972195, 0.9475281322972195, 0.9475281322972195, 0.9475281322972195, 0.9491754681849535, 0.9491754681849535, 0.9491754681849535, 0.9491754681849535, 0.9491754681849535, 0.9491754681849535, 0.9491754681849535, 0.9491754681849535, 0.9491754681849535, 0.9491754681849535, 0.950116257125276, 0.950116257125276, 0.950116257125276, 0.950116257125276, 0.950116257125276]}], \"matthews_correlation\": [{\"categories\": [\"0\", \"1\", \"2\", \"3\", \"4\", \"5\", \"6\", \"7\", \"8\", \"9\", \"10\", \"11\", \"12\", \"13\", \"14\", \"15\", \"16\", \"17\", \"18\", \"19\", \"20\", \"21\", \"22\", \"23\", \"24\", \"25\", \"26\", \"27\", \"28\", \"29\", \"30\", \"31\", \"32\", \"33\", \"34\", \"35\", \"40\", \"41\"], \"mode\": \"markers\", \"name\": \"matthews_correlation\", \"stepped\": false, \"type\": \"scatter\", \"data\": [0.767987454867512, 0.7484498696312781, 0.18352427083194253, 0.4145514591190567, 0.0, 0.1149932383924347, 0.17661169810280444, 0.0, 0.0, 0.5306486580655493, 0.3852639926694164, 0.30889200158377245, 0.32734331240494896, 0.6892931696365583, 0.022648744650072748, 0.0, 0.4852158552178259, 0.43734288044256414, 0.2746961412025355, 0.4507083979988035, 0.5888855361942166, 0.7167988150204995, 0.36146153778074375, 0.7764812746018267, 0.15608149226475151, 0.58386243233572, 0.0, 0.6914622167309035, 0.6378461308045446, 0.7603702822764501, 0.6983104623663445, 0.7206231994702966, 0.7424608055463211, 0.7811214156193399, 0.7198942118623881, 0.6872622657336604, 0.7636903659411005, 0.511014453742106]}, {\"categories\": [\"0\", \"1\", \"2\", \"3\", \"4\", \"5\", \"6\", \"7\", \"8\", \"9\", \"10\", \"11\", \"12\", \"13\", \"14\", \"15\", \"16\", \"17\", \"18\", \"19\", \"20\", \"21\", \"22\", \"23\", \"24\", \"25\", \"26\", \"27\", \"28\", \"29\", \"30\", \"31\", \"32\", \"33\", \"34\", \"35\", \"40\", \"41\"], \"mode\": \"lines\", \"name\": \"matthews_correlation_max\", \"stepped\": true, \"type\": \"scatter\", \"data\": [0.767987454867512, 0.767987454867512, 0.767987454867512, 0.767987454867512, 0.767987454867512, 0.767987454867512, 0.767987454867512, 0.767987454867512, 0.767987454867512, 0.767987454867512, 0.767987454867512, 0.767987454867512, 0.767987454867512, 0.767987454867512, 0.767987454867512, 0.767987454867512, 0.767987454867512, 0.767987454867512, 0.767987454867512, 0.767987454867512, 0.767987454867512, 0.767987454867512, 0.767987454867512, 0.7764812746018267, 0.7764812746018267, 0.7764812746018267, 0.7764812746018267, 0.7764812746018267, 0.7764812746018267, 0.7764812746018267, 0.7764812746018267, 0.7764812746018267, 0.7764812746018267, 0.7811214156193399, 0.7811214156193399, 0.7811214156193399, 0.7811214156193399, 0.7811214156193399]}], \"precision_score_macro\": [{\"categories\": [\"0\", \"1\", \"2\", \"3\", \"4\", \"5\", \"6\", \"7\", \"8\", \"9\", \"10\", \"11\", \"12\", \"13\", \"14\", \"15\", \"16\", \"17\", \"18\", \"19\", \"20\", \"21\", \"22\", \"23\", \"24\", \"25\", \"26\", \"27\", \"28\", \"29\", \"30\", \"31\", \"32\", \"33\", \"34\", \"35\", \"40\", \"41\"], \"mode\": \"markers\", \"name\": \"precision_score_macro\", \"stepped\": false, \"type\": \"scatter\", \"data\": [0.9371356459833455, 0.9355498701706931, 0.8978265010381209, 0.6871720590939118, 0.429646912590856, 0.6986575947357357, 0.7409172555127667, 0.429646912590856, 0.429646912590856, 0.7203392852393059, 0.6569636093043228, 0.6375749368830806, 0.6412410525082897, 0.9267444078598581, 0.5964156655728728, 0.429646912590856, 0.6944204940723089, 0.6732494490950254, 0.613294647459803, 0.6803726034163998, 0.847577868045022, 0.9142285023391435, 0.9186564729825762, 0.9391655608213867, 0.8193481545160184, 0.9151731271408557, 0.429646912590856, 0.9020619848547086, 0.8916422559059957, 0.9350848707336922, 0.9046418552543533, 0.9022161944141919, 0.9188698120050276, 0.9338762005286018, 0.9009661371750192, 0.9080168869621871, 0.9583380565502949, 0.7845854977999309]}, {\"categories\": [\"0\", \"1\", \"2\", \"3\", \"4\", \"5\", \"6\", \"7\", \"8\", \"9\", \"10\", \"11\", \"12\", \"13\", \"14\", \"15\", \"16\", \"17\", \"18\", \"19\", \"20\", \"21\", \"22\", \"23\", \"24\", \"25\", \"26\", \"27\", \"28\", \"29\", \"30\", \"31\", \"32\", \"33\", \"34\", \"35\", \"40\", \"41\"], \"mode\": \"lines\", \"name\": \"precision_score_macro_max\", \"stepped\": true, \"type\": \"scatter\", \"data\": [0.9371356459833455, 0.9371356459833455, 0.9371356459833455, 0.9371356459833455, 0.9371356459833455, 0.9371356459833455, 0.9371356459833455, 0.9371356459833455, 0.9371356459833455, 0.9371356459833455, 0.9371356459833455, 0.9371356459833455, 0.9371356459833455, 0.9371356459833455, 0.9371356459833455, 0.9371356459833455, 0.9371356459833455, 0.9371356459833455, 0.9371356459833455, 0.9371356459833455, 0.9371356459833455, 0.9371356459833455, 0.9371356459833455, 0.9391655608213867, 0.9391655608213867, 0.9391655608213867, 0.9391655608213867, 0.9391655608213867, 0.9391655608213867, 0.9391655608213867, 0.9391655608213867, 0.9391655608213867, 0.9391655608213867, 0.9391655608213867, 0.9391655608213867, 0.9391655608213867, 0.9583380565502949, 0.9583380565502949]}], \"recall_score_macro\": [{\"categories\": [\"0\", \"1\", \"2\", \"3\", \"4\", \"5\", \"6\", \"7\", \"8\", \"9\", \"10\", \"11\", \"12\", \"13\", \"14\", \"15\", \"16\", \"17\", \"18\", \"19\", \"20\", \"21\", \"22\", \"23\", \"24\", \"25\", \"26\", \"27\", \"28\", \"29\", \"30\", \"31\", \"32\", \"33\", \"34\", \"35\", \"40\", \"41\"], \"mode\": \"markers\", \"name\": \"recall_score_macro\", \"stepped\": false, \"type\": \"scatter\", \"data\": [0.8373267985462295, 0.8217085071702014, 0.5277624112343507, 0.7299177803365678, 0.5, 0.5190385956566872, 0.5301233086820516, 0.5, 0.5, 0.8195470941204736, 0.7366626416935235, 0.6738405695495043, 0.6910568957779942, 0.7784033197489305, 0.500886524822695, 0.5, 0.8031398825745025, 0.776036233942521, 0.667995175000471, 0.7815551856821591, 0.7499806609076979, 0.8102770875768149, 0.5785324598773556, 0.8432898819409381, 0.5195433730382809, 0.705300368459827, 0.5, 0.7974903284964053, 0.7602479285571934, 0.8322988344761052, 0.8015558435077615, 0.822962090943656, 0.8291872369880325, 0.851769542714444, 0.8235629430681873, 0.7898279097361719, 0.8181500211888206, 0.7139459082113596]}, {\"categories\": [\"0\", \"1\", \"2\", \"3\", \"4\", \"5\", \"6\", \"7\", \"8\", \"9\", \"10\", \"11\", \"12\", \"13\", \"14\", \"15\", \"16\", \"17\", \"18\", \"19\", \"20\", \"21\", \"22\", \"23\", \"24\", \"25\", \"26\", \"27\", \"28\", \"29\", \"30\", \"31\", \"32\", \"33\", \"34\", \"35\", \"40\", \"41\"], \"mode\": \"lines\", \"name\": \"recall_score_macro_max\", \"stepped\": true, \"type\": \"scatter\", \"data\": [0.8373267985462295, 0.8373267985462295, 0.8373267985462295, 0.8373267985462295, 0.8373267985462295, 0.8373267985462295, 0.8373267985462295, 0.8373267985462295, 0.8373267985462295, 0.8373267985462295, 0.8373267985462295, 0.8373267985462295, 0.8373267985462295, 0.8373267985462295, 0.8373267985462295, 0.8373267985462295, 0.8373267985462295, 0.8373267985462295, 0.8373267985462295, 0.8373267985462295, 0.8373267985462295, 0.8373267985462295, 0.8373267985462295, 0.8432898819409381, 0.8432898819409381, 0.8432898819409381, 0.8432898819409381, 0.8432898819409381, 0.8432898819409381, 0.8432898819409381, 0.8432898819409381, 0.8432898819409381, 0.8432898819409381, 0.851769542714444, 0.851769542714444, 0.851769542714444, 0.851769542714444, 0.851769542714444]}], \"log_loss\": [{\"categories\": [\"0\", \"1\", \"2\", \"3\", \"4\", \"5\", \"6\", \"7\", \"8\", \"9\", \"10\", \"11\", \"12\", \"13\", \"14\", \"15\", \"16\", \"17\", \"18\", \"19\", \"20\", \"21\", \"22\", \"23\", \"24\", \"25\", \"26\", \"27\", \"28\", \"29\", \"30\", \"31\", \"32\", \"33\", \"34\", \"35\", \"40\", \"41\"], \"mode\": \"markers\", \"name\": \"log_loss\", \"stepped\": false, \"type\": \"scatter\", \"data\": [0.20289810147641282, 0.18759161209382716, 0.3215873118584738, 0.5676042527404395, 0.36325625184718174, 0.2977073069165052, 0.2918549300995415, 0.340278192792701, 0.35151712374672833, 0.5733982426675605, 0.5667575696185657, 0.5657049262307866, 0.6462003284299548, 0.33380255549422605, 0.3523584280157717, 0.2998588961782249, 0.4891975038147234, 0.6244578651489259, 0.6364675111958421, 0.4940857581301319, 0.24386695767179434, 0.19301627530904497, 0.2929880106235114, 0.17850665624768003, 0.3293148687448218, 0.25737548954918577, 0.32910734111112133, 0.20699004667582063, 0.33818208481857076, 0.18836115932725353, 0.20207650169816171, 0.188997873616667, 0.21229204118811154, 0.19431476738966835, 0.19751569062500707, 0.21043123302402542, 0.2244902754625339, 0.25355185338578057]}, {\"categories\": [\"0\", \"1\", \"2\", \"3\", \"4\", \"5\", \"6\", \"7\", \"8\", \"9\", \"10\", \"11\", \"12\", \"13\", \"14\", \"15\", \"16\", \"17\", \"18\", \"19\", \"20\", \"21\", \"22\", \"23\", \"24\", \"25\", \"26\", \"27\", \"28\", \"29\", \"30\", \"31\", \"32\", \"33\", \"34\", \"35\", \"40\", \"41\"], \"mode\": \"lines\", \"name\": \"log_loss_min\", \"stepped\": true, \"type\": \"scatter\", \"data\": [0.20289810147641282, 0.18759161209382716, 0.18759161209382716, 0.18759161209382716, 0.18759161209382716, 0.18759161209382716, 0.18759161209382716, 0.18759161209382716, 0.18759161209382716, 0.18759161209382716, 0.18759161209382716, 0.18759161209382716, 0.18759161209382716, 0.18759161209382716, 0.18759161209382716, 0.18759161209382716, 0.18759161209382716, 0.18759161209382716, 0.18759161209382716, 0.18759161209382716, 0.18759161209382716, 0.18759161209382716, 0.18759161209382716, 0.17850665624768003, 0.17850665624768003, 0.17850665624768003, 0.17850665624768003, 0.17850665624768003, 0.17850665624768003, 0.17850665624768003, 0.17850665624768003, 0.17850665624768003, 0.17850665624768003, 0.17850665624768003, 0.17850665624768003, 0.17850665624768003, 0.17850665624768003, 0.17850665624768003]}], \"norm_macro_recall\": [{\"categories\": [\"0\", \"1\", \"2\", \"3\", \"4\", \"5\", \"6\", \"7\", \"8\", \"9\", \"10\", \"11\", \"12\", \"13\", \"14\", \"15\", \"16\", \"17\", \"18\", \"19\", \"20\", \"21\", \"22\", \"23\", \"24\", \"25\", \"26\", \"27\", \"28\", \"29\", \"30\", \"31\", \"32\", \"33\", \"34\", \"35\", \"40\", \"41\"], \"mode\": \"markers\", \"name\": \"norm_macro_recall\", \"stepped\": false, \"type\": \"scatter\", \"data\": [0.6746535970924591, 0.6434170143404029, 0.05552482246870157, 0.45983556067313575, 0.0, 0.03807719131337447, 0.060246617364103194, 0.0, 0.0, 0.639094188240947, 0.47332528338704677, 0.3476811390990089, 0.3821137915559885, 0.5568066394978612, 0.0017730496453900457, 0.0, 0.6062797651490047, 0.552072467885042, 0.3359903500009422, 0.5631103713643184, 0.499961321815396, 0.6205541751536298, 0.15706491975471124, 0.6865797638818765, 0.03908674607656167, 0.410600736919654, 0.0, 0.5949806569928103, 0.5204958571143866, 0.6645976689522103, 0.6031116870155231, 0.6459241818873119, 0.6583744739760653, 0.7035390854288884, 0.6471258861363747, 0.5796558194723439, 0.6363000423776413, 0.427891816422719]}, {\"categories\": [\"0\", \"1\", \"2\", \"3\", \"4\", \"5\", \"6\", \"7\", \"8\", \"9\", \"10\", \"11\", \"12\", \"13\", \"14\", \"15\", \"16\", \"17\", \"18\", \"19\", \"20\", \"21\", \"22\", \"23\", \"24\", \"25\", \"26\", \"27\", \"28\", \"29\", \"30\", \"31\", \"32\", \"33\", \"34\", \"35\", \"40\", \"41\"], \"mode\": \"lines\", \"name\": \"norm_macro_recall_max\", \"stepped\": true, \"type\": \"scatter\", \"data\": [0.6746535970924591, 0.6746535970924591, 0.6746535970924591, 0.6746535970924591, 0.6746535970924591, 0.6746535970924591, 0.6746535970924591, 0.6746535970924591, 0.6746535970924591, 0.6746535970924591, 0.6746535970924591, 0.6746535970924591, 0.6746535970924591, 0.6746535970924591, 0.6746535970924591, 0.6746535970924591, 0.6746535970924591, 0.6746535970924591, 0.6746535970924591, 0.6746535970924591, 0.6746535970924591, 0.6746535970924591, 0.6746535970924591, 0.6865797638818765, 0.6865797638818765, 0.6865797638818765, 0.6865797638818765, 0.6865797638818765, 0.6865797638818765, 0.6865797638818765, 0.6865797638818765, 0.6865797638818765, 0.6865797638818765, 0.7035390854288884, 0.7035390854288884, 0.7035390854288884, 0.7035390854288884, 0.7035390854288884]}], \"recall_score_micro\": [{\"categories\": [\"0\", \"1\", \"2\", \"3\", \"4\", \"5\", \"6\", \"7\", \"8\", \"9\", \"10\", \"11\", \"12\", \"13\", \"14\", \"15\", \"16\", \"17\", \"18\", \"19\", \"20\", \"21\", \"22\", \"23\", \"24\", \"25\", \"26\", \"27\", \"29\", \"30\", \"31\", \"32\", \"33\", \"34\", \"35\", \"40\", \"41\"], \"mode\": \"markers\", \"name\": \"recall_score_micro\", \"stepped\": false, \"type\": \"scatter\", \"data\": [0.9475281322972195, 0.943527744219705, 0.8661159155639019, 0.8385874975246769, 0.859293825181712, 0.8618826145260603, 0.8670581996658813, 0.859293825181712, 0.859293825181712, 0.8501153600282819, 0.8007075769476639, 0.8044708988380268, 0.7948325884105701, 0.9317629816580212, 0.8595290639490609, 0.859293825181712, 0.8230545953295136, 0.8056469265456981, 0.7647152148979237, 0.814116020557476, 0.9105858442081424, 0.9369393974432071, 0.8804694674699339, 0.9491754681849535, 0.8630581438465127, 0.91270398988872, 0.859293825181712, 0.9317618187545104, 0.9458807964094856, 0.9331734174876766, 0.937174137823337, 0.941881072848263, 0.950116257125276, 0.937173473307045, 0.9312910089616667, 0.946587011098751, 0.9173978007168802]}, {\"categories\": [\"0\", \"1\", \"2\", \"3\", \"4\", \"5\", \"6\", \"7\", \"8\", \"9\", \"10\", \"11\", \"12\", \"13\", \"14\", \"15\", \"16\", \"17\", \"18\", \"19\", \"20\", \"21\", \"22\", \"23\", \"24\", \"25\", \"26\", \"27\", \"29\", \"30\", \"31\", \"32\", \"33\", \"34\", \"35\", \"40\", \"41\"], \"mode\": \"lines\", \"name\": \"recall_score_micro_max\", \"stepped\": true, \"type\": \"scatter\", \"data\": [0.9475281322972195, 0.9475281322972195, 0.9475281322972195, 0.9475281322972195, 0.9475281322972195, 0.9475281322972195, 0.9475281322972195, 0.9475281322972195, 0.9475281322972195, 0.9475281322972195, 0.9475281322972195, 0.9475281322972195, 0.9475281322972195, 0.9475281322972195, 0.9475281322972195, 0.9475281322972195, 0.9475281322972195, 0.9475281322972195, 0.9475281322972195, 0.9475281322972195, 0.9475281322972195, 0.9475281322972195, 0.9475281322972195, 0.9491754681849535, 0.9491754681849535, 0.9491754681849535, 0.9491754681849535, 0.9491754681849535, 0.9491754681849535, 0.9491754681849535, 0.9491754681849535, 0.9491754681849535, 0.950116257125276, 0.950116257125276, 0.950116257125276, 0.950116257125276, 0.950116257125276]}], \"AUC_weighted\": [{\"categories\": [\"0\", \"1\", \"2\", \"3\", \"4\", \"5\", \"6\", \"7\", \"8\", \"9\", \"10\", \"11\", \"12\", \"13\", \"14\", \"15\", \"16\", \"17\", \"18\", \"19\", \"20\", \"21\", \"22\", \"23\", \"24\", \"25\", \"26\", \"27\", \"28\", \"29\", \"30\", \"31\", \"32\", \"33\", \"34\", \"35\", \"40\", \"41\"], \"mode\": \"markers\", \"name\": \"AUC_weighted\", \"stepped\": false, \"type\": \"scatter\", \"data\": [0.8945939214995663, 0.9118146898595055, 0.8415869813995328, 0.8197844739339472, 0.7682602891868612, 0.8470253907834112, 0.873625665926362, 0.8576027447316107, 0.8223572480816647, 0.8530236932488062, 0.8047877545018136, 0.7479277421142504, 0.7782968274594747, 0.9029311905002398, 0.8083753343836788, 0.8566386398685077, 0.850572082284542, 0.8269589558043365, 0.7350900662121536, 0.8247682428685236, 0.8930528541948469, 0.9139777589478787, 0.8663230165998823, 0.9081016659604959, 0.8275865319334675, 0.9093351284786148, 0.8460498781323986, 0.9059795774434861, 0.8943916331693735, 0.9108939552109607, 0.9080282834746664, 0.9081245092103426, 0.9053925670534847, 0.9101530889575873, 0.906358050872167, 0.9039815405729258, 0.9254201474141523, 0.919057596408376]}, {\"categories\": [\"0\", \"1\", \"2\", \"3\", \"4\", \"5\", \"6\", \"7\", \"8\", \"9\", \"10\", \"11\", \"12\", \"13\", \"14\", \"15\", \"16\", \"17\", \"18\", \"19\", \"20\", \"21\", \"22\", \"23\", \"24\", \"25\", \"26\", \"27\", \"28\", \"29\", \"30\", \"31\", \"32\", \"33\", \"34\", \"35\", \"40\", \"41\"], \"mode\": \"lines\", \"name\": \"AUC_weighted_max\", \"stepped\": true, \"type\": \"scatter\", \"data\": [0.8945939214995663, 0.9118146898595055, 0.9118146898595055, 0.9118146898595055, 0.9118146898595055, 0.9118146898595055, 0.9118146898595055, 0.9118146898595055, 0.9118146898595055, 0.9118146898595055, 0.9118146898595055, 0.9118146898595055, 0.9118146898595055, 0.9118146898595055, 0.9118146898595055, 0.9118146898595055, 0.9118146898595055, 0.9118146898595055, 0.9118146898595055, 0.9118146898595055, 0.9118146898595055, 0.9139777589478787, 0.9139777589478787, 0.9139777589478787, 0.9139777589478787, 0.9139777589478787, 0.9139777589478787, 0.9139777589478787, 0.9139777589478787, 0.9139777589478787, 0.9139777589478787, 0.9139777589478787, 0.9139777589478787, 0.9139777589478787, 0.9139777589478787, 0.9139777589478787, 0.9254201474141523, 0.9254201474141523]}], \"accuracy\": [{\"categories\": [\"0\", \"1\", \"2\", \"3\", \"4\", \"5\", \"6\", \"7\", \"8\", \"9\", \"10\", \"11\", \"12\", \"13\", \"14\", \"15\", \"16\", \"17\", \"18\", \"19\", \"20\", \"21\", \"22\", \"23\", \"24\", \"25\", \"26\", \"27\", \"28\", \"29\", \"30\", \"31\", \"32\", \"33\", \"34\", \"35\", \"40\", \"41\"], \"mode\": \"markers\", \"name\": \"accuracy\", \"stepped\": false, \"type\": \"scatter\", \"data\": [0.9475281322972195, 0.943527744219705, 0.8661159155639019, 0.8385874975246769, 0.859293825181712, 0.8618826145260603, 0.8670581996658813, 0.859293825181712, 0.859293825181712, 0.8501153600282819, 0.8007075769476639, 0.8044708988380268, 0.7948325884105701, 0.9317629816580212, 0.8595290639490609, 0.859293825181712, 0.8230545953295136, 0.8056469265456981, 0.7647152148979237, 0.814116020557476, 0.9105858442081424, 0.9369393974432071, 0.8804694674699339, 0.9491754681849535, 0.8630581438465127, 0.91270398988872, 0.859293825181712, 0.9317618187545104, 0.9216443920805606, 0.9458807964094856, 0.9331734174876766, 0.937174137823337, 0.941881072848263, 0.950116257125276, 0.937173473307045, 0.9312910089616667, 0.946587011098751, 0.9173978007168802]}, {\"categories\": [\"0\", \"1\", \"2\", \"3\", \"4\", \"5\", \"6\", \"7\", \"8\", \"9\", \"10\", \"11\", \"12\", \"13\", \"14\", \"15\", \"16\", \"17\", \"18\", \"19\", \"20\", \"21\", \"22\", \"23\", \"24\", \"25\", \"26\", \"27\", \"28\", \"29\", \"30\", \"31\", \"32\", \"33\", \"34\", \"35\", \"40\", \"41\"], \"mode\": \"lines\", \"name\": \"accuracy_max\", \"stepped\": true, \"type\": \"scatter\", \"data\": [0.9475281322972195, 0.9475281322972195, 0.9475281322972195, 0.9475281322972195, 0.9475281322972195, 0.9475281322972195, 0.9475281322972195, 0.9475281322972195, 0.9475281322972195, 0.9475281322972195, 0.9475281322972195, 0.9475281322972195, 0.9475281322972195, 0.9475281322972195, 0.9475281322972195, 0.9475281322972195, 0.9475281322972195, 0.9475281322972195, 0.9475281322972195, 0.9475281322972195, 0.9475281322972195, 0.9475281322972195, 0.9475281322972195, 0.9491754681849535, 0.9491754681849535, 0.9491754681849535, 0.9491754681849535, 0.9491754681849535, 0.9491754681849535, 0.9491754681849535, 0.9491754681849535, 0.9491754681849535, 0.9491754681849535, 0.950116257125276, 0.950116257125276, 0.950116257125276, 0.950116257125276, 0.950116257125276]}], \"precision_score_weighted\": [{\"categories\": [\"0\", \"1\", \"2\", \"3\", \"4\", \"5\", \"6\", \"7\", \"8\", \"9\", \"10\", \"11\", \"12\", \"13\", \"14\", \"15\", \"16\", \"17\", \"18\", \"19\", \"20\", \"21\", \"22\", \"23\", \"24\", \"25\", \"26\", \"27\", \"28\", \"29\", \"30\", \"31\", \"32\", \"33\", \"34\", \"35\", \"40\", \"41\"], \"mode\": \"markers\", \"name\": \"precision_score_weighted\", \"stepped\": false, \"type\": \"scatter\", \"data\": [0.9465601233522909, 0.942708032169183, 0.8750998994195817, 0.8598601469104531, 0.7384232561014045, 0.8150681342742887, 0.8288715538331037, 0.7384232561014045, 0.7384232561014045, 0.8920593001202867, 0.8568647612006058, 0.834012797643886, 0.8404547230866317, 0.9310433892772307, 0.782825228458354, 0.7384232561014045, 0.8838977640208957, 0.8719962319843108, 0.8295751252194569, 0.8745956826220053, 0.903868392539172, 0.934665964671284, 0.8898638408178904, 0.9482978093190771, 0.8506639269163503, 0.913137569173529, 0.7384232561014045, 0.9286095431786223, 0.917904973230018, 0.9448394476274594, 0.9302233778965302, 0.9343056316588143, 0.939933379706646, 0.9489280587008796, 0.9342799119116556, 0.9286203632655715, 0.9479367308030868, 0.8786130839652038]}, {\"categories\": [\"0\", \"1\", \"2\", \"3\", \"4\", \"5\", \"6\", \"7\", \"8\", \"9\", \"10\", \"11\", \"12\", \"13\", \"14\", \"15\", \"16\", \"17\", \"18\", \"19\", \"20\", \"21\", \"22\", \"23\", \"24\", \"25\", \"26\", \"27\", \"28\", \"29\", \"30\", \"31\", \"32\", \"33\", \"34\", \"35\", \"40\", \"41\"], \"mode\": \"lines\", \"name\": \"precision_score_weighted_max\", \"stepped\": true, \"type\": \"scatter\", \"data\": [0.9465601233522909, 0.9465601233522909, 0.9465601233522909, 0.9465601233522909, 0.9465601233522909, 0.9465601233522909, 0.9465601233522909, 0.9465601233522909, 0.9465601233522909, 0.9465601233522909, 0.9465601233522909, 0.9465601233522909, 0.9465601233522909, 0.9465601233522909, 0.9465601233522909, 0.9465601233522909, 0.9465601233522909, 0.9465601233522909, 0.9465601233522909, 0.9465601233522909, 0.9465601233522909, 0.9465601233522909, 0.9465601233522909, 0.9482978093190771, 0.9482978093190771, 0.9482978093190771, 0.9482978093190771, 0.9482978093190771, 0.9482978093190771, 0.9482978093190771, 0.9482978093190771, 0.9482978093190771, 0.9482978093190771, 0.9489280587008796, 0.9489280587008796, 0.9489280587008796, 0.9489280587008796, 0.9489280587008796]}], \"recall_score_weighted\": [{\"categories\": [\"0\", \"1\", \"2\", \"3\", \"4\", \"5\", \"6\", \"7\", \"8\", \"9\", \"10\", \"11\", \"12\", \"13\", \"14\", \"15\", \"16\", \"17\", \"18\", \"19\", \"20\", \"21\", \"22\", \"23\", \"24\", \"25\", \"26\", \"27\", \"28\", \"29\", \"30\", \"31\", \"32\", \"33\", \"34\", \"35\", \"40\", \"41\"], \"mode\": \"markers\", \"name\": \"recall_score_weighted\", \"stepped\": false, \"type\": \"scatter\", \"data\": [0.9475281322972195, 0.943527744219705, 0.8661159155639019, 0.8385874975246769, 0.859293825181712, 0.8618826145260603, 0.8670581996658813, 0.859293825181712, 0.859293825181712, 0.8501153600282819, 0.8007075769476639, 0.8044708988380268, 0.7948325884105701, 0.9317629816580212, 0.8595290639490609, 0.859293825181712, 0.8230545953295136, 0.8056469265456981, 0.7647152148979237, 0.814116020557476, 0.9105858442081424, 0.9369393974432071, 0.8804694674699339, 0.9491754681849535, 0.8630581438465127, 0.91270398988872, 0.859293825181712, 0.9317618187545104, 0.9216443920805606, 0.9458807964094856, 0.9331734174876766, 0.937174137823337, 0.941881072848263, 0.950116257125276, 0.937173473307045, 0.9312910089616667, 0.946587011098751, 0.9173978007168802]}, {\"categories\": [\"0\", \"1\", \"2\", \"3\", \"4\", \"5\", \"6\", \"7\", \"8\", \"9\", \"10\", \"11\", \"12\", \"13\", \"14\", \"15\", \"16\", \"17\", \"18\", \"19\", \"20\", \"21\", \"22\", \"23\", \"24\", \"25\", \"26\", \"27\", \"28\", \"29\", \"30\", \"31\", \"32\", \"33\", \"34\", \"35\", \"40\", \"41\"], \"mode\": \"lines\", \"name\": \"recall_score_weighted_max\", \"stepped\": true, \"type\": \"scatter\", \"data\": [0.9475281322972195, 0.9475281322972195, 0.9475281322972195, 0.9475281322972195, 0.9475281322972195, 0.9475281322972195, 0.9475281322972195, 0.9475281322972195, 0.9475281322972195, 0.9475281322972195, 0.9475281322972195, 0.9475281322972195, 0.9475281322972195, 0.9475281322972195, 0.9475281322972195, 0.9475281322972195, 0.9475281322972195, 0.9475281322972195, 0.9475281322972195, 0.9475281322972195, 0.9475281322972195, 0.9475281322972195, 0.9475281322972195, 0.9491754681849535, 0.9491754681849535, 0.9491754681849535, 0.9491754681849535, 0.9491754681849535, 0.9491754681849535, 0.9491754681849535, 0.9491754681849535, 0.9491754681849535, 0.9491754681849535, 0.950116257125276, 0.950116257125276, 0.950116257125276, 0.950116257125276, 0.950116257125276]}], \"balanced_accuracy\": [{\"categories\": [\"0\", \"1\", \"2\", \"3\", \"4\", \"5\", \"6\", \"7\", \"8\", \"9\", \"10\", \"11\", \"12\", \"13\", \"14\", \"15\", \"16\", \"17\", \"18\", \"19\", \"20\", \"21\", \"22\", \"23\", \"24\", \"25\", \"26\", \"27\", \"29\", \"30\", \"31\", \"32\", \"33\", \"34\", \"35\", \"40\", \"41\"], \"mode\": \"markers\", \"name\": \"balanced_accuracy\", \"stepped\": false, \"type\": \"scatter\", \"data\": [0.8373267985462295, 0.8217085071702014, 0.5277624112343507, 0.7299177803365678, 0.5, 0.5190385956566872, 0.5301233086820516, 0.5, 0.5, 0.8195470941204736, 0.7366626416935235, 0.6738405695495043, 0.6910568957779942, 0.7784033197489305, 0.500886524822695, 0.5, 0.8031398825745025, 0.776036233942521, 0.667995175000471, 0.7815551856821591, 0.7499806609076979, 0.8102770875768149, 0.5785324598773556, 0.8432898819409381, 0.5195433730382809, 0.705300368459827, 0.5, 0.7974903284964053, 0.8322988344761052, 0.8015558435077615, 0.822962090943656, 0.8291872369880325, 0.851769542714444, 0.8235629430681873, 0.7898279097361719, 0.8181500211888206, 0.7139459082113596]}, {\"categories\": [\"0\", \"1\", \"2\", \"3\", \"4\", \"5\", \"6\", \"7\", \"8\", \"9\", \"10\", \"11\", \"12\", \"13\", \"14\", \"15\", \"16\", \"17\", \"18\", \"19\", \"20\", \"21\", \"22\", \"23\", \"24\", \"25\", \"26\", \"27\", \"29\", \"30\", \"31\", \"32\", \"33\", \"34\", \"35\", \"40\", \"41\"], \"mode\": \"lines\", \"name\": \"balanced_accuracy_max\", \"stepped\": true, \"type\": \"scatter\", \"data\": [0.8373267985462295, 0.8373267985462295, 0.8373267985462295, 0.8373267985462295, 0.8373267985462295, 0.8373267985462295, 0.8373267985462295, 0.8373267985462295, 0.8373267985462295, 0.8373267985462295, 0.8373267985462295, 0.8373267985462295, 0.8373267985462295, 0.8373267985462295, 0.8373267985462295, 0.8373267985462295, 0.8373267985462295, 0.8373267985462295, 0.8373267985462295, 0.8373267985462295, 0.8373267985462295, 0.8373267985462295, 0.8373267985462295, 0.8432898819409381, 0.8432898819409381, 0.8432898819409381, 0.8432898819409381, 0.8432898819409381, 0.8432898819409381, 0.8432898819409381, 0.8432898819409381, 0.8432898819409381, 0.851769542714444, 0.851769542714444, 0.851769542714444, 0.851769542714444, 0.851769542714444]}], \"AUC_macro\": [{\"categories\": [\"0\", \"1\", \"2\", \"3\", \"4\", \"5\", \"6\", \"7\", \"8\", \"9\", \"10\", \"11\", \"12\", \"13\", \"14\", \"15\", \"16\", \"17\", \"18\", \"19\", \"20\", \"21\", \"22\", \"23\", \"24\", \"25\", \"26\", \"27\", \"28\", \"29\", \"30\", \"31\", \"32\", \"33\", \"34\", \"35\", \"40\", \"41\"], \"mode\": \"markers\", \"name\": \"AUC_macro\", \"stepped\": false, \"type\": \"scatter\", \"data\": [0.8945939214995663, 0.9118146898595055, 0.841586981399533, 0.8197844739339472, 0.768260289186861, 0.8470253907834113, 0.873625665926362, 0.8576027447316107, 0.8223572480816647, 0.8530236932488062, 0.8047877545018135, 0.7479277421142504, 0.7782968274594745, 0.9029311905002401, 0.8083753343836788, 0.8566386398685077, 0.850572082284542, 0.8269589558043364, 0.7350900662121536, 0.8247682428685236, 0.8930528541948471, 0.9139777589478788, 0.8663230165998823, 0.9081016659604959, 0.8275865319334677, 0.9093351284786148, 0.8460498781323986, 0.9059795774434859, 0.8943916331693735, 0.9108939552109607, 0.9080282834746664, 0.9081245092103426, 0.9053925670534847, 0.9101530889575873, 0.906358050872167, 0.9039815405729256, 0.9254201474141523, 0.9190575964083761]}, {\"categories\": [\"0\", \"1\", \"2\", \"3\", \"4\", \"5\", \"6\", \"7\", \"8\", \"9\", \"10\", \"11\", \"12\", \"13\", \"14\", \"15\", \"16\", \"17\", \"18\", \"19\", \"20\", \"21\", \"22\", \"23\", \"24\", \"25\", \"26\", \"27\", \"28\", \"29\", \"30\", \"31\", \"32\", \"33\", \"34\", \"35\", \"40\", \"41\"], \"mode\": \"lines\", \"name\": \"AUC_macro_max\", \"stepped\": true, \"type\": \"scatter\", \"data\": [0.8945939214995663, 0.9118146898595055, 0.9118146898595055, 0.9118146898595055, 0.9118146898595055, 0.9118146898595055, 0.9118146898595055, 0.9118146898595055, 0.9118146898595055, 0.9118146898595055, 0.9118146898595055, 0.9118146898595055, 0.9118146898595055, 0.9118146898595055, 0.9118146898595055, 0.9118146898595055, 0.9118146898595055, 0.9118146898595055, 0.9118146898595055, 0.9118146898595055, 0.9118146898595055, 0.9139777589478788, 0.9139777589478788, 0.9139777589478788, 0.9139777589478788, 0.9139777589478788, 0.9139777589478788, 0.9139777589478788, 0.9139777589478788, 0.9139777589478788, 0.9139777589478788, 0.9139777589478788, 0.9139777589478788, 0.9139777589478788, 0.9139777589478788, 0.9139777589478788, 0.9254201474141523, 0.9254201474141523]}]}, \"metricName\": null, \"primaryMetricName\": \"AUC_weighted\", \"showLegend\": false}, \"run_metrics\": [{\"name\": \"experiment_status\", \"run_id\": \"AutoML_0442a08e-f9e7-457b-9333-ea80d4ef6c40\", \"categories\": [0, 1, 2, 3, 4, 5, 6, 7, 8, 9, 10, 11, 12, 13, 14], \"series\": [{\"data\": [\"DatasetEvaluation\", \"FeaturesGeneration\", \"DatasetFeaturization\", \"DatasetFeaturizationCompleted\", \"DatasetBalancing\", \"DatasetCrossValidationSplit\", \"ModelSelection\", \"BestRunExplainModel\", \"ModelExplanationDataSetSetup\", \"PickSurrogateModel\", \"EngineeredFeatureExplanations\", \"EngineeredFeatureExplanations\", \"RawFeaturesExplanations\", \"RawFeaturesExplanations\", \"BestRunExplainModel\"]}]}, {\"name\": \"experiment_status_description\", \"run_id\": \"AutoML_0442a08e-f9e7-457b-9333-ea80d4ef6c40\", \"categories\": [0, 1, 2, 3, 4, 5, 6, 7, 8, 9, 10, 11, 12, 13, 14], \"series\": [{\"data\": [\"Gathering dataset statistics.\", \"Generating features for the dataset.\", \"Beginning to fit featurizers and featurize the dataset.\", \"Completed fit featurizers and featurizing the dataset.\", \"Performing class balancing sweeping\", \"Generating individually featurized CV splits.\", \"Beginning model selection.\", \"Best run model explanations started\", \"Model explanations data setup completed\", \"Choosing LightGBM as the surrogate model for explanations\", \"Computation of engineered features started\", \"Computation of engineered features completed\", \"Computation of raw features started\", \"Computation of raw features completed\", \"Best run model explanations completed\"]}]}, {\"name\": \"AUC_macro\", \"run_id\": \"AutoML_0442a08e-f9e7-457b-9333-ea80d4ef6c40\", \"categories\": [0], \"series\": [{\"data\": [0.9254201474141523]}]}, {\"name\": \"f1_score_micro\", \"run_id\": \"AutoML_0442a08e-f9e7-457b-9333-ea80d4ef6c40\", \"categories\": [0], \"series\": [{\"data\": [0.946587011098751]}]}, {\"name\": \"log_loss\", \"run_id\": \"AutoML_0442a08e-f9e7-457b-9333-ea80d4ef6c40\", \"categories\": [0], \"series\": [{\"data\": [0.2244902754625339]}]}, {\"name\": \"recall_score_micro\", \"run_id\": \"AutoML_0442a08e-f9e7-457b-9333-ea80d4ef6c40\", \"categories\": [0], \"series\": [{\"data\": [0.946587011098751]}]}, {\"name\": \"average_precision_score_micro\", \"run_id\": \"AutoML_0442a08e-f9e7-457b-9333-ea80d4ef6c40\", \"categories\": [0], \"series\": [{\"data\": [0.9669833081290871]}]}, {\"name\": \"norm_macro_recall\", \"run_id\": \"AutoML_0442a08e-f9e7-457b-9333-ea80d4ef6c40\", \"categories\": [0], \"series\": [{\"data\": [0.6363000423776413]}]}, {\"name\": \"AUC_weighted\", \"run_id\": \"AutoML_0442a08e-f9e7-457b-9333-ea80d4ef6c40\", \"categories\": [0], \"series\": [{\"data\": [0.9254201474141523]}]}, {\"name\": \"f1_score_weighted\", \"run_id\": \"AutoML_0442a08e-f9e7-457b-9333-ea80d4ef6c40\", \"categories\": [0], \"series\": [{\"data\": [0.9417789209277827]}]}, {\"name\": \"weighted_accuracy\", \"run_id\": \"AutoML_0442a08e-f9e7-457b-9333-ea80d4ef6c40\", \"categories\": [0], \"series\": [{\"data\": [0.9875809321868324]}]}, {\"name\": \"matthews_correlation\", \"run_id\": \"AutoML_0442a08e-f9e7-457b-9333-ea80d4ef6c40\", \"categories\": [0], \"series\": [{\"data\": [0.7636903659411005]}]}, {\"name\": \"recall_score_weighted\", \"run_id\": \"AutoML_0442a08e-f9e7-457b-9333-ea80d4ef6c40\", \"categories\": [0], \"series\": [{\"data\": [0.946587011098751]}]}, {\"name\": \"average_precision_score_macro\", \"run_id\": \"AutoML_0442a08e-f9e7-457b-9333-ea80d4ef6c40\", \"categories\": [0], \"series\": [{\"data\": [0.9249993513852454]}]}, {\"name\": \"recall_score_macro\", \"run_id\": \"AutoML_0442a08e-f9e7-457b-9333-ea80d4ef6c40\", \"categories\": [0], \"series\": [{\"data\": [0.8181500211888206]}]}, {\"name\": \"precision_score_macro\", \"run_id\": \"AutoML_0442a08e-f9e7-457b-9333-ea80d4ef6c40\", \"categories\": [0], \"series\": [{\"data\": [0.9583380565502949]}]}, {\"name\": \"precision_score_weighted\", \"run_id\": \"AutoML_0442a08e-f9e7-457b-9333-ea80d4ef6c40\", \"categories\": [0], \"series\": [{\"data\": [0.9479367308030868]}]}, {\"name\": \"average_precision_score_weighted\", \"run_id\": \"AutoML_0442a08e-f9e7-457b-9333-ea80d4ef6c40\", \"categories\": [0], \"series\": [{\"data\": [0.9613496087172516]}]}, {\"name\": \"f1_score_macro\", \"run_id\": \"AutoML_0442a08e-f9e7-457b-9333-ea80d4ef6c40\", \"categories\": [0], \"series\": [{\"data\": [0.8706008090723403]}]}, {\"name\": \"precision_score_micro\", \"run_id\": \"AutoML_0442a08e-f9e7-457b-9333-ea80d4ef6c40\", \"categories\": [0], \"series\": [{\"data\": [0.946587011098751]}]}, {\"name\": \"AUC_micro\", \"run_id\": \"AutoML_0442a08e-f9e7-457b-9333-ea80d4ef6c40\", \"categories\": [0], \"series\": [{\"data\": [0.9744475762425219]}]}, {\"name\": \"accuracy\", \"run_id\": \"AutoML_0442a08e-f9e7-457b-9333-ea80d4ef6c40\", \"categories\": [0], \"series\": [{\"data\": [0.946587011098751]}]}, {\"name\": \"balanced_accuracy\", \"run_id\": \"AutoML_0442a08e-f9e7-457b-9333-ea80d4ef6c40\", \"categories\": [0], \"series\": [{\"data\": [0.8181500211888206]}]}], \"run_logs\": \"\\nRun is completed.\", \"graph\": {}, \"widget_settings\": {\"childWidgetDisplay\": \"popup\", \"send_telemetry\": false, \"log_level\": \"INFO\", \"sdk_version\": \"1.27.0\"}, \"loading\": false}"
     },
     "metadata": {},
     "output_type": "display_data"
    },
    {
     "data": {
      "text/html": [
       "<table style=\"width:100%\"><tr><th>Experiment</th><th>Id</th><th>Type</th><th>Status</th><th>Details Page</th><th>Docs Page</th></tr><tr><td>customer-churn</td><td>AutoML_0442a08e-f9e7-457b-9333-ea80d4ef6c40</td><td>automl</td><td>NotStarted</td><td><a href=\"https://ml.azure.com/runs/AutoML_0442a08e-f9e7-457b-9333-ea80d4ef6c40?wsid=/subscriptions/9e65f93e-bdd8-437b-b1e8-0647cd6098f7/resourcegroups/aml-quickstarts-144967/workspaces/quick-starts-ws-144967&amp;tid=660b3398-b80e-49d2-bc5b-ac1dc93b5254\" target=\"_blank\" rel=\"noopener\">Link to Azure Machine Learning studio</a></td><td><a href=\"https://docs.microsoft.com/en-us/python/api/overview/azure/ml/intro?view=azure-ml-py\" target=\"_blank\" rel=\"noopener\">Link to Documentation</a></td></tr></table>"
      ],
      "text/plain": [
       "<IPython.core.display.HTML object>"
      ]
     },
     "metadata": {},
     "output_type": "display_data"
    },
    {
     "name": "stdout",
     "output_type": "stream",
     "text": [
      "\n",
      "Current status: FeaturesGeneration. Generating features for the dataset.\n",
      "Current status: DatasetFeaturization. Beginning to fit featurizers and featurize the dataset.\n",
      "Current status: DatasetCrossValidationSplit. Generating individually featurized CV splits.\n",
      "Current status: ModelSelection. Beginning model selection.\n",
      "\n",
      "****************************************************************************************************\n",
      "DATA GUARDRAILS: \n",
      "\n",
      "TYPE:         Cross validation\n",
      "STATUS:       DONE\n",
      "DESCRIPTION:  Each iteration of the trained model was validated through cross-validation.\n",
      "              \n",
      "DETAILS:      \n",
      "+---------------------------------+\n",
      "|Number of folds                  |\n",
      "+=================================+\n",
      "|3                                |\n",
      "+---------------------------------+\n",
      "\n",
      "****************************************************************************************************\n",
      "\n",
      "TYPE:         Class balancing detection\n",
      "STATUS:       ALERTED\n",
      "DESCRIPTION:  To decrease model bias, please cancel the current run and fix balancing problem.\n",
      "              Learn more about imbalanced data: https://aka.ms/AutomatedMLImbalancedData\n",
      "DETAILS:      Imbalanced data can lead to a falsely perceived positive effect of a model's accuracy because the input data has bias towards one class.\n",
      "+---------------------------------+---------------------------------+--------------------------------------+\n",
      "|Size of the smallest class       |Name/Label of the smallest class |Number of samples in the training data|\n",
      "+=================================+=================================+======================================+\n",
      "|598                              |yes                              |4250                                  |\n",
      "+---------------------------------+---------------------------------+--------------------------------------+\n",
      "\n",
      "****************************************************************************************************\n",
      "\n",
      "TYPE:         Missing feature values imputation\n",
      "STATUS:       PASSED\n",
      "DESCRIPTION:  No feature missing values were detected in the training data.\n",
      "              Learn more about missing value imputation: https://aka.ms/AutomatedMLFeaturization\n",
      "\n",
      "****************************************************************************************************\n",
      "\n",
      "TYPE:         High cardinality feature detection\n",
      "STATUS:       PASSED\n",
      "DESCRIPTION:  Your inputs were analyzed, and no high cardinality features were detected.\n",
      "              Learn more about high cardinality feature handling: https://aka.ms/AutomatedMLFeaturization\n",
      "\n",
      "****************************************************************************************************\n",
      "\n",
      "****************************************************************************************************\n",
      "ITERATION: The iteration being evaluated.\n",
      "PIPELINE: A summary description of the pipeline being evaluated.\n",
      "DURATION: Time taken for the current iteration.\n",
      "METRIC: The result of computing score on the fitted pipeline.\n",
      "BEST: The best observed score thus far.\n",
      "****************************************************************************************************\n",
      "\n",
      " ITERATION   PIPELINE                                       DURATION      METRIC      BEST\n",
      "         1   MaxAbsScaler XGBoostClassifier                 0:00:47       0.9118    0.9118\n",
      "         2   MaxAbsScaler RandomForest                      0:00:47       0.8416    0.9118\n",
      "         4   MaxAbsScaler RandomForest                      0:01:28       0.7683    0.9118\n",
      "         0   MaxAbsScaler LightGBM                          0:01:22       0.8946    0.9118\n",
      "         3   MaxAbsScaler RandomForest                      0:00:47       0.8198    0.9118\n",
      "         5   MaxAbsScaler ExtremeRandomTrees                0:00:46       0.8470    0.9118\n",
      "         6   MaxAbsScaler ExtremeRandomTrees                0:00:41       0.8736    0.9118\n",
      "         7   MaxAbsScaler ExtremeRandomTrees                0:00:43       0.8576    0.9118\n",
      "        10   MaxAbsScaler RandomForest                      0:00:42       0.8048    0.9118\n",
      "         9   MaxAbsScaler ExtremeRandomTrees                0:00:43       0.8530    0.9118\n",
      "         8   MaxAbsScaler RandomForest                      0:00:48       0.8224    0.9118\n",
      "        11   MaxAbsScaler RandomForest                      0:00:45       0.7479    0.9118\n",
      "        12   MaxAbsScaler RandomForest                      0:00:41       0.7783    0.9118\n",
      "        13   StandardScalerWrapper XGBoostClassifier        0:00:51       0.9029    0.9118\n",
      "        14   MaxAbsScaler RandomForest                      0:00:44       0.8084    0.9118\n",
      "        15   StandardScalerWrapper ExtremeRandomTrees       0:00:41       0.8566    0.9118\n",
      "        16   MaxAbsScaler ExtremeRandomTrees                0:00:44       0.8506    0.9118\n",
      "        17   MaxAbsScaler ExtremeRandomTrees                0:00:44       0.8270    0.9118\n",
      "        18   MaxAbsScaler RandomForest                      0:00:46       0.7351    0.9118\n",
      "        19   StandardScalerWrapper LogisticRegression       0:00:44       0.8248    0.9118\n",
      "        20   SparseNormalizer LightGBM                      0:00:46       0.8931    0.9118\n",
      "        21   TruncatedSVDWrapper XGBoostClassifier          0:00:54       0.9140    0.9140\n",
      "        22   MaxAbsScaler LightGBM                          0:00:42       0.8663    0.9140\n",
      "        23   StandardScalerWrapper XGBoostClassifier        0:00:47       0.9081    0.9140\n",
      "        24   MaxAbsScaler LightGBM                          0:00:45       0.8276    0.9140\n",
      "        25   TruncatedSVDWrapper XGBoostClassifier          0:00:44       0.9093    0.9140\n",
      "        26   MaxAbsScaler LightGBM                          0:00:44       0.8460    0.9140\n",
      "        27   SparseNormalizer XGBoostClassifier             0:00:46       0.9060    0.9140\n",
      "        28   SparseNormalizer XGBoostClassifier             0:00:55       0.8944    0.9140\n",
      "        29   StandardScalerWrapper XGBoostClassifier        0:00:43       0.9109    0.9140\n",
      "        30   SparseNormalizer XGBoostClassifier             0:00:47       0.9080    0.9140\n",
      "        31   SparseNormalizer XGBoostClassifier             0:00:46       0.9081    0.9140\n",
      "        32   StandardScalerWrapper XGBoostClassifier        0:00:47       0.9054    0.9140\n",
      "        33   StandardScalerWrapper XGBoostClassifier        0:00:52       0.9102    0.9140\n",
      "        34   SparseNormalizer XGBoostClassifier             0:00:50       0.9064    0.9140\n",
      "        35   SparseNormalizer XGBoostClassifier             0:00:44       0.9040    0.9140\n",
      "        36                                                  0:00:21          nan    0.9140\n",
      "        37                                                  0:00:18          nan    0.9140\n",
      "        38                                                  0:00:32          nan    0.9140\n",
      "        39                                                  0:00:13          nan    0.9140\n",
      "        40    VotingEnsemble                                0:00:59       0.9254    0.9254\n",
      "        41    StackEnsemble                                 0:01:05       0.9191    0.9254\n"
     ]
    },
    {
     "data": {
      "text/plain": [
       "{'runId': 'AutoML_0442a08e-f9e7-457b-9333-ea80d4ef6c40',\n",
       " 'target': 'capstone-cluster',\n",
       " 'status': 'Completed',\n",
       " 'startTimeUtc': '2021-05-16T14:27:52.766308Z',\n",
       " 'endTimeUtc': '2021-05-16T14:46:39.200296Z',\n",
       " 'properties': {'num_iterations': '1000',\n",
       "  'training_type': 'TrainFull',\n",
       "  'acquisition_function': 'EI',\n",
       "  'primary_metric': 'AUC_weighted',\n",
       "  'train_split': '0',\n",
       "  'acquisition_parameter': '0',\n",
       "  'num_cross_validation': None,\n",
       "  'target': 'capstone-cluster',\n",
       "  'AMLSettingsJsonString': '{\"path\":null,\"name\":\"customer-churn\",\"subscription_id\":\"9e65f93e-bdd8-437b-b1e8-0647cd6098f7\",\"resource_group\":\"aml-quickstarts-144967\",\"workspace_name\":\"quick-starts-ws-144967\",\"region\":\"southcentralus\",\"compute_target\":\"capstone-cluster\",\"spark_service\":null,\"azure_service\":\"remote\",\"many_models\":false,\"pipeline_fetch_max_batch_size\":1,\"enable_batch_run\":false,\"enable_run_restructure\":false,\"start_auxiliary_runs_before_parent_complete\":false,\"iterations\":1000,\"primary_metric\":\"AUC_weighted\",\"task_type\":\"classification\",\"data_script\":null,\"test_size\":0.0,\"validation_size\":0.0,\"n_cross_validations\":null,\"y_min\":null,\"y_max\":null,\"num_classes\":null,\"featurization\":\"auto\",\"_ignore_package_version_incompatibilities\":false,\"is_timeseries\":false,\"max_cores_per_iteration\":1,\"max_concurrent_iterations\":5,\"iteration_timeout_minutes\":null,\"mem_in_mb\":null,\"enforce_time_on_windows\":false,\"experiment_timeout_minutes\":15,\"experiment_exit_score\":null,\"whitelist_models\":null,\"blacklist_algos\":[\"TensorFlowLinearClassifier\",\"TensorFlowDNN\"],\"supported_models\":[\"GradientBoosting\",\"SVM\",\"DecisionTree\",\"LightGBM\",\"KNN\",\"BernoulliNaiveBayes\",\"XGBoostClassifier\",\"MultinomialNaiveBayes\",\"TensorFlowDNN\",\"TensorFlowLinearClassifier\",\"LogisticRegression\",\"LinearSVM\",\"AveragedPerceptronClassifier\",\"ExtremeRandomTrees\",\"RandomForest\",\"SGD\"],\"private_models\":[],\"auto_blacklist\":true,\"blacklist_samples_reached\":false,\"exclude_nan_labels\":true,\"verbosity\":20,\"_debug_log\":\"azureml_automl.log\",\"show_warnings\":false,\"model_explainability\":true,\"service_url\":null,\"sdk_url\":null,\"sdk_packages\":null,\"enable_onnx_compatible_models\":false,\"enable_split_onnx_featurizer_estimator_models\":false,\"vm_type\":\"STANDARD_DS3_V2\",\"telemetry_verbosity\":20,\"send_telemetry\":true,\"enable_dnn\":false,\"scenario\":\"SDK-1.13.0\",\"environment_label\":null,\"save_mlflow\":false,\"force_text_dnn\":false,\"enable_feature_sweeping\":true,\"enable_early_stopping\":true,\"early_stopping_n_iters\":10,\"metrics\":null,\"enable_metric_confidence\":false,\"enable_ensembling\":true,\"enable_stack_ensembling\":true,\"ensemble_iterations\":15,\"enable_tf\":false,\"enable_subsampling\":null,\"subsample_seed\":null,\"enable_nimbusml\":false,\"enable_streaming\":false,\"force_streaming\":false,\"track_child_runs\":true,\"allowed_private_models\":[],\"label_column_name\":\"churn\",\"weight_column_name\":null,\"cv_split_column_names\":null,\"enable_local_managed\":false,\"_local_managed_run_id\":null,\"cost_mode\":1,\"lag_length\":0,\"metric_operation\":\"maximize\",\"preprocess\":true}',\n",
       "  'DataPrepJsonString': '{\\\\\"training_data\\\\\": {\\\\\"datasetId\\\\\": \\\\\"05dd38b7-707c-49c6-a238-8607d9a910b3\\\\\"}, \\\\\"datasets\\\\\": 0}',\n",
       "  'EnableSubsampling': None,\n",
       "  'runTemplate': 'AutoML',\n",
       "  'azureml.runsource': 'automl',\n",
       "  'display_task_type': 'classification',\n",
       "  'dependencies_versions': '{\"azureml-widgets\": \"1.27.0\", \"azureml-train\": \"1.27.0\", \"azureml-train-restclients-hyperdrive\": \"1.27.0\", \"azureml-train-core\": \"1.27.0\", \"azureml-train-automl\": \"1.27.0\", \"azureml-train-automl-runtime\": \"1.27.0\", \"azureml-train-automl-client\": \"1.27.0\", \"azureml-tensorboard\": \"1.27.0\", \"azureml-telemetry\": \"1.27.0\", \"azureml-sdk\": \"1.27.0\", \"azureml-samples\": \"0+unknown\", \"azureml-pipeline\": \"1.27.0\", \"azureml-pipeline-steps\": \"1.27.0\", \"azureml-pipeline-core\": \"1.27.0\", \"azureml-opendatasets\": \"1.27.0\", \"azureml-model-management-sdk\": \"1.0.1b6.post1\", \"azureml-mlflow\": \"1.27.0\", \"azureml-interpret\": \"1.27.0\", \"azureml-explain-model\": \"1.27.0\", \"azureml-defaults\": \"1.27.0\", \"azureml-dataset-runtime\": \"1.27.0\", \"azureml-dataprep\": \"2.14.2\", \"azureml-dataprep-rslex\": \"1.12.1\", \"azureml-dataprep-native\": \"33.0.0\", \"azureml-datadrift\": \"1.27.0\", \"azureml-core\": \"1.27.0\", \"azureml-contrib-services\": \"1.27.0\", \"azureml-contrib-server\": \"1.27.0\", \"azureml-contrib-reinforcementlearning\": \"1.27.0\", \"azureml-contrib-pipeline-steps\": \"1.27.0\", \"azureml-contrib-notebook\": \"1.27.0\", \"azureml-contrib-gbdt\": \"1.27.0\", \"azureml-contrib-fairness\": \"1.27.0\", \"azureml-contrib-dataset\": \"1.27.0\", \"azureml-cli-common\": \"1.27.0\", \"azureml-automl-runtime\": \"1.27.0\", \"azureml-automl-dnn-nlp\": \"1.27.0\", \"azureml-automl-core\": \"1.27.0\", \"azureml-accel-models\": \"1.27.0\"}',\n",
       "  '_aml_system_scenario_identification': 'Remote.Parent',\n",
       "  'ClientType': 'SDK',\n",
       "  'environment_cpu_name': 'AzureML-AutoML',\n",
       "  'environment_cpu_label': 'prod',\n",
       "  'environment_gpu_name': 'AzureML-AutoML-GPU',\n",
       "  'environment_gpu_label': 'prod',\n",
       "  'root_attribution': 'automl',\n",
       "  'attribution': 'AutoML',\n",
       "  'Orchestrator': 'AutoML',\n",
       "  'CancelUri': 'https://southcentralus.api.azureml.ms/jasmine/v1.0/subscriptions/9e65f93e-bdd8-437b-b1e8-0647cd6098f7/resourceGroups/aml-quickstarts-144967/providers/Microsoft.MachineLearningServices/workspaces/quick-starts-ws-144967/experimentids/8ad3d59c-613a-4ef5-b3e2-4ba6679f5625/cancel/AutoML_0442a08e-f9e7-457b-9333-ea80d4ef6c40',\n",
       "  'ClientSdkVersion': '1.27.0.post1',\n",
       "  'snapshotId': '00000000-0000-0000-0000-000000000000',\n",
       "  'SetupRunId': 'AutoML_0442a08e-f9e7-457b-9333-ea80d4ef6c40_setup',\n",
       "  'SetupRunContainerId': 'dcid.AutoML_0442a08e-f9e7-457b-9333-ea80d4ef6c40_setup',\n",
       "  'FeaturizationRunJsonPath': 'featurizer_container.json',\n",
       "  'FeaturizationRunId': 'AutoML_0442a08e-f9e7-457b-9333-ea80d4ef6c40_featurize',\n",
       "  'ProblemInfoJsonString': '{\"dataset_num_categorical\": 0, \"is_sparse\": true, \"subsampling\": false, \"dataset_classes\": 2, \"dataset_features\": 145, \"dataset_samples\": 4250, \"single_frequency_class_detected\": false}',\n",
       "  'ModelExplainRunId': 'AutoML_0442a08e-f9e7-457b-9333-ea80d4ef6c40_ModelExplain'},\n",
       " 'inputDatasets': [{'dataset': {'id': '05dd38b7-707c-49c6-a238-8607d9a910b3'}, 'consumptionDetails': {'type': 'RunInput', 'inputName': 'training_data', 'mechanism': 'Direct'}}],\n",
       " 'outputDatasets': [],\n",
       " 'logFiles': {},\n",
       " 'submittedBy': 'ODL_User 144967'}"
      ]
     },
     "execution_count": 9,
     "metadata": {},
     "output_type": "execute_result"
    }
   ],
   "source": [
    "from azureml.widgets import RunDetails\n",
    "\n",
    "RunDetails(remote_run).show()\n",
    "remote_run.wait_for_completion(show_output=True)"
   ]
  },
  {
   "cell_type": "markdown",
   "metadata": {},
   "source": [
    "## Best Model\n",
    "\n",
    "TODO: In the cell below, get the best model from the automl experiments and display all the properties of the model.\n",
    "\n"
   ]
  },
  {
   "cell_type": "code",
   "execution_count": 10,
   "metadata": {
    "gather": {
     "logged": 1621013943481
    },
    "jupyter": {
     "outputs_hidden": false,
     "source_hidden": false
    },
    "nteract": {
     "transient": {
      "deleting": false
     }
    }
   },
   "outputs": [
    {
     "name": "stdout",
     "output_type": "stream",
     "text": [
      "Run(Experiment: customer-churn,\n",
      "Id: AutoML_0442a08e-f9e7-457b-9333-ea80d4ef6c40_40,\n",
      "Type: azureml.scriptrun,\n",
      "Status: Completed)\n",
      "Pipeline(memory=None,\n",
      "         steps=[('datatransformer',\n",
      "                 DataTransformer(enable_dnn=None, enable_feature_sweeping=None,\n",
      "                                 feature_sweeping_config=None,\n",
      "                                 feature_sweeping_timeout=None,\n",
      "                                 featurization_config=None, force_text_dnn=None,\n",
      "                                 is_cross_validation=None,\n",
      "                                 is_onnx_compatible=None, logger=None,\n",
      "                                 observer=None, task=None, working_dir=None)),\n",
      "                ('prefittedsoftvotingclassifier',...\n",
      "                                                                                                  min_samples_split=0.01,\n",
      "                                                                                                  min_weight_fraction_leaf=0.0,\n",
      "                                                                                                  n_estimators=50,\n",
      "                                                                                                  n_jobs=1,\n",
      "                                                                                                  oob_score=True,\n",
      "                                                                                                  random_state=None,\n",
      "                                                                                                  verbose=0,\n",
      "                                                                                                  warm_start=False))],\n",
      "                                                                     verbose=False))],\n",
      "                                               flatten_transform=None,\n",
      "                                               weights=[0.13333333333333333,\n",
      "                                                        0.06666666666666667,\n",
      "                                                        0.06666666666666667,\n",
      "                                                        0.2, 0.2,\n",
      "                                                        0.06666666666666667,\n",
      "                                                        0.06666666666666667,\n",
      "                                                        0.06666666666666667,\n",
      "                                                        0.13333333333333333]))],\n",
      "         verbose=False)\n",
      "Y_transformer(['LabelEncoder', LabelEncoder()])\n"
     ]
    }
   ],
   "source": [
    "best_run, best_model = remote_run.get_output()\n",
    "print(best_run)\n",
    "print(best_model)\n",
    "best_run.get_tags()\n",
    "best_run_metrics = best_run.get_metrics()"
   ]
  },
  {
   "cell_type": "code",
   "execution_count": 11,
   "metadata": {
    "gather": {
     "logged": 1621013950679
    },
    "jupyter": {
     "outputs_hidden": false,
     "source_hidden": false
    },
    "nteract": {
     "transient": {
      "deleting": false
     }
    }
   },
   "outputs": [
    {
     "data": {
      "text/plain": [
       "{'precision_score_micro': 0.946587011098751,\n",
       " 'balanced_accuracy': 0.8181500211888206,\n",
       " 'average_precision_score_weighted': 0.9613496087172516,\n",
       " 'precision_score_macro': 0.9583380565502949,\n",
       " 'log_loss': 0.2244902754625339,\n",
       " 'weighted_accuracy': 0.9875809321868324,\n",
       " 'average_precision_score_micro': 0.9669833081290871,\n",
       " 'AUC_micro': 0.9744475762425219,\n",
       " 'recall_score_macro': 0.8181500211888206,\n",
       " 'precision_score_weighted': 0.9479367308030868,\n",
       " 'norm_macro_recall': 0.6363000423776413,\n",
       " 'AUC_macro': 0.9254201474141523,\n",
       " 'accuracy': 0.946587011098751,\n",
       " 'recall_score_weighted': 0.946587011098751,\n",
       " 'matthews_correlation': 0.7636903659411005,\n",
       " 'recall_score_micro': 0.946587011098751,\n",
       " 'f1_score_macro': 0.8706008090723403,\n",
       " 'average_precision_score_macro': 0.9249993513852454,\n",
       " 'f1_score_weighted': 0.9417789209277827,\n",
       " 'f1_score_micro': 0.946587011098751,\n",
       " 'AUC_weighted': 0.9254201474141523,\n",
       " 'accuracy_table': 'aml://artifactId/ExperimentRun/dcid.AutoML_0442a08e-f9e7-457b-9333-ea80d4ef6c40_40/accuracy_table',\n",
       " 'confusion_matrix': 'aml://artifactId/ExperimentRun/dcid.AutoML_0442a08e-f9e7-457b-9333-ea80d4ef6c40_40/confusion_matrix'}"
      ]
     },
     "execution_count": 11,
     "metadata": {},
     "output_type": "execute_result"
    }
   ],
   "source": [
    "best_run_metrics"
   ]
  },
  {
   "cell_type": "markdown",
   "metadata": {},
   "source": [
    "## Model Deployment\n",
    "\n",
    "Since this model resulted in a better primary metric than the custom-coded model with optimized hypterparameters, I deployed this model.\n",
    "\n",
    "In the cell below, I register the model, create an inference config and deploy the model as a web service."
   ]
  },
  {
   "cell_type": "code",
   "execution_count": 12,
   "metadata": {
    "gather": {
     "logged": 1621013972997
    },
    "jupyter": {
     "outputs_hidden": false,
     "source_hidden": false
    },
    "nteract": {
     "transient": {
      "deleting": false
     }
    }
   },
   "outputs": [
    {
     "name": "stdout",
     "output_type": "stream",
     "text": [
      "Model(workspace=Workspace.create(name='quick-starts-ws-144967', subscription_id='9e65f93e-bdd8-437b-b1e8-0647cd6098f7', resource_group='aml-quickstarts-144967'), name=model, id=model:1, version=1, tags={'Training context': 'Auto ML'}, properties={'AUC': '0.9254201474141523'})\n"
     ]
    }
   ],
   "source": [
    "from azureml.core import Model\n",
    "\n",
    "# Register model\n",
    "model = best_run.register_model(model_path='outputs/model.pkl', model_name='model',\n",
    "                        tags={'Training context':'Auto ML'},\n",
    "                        properties={'AUC': best_run_metrics['AUC_weighted']})\n",
    "\n",
    "print(model)"
   ]
  },
  {
   "cell_type": "code",
   "execution_count": 14,
   "metadata": {
    "gather": {
     "logged": 1621013979267
    },
    "jupyter": {
     "outputs_hidden": false,
     "source_hidden": false
    },
    "nteract": {
     "transient": {
      "deleting": false
     }
    }
   },
   "outputs": [],
   "source": [
    "# create inference_config\n",
    "from azureml.core.model import InferenceConfig\n",
    "from azureml.core.environment import Environment\n",
    "\n",
    "env = best_run.get_environment()\n",
    "env.save_to_directory('./env-dependencies.yml')\n",
    "\n",
    "inference_config = InferenceConfig(entry_script=\"scoring.py\", environment=env )"
   ]
  },
  {
   "cell_type": "code",
   "execution_count": 17,
   "metadata": {
    "collapsed": true,
    "gather": {
     "logged": 1621013982060
    },
    "jupyter": {
     "outputs_hidden": false,
     "source_hidden": false
    },
    "nteract": {
     "transient": {
      "deleting": false
     }
    }
   },
   "outputs": [],
   "source": [
    "from azureml.core.webservice import Webservice, AciWebservice\n",
    "deployment_config = AciWebservice.deploy_configuration(cpu_cores=1, memory_gb = 1)"
   ]
  },
  {
   "cell_type": "code",
   "execution_count": 18,
   "metadata": {
    "collapsed": true,
    "gather": {
     "logged": 1621014190595
    },
    "jupyter": {
     "outputs_hidden": false,
     "source_hidden": false
    },
    "nteract": {
     "transient": {
      "deleting": false
     }
    }
   },
   "outputs": [
    {
     "name": "stdout",
     "output_type": "stream",
     "text": [
      "Tips: You can try get_logs(): https://aka.ms/debugimage#dockerlog or local deployment: https://aka.ms/debugimage#debug-locally to debug if deployment takes longer than 10 minutes.\n",
      "Running\n",
      "2021-05-14 17:39:49+00:00 Creating Container Registry if not exists.\n",
      "2021-05-14 17:39:50+00:00 Registering the environment.\n",
      "2021-05-14 17:39:50+00:00 Use the existing image.\n",
      "2021-05-14 17:39:50+00:00 Generating deployment configuration.\n",
      "2021-05-14 17:39:52+00:00 Submitting deployment to compute.\n",
      "2021-05-14 17:39:54+00:00 Checking the status of deployment deploy-service..\n",
      "2021-05-14 17:43:06+00:00 Checking the status of inference endpoint deploy-service.\n",
      "Succeeded\n",
      "ACI service creation operation finished, operation \"Succeeded\"\n"
     ]
    }
   ],
   "source": [
    "service=Model.deploy(workspace=ws,\n",
    "                    name=\"deploy-service\",\n",
    "                    models=[model],\n",
    "                    inference_config=inference_config,\n",
    "                    deployment_config=deployment_config)\n",
    "service.wait_for_deployment(show_output=True)"
   ]
  },
  {
   "cell_type": "code",
   "execution_count": 19,
   "metadata": {
    "gather": {
     "logged": 1621014228653
    },
    "jupyter": {
     "outputs_hidden": false,
     "source_hidden": false
    },
    "nteract": {
     "transient": {
      "deleting": false
     }
    }
   },
   "outputs": [
    {
     "name": "stdout",
     "output_type": "stream",
     "text": [
      "\n",
      "service state: Healthy\n",
      "\n",
      "scoring URI: \n",
      "http://974ba161-2a5c-430e-95fb-c052de047cd6.southcentralus.azurecontainer.io/score\n",
      "\n",
      "swagger URI: \n",
      "http://974ba161-2a5c-430e-95fb-c052de047cd6.southcentralus.azurecontainer.io/swagger.json\n",
      "\n",
      "http://974ba161-2a5c-430e-95fb-c052de047cd6.southcentralus.azurecontainer.io/score\n",
      "http://974ba161-2a5c-430e-95fb-c052de047cd6.southcentralus.azurecontainer.io/swagger.json\n"
     ]
    }
   ],
   "source": [
    "scoring_uri = service.scoring_uri\n",
    "\n",
    "print(f'\\nservice state: {service.state}\\n')\n",
    "print(f'scoring URI: \\n{service.scoring_uri}\\n')\n",
    "print(f'swagger URI: \\n{service.swagger_uri}\\n')\n",
    "\n",
    "print(service.scoring_uri)\n",
    "print(service.swagger_uri)"
   ]
  },
  {
   "cell_type": "markdown",
   "metadata": {
    "collapsed": true,
    "gather": {
     "logged": 1598431657736
    },
    "jupyter": {
     "outputs_hidden": false,
     "source_hidden": false
    },
    "nteract": {
     "transient": {
      "deleting": false
     }
    }
   },
   "source": [
    "TODO: In the cell below, send a request to the web service you deployed to test it."
   ]
  },
  {
   "cell_type": "code",
   "execution_count": 20,
   "metadata": {
    "collapsed": true,
    "gather": {
     "logged": 1621014231543
    },
    "jupyter": {
     "outputs_hidden": false,
     "source_hidden": false
    },
    "nteract": {
     "transient": {
      "deleting": false
     }
    }
   },
   "outputs": [
    {
     "data": {
      "text/plain": [
       "Index(['state', 'account_length', 'area_code', 'international_plan',\n",
       "       'voice_mail_plan', 'number_vmail_messages', 'total_day_minutes',\n",
       "       'total_day_calls', 'total_day_charge', 'total_eve_minutes',\n",
       "       'total_eve_calls', 'total_eve_charge', 'total_night_minutes',\n",
       "       'total_night_calls', 'total_night_charge', 'total_intl_minutes',\n",
       "       'total_intl_calls', 'total_intl_charge',\n",
       "       'number_customer_service_calls', 'churn'],\n",
       "      dtype='object')"
      ]
     },
     "execution_count": 20,
     "metadata": {},
     "output_type": "execute_result"
    }
   ],
   "source": [
    "df.columns"
   ]
  },
  {
   "cell_type": "code",
   "execution_count": 21,
   "metadata": {
    "collapsed": true,
    "gather": {
     "logged": 1621014235575
    },
    "jupyter": {
     "outputs_hidden": false,
     "source_hidden": false
    },
    "nteract": {
     "transient": {
      "deleting": false
     }
    }
   },
   "outputs": [
    {
     "name": "stdout",
     "output_type": "stream",
     "text": [
      "Status Code:  200\n",
      "Predicted value:  [\"no\", \"no\"]\n"
     ]
    }
   ],
   "source": [
    "\n",
    "import requests\n",
    "import json\n",
    "\n",
    "data={\"data\":\n",
    "  [{\n",
    "     'state': \"OH\", 'account_length': 100, 'area_code': \"area_code_415\", 'international_plan':\"no\",\n",
    "       'voice_mail_plan': \"no\", 'number_vmail_messages': 26 , 'total_day_minutes': 123.0,\n",
    "       'total_day_calls': 42, 'total_day_charge': 42.0, 'total_eve_minutes': 42.0,\n",
    "       'total_eve_calls': 42, 'total_eve_charge': 42.0, 'total_night_minutes': 42.0,\n",
    "       'total_night_calls': 42, 'total_night_charge': 42.0, 'total_intl_minutes': 42.0,\n",
    "       'total_intl_calls': 42, 'total_intl_charge': 42.0,\n",
    "       'number_customer_service_calls': 42\n",
    "     }, {\n",
    "     'state': \"OH\", 'account_length': 100, 'area_code': \"area_code_415\", 'international_plan':\"no\",\n",
    "       'voice_mail_plan': \"no\", 'number_vmail_messages': 26 , 'total_day_minutes': 123.0,\n",
    "       'total_day_calls': 42, 'total_day_charge': 42.0, 'total_eve_minutes': 42.0,\n",
    "       'total_eve_calls': 42, 'total_eve_charge': 42.0, 'total_night_minutes': 42.0,\n",
    "       'total_night_calls': 42, 'total_night_charge': 42.0, 'total_intl_minutes': 42.0,\n",
    "       'total_intl_calls': 42, 'total_intl_charge': 42.0,\n",
    "       'number_customer_service_calls': 42\n",
    "     }\n",
    "     ]\n",
    "  }\n",
    "\n",
    "input_data=json.dumps(data)\n",
    "\n",
    "headers={'Content-Type':'application/json'}\n",
    "\n",
    "result=requests.post(scoring_uri, input_data, headers=headers)\n",
    "print(\"Status Code: \", result.status_code)\n",
    "print(\"Predicted value: \",result.text)"
   ]
  },
  {
   "cell_type": "markdown",
   "metadata": {
    "collapsed": true,
    "gather": {
     "logged": 1598432765711
    },
    "jupyter": {
     "outputs_hidden": false,
     "source_hidden": false
    },
    "nteract": {
     "transient": {
      "deleting": false
     }
    }
   },
   "source": [
    "In the cell below, I print the logs of the web service and delete the service"
   ]
  },
  {
   "cell_type": "code",
   "execution_count": 22,
   "metadata": {
    "gather": {
     "logged": 1621015905452
    },
    "jupyter": {
     "outputs_hidden": false,
     "source_hidden": false
    },
    "nteract": {
     "transient": {
      "deleting": false
     }
    }
   },
   "outputs": [],
   "source": [
    "service.delete()"
   ]
  }
 ],
 "metadata": {
  "kernel_info": {
   "name": "python3"
  },
  "kernelspec": {
   "display_name": "Python 3",
   "language": "python",
   "name": "python3"
  },
  "language_info": {
   "codemirror_mode": {
    "name": "ipython",
    "version": 3
   },
   "file_extension": ".py",
   "mimetype": "text/x-python",
   "name": "python",
   "nbconvert_exporter": "python",
   "pygments_lexer": "ipython3",
   "version": "3.6.9"
  },
  "microsoft": {
   "host": {
    "AzureML": {
     "notebookHasBeenCompleted": true
    }
   }
  },
  "nteract": {
   "version": "nteract-front-end@1.0.0"
  }
 },
 "nbformat": 4,
 "nbformat_minor": 2
}