{
  "cells": [
    {
      "cell_type": "markdown",
      "source": [
        "# Automated ML\n",
        "\n",
        "TODO: Import Dependencies. In the cell below, import all the dependencies that you will need to complete the project."
      ],
      "metadata": {}
    },
    {
      "cell_type": "code",
      "source": [
        "import logging\r\n",
        "import os\r\n",
        "import csv\r\n",
        "\r\n",
        "from matplotlib import pyplot as plt\r\n",
        "import numpy as np\r\n",
        "import pandas as pd\r\n",
        "from sklearn import datasets\r\n",
        "import pkg_resources\r\n",
        "\r\n",
        "import azureml.core\r\n",
        "from azureml.core.experiment import Experiment\r\n",
        "from azureml.core.workspace import Workspace\r\n",
        "from azureml.train.automl import AutoMLConfig\r\n",
        "from azureml.core.dataset import Dataset\r\n",
        "\r\n",
        "from azureml.pipeline.steps import AutoMLStep\r\n",
        "\r\n",
        "# Check core SDK version number\r\n",
        "print(\"SDK version:\", azureml.core.VERSION)"
      ],
      "outputs": [
        {
          "output_type": "stream",
          "name": "stdout",
          "text": [
            "SDK version: 1.27.0\n"
          ]
        }
      ],
      "execution_count": 1,
      "metadata": {
        "gather": {
          "logged": 1621012419676
        },
        "jupyter": {
          "outputs_hidden": false,
          "source_hidden": false
        },
        "nteract": {
          "transient": {
            "deleting": false
          }
        }
      }
    },
    {
      "cell_type": "code",
      "source": [
        "ws = Workspace.from_config()\n",
        "\n",
        "experiment_name = 'customer-churn'\n",
        "project_folder = './pipeline-project'\n",
        "\n",
        "experiment=Experiment(ws, experiment_name)\n",
        "experiment"
      ],
      "outputs": [
        {
          "output_type": "execute_result",
          "execution_count": 2,
          "data": {
            "text/plain": "Experiment(Name: customer-churn,\nWorkspace: quick-starts-ws-144814)",
            "text/html": "<table style=\"width:100%\"><tr><th>Name</th><th>Workspace</th><th>Report Page</th><th>Docs Page</th></tr><tr><td>customer-churn</td><td>quick-starts-ws-144814</td><td><a href=\"https://ml.azure.com/experiments/id/7ee04062-a696-42ee-bf34-a4e3979000df?wsid=/subscriptions/3e42d11f-d64d-4173-af9b-12ecaa1030b3/resourcegroups/aml-quickstarts-144814/workspaces/quick-starts-ws-144814&amp;tid=660b3398-b80e-49d2-bc5b-ac1dc93b5254\" target=\"_blank\" rel=\"noopener\">Link to Azure Machine Learning studio</a></td><td><a href=\"https://docs.microsoft.com/en-us/python/api/azureml-core/azureml.core.experiment.Experiment?view=azure-ml-py\" target=\"_blank\" rel=\"noopener\">Link to Documentation</a></td></tr></table>"
          },
          "metadata": {}
        }
      ],
      "execution_count": 2,
      "metadata": {
        "gather": {
          "logged": 1621012421235
        },
        "jupyter": {
          "outputs_hidden": false,
          "source_hidden": false
        },
        "nteract": {
          "transient": {
            "deleting": false
          }
        }
      }
    },
    {
      "cell_type": "markdown",
      "source": [
        "## Create or Attach an AmlCompute Cluster"
      ],
      "metadata": {
        "nteract": {
          "transient": {
            "deleting": false
          }
        }
      }
    },
    {
      "cell_type": "code",
      "source": [
        "from azureml.core.compute import AmlCompute\r\n",
        "from azureml.core.compute import ComputeTarget\r\n",
        "from azureml.core.compute_target import ComputeTargetException\r\n",
        "\r\n",
        "# NOTE: update the cluster name to match the existing cluster\r\n",
        "# Choose a name for your CPU cluster\r\n",
        "amlcompute_cluster_name = \"capstone-cluster\"\r\n",
        "\r\n",
        "# Verify that cluster does not exist already\r\n",
        "try:\r\n",
        "    compute_target = ComputeTarget(workspace=ws, name=amlcompute_cluster_name)\r\n",
        "    print('Found existing cluster, use it.')\r\n",
        "except ComputeTargetException:\r\n",
        "    compute_config = AmlCompute.provisioning_configuration(vm_size='STANDARD_D2_V2',# for GPU, use \"STANDARD_NC6\"\r\n",
        "                                                           #vm_priority = 'lowpriority', # optional\r\n",
        "                                                           max_nodes=4)\r\n",
        "    compute_target = ComputeTarget.create(ws, amlcompute_cluster_name, compute_config)\r\n",
        "\r\n",
        "compute_target.wait_for_completion(show_output=True, min_node_count = 1, timeout_in_minutes = 10)\r\n",
        "# For a more detailed view of current AmlCompute status, use get_status()."
      ],
      "outputs": [
        {
          "output_type": "stream",
          "name": "stdout",
          "text": [
            "Found existing cluster, use it.\n",
            "Succeeded\n",
            "AmlCompute wait for completion finished\n",
            "\n",
            "Minimum number of nodes requested have been provisioned\n"
          ]
        }
      ],
      "execution_count": 4,
      "metadata": {
        "collapsed": true,
        "jupyter": {
          "source_hidden": false,
          "outputs_hidden": false
        },
        "nteract": {
          "transient": {
            "deleting": false
          }
        },
        "gather": {
          "logged": 1621012431132
        }
      }
    },
    {
      "cell_type": "markdown",
      "source": [
        "## Dataset\n",
        "\n",
        "### Overview\n",
        "This notebook is used to predict whether a customer will change telecommunications provider, something known as \"churning\".\n",
        "\n",
        "The dataset is part of the Kaggle Customer Churn Prediction 2020 (https://www.kaggle.com/c/customer-churn-prediction-2020/overview).\n",
        "\n",
        "The training dataset contains 4250 samples. Each sample contains 19 features and 1 boolean variable \"churn\" which indicates the class of the sample. The 19 input features and 1 target variable are:\n",
        "\n",
        "\"state\", string. 2-letter code of the US state of customer residence\n",
        "\"account_length\", numerical. Number of months the customer has been with the current telco provider\n",
        "\"area_code\", string=\"area_code_AAA\" where AAA = 3 digit area code.\n",
        "\"international_plan\", . The customer has international plan.\n",
        "\"voice_mail_plan\", . The customer has voice mail plan.\n",
        "\"number_vmail_messages\", numerical. Number of voice-mail messages.\n",
        "\"total_day_minutes\", numerical. Total minutes of day calls.\n",
        "\"total_day_calls\", numerical. Total minutes of day calls.\n",
        "\"total_day_charge\", numerical. Total charge of day calls.\n",
        "\"total_eve_minutes\", numerical. Total minutes of evening calls.\n",
        "\"total_eve_calls\", numerical. Total number of evening calls.\n",
        "\"total_eve_charge\", numerical. Total charge of evening calls.\n",
        "\"total_night_minutes\", numerical. Total minutes of night calls.\n",
        "\"total_night_calls\", numerical. Total number of night calls.\n",
        "\"total_night_charge\", numerical. Total charge of night calls.\n",
        "\"total_intl_minutes\", numerical. Total minutes of international calls.\n",
        "\"total_intl_calls\", numerical. Total number of international calls.\n",
        "\"total_intl_charge\", numerical. Total charge of international calls\n",
        "\"number_customer_service_calls\", numerical. Number of calls to customer service\n",
        "\"churn\", . Customer churn - target variable.\n",
        "\n"
      ],
      "metadata": {}
    },
    {
      "cell_type": "code",
      "source": [
        "# Try to load the dataset from the Workspace. \r\n",
        "found = False\r\n",
        "key = \"customer-churn\"\r\n",
        "\r\n",
        "if key in ws.datasets.keys(): \r\n",
        "        found = True\r\n",
        "        dataset = ws.datasets[key] \r\n",
        "\r\n",
        "df = dataset.to_pandas_dataframe()\r\n",
        "df.describe()"
      ],
      "outputs": [
        {
          "output_type": "execute_result",
          "execution_count": 5,
          "data": {
            "text/plain": "       account_length  number_vmail_messages  total_day_minutes  \\\ncount     4250.000000            4250.000000        4250.000000   \nmean       100.236235               7.631765         180.259600   \nstd         39.698401              13.439882          54.012373   \nmin          1.000000               0.000000           0.000000   \n25%         73.000000               0.000000         143.325000   \n50%        100.000000               0.000000         180.450000   \n75%        127.000000              16.000000         216.200000   \nmax        243.000000              52.000000         351.500000   \n\n       total_day_calls  total_day_charge  total_eve_minutes  total_eve_calls  \\\ncount      4250.000000       4250.000000        4250.000000      4250.000000   \nmean         99.907294         30.644682         200.173906       100.176471   \nstd          19.850817          9.182096          50.249518        19.908591   \nmin           0.000000          0.000000           0.000000         0.000000   \n25%          87.000000         24.365000         165.925000        87.000000   \n50%         100.000000         30.680000         200.700000       100.000000   \n75%         113.000000         36.750000         233.775000       114.000000   \nmax         165.000000         59.760000         359.300000       170.000000   \n\n       total_eve_charge  total_night_minutes  total_night_calls  \\\ncount       4250.000000          4250.000000        4250.000000   \nmean          17.015012           200.527882          99.839529   \nstd            4.271212            50.353548          20.093220   \nmin            0.000000             0.000000           0.000000   \n25%           14.102500           167.225000          86.000000   \n50%           17.060000           200.450000         100.000000   \n75%           19.867500           234.700000         113.000000   \nmax           30.540000           395.000000         175.000000   \n\n       total_night_charge  total_intl_minutes  total_intl_calls  \\\ncount         4250.000000         4250.000000       4250.000000   \nmean             9.023892           10.256071          4.426353   \nstd              2.265922            2.760102          2.463069   \nmin              0.000000            0.000000          0.000000   \n25%              7.522500            8.500000          3.000000   \n50%              9.020000           10.300000          4.000000   \n75%             10.560000           12.000000          6.000000   \nmax             17.770000           20.000000         20.000000   \n\n       total_intl_charge  number_customer_service_calls  \ncount        4250.000000                    4250.000000  \nmean            2.769654                       1.559059  \nstd             0.745204                       1.311434  \nmin             0.000000                       0.000000  \n25%             2.300000                       1.000000  \n50%             2.780000                       1.000000  \n75%             3.240000                       2.000000  \nmax             5.400000                       9.000000  ",
            "text/html": "<div>\n<style scoped>\n    .dataframe tbody tr th:only-of-type {\n        vertical-align: middle;\n    }\n\n    .dataframe tbody tr th {\n        vertical-align: top;\n    }\n\n    .dataframe thead th {\n        text-align: right;\n    }\n</style>\n<table border=\"1\" class=\"dataframe\">\n  <thead>\n    <tr style=\"text-align: right;\">\n      <th></th>\n      <th>account_length</th>\n      <th>number_vmail_messages</th>\n      <th>total_day_minutes</th>\n      <th>total_day_calls</th>\n      <th>total_day_charge</th>\n      <th>total_eve_minutes</th>\n      <th>total_eve_calls</th>\n      <th>total_eve_charge</th>\n      <th>total_night_minutes</th>\n      <th>total_night_calls</th>\n      <th>total_night_charge</th>\n      <th>total_intl_minutes</th>\n      <th>total_intl_calls</th>\n      <th>total_intl_charge</th>\n      <th>number_customer_service_calls</th>\n    </tr>\n  </thead>\n  <tbody>\n    <tr>\n      <th>count</th>\n      <td>4250.000000</td>\n      <td>4250.000000</td>\n      <td>4250.000000</td>\n      <td>4250.000000</td>\n      <td>4250.000000</td>\n      <td>4250.000000</td>\n      <td>4250.000000</td>\n      <td>4250.000000</td>\n      <td>4250.000000</td>\n      <td>4250.000000</td>\n      <td>4250.000000</td>\n      <td>4250.000000</td>\n      <td>4250.000000</td>\n      <td>4250.000000</td>\n      <td>4250.000000</td>\n    </tr>\n    <tr>\n      <th>mean</th>\n      <td>100.236235</td>\n      <td>7.631765</td>\n      <td>180.259600</td>\n      <td>99.907294</td>\n      <td>30.644682</td>\n      <td>200.173906</td>\n      <td>100.176471</td>\n      <td>17.015012</td>\n      <td>200.527882</td>\n      <td>99.839529</td>\n      <td>9.023892</td>\n      <td>10.256071</td>\n      <td>4.426353</td>\n      <td>2.769654</td>\n      <td>1.559059</td>\n    </tr>\n    <tr>\n      <th>std</th>\n      <td>39.698401</td>\n      <td>13.439882</td>\n      <td>54.012373</td>\n      <td>19.850817</td>\n      <td>9.182096</td>\n      <td>50.249518</td>\n      <td>19.908591</td>\n      <td>4.271212</td>\n      <td>50.353548</td>\n      <td>20.093220</td>\n      <td>2.265922</td>\n      <td>2.760102</td>\n      <td>2.463069</td>\n      <td>0.745204</td>\n      <td>1.311434</td>\n    </tr>\n    <tr>\n      <th>min</th>\n      <td>1.000000</td>\n      <td>0.000000</td>\n      <td>0.000000</td>\n      <td>0.000000</td>\n      <td>0.000000</td>\n      <td>0.000000</td>\n      <td>0.000000</td>\n      <td>0.000000</td>\n      <td>0.000000</td>\n      <td>0.000000</td>\n      <td>0.000000</td>\n      <td>0.000000</td>\n      <td>0.000000</td>\n      <td>0.000000</td>\n      <td>0.000000</td>\n    </tr>\n    <tr>\n      <th>25%</th>\n      <td>73.000000</td>\n      <td>0.000000</td>\n      <td>143.325000</td>\n      <td>87.000000</td>\n      <td>24.365000</td>\n      <td>165.925000</td>\n      <td>87.000000</td>\n      <td>14.102500</td>\n      <td>167.225000</td>\n      <td>86.000000</td>\n      <td>7.522500</td>\n      <td>8.500000</td>\n      <td>3.000000</td>\n      <td>2.300000</td>\n      <td>1.000000</td>\n    </tr>\n    <tr>\n      <th>50%</th>\n      <td>100.000000</td>\n      <td>0.000000</td>\n      <td>180.450000</td>\n      <td>100.000000</td>\n      <td>30.680000</td>\n      <td>200.700000</td>\n      <td>100.000000</td>\n      <td>17.060000</td>\n      <td>200.450000</td>\n      <td>100.000000</td>\n      <td>9.020000</td>\n      <td>10.300000</td>\n      <td>4.000000</td>\n      <td>2.780000</td>\n      <td>1.000000</td>\n    </tr>\n    <tr>\n      <th>75%</th>\n      <td>127.000000</td>\n      <td>16.000000</td>\n      <td>216.200000</td>\n      <td>113.000000</td>\n      <td>36.750000</td>\n      <td>233.775000</td>\n      <td>114.000000</td>\n      <td>19.867500</td>\n      <td>234.700000</td>\n      <td>113.000000</td>\n      <td>10.560000</td>\n      <td>12.000000</td>\n      <td>6.000000</td>\n      <td>3.240000</td>\n      <td>2.000000</td>\n    </tr>\n    <tr>\n      <th>max</th>\n      <td>243.000000</td>\n      <td>52.000000</td>\n      <td>351.500000</td>\n      <td>165.000000</td>\n      <td>59.760000</td>\n      <td>359.300000</td>\n      <td>170.000000</td>\n      <td>30.540000</td>\n      <td>395.000000</td>\n      <td>175.000000</td>\n      <td>17.770000</td>\n      <td>20.000000</td>\n      <td>20.000000</td>\n      <td>5.400000</td>\n      <td>9.000000</td>\n    </tr>\n  </tbody>\n</table>\n</div>"
          },
          "metadata": {}
        }
      ],
      "execution_count": 5,
      "metadata": {
        "collapsed": true,
        "jupyter": {
          "source_hidden": false,
          "outputs_hidden": false
        },
        "nteract": {
          "transient": {
            "deleting": false
          }
        },
        "gather": {
          "logged": 1621012443820
        }
      }
    },
    {
      "cell_type": "code",
      "source": [
        "df.head(5)"
      ],
      "outputs": [
        {
          "output_type": "execute_result",
          "execution_count": 6,
          "data": {
            "text/plain": "  state  account_length      area_code international_plan voice_mail_plan  \\\n0    OH             107  area_code_415                 no             yes   \n1    NJ             137  area_code_415                 no              no   \n2    OH              84  area_code_408                yes              no   \n3    OK              75  area_code_415                yes              no   \n4    MA             121  area_code_510                 no             yes   \n\n   number_vmail_messages  total_day_minutes  total_day_calls  \\\n0                     26              161.6              123   \n1                      0              243.4              114   \n2                      0              299.4               71   \n3                      0              166.7              113   \n4                     24              218.2               88   \n\n   total_day_charge  total_eve_minutes  total_eve_calls  total_eve_charge  \\\n0             27.47              195.5              103             16.62   \n1             41.38              121.2              110             10.30   \n2             50.90               61.9               88              5.26   \n3             28.34              148.3              122             12.61   \n4             37.09              348.5              108             29.62   \n\n   total_night_minutes  total_night_calls  total_night_charge  \\\n0                254.4                103               11.45   \n1                162.6                104                7.32   \n2                196.9                 89                8.86   \n3                186.9                121                8.41   \n4                212.6                118                9.57   \n\n   total_intl_minutes  total_intl_calls  total_intl_charge  \\\n0                13.7                 3               3.70   \n1                12.2                 5               3.29   \n2                 6.6                 7               1.78   \n3                10.1                 3               2.73   \n4                 7.5                 7               2.03   \n\n   number_customer_service_calls churn  \n0                              1    no  \n1                              0    no  \n2                              2    no  \n3                              3    no  \n4                              3    no  ",
            "text/html": "<div>\n<style scoped>\n    .dataframe tbody tr th:only-of-type {\n        vertical-align: middle;\n    }\n\n    .dataframe tbody tr th {\n        vertical-align: top;\n    }\n\n    .dataframe thead th {\n        text-align: right;\n    }\n</style>\n<table border=\"1\" class=\"dataframe\">\n  <thead>\n    <tr style=\"text-align: right;\">\n      <th></th>\n      <th>state</th>\n      <th>account_length</th>\n      <th>area_code</th>\n      <th>international_plan</th>\n      <th>voice_mail_plan</th>\n      <th>number_vmail_messages</th>\n      <th>total_day_minutes</th>\n      <th>total_day_calls</th>\n      <th>total_day_charge</th>\n      <th>total_eve_minutes</th>\n      <th>total_eve_calls</th>\n      <th>total_eve_charge</th>\n      <th>total_night_minutes</th>\n      <th>total_night_calls</th>\n      <th>total_night_charge</th>\n      <th>total_intl_minutes</th>\n      <th>total_intl_calls</th>\n      <th>total_intl_charge</th>\n      <th>number_customer_service_calls</th>\n      <th>churn</th>\n    </tr>\n  </thead>\n  <tbody>\n    <tr>\n      <th>0</th>\n      <td>OH</td>\n      <td>107</td>\n      <td>area_code_415</td>\n      <td>no</td>\n      <td>yes</td>\n      <td>26</td>\n      <td>161.6</td>\n      <td>123</td>\n      <td>27.47</td>\n      <td>195.5</td>\n      <td>103</td>\n      <td>16.62</td>\n      <td>254.4</td>\n      <td>103</td>\n      <td>11.45</td>\n      <td>13.7</td>\n      <td>3</td>\n      <td>3.70</td>\n      <td>1</td>\n      <td>no</td>\n    </tr>\n    <tr>\n      <th>1</th>\n      <td>NJ</td>\n      <td>137</td>\n      <td>area_code_415</td>\n      <td>no</td>\n      <td>no</td>\n      <td>0</td>\n      <td>243.4</td>\n      <td>114</td>\n      <td>41.38</td>\n      <td>121.2</td>\n      <td>110</td>\n      <td>10.30</td>\n      <td>162.6</td>\n      <td>104</td>\n      <td>7.32</td>\n      <td>12.2</td>\n      <td>5</td>\n      <td>3.29</td>\n      <td>0</td>\n      <td>no</td>\n    </tr>\n    <tr>\n      <th>2</th>\n      <td>OH</td>\n      <td>84</td>\n      <td>area_code_408</td>\n      <td>yes</td>\n      <td>no</td>\n      <td>0</td>\n      <td>299.4</td>\n      <td>71</td>\n      <td>50.90</td>\n      <td>61.9</td>\n      <td>88</td>\n      <td>5.26</td>\n      <td>196.9</td>\n      <td>89</td>\n      <td>8.86</td>\n      <td>6.6</td>\n      <td>7</td>\n      <td>1.78</td>\n      <td>2</td>\n      <td>no</td>\n    </tr>\n    <tr>\n      <th>3</th>\n      <td>OK</td>\n      <td>75</td>\n      <td>area_code_415</td>\n      <td>yes</td>\n      <td>no</td>\n      <td>0</td>\n      <td>166.7</td>\n      <td>113</td>\n      <td>28.34</td>\n      <td>148.3</td>\n      <td>122</td>\n      <td>12.61</td>\n      <td>186.9</td>\n      <td>121</td>\n      <td>8.41</td>\n      <td>10.1</td>\n      <td>3</td>\n      <td>2.73</td>\n      <td>3</td>\n      <td>no</td>\n    </tr>\n    <tr>\n      <th>4</th>\n      <td>MA</td>\n      <td>121</td>\n      <td>area_code_510</td>\n      <td>no</td>\n      <td>yes</td>\n      <td>24</td>\n      <td>218.2</td>\n      <td>88</td>\n      <td>37.09</td>\n      <td>348.5</td>\n      <td>108</td>\n      <td>29.62</td>\n      <td>212.6</td>\n      <td>118</td>\n      <td>9.57</td>\n      <td>7.5</td>\n      <td>7</td>\n      <td>2.03</td>\n      <td>3</td>\n      <td>no</td>\n    </tr>\n  </tbody>\n</table>\n</div>"
          },
          "metadata": {}
        }
      ],
      "execution_count": 6,
      "metadata": {
        "collapsed": true,
        "jupyter": {
          "source_hidden": false,
          "outputs_hidden": false
        },
        "nteract": {
          "transient": {
            "deleting": false
          }
        },
        "gather": {
          "logged": 1621012447083
        }
      }
    },
    {
      "cell_type": "markdown",
      "source": [
        "## AutoML Configuration\n",
        "\n",
        "The AutoML experiment will timeout after 20 minutes and uses a maximum of 5 concurrent iterations. It is, however, very possible to adjust those parameters (though a deep learning experiment has a limit of 24 hours).\n",
        "The primary metric is AUC_weighted (area under the curve weighted), which is the metric I want to optimize. The best-fit model will be chosen based on this metric. The binary classification predicts, whether a customer is going to leave the company or not (given in the lab column \"churn\"). \n",
        "Early stopping is enabled if the score is not improving in the short term."
      ],
      "metadata": {}
    },
    {
      "cell_type": "code",
      "source": [
        "automl_settings = {\n",
        "    \"experiment_timeout_minutes\": 20,\n",
        "    \"max_concurrent_iterations\": 5,\n",
        "    \"primary_metric\" : 'AUC_weighted'\n",
        "}\n",
        "automl_config = AutoMLConfig(compute_target=compute_target,\n",
        "                             task = \"classification\",\n",
        "                             training_data=dataset,\n",
        "                             label_column_name=\"churn\",   \n",
        "                             path = project_folder,\n",
        "                             enable_early_stopping= True,\n",
        "                             featurization= 'auto',\n",
        "                             debug_log = \"automl_errors.log\",\n",
        "                             **automl_settings\n",
        "                            )"
      ],
      "outputs": [],
      "execution_count": 7,
      "metadata": {
        "gather": {
          "logged": 1621012450712
        },
        "jupyter": {
          "outputs_hidden": false,
          "source_hidden": false
        },
        "nteract": {
          "transient": {
            "deleting": false
          }
        }
      }
    },
    {
      "cell_type": "code",
      "source": [
        "# TODO: Submit your experiment\n",
        "remote_run = experiment.submit(automl_config)"
      ],
      "outputs": [
        {
          "output_type": "stream",
          "name": "stdout",
          "text": [
            "Submitting remote run.\n"
          ]
        },
        {
          "output_type": "display_data",
          "data": {
            "text/plain": "<IPython.core.display.HTML object>",
            "text/html": "<table style=\"width:100%\"><tr><th>Experiment</th><th>Id</th><th>Type</th><th>Status</th><th>Details Page</th><th>Docs Page</th></tr><tr><td>customer-churn</td><td>AutoML_0d720723-98c3-40bc-84a4-3dd30dacafef</td><td>automl</td><td>NotStarted</td><td><a href=\"https://ml.azure.com/runs/AutoML_0d720723-98c3-40bc-84a4-3dd30dacafef?wsid=/subscriptions/3e42d11f-d64d-4173-af9b-12ecaa1030b3/resourcegroups/aml-quickstarts-144814/workspaces/quick-starts-ws-144814&amp;tid=660b3398-b80e-49d2-bc5b-ac1dc93b5254\" target=\"_blank\" rel=\"noopener\">Link to Azure Machine Learning studio</a></td><td><a href=\"https://docs.microsoft.com/en-us/python/api/overview/azure/ml/intro?view=azure-ml-py\" target=\"_blank\" rel=\"noopener\">Link to Documentation</a></td></tr></table>"
          },
          "metadata": {}
        }
      ],
      "execution_count": 8,
      "metadata": {
        "gather": {
          "logged": 1621012459767
        },
        "jupyter": {
          "outputs_hidden": false,
          "source_hidden": false
        },
        "nteract": {
          "transient": {
            "deleting": false
          }
        }
      }
    },
    {
      "cell_type": "markdown",
      "source": [
        "## Run Details\n",
        "\n",
        "OPTIONAL: Write about the different models trained and their performance. Why do you think some models did better than others?\n",
        "\n",
        "TODO: In the cell below, use the `RunDetails` widget to show the different experiments."
      ],
      "metadata": {}
    },
    {
      "cell_type": "code",
      "source": [
        "from azureml.widgets import RunDetails\r\n",
        "\r\n",
        "RunDetails(remote_run).show()\r\n",
        "remote_run.wait_for_completion(show_output=True)"
      ],
      "outputs": [
        {
          "output_type": "stream",
          "name": "stdout",
          "text": [
            "\n",
            "\n",
            "****************************************************************************************************\n",
            "DATA GUARDRAILS: \n",
            "\n",
            "TYPE:         Cross validation\n",
            "STATUS:       DONE\n",
            "DESCRIPTION:  Each iteration of the trained model was validated through cross-validation.\n",
            "              \n",
            "DETAILS:      \n",
            "+---------------------------------+\n",
            "|Number of folds                  |\n",
            "+=================================+\n",
            "|3                                |\n",
            "+---------------------------------+\n",
            "\n",
            "****************************************************************************************************\n",
            "\n",
            "TYPE:         Class balancing detection\n",
            "STATUS:       ALERTED\n",
            "DESCRIPTION:  To decrease model bias, please cancel the current run and fix balancing problem.\n",
            "              Learn more about imbalanced data: https://aka.ms/AutomatedMLImbalancedData\n",
            "DETAILS:      Imbalanced data can lead to a falsely perceived positive effect of a model's accuracy because the input data has bias towards one class.\n",
            "+---------------------------------+---------------------------------+--------------------------------------+\n",
            "|Size of the smallest class       |Name/Label of the smallest class |Number of samples in the training data|\n",
            "+=================================+=================================+======================================+\n",
            "|598                              |yes                              |4250                                  |\n",
            "+---------------------------------+---------------------------------+--------------------------------------+\n",
            "\n",
            "****************************************************************************************************\n",
            "\n",
            "TYPE:         Missing feature values imputation\n",
            "STATUS:       PASSED\n",
            "DESCRIPTION:  No feature missing values were detected in the training data.\n",
            "              Learn more about missing value imputation: https://aka.ms/AutomatedMLFeaturization\n",
            "\n",
            "****************************************************************************************************\n",
            "\n",
            "TYPE:         High cardinality feature detection\n",
            "STATUS:       PASSED\n",
            "DESCRIPTION:  Your inputs were analyzed, and no high cardinality features were detected.\n",
            "              Learn more about high cardinality feature handling: https://aka.ms/AutomatedMLFeaturization\n",
            "\n",
            "****************************************************************************************************\n",
            "\n",
            "****************************************************************************************************\n",
            "ITERATION: The iteration being evaluated.\n",
            "PIPELINE: A summary description of the pipeline being evaluated.\n"
          ]
        },
        {
          "output_type": "display_data",
          "data": {
            "text/plain": "_AutoMLWidget(widget_settings={'childWidgetDisplay': 'popup', 'send_telemetry': False, 'log_level': 'INFO', 's…",
            "application/vnd.jupyter.widget-view+json": {
              "version_major": 2,
              "version_minor": 0,
              "model_id": "2b40b29d27c04aa294de2bc01b85e1c8"
            }
          },
          "metadata": {}
        },
        {
          "output_type": "display_data",
          "data": {
            "application/aml.mini.widget.v1": "{\"status\": \"Completed\", \"workbench_run_details_uri\": \"https://ml.azure.com/runs/AutoML_0d720723-98c3-40bc-84a4-3dd30dacafef?wsid=/subscriptions/3e42d11f-d64d-4173-af9b-12ecaa1030b3/resourcegroups/aml-quickstarts-144814/workspaces/quick-starts-ws-144814&tid=660b3398-b80e-49d2-bc5b-ac1dc93b5254\", \"run_id\": \"AutoML_0d720723-98c3-40bc-84a4-3dd30dacafef\", \"run_properties\": {\"run_id\": \"AutoML_0d720723-98c3-40bc-84a4-3dd30dacafef\", \"created_utc\": \"2021-05-14T17:14:18.306365Z\", \"properties\": {\"num_iterations\": \"1000\", \"training_type\": \"TrainFull\", \"acquisition_function\": \"EI\", \"primary_metric\": \"AUC_weighted\", \"train_split\": \"0\", \"acquisition_parameter\": \"0\", \"num_cross_validation\": null, \"target\": \"capstone-cluster\", \"AMLSettingsJsonString\": \"{\\\"path\\\":null,\\\"name\\\":\\\"customer-churn\\\",\\\"subscription_id\\\":\\\"3e42d11f-d64d-4173-af9b-12ecaa1030b3\\\",\\\"resource_group\\\":\\\"aml-quickstarts-144814\\\",\\\"workspace_name\\\":\\\"quick-starts-ws-144814\\\",\\\"region\\\":\\\"southcentralus\\\",\\\"compute_target\\\":\\\"capstone-cluster\\\",\\\"spark_service\\\":null,\\\"azure_service\\\":\\\"remote\\\",\\\"many_models\\\":false,\\\"pipeline_fetch_max_batch_size\\\":1,\\\"enable_batch_run\\\":false,\\\"enable_run_restructure\\\":false,\\\"start_auxiliary_runs_before_parent_complete\\\":false,\\\"iterations\\\":1000,\\\"primary_metric\\\":\\\"AUC_weighted\\\",\\\"task_type\\\":\\\"classification\\\",\\\"data_script\\\":null,\\\"test_size\\\":0.0,\\\"validation_size\\\":0.0,\\\"n_cross_validations\\\":null,\\\"y_min\\\":null,\\\"y_max\\\":null,\\\"num_classes\\\":null,\\\"featurization\\\":\\\"auto\\\",\\\"_ignore_package_version_incompatibilities\\\":false,\\\"is_timeseries\\\":false,\\\"max_cores_per_iteration\\\":1,\\\"max_concurrent_iterations\\\":5,\\\"iteration_timeout_minutes\\\":null,\\\"mem_in_mb\\\":null,\\\"enforce_time_on_windows\\\":false,\\\"experiment_timeout_minutes\\\":20,\\\"experiment_exit_score\\\":null,\\\"whitelist_models\\\":null,\\\"blacklist_algos\\\":[\\\"TensorFlowLinearClassifier\\\",\\\"TensorFlowDNN\\\"],\\\"supported_models\\\":[\\\"GradientBoosting\\\",\\\"RandomForest\\\",\\\"MultinomialNaiveBayes\\\",\\\"LightGBM\\\",\\\"TensorFlowDNN\\\",\\\"SVM\\\",\\\"SGD\\\",\\\"DecisionTree\\\",\\\"BernoulliNaiveBayes\\\",\\\"ExtremeRandomTrees\\\",\\\"KNN\\\",\\\"AveragedPerceptronClassifier\\\",\\\"XGBoostClassifier\\\",\\\"TensorFlowLinearClassifier\\\",\\\"LinearSVM\\\",\\\"LogisticRegression\\\"],\\\"private_models\\\":[],\\\"auto_blacklist\\\":true,\\\"blacklist_samples_reached\\\":false,\\\"exclude_nan_labels\\\":true,\\\"verbosity\\\":20,\\\"_debug_log\\\":\\\"azureml_automl.log\\\",\\\"show_warnings\\\":false,\\\"model_explainability\\\":true,\\\"service_url\\\":null,\\\"sdk_url\\\":null,\\\"sdk_packages\\\":null,\\\"enable_onnx_compatible_models\\\":false,\\\"enable_split_onnx_featurizer_estimator_models\\\":false,\\\"vm_type\\\":\\\"STANDARD_DS12_V2\\\",\\\"telemetry_verbosity\\\":20,\\\"send_telemetry\\\":true,\\\"enable_dnn\\\":false,\\\"scenario\\\":\\\"SDK-1.13.0\\\",\\\"environment_label\\\":null,\\\"save_mlflow\\\":false,\\\"force_text_dnn\\\":false,\\\"enable_feature_sweeping\\\":true,\\\"enable_early_stopping\\\":true,\\\"early_stopping_n_iters\\\":10,\\\"metrics\\\":null,\\\"enable_metric_confidence\\\":false,\\\"enable_ensembling\\\":true,\\\"enable_stack_ensembling\\\":true,\\\"ensemble_iterations\\\":15,\\\"enable_tf\\\":false,\\\"enable_subsampling\\\":null,\\\"subsample_seed\\\":null,\\\"enable_nimbusml\\\":false,\\\"enable_streaming\\\":false,\\\"force_streaming\\\":false,\\\"track_child_runs\\\":true,\\\"allowed_private_models\\\":[],\\\"label_column_name\\\":\\\"churn\\\",\\\"weight_column_name\\\":null,\\\"cv_split_column_names\\\":null,\\\"enable_local_managed\\\":false,\\\"_local_managed_run_id\\\":null,\\\"cost_mode\\\":1,\\\"lag_length\\\":0,\\\"metric_operation\\\":\\\"maximize\\\",\\\"preprocess\\\":true}\", \"DataPrepJsonString\": \"{\\\\\\\"training_data\\\\\\\": {\\\\\\\"datasetId\\\\\\\": \\\\\\\"068b8578-e263-4243-ae8b-2d62a207025b\\\\\\\"}, \\\\\\\"datasets\\\\\\\": 0}\", \"EnableSubsampling\": null, \"runTemplate\": \"AutoML\", \"azureml.runsource\": \"automl\", \"display_task_type\": \"classification\", \"dependencies_versions\": \"{\\\"azureml-widgets\\\": \\\"1.27.0\\\", \\\"azureml-train\\\": \\\"1.27.0\\\", \\\"azureml-train-restclients-hyperdrive\\\": \\\"1.27.0\\\", \\\"azureml-train-core\\\": \\\"1.27.0\\\", \\\"azureml-train-automl\\\": \\\"1.27.0\\\", \\\"azureml-train-automl-runtime\\\": \\\"1.27.0\\\", \\\"azureml-train-automl-client\\\": \\\"1.27.0\\\", \\\"azureml-tensorboard\\\": \\\"1.27.0\\\", \\\"azureml-telemetry\\\": \\\"1.27.0\\\", \\\"azureml-sdk\\\": \\\"1.27.0\\\", \\\"azureml-samples\\\": \\\"0+unknown\\\", \\\"azureml-pipeline\\\": \\\"1.27.0\\\", \\\"azureml-pipeline-steps\\\": \\\"1.27.0\\\", \\\"azureml-pipeline-core\\\": \\\"1.27.0\\\", \\\"azureml-opendatasets\\\": \\\"1.27.0\\\", \\\"azureml-model-management-sdk\\\": \\\"1.0.1b6.post1\\\", \\\"azureml-mlflow\\\": \\\"1.27.0\\\", \\\"azureml-interpret\\\": \\\"1.27.0\\\", \\\"azureml-explain-model\\\": \\\"1.27.0\\\", \\\"azureml-defaults\\\": \\\"1.27.0\\\", \\\"azureml-dataset-runtime\\\": \\\"1.27.0\\\", \\\"azureml-dataprep\\\": \\\"2.14.2\\\", \\\"azureml-dataprep-rslex\\\": \\\"1.12.1\\\", \\\"azureml-dataprep-native\\\": \\\"33.0.0\\\", \\\"azureml-datadrift\\\": \\\"1.27.0\\\", \\\"azureml-core\\\": \\\"1.27.0\\\", \\\"azureml-contrib-services\\\": \\\"1.27.0\\\", \\\"azureml-contrib-server\\\": \\\"1.27.0\\\", \\\"azureml-contrib-reinforcementlearning\\\": \\\"1.27.0\\\", \\\"azureml-contrib-pipeline-steps\\\": \\\"1.27.0\\\", \\\"azureml-contrib-notebook\\\": \\\"1.27.0\\\", \\\"azureml-contrib-gbdt\\\": \\\"1.27.0\\\", \\\"azureml-contrib-fairness\\\": \\\"1.27.0\\\", \\\"azureml-contrib-dataset\\\": \\\"1.27.0\\\", \\\"azureml-cli-common\\\": \\\"1.27.0\\\", \\\"azureml-automl-runtime\\\": \\\"1.27.0\\\", \\\"azureml-automl-dnn-nlp\\\": \\\"1.27.0\\\", \\\"azureml-automl-core\\\": \\\"1.27.0\\\", \\\"azureml-accel-models\\\": \\\"1.27.0\\\"}\", \"_aml_system_scenario_identification\": \"Remote.Parent\", \"ClientType\": \"SDK\", \"environment_cpu_name\": \"AzureML-AutoML\", \"environment_cpu_label\": \"prod\", \"environment_gpu_name\": \"AzureML-AutoML-GPU\", \"environment_gpu_label\": \"prod\", \"root_attribution\": \"automl\", \"attribution\": \"AutoML\", \"Orchestrator\": \"AutoML\", \"CancelUri\": \"https://southcentralus.api.azureml.ms/jasmine/v1.0/subscriptions/3e42d11f-d64d-4173-af9b-12ecaa1030b3/resourceGroups/aml-quickstarts-144814/providers/Microsoft.MachineLearningServices/workspaces/quick-starts-ws-144814/experimentids/7ee04062-a696-42ee-bf34-a4e3979000df/cancel/AutoML_0d720723-98c3-40bc-84a4-3dd30dacafef\", \"ClientSdkVersion\": \"1.27.0.post1\", \"snapshotId\": \"00000000-0000-0000-0000-000000000000\", \"SetupRunId\": \"AutoML_0d720723-98c3-40bc-84a4-3dd30dacafef_setup\", \"SetupRunContainerId\": \"dcid.AutoML_0d720723-98c3-40bc-84a4-3dd30dacafef_setup\", \"FeaturizationRunJsonPath\": \"featurizer_container.json\", \"FeaturizationRunId\": \"AutoML_0d720723-98c3-40bc-84a4-3dd30dacafef_featurize\", \"ProblemInfoJsonString\": \"{\\\"dataset_num_categorical\\\": 0, \\\"is_sparse\\\": true, \\\"subsampling\\\": false, \\\"dataset_classes\\\": 2, \\\"dataset_features\\\": 145, \\\"dataset_samples\\\": 4250, \\\"single_frequency_class_detected\\\": false}\", \"ModelExplainRunId\": \"AutoML_0d720723-98c3-40bc-84a4-3dd30dacafef_ModelExplain\"}, \"tags\": {\"model_explain_run\": \"best_run\", \"_aml_system_azureml.automlComponent\": \"AutoML\", \"pipeline_id\": \"\", \"score\": \"\", \"predicted_cost\": \"\", \"fit_time\": \"\", \"training_percent\": \"\", \"iteration\": \"\", \"run_preprocessor\": \"\", \"run_algorithm\": \"\", \"dynamic_whitelisting_iterations\": \"<25>;<30>;<35>;<40>;<45>;\", \"automl_best_child_run_id\": \"AutoML_0d720723-98c3-40bc-84a4-3dd30dacafef_47\", \"model_explain_best_run_child_id\": \"AutoML_0d720723-98c3-40bc-84a4-3dd30dacafef_47\"}, \"end_time_utc\": \"2021-05-14T17:32:12.638898Z\", \"status\": \"Completed\", \"log_files\": {}, \"log_groups\": [], \"run_duration\": \"0:17:54\", \"run_number\": \"1\", \"run_queued_details\": {\"status\": \"Completed\", \"details\": null}}, \"child_runs\": [{\"run_id\": \"AutoML_0d720723-98c3-40bc-84a4-3dd30dacafef_1\", \"run_number\": 5, \"metric\": null, \"status\": \"Completed\", \"run_type\": \"azureml.scriptrun\", \"training_percent\": \"100\", \"start_time\": \"2021-05-14T17:19:49.146353Z\", \"end_time\": \"2021-05-14T17:20:31.363283Z\", \"created_time\": \"2021-05-14T17:17:35.523237Z\", \"created_time_dt\": \"2021-05-14T17:17:35.523237Z\", \"duration\": \"0:02:55\", \"iteration\": \"1\", \"goal\": \"AUC_weighted_max\", \"run_name\": \"MaxAbsScaler, XGBoostClassifier\", \"run_properties\": \"copy=True\", \"primary_metric\": 0.91181469, \"best_metric\": 0.91181469}, {\"run_id\": \"AutoML_0d720723-98c3-40bc-84a4-3dd30dacafef_0\", \"run_number\": 6, \"metric\": null, \"status\": \"Completed\", \"run_type\": \"azureml.scriptrun\", \"training_percent\": \"100\", \"start_time\": \"2021-05-14T17:19:59.943758Z\", \"end_time\": \"2021-05-14T17:21:30.625735Z\", \"created_time\": \"2021-05-14T17:17:35.530387Z\", \"created_time_dt\": \"2021-05-14T17:17:35.530387Z\", \"duration\": \"0:03:55\", \"iteration\": \"0\", \"goal\": \"AUC_weighted_max\", \"run_name\": \"MaxAbsScaler, LightGBM\", \"run_properties\": \"copy=True\", \"primary_metric\": 0.89459392, \"best_metric\": 0.89459392}, {\"run_id\": \"AutoML_0d720723-98c3-40bc-84a4-3dd30dacafef_2\", \"run_number\": 7, \"metric\": null, \"status\": \"Completed\", \"run_type\": \"azureml.scriptrun\", \"training_percent\": \"100\", \"start_time\": \"2021-05-14T17:17:51.079693Z\", \"end_time\": \"2021-05-14T17:18:32.641954Z\", \"created_time\": \"2021-05-14T17:17:35.567149Z\", \"created_time_dt\": \"2021-05-14T17:17:35.567149Z\", \"duration\": \"0:00:57\", \"iteration\": \"2\", \"goal\": \"AUC_weighted_max\", \"run_name\": \"MaxAbsScaler, RandomForest\", \"run_properties\": \"copy=True\", \"primary_metric\": 0.84622465, \"best_metric\": 0.91181469}, {\"run_id\": \"AutoML_0d720723-98c3-40bc-84a4-3dd30dacafef_3\", \"run_number\": 8, \"metric\": null, \"status\": \"Completed\", \"run_type\": \"azureml.scriptrun\", \"training_percent\": \"100\", \"start_time\": \"2021-05-14T17:18:49.266382Z\", \"end_time\": \"2021-05-14T17:19:32.851454Z\", \"created_time\": \"2021-05-14T17:17:35.675205Z\", \"created_time_dt\": \"2021-05-14T17:17:35.675205Z\", \"duration\": \"0:01:57\", \"iteration\": \"3\", \"goal\": \"AUC_weighted_max\", \"run_name\": \"MaxAbsScaler, RandomForest\", \"run_properties\": \"copy=True\", \"primary_metric\": 0.83608498, \"best_metric\": 0.91181469}, {\"run_id\": \"AutoML_0d720723-98c3-40bc-84a4-3dd30dacafef_4\", \"run_number\": 9, \"metric\": null, \"status\": \"Completed\", \"run_type\": \"azureml.scriptrun\", \"training_percent\": \"100\", \"start_time\": \"2021-05-14T17:20:00.021228Z\", \"end_time\": \"2021-05-14T17:21:31.130169Z\", \"created_time\": \"2021-05-14T17:17:35.551327Z\", \"created_time_dt\": \"2021-05-14T17:17:35.551327Z\", \"duration\": \"0:03:55\", \"iteration\": \"4\", \"goal\": \"AUC_weighted_max\", \"run_name\": \"MaxAbsScaler, RandomForest\", \"run_properties\": \"copy=True\", \"primary_metric\": 0.76036599, \"best_metric\": 0.91181469}, {\"run_id\": \"AutoML_0d720723-98c3-40bc-84a4-3dd30dacafef_5\", \"run_number\": 10, \"metric\": null, \"status\": \"Completed\", \"run_type\": \"azureml.scriptrun\", \"training_percent\": \"100\", \"start_time\": \"2021-05-14T17:20:00.610894Z\", \"end_time\": \"2021-05-14T17:21:28.196476Z\", \"created_time\": \"2021-05-14T17:18:35.550588Z\", \"created_time_dt\": \"2021-05-14T17:18:35.550588Z\", \"duration\": \"0:02:52\", \"iteration\": \"5\", \"goal\": \"AUC_weighted_max\", \"run_name\": \"MaxAbsScaler, ExtremeRandomTrees\", \"run_properties\": \"copy=True\", \"primary_metric\": 0.84436397, \"best_metric\": 0.91181469}, {\"run_id\": \"AutoML_0d720723-98c3-40bc-84a4-3dd30dacafef_6\", \"run_number\": 11, \"metric\": null, \"status\": \"Completed\", \"run_type\": \"azureml.scriptrun\", \"training_percent\": \"100\", \"start_time\": \"2021-05-14T17:20:48.460536Z\", \"end_time\": \"2021-05-14T17:21:29.145693Z\", \"created_time\": \"2021-05-14T17:19:35.87485Z\", \"created_time_dt\": \"2021-05-14T17:19:35.87485Z\", \"duration\": \"0:01:53\", \"iteration\": \"6\", \"goal\": \"AUC_weighted_max\", \"run_name\": \"MaxAbsScaler, ExtremeRandomTrees\", \"run_properties\": \"copy=True\", \"primary_metric\": 0.86951968, \"best_metric\": 0.91181469}, {\"run_id\": \"AutoML_0d720723-98c3-40bc-84a4-3dd30dacafef_7\", \"run_number\": 12, \"metric\": null, \"status\": \"Completed\", \"run_type\": \"azureml.scriptrun\", \"training_percent\": \"100\", \"start_time\": \"2021-05-14T17:21:44.810282Z\", \"end_time\": \"2021-05-14T17:22:29.026178Z\", \"created_time\": \"2021-05-14T17:20:34.495394Z\", \"created_time_dt\": \"2021-05-14T17:20:34.495394Z\", \"duration\": \"0:01:54\", \"iteration\": \"7\", \"goal\": \"AUC_weighted_max\", \"run_name\": \"MaxAbsScaler, ExtremeRandomTrees\", \"run_properties\": \"copy=True\", \"primary_metric\": 0.85760071, \"best_metric\": 0.91181469}, {\"run_id\": \"AutoML_0d720723-98c3-40bc-84a4-3dd30dacafef_8\", \"run_number\": 13, \"metric\": null, \"status\": \"Completed\", \"run_type\": \"azureml.scriptrun\", \"training_percent\": \"100\", \"start_time\": \"2021-05-14T17:21:43.95716Z\", \"end_time\": \"2021-05-14T17:22:29.443076Z\", \"created_time\": \"2021-05-14T17:21:31.637468Z\", \"created_time_dt\": \"2021-05-14T17:21:31.637468Z\", \"duration\": \"0:00:57\", \"iteration\": \"8\", \"goal\": \"AUC_weighted_max\", \"run_name\": \"MaxAbsScaler, RandomForest\", \"run_properties\": \"copy=True\", \"primary_metric\": 0.83574997, \"best_metric\": 0.91181469}, {\"run_id\": \"AutoML_0d720723-98c3-40bc-84a4-3dd30dacafef_9\", \"run_number\": 14, \"metric\": null, \"status\": \"Completed\", \"run_type\": \"azureml.scriptrun\", \"training_percent\": \"100\", \"start_time\": \"2021-05-14T17:22:44.495463Z\", \"end_time\": \"2021-05-14T17:23:27.192524Z\", \"created_time\": \"2021-05-14T17:21:35.732972Z\", \"created_time_dt\": \"2021-05-14T17:21:35.732972Z\", \"duration\": \"0:01:51\", \"iteration\": \"9\", \"goal\": \"AUC_weighted_max\", \"run_name\": \"MaxAbsScaler, ExtremeRandomTrees\", \"run_properties\": \"copy=True\", \"primary_metric\": 0.84517181, \"best_metric\": 0.91181469}, {\"run_id\": \"AutoML_0d720723-98c3-40bc-84a4-3dd30dacafef_11\", \"run_number\": 15, \"metric\": null, \"status\": \"Completed\", \"run_type\": \"azureml.scriptrun\", \"training_percent\": \"100\", \"start_time\": \"2021-05-14T17:21:44.672859Z\", \"end_time\": \"2021-05-14T17:22:25.297172Z\", \"created_time\": \"2021-05-14T17:21:35.757753Z\", \"created_time_dt\": \"2021-05-14T17:21:35.757753Z\", \"duration\": \"0:00:49\", \"iteration\": \"11\", \"goal\": \"AUC_weighted_max\", \"run_name\": \"MaxAbsScaler, RandomForest\", \"run_properties\": \"copy=True\", \"primary_metric\": 0.74673803, \"best_metric\": 0.91181469}, {\"run_id\": \"AutoML_0d720723-98c3-40bc-84a4-3dd30dacafef_10\", \"run_number\": 16, \"metric\": null, \"status\": \"Completed\", \"run_type\": \"azureml.scriptrun\", \"training_percent\": \"100\", \"start_time\": \"2021-05-14T17:21:46.028045Z\", \"end_time\": \"2021-05-14T17:22:29.105164Z\", \"created_time\": \"2021-05-14T17:21:35.774046Z\", \"created_time_dt\": \"2021-05-14T17:21:35.774046Z\", \"duration\": \"0:00:53\", \"iteration\": \"10\", \"goal\": \"AUC_weighted_max\", \"run_name\": \"MaxAbsScaler, RandomForest\", \"run_properties\": \"copy=True\", \"primary_metric\": 0.81095133, \"best_metric\": 0.91181469}, {\"run_id\": \"AutoML_0d720723-98c3-40bc-84a4-3dd30dacafef_12\", \"run_number\": 17, \"metric\": null, \"status\": \"Completed\", \"run_type\": \"azureml.scriptrun\", \"training_percent\": \"100\", \"start_time\": \"2021-05-14T17:22:44.635563Z\", \"end_time\": \"2021-05-14T17:23:27.970198Z\", \"created_time\": \"2021-05-14T17:22:28.212113Z\", \"created_time_dt\": \"2021-05-14T17:22:28.212113Z\", \"duration\": \"0:00:59\", \"iteration\": \"12\", \"goal\": \"AUC_weighted_max\", \"run_name\": \"MaxAbsScaler, RandomForest\", \"run_properties\": \"copy=True\", \"primary_metric\": 0.78638197, \"best_metric\": 0.91181469}, {\"run_id\": \"AutoML_0d720723-98c3-40bc-84a4-3dd30dacafef_13\", \"run_number\": 18, \"metric\": null, \"status\": \"Completed\", \"run_type\": \"azureml.scriptrun\", \"training_percent\": \"100\", \"start_time\": \"2021-05-14T17:22:50.468363Z\", \"end_time\": \"2021-05-14T17:23:33.601409Z\", \"created_time\": \"2021-05-14T17:22:32.339584Z\", \"created_time_dt\": \"2021-05-14T17:22:32.339584Z\", \"duration\": \"0:01:01\", \"iteration\": \"13\", \"goal\": \"AUC_weighted_max\", \"run_name\": \"StandardScalerWrapper, XGBoostClassifier\", \"run_properties\": \"<azureml.automl.runtime.shared.model_wrappers.StandardScalerWrapper object at 0x7f13180d25c0\", \"primary_metric\": 0.90293119, \"best_metric\": 0.91181469}, {\"run_id\": \"AutoML_0d720723-98c3-40bc-84a4-3dd30dacafef_14\", \"run_number\": 19, \"metric\": null, \"status\": \"Completed\", \"run_type\": \"azureml.scriptrun\", \"training_percent\": \"100\", \"start_time\": \"2021-05-14T17:22:46.321475Z\", \"end_time\": \"2021-05-14T17:23:27.389042Z\", \"created_time\": \"2021-05-14T17:22:32.367873Z\", \"created_time_dt\": \"2021-05-14T17:22:32.367873Z\", \"duration\": \"0:00:55\", \"iteration\": \"14\", \"goal\": \"AUC_weighted_max\", \"run_name\": \"MaxAbsScaler, RandomForest\", \"run_properties\": \"copy=True\", \"primary_metric\": 0.81733242, \"best_metric\": 0.91181469}, {\"run_id\": \"AutoML_0d720723-98c3-40bc-84a4-3dd30dacafef_15\", \"run_number\": 20, \"metric\": null, \"status\": \"Completed\", \"run_type\": \"azureml.scriptrun\", \"training_percent\": \"100\", \"start_time\": \"2021-05-14T17:23:42.080788Z\", \"end_time\": \"2021-05-14T17:24:25.791507Z\", \"created_time\": \"2021-05-14T17:22:32.417576Z\", \"created_time_dt\": \"2021-05-14T17:22:32.417576Z\", \"duration\": \"0:01:53\", \"iteration\": \"15\", \"goal\": \"AUC_weighted_max\", \"run_name\": \"StandardScalerWrapper, ExtremeRandomTrees\", \"run_properties\": \"<azureml.automl.runtime.shared.model_wrappers.StandardScalerWrapper object at 0x7f3135da6f60\", \"primary_metric\": 0.85791578, \"best_metric\": 0.91181469}, {\"run_id\": \"AutoML_0d720723-98c3-40bc-84a4-3dd30dacafef_16\", \"run_number\": 21, \"metric\": null, \"status\": \"Completed\", \"run_type\": \"azureml.scriptrun\", \"training_percent\": \"100\", \"start_time\": \"2021-05-14T17:23:44.0409Z\", \"end_time\": \"2021-05-14T17:24:24.260513Z\", \"created_time\": \"2021-05-14T17:23:30.675707Z\", \"created_time_dt\": \"2021-05-14T17:23:30.675707Z\", \"duration\": \"0:00:53\", \"iteration\": \"16\", \"goal\": \"AUC_weighted_max\", \"run_name\": \"MaxAbsScaler, ExtremeRandomTrees\", \"run_properties\": \"copy=True\", \"primary_metric\": 0.85799061, \"best_metric\": 0.91181469}, {\"run_id\": \"AutoML_0d720723-98c3-40bc-84a4-3dd30dacafef_17\", \"run_number\": 22, \"metric\": null, \"status\": \"Completed\", \"run_type\": \"azureml.scriptrun\", \"training_percent\": \"100\", \"start_time\": \"2021-05-14T17:23:44.837451Z\", \"end_time\": \"2021-05-14T17:24:25.505623Z\", \"created_time\": \"2021-05-14T17:23:30.713448Z\", \"created_time_dt\": \"2021-05-14T17:23:30.713448Z\", \"duration\": \"0:00:54\", \"iteration\": \"17\", \"goal\": \"AUC_weighted_max\", \"run_name\": \"MaxAbsScaler, ExtremeRandomTrees\", \"run_properties\": \"copy=True\", \"primary_metric\": 0.82966156, \"best_metric\": 0.91181469}, {\"run_id\": \"AutoML_0d720723-98c3-40bc-84a4-3dd30dacafef_18\", \"run_number\": 23, \"metric\": null, \"status\": \"Completed\", \"run_type\": \"azureml.scriptrun\", \"training_percent\": \"100\", \"start_time\": \"2021-05-14T17:23:48.185855Z\", \"end_time\": \"2021-05-14T17:24:29.801375Z\", \"created_time\": \"2021-05-14T17:23:34.876394Z\", \"created_time_dt\": \"2021-05-14T17:23:34.876394Z\", \"duration\": \"0:00:54\", \"iteration\": \"18\", \"goal\": \"AUC_weighted_max\", \"run_name\": \"MaxAbsScaler, RandomForest\", \"run_properties\": \"copy=True\", \"primary_metric\": 0.73677533, \"best_metric\": 0.91181469}, {\"run_id\": \"AutoML_0d720723-98c3-40bc-84a4-3dd30dacafef_19\", \"run_number\": 24, \"metric\": null, \"status\": \"Completed\", \"run_type\": \"azureml.scriptrun\", \"training_percent\": \"100\", \"start_time\": \"2021-05-14T17:24:39.501555Z\", \"end_time\": \"2021-05-14T17:25:21.35084Z\", \"created_time\": \"2021-05-14T17:23:38.883447Z\", \"created_time_dt\": \"2021-05-14T17:23:38.883447Z\", \"duration\": \"0:01:42\", \"iteration\": \"19\", \"goal\": \"AUC_weighted_max\", \"run_name\": \"StandardScalerWrapper, LogisticRegression\", \"run_properties\": \"<azureml.automl.runtime.shared.model_wrappers.StandardScalerWrapper object at 0x7f54f4207f98\", \"primary_metric\": 0.82477324, \"best_metric\": 0.91181469}, {\"run_id\": \"AutoML_0d720723-98c3-40bc-84a4-3dd30dacafef_20\", \"run_number\": 25, \"metric\": null, \"status\": \"Completed\", \"run_type\": \"azureml.scriptrun\", \"training_percent\": \"100\", \"start_time\": \"2021-05-14T17:24:42.587771Z\", \"end_time\": \"2021-05-14T17:25:26.000829Z\", \"created_time\": \"2021-05-14T17:24:27.862561Z\", \"created_time_dt\": \"2021-05-14T17:24:27.862561Z\", \"duration\": \"0:00:58\", \"iteration\": \"20\", \"goal\": \"AUC_weighted_max\", \"run_name\": \"MaxAbsScaler, LightGBM\", \"run_properties\": \"copy=True\", \"primary_metric\": 0.86776578, \"best_metric\": 0.91181469}, {\"run_id\": \"AutoML_0d720723-98c3-40bc-84a4-3dd30dacafef_21\", \"run_number\": 26, \"metric\": null, \"status\": \"Completed\", \"run_type\": \"azureml.scriptrun\", \"training_percent\": \"100\", \"start_time\": \"2021-05-14T17:24:42.561957Z\", \"end_time\": \"2021-05-14T17:25:26.972234Z\", \"created_time\": \"2021-05-14T17:24:32.323072Z\", \"created_time_dt\": \"2021-05-14T17:24:32.323072Z\", \"duration\": \"0:00:54\", \"iteration\": \"21\", \"goal\": \"AUC_weighted_max\", \"run_name\": \"MaxAbsScaler, LightGBM\", \"run_properties\": \"copy=True\", \"primary_metric\": 0.86632302, \"best_metric\": 0.91181469}, {\"run_id\": \"AutoML_0d720723-98c3-40bc-84a4-3dd30dacafef_22\", \"run_number\": 27, \"metric\": null, \"status\": \"Completed\", \"run_type\": \"azureml.scriptrun\", \"training_percent\": \"100\", \"start_time\": \"2021-05-14T17:24:45.540923Z\", \"end_time\": \"2021-05-14T17:25:29.142668Z\", \"created_time\": \"2021-05-14T17:24:32.342122Z\", \"created_time_dt\": \"2021-05-14T17:24:32.342122Z\", \"duration\": \"0:00:56\", \"iteration\": \"22\", \"goal\": \"AUC_weighted_max\", \"run_name\": \"MaxAbsScaler, LightGBM\", \"run_properties\": \"copy=True\", \"primary_metric\": 0.82758653, \"best_metric\": 0.91181469}, {\"run_id\": \"AutoML_0d720723-98c3-40bc-84a4-3dd30dacafef_23\", \"run_number\": 28, \"metric\": null, \"status\": \"Completed\", \"run_type\": \"azureml.scriptrun\", \"training_percent\": \"100\", \"start_time\": \"2021-05-14T17:25:37.096444Z\", \"end_time\": \"2021-05-14T17:26:20.541901Z\", \"created_time\": \"2021-05-14T17:24:35.144752Z\", \"created_time_dt\": \"2021-05-14T17:24:35.144752Z\", \"duration\": \"0:01:45\", \"iteration\": \"23\", \"goal\": \"AUC_weighted_max\", \"run_name\": \"StandardScalerWrapper, XGBoostClassifier\", \"run_properties\": \"<azureml.automl.runtime.shared.model_wrappers.StandardScalerWrapper object at 0x7f6806b62470\", \"primary_metric\": 0.90810167, \"best_metric\": 0.91181469}, {\"run_id\": \"AutoML_0d720723-98c3-40bc-84a4-3dd30dacafef_24\", \"run_number\": 29, \"metric\": null, \"status\": \"Completed\", \"run_type\": \"azureml.scriptrun\", \"training_percent\": \"100\", \"start_time\": \"2021-05-14T17:25:44.015519Z\", \"end_time\": \"2021-05-14T17:26:25.775365Z\", \"created_time\": \"2021-05-14T17:25:23.492783Z\", \"created_time_dt\": \"2021-05-14T17:25:23.492783Z\", \"duration\": \"0:01:02\", \"iteration\": \"24\", \"goal\": \"AUC_weighted_max\", \"run_name\": \"MaxAbsScaler, LightGBM\", \"run_properties\": \"copy=True\", \"primary_metric\": 0.85158247, \"best_metric\": 0.91181469}, {\"run_id\": \"AutoML_0d720723-98c3-40bc-84a4-3dd30dacafef_25\", \"run_number\": 30, \"metric\": null, \"status\": \"Completed\", \"run_type\": \"azureml.scriptrun\", \"training_percent\": \"100\", \"start_time\": \"2021-05-14T17:25:43.320388Z\", \"end_time\": \"2021-05-14T17:26:26.359714Z\", \"created_time\": \"2021-05-14T17:25:28.856792Z\", \"created_time_dt\": \"2021-05-14T17:25:28.856792Z\", \"duration\": \"0:00:57\", \"iteration\": \"25\", \"goal\": \"AUC_weighted_max\", \"run_name\": \"TruncatedSVDWrapper, XGBoostClassifier\", \"run_properties\": \"n_components=0.20789473684210527, random_state=None\", \"primary_metric\": 0.90591025, \"best_metric\": 0.91181469}, {\"run_id\": \"AutoML_0d720723-98c3-40bc-84a4-3dd30dacafef_26\", \"run_number\": 31, \"metric\": null, \"status\": \"Completed\", \"run_type\": \"azureml.scriptrun\", \"training_percent\": \"100\", \"start_time\": \"2021-05-14T17:25:46.189742Z\", \"end_time\": \"2021-05-14T17:26:32.544438Z\", \"created_time\": \"2021-05-14T17:25:32.191453Z\", \"created_time_dt\": \"2021-05-14T17:25:32.191453Z\", \"duration\": \"0:01:00\", \"iteration\": \"26\", \"goal\": \"AUC_weighted_max\", \"run_name\": \"StandardScalerWrapper, XGBoostClassifier\", \"run_properties\": \"<azureml.automl.runtime.shared.model_wrappers.StandardScalerWrapper object at 0x7f9cc4c90438\", \"primary_metric\": 0.9074248, \"best_metric\": 0.91181469}, {\"run_id\": \"AutoML_0d720723-98c3-40bc-84a4-3dd30dacafef_27\", \"run_number\": 32, \"metric\": null, \"status\": \"Completed\", \"run_type\": \"azureml.scriptrun\", \"training_percent\": \"100\", \"start_time\": \"2021-05-14T17:26:37.738566Z\", \"end_time\": \"2021-05-14T17:27:21.289888Z\", \"created_time\": \"2021-05-14T17:25:32.217736Z\", \"created_time_dt\": \"2021-05-14T17:25:32.217736Z\", \"duration\": \"0:01:49\", \"iteration\": \"27\", \"goal\": \"AUC_weighted_max\", \"run_name\": \"StandardScalerWrapper, XGBoostClassifier\", \"run_properties\": \"<azureml.automl.runtime.shared.model_wrappers.StandardScalerWrapper object at 0x7f65b338f128\", \"primary_metric\": 0.91384084, \"best_metric\": 0.91384084}, {\"run_id\": \"AutoML_0d720723-98c3-40bc-84a4-3dd30dacafef_28\", \"run_number\": 33, \"metric\": null, \"status\": \"Completed\", \"run_type\": \"azureml.scriptrun\", \"training_percent\": \"100\", \"start_time\": \"2021-05-14T17:26:39.694768Z\", \"end_time\": \"2021-05-14T17:27:20.766584Z\", \"created_time\": \"2021-05-14T17:26:22.467691Z\", \"created_time_dt\": \"2021-05-14T17:26:22.467691Z\", \"duration\": \"0:00:58\", \"iteration\": \"28\", \"goal\": \"AUC_weighted_max\", \"run_name\": \"SparseNormalizer, XGBoostClassifier\", \"run_properties\": \"<azureml.automl.runtime.shared.model_wrappers.SparseNormalizer object at 0x7ff48c254240\", \"primary_metric\": 0.90478875, \"best_metric\": 0.91384084}, {\"run_id\": \"AutoML_0d720723-98c3-40bc-84a4-3dd30dacafef_29\", \"run_number\": 34, \"metric\": null, \"status\": \"Completed\", \"run_type\": \"azureml.scriptrun\", \"training_percent\": \"100\", \"start_time\": \"2021-05-14T17:26:43.708176Z\", \"end_time\": \"2021-05-14T17:27:24.942747Z\", \"created_time\": \"2021-05-14T17:26:27.601196Z\", \"created_time_dt\": \"2021-05-14T17:26:27.601196Z\", \"duration\": \"0:00:57\", \"iteration\": \"29\", \"goal\": \"AUC_weighted_max\", \"run_name\": \"StandardScalerWrapper, XGBoostClassifier\", \"run_properties\": \"<azureml.automl.runtime.shared.model_wrappers.StandardScalerWrapper object at 0x7fc4a62afeb8\", \"primary_metric\": 0.91089396, \"best_metric\": 0.91384084}, {\"run_id\": \"AutoML_0d720723-98c3-40bc-84a4-3dd30dacafef_30\", \"run_number\": 35, \"metric\": null, \"status\": \"Completed\", \"run_type\": \"azureml.scriptrun\", \"training_percent\": \"100\", \"start_time\": \"2021-05-14T17:26:49.830112Z\", \"end_time\": \"2021-05-14T17:27:38.577965Z\", \"created_time\": \"2021-05-14T17:26:31.264851Z\", \"created_time_dt\": \"2021-05-14T17:26:31.264851Z\", \"duration\": \"0:01:07\", \"iteration\": \"30\", \"goal\": \"AUC_weighted_max\", \"run_name\": \"SparseNormalizer, XGBoostClassifier\", \"run_properties\": \"<azureml.automl.runtime.shared.model_wrappers.SparseNormalizer object at 0x7f623aaa5c88\", \"primary_metric\": 0.90597958, \"best_metric\": 0.91384084}, {\"run_id\": \"AutoML_0d720723-98c3-40bc-84a4-3dd30dacafef_31\", \"run_number\": 36, \"metric\": null, \"status\": \"Completed\", \"run_type\": \"azureml.scriptrun\", \"training_percent\": \"100\", \"start_time\": \"2021-05-14T17:27:37.841341Z\", \"end_time\": \"2021-05-14T17:28:19.240254Z\", \"created_time\": \"2021-05-14T17:26:34.335573Z\", \"created_time_dt\": \"2021-05-14T17:26:34.335573Z\", \"duration\": \"0:01:44\", \"iteration\": \"31\", \"goal\": \"AUC_weighted_max\", \"run_name\": \"SparseNormalizer, XGBoostClassifier\", \"run_properties\": \"<azureml.automl.runtime.shared.model_wrappers.SparseNormalizer object at 0x7fc2266e4f98\", \"primary_metric\": 0.90014491, \"best_metric\": 0.91384084}, {\"run_id\": \"AutoML_0d720723-98c3-40bc-84a4-3dd30dacafef_32\", \"run_number\": 37, \"metric\": null, \"status\": \"Completed\", \"run_type\": \"azureml.scriptrun\", \"training_percent\": \"100\", \"start_time\": \"2021-05-14T17:27:38.424198Z\", \"end_time\": \"2021-05-14T17:28:23.300736Z\", \"created_time\": \"2021-05-14T17:27:22.685476Z\", \"created_time_dt\": \"2021-05-14T17:27:22.685476Z\", \"duration\": \"0:01:00\", \"iteration\": \"32\", \"goal\": \"AUC_weighted_max\", \"run_name\": \"SparseNormalizer, XGBoostClassifier\", \"run_properties\": \"<azureml.automl.runtime.shared.model_wrappers.SparseNormalizer object at 0x7fdabbe19a58\", \"primary_metric\": 0.90802828, \"best_metric\": 0.91384084}, {\"run_id\": \"AutoML_0d720723-98c3-40bc-84a4-3dd30dacafef_33\", \"run_number\": 38, \"metric\": null, \"status\": \"Completed\", \"run_type\": \"azureml.scriptrun\", \"training_percent\": \"100\", \"start_time\": \"2021-05-14T17:27:41.991795Z\", \"end_time\": \"2021-05-14T17:28:27.803717Z\", \"created_time\": \"2021-05-14T17:27:25.421063Z\", \"created_time_dt\": \"2021-05-14T17:27:25.421063Z\", \"duration\": \"0:01:02\", \"iteration\": \"33\", \"goal\": \"AUC_weighted_max\", \"run_name\": \"SparseNormalizer, XGBoostClassifier\", \"run_properties\": \"<azureml.automl.runtime.shared.model_wrappers.SparseNormalizer object at 0x7fcee508b710\", \"primary_metric\": 0.90935708, \"best_metric\": 0.91384084}, {\"run_id\": \"AutoML_0d720723-98c3-40bc-84a4-3dd30dacafef_34\", \"run_number\": 39, \"metric\": null, \"status\": \"Completed\", \"run_type\": \"azureml.scriptrun\", \"training_percent\": \"100\", \"start_time\": \"2021-05-14T17:27:53.419414Z\", \"end_time\": \"2021-05-14T17:28:34.705315Z\", \"created_time\": \"2021-05-14T17:27:28.168341Z\", \"created_time_dt\": \"2021-05-14T17:27:28.168341Z\", \"duration\": \"0:01:06\", \"iteration\": \"34\", \"goal\": \"AUC_weighted_max\", \"run_name\": \"SparseNormalizer, XGBoostClassifier\", \"run_properties\": \"<azureml.automl.runtime.shared.model_wrappers.SparseNormalizer object at 0x7f6db7e53128\", \"primary_metric\": 0.87834747, \"best_metric\": 0.91384084}, {\"run_id\": \"AutoML_0d720723-98c3-40bc-84a4-3dd30dacafef_35\", \"run_number\": 40, \"metric\": null, \"status\": \"Completed\", \"run_type\": \"azureml.scriptrun\", \"training_percent\": \"100\", \"start_time\": \"2021-05-14T17:28:35.851759Z\", \"end_time\": \"2021-05-14T17:29:19.212665Z\", \"created_time\": \"2021-05-14T17:27:41.685332Z\", \"created_time_dt\": \"2021-05-14T17:27:41.685332Z\", \"duration\": \"0:01:37\", \"iteration\": \"35\", \"goal\": \"AUC_weighted_max\", \"run_name\": \"StandardScalerWrapper, XGBoostClassifier\", \"run_properties\": \"<azureml.automl.runtime.shared.model_wrappers.StandardScalerWrapper object at 0x7fb9a41a6278\", \"primary_metric\": 0.91327899, \"best_metric\": 0.91384084}, {\"run_id\": \"AutoML_0d720723-98c3-40bc-84a4-3dd30dacafef_36\", \"run_number\": 41, \"metric\": null, \"status\": \"Completed\", \"run_type\": \"azureml.scriptrun\", \"training_percent\": \"100\", \"start_time\": \"2021-05-14T17:28:38.761833Z\", \"end_time\": \"2021-05-14T17:29:20.941791Z\", \"created_time\": \"2021-05-14T17:28:20.978453Z\", \"created_time_dt\": \"2021-05-14T17:28:20.978453Z\", \"duration\": \"0:00:59\", \"iteration\": \"36\", \"goal\": \"AUC_weighted_max\", \"run_name\": \"StandardScalerWrapper, XGBoostClassifier\", \"run_properties\": \"<azureml.automl.runtime.shared.model_wrappers.StandardScalerWrapper object at 0x7f62c32e0ac8\", \"primary_metric\": 0.91020846, \"best_metric\": 0.91384084}, {\"run_id\": \"AutoML_0d720723-98c3-40bc-84a4-3dd30dacafef_37\", \"run_number\": 42, \"metric\": null, \"status\": \"Completed\", \"run_type\": \"azureml.scriptrun\", \"training_percent\": \"100\", \"start_time\": \"2021-05-14T17:28:43.950029Z\", \"end_time\": \"2021-05-14T17:29:32.979849Z\", \"created_time\": \"2021-05-14T17:28:25.909527Z\", \"created_time_dt\": \"2021-05-14T17:28:25.909527Z\", \"duration\": \"0:01:07\", \"iteration\": \"37\", \"goal\": \"AUC_weighted_max\", \"run_name\": \"StandardScalerWrapper, XGBoostClassifier\", \"run_properties\": \"<azureml.automl.runtime.shared.model_wrappers.StandardScalerWrapper object at 0x7ff1615dc160\", \"primary_metric\": 0.90905515, \"best_metric\": 0.91384084}, {\"run_id\": \"AutoML_0d720723-98c3-40bc-84a4-3dd30dacafef_38\", \"run_number\": 43, \"metric\": null, \"status\": \"Completed\", \"run_type\": \"azureml.scriptrun\", \"training_percent\": \"100\", \"start_time\": \"2021-05-14T17:28:50.897803Z\", \"end_time\": \"2021-05-14T17:29:33.991795Z\", \"created_time\": \"2021-05-14T17:28:29.666128Z\", \"created_time_dt\": \"2021-05-14T17:28:29.666128Z\", \"duration\": \"0:01:04\", \"iteration\": \"38\", \"goal\": \"AUC_weighted_max\", \"run_name\": \"StandardScalerWrapper, XGBoostClassifier\", \"run_properties\": \"<azureml.automl.runtime.shared.model_wrappers.StandardScalerWrapper object at 0x7f77f4e25208\", \"primary_metric\": 0.91124075, \"best_metric\": 0.91384084}, {\"run_id\": \"AutoML_0d720723-98c3-40bc-84a4-3dd30dacafef_39\", \"run_number\": 44, \"metric\": null, \"status\": \"Completed\", \"run_type\": \"azureml.scriptrun\", \"training_percent\": \"100\", \"start_time\": \"2021-05-14T17:29:36.893264Z\", \"end_time\": \"2021-05-14T17:30:17.31453Z\", \"created_time\": \"2021-05-14T17:28:36.527565Z\", \"created_time_dt\": \"2021-05-14T17:28:36.527565Z\", \"duration\": \"0:01:40\", \"iteration\": \"39\", \"goal\": \"AUC_weighted_max\", \"run_name\": \"MaxAbsScaler, LightGBM\", \"run_properties\": \"copy=True\", \"primary_metric\": 0.90735598, \"best_metric\": 0.91384084}, {\"run_id\": \"AutoML_0d720723-98c3-40bc-84a4-3dd30dacafef_40\", \"run_number\": 45, \"metric\": null, \"status\": \"Completed\", \"run_type\": \"azureml.scriptrun\", \"training_percent\": \"100\", \"start_time\": \"2021-05-14T17:29:37.136314Z\", \"end_time\": \"2021-05-14T17:30:19.618355Z\", \"created_time\": \"2021-05-14T17:29:22.386Z\", \"created_time_dt\": \"2021-05-14T17:29:22.386Z\", \"duration\": \"0:00:57\", \"iteration\": \"40\", \"goal\": \"AUC_weighted_max\", \"run_name\": \"StandardScalerWrapper, XGBoostClassifier\", \"run_properties\": \"<azureml.automl.runtime.shared.model_wrappers.StandardScalerWrapper object at 0x7feb2412df98\", \"primary_metric\": 0.89177171, \"best_metric\": 0.91384084}, {\"run_id\": \"AutoML_0d720723-98c3-40bc-84a4-3dd30dacafef_41\", \"run_number\": 46, \"metric\": null, \"status\": \"Completed\", \"run_type\": \"azureml.scriptrun\", \"training_percent\": \"100\", \"start_time\": \"2021-05-14T17:29:48.423163Z\", \"end_time\": \"2021-05-14T17:30:33.044691Z\", \"created_time\": \"2021-05-14T17:29:25.341314Z\", \"created_time_dt\": \"2021-05-14T17:29:25.341314Z\", \"duration\": \"0:01:07\", \"iteration\": \"41\", \"goal\": \"AUC_weighted_max\", \"run_name\": \"MaxAbsScaler, LogisticRegression\", \"run_properties\": \"copy=True\", \"primary_metric\": 0.82755958, \"best_metric\": 0.91384084}, {\"run_id\": \"AutoML_0d720723-98c3-40bc-84a4-3dd30dacafef_42\", \"run_number\": 47, \"metric\": null, \"status\": \"Completed\", \"run_type\": \"azureml.scriptrun\", \"training_percent\": \"100\", \"start_time\": \"2021-05-14T17:29:51.583741Z\", \"end_time\": \"2021-05-14T17:30:43.596505Z\", \"created_time\": \"2021-05-14T17:29:35.104843Z\", \"created_time_dt\": \"2021-05-14T17:29:35.104843Z\", \"duration\": \"0:01:08\", \"iteration\": \"42\", \"goal\": \"AUC_weighted_max\", \"run_name\": \"StandardScalerWrapper, RandomForest\", \"run_properties\": \"<azureml.automl.runtime.shared.model_wrappers.StandardScalerWrapper object at 0x7fee5a3640f0\", \"primary_metric\": 0.86738467, \"best_metric\": 0.91384084}, {\"run_id\": \"AutoML_0d720723-98c3-40bc-84a4-3dd30dacafef_43\", \"run_number\": 48, \"metric\": null, \"status\": \"Canceled\", \"run_type\": \"azureml.scriptrun\", \"training_percent\": \"100\", \"start_time\": \"2021-05-14T17:30:33.828883Z\", \"end_time\": \"2021-05-14T17:30:47.24921Z\", \"created_time\": \"2021-05-14T17:29:38.159349Z\", \"created_time_dt\": \"2021-05-14T17:29:38.159349Z\", \"duration\": \"0:01:09\", \"iteration\": \"43\", \"goal\": null, \"run_name\": \"Canceled\", \"run_properties\": null}, {\"run_id\": \"AutoML_0d720723-98c3-40bc-84a4-3dd30dacafef_44\", \"run_number\": 49, \"metric\": null, \"status\": \"Canceled\", \"run_type\": \"azureml.scriptrun\", \"training_percent\": \"100\", \"start_time\": \"2021-05-14T17:30:36.744827Z\", \"end_time\": \"2021-05-14T17:30:47.364806Z\", \"created_time\": \"2021-05-14T17:30:19.342636Z\", \"created_time_dt\": \"2021-05-14T17:30:19.342636Z\", \"duration\": \"0:00:28\", \"iteration\": \"44\", \"goal\": null, \"run_name\": \"Canceled\", \"run_properties\": null}, {\"run_id\": \"AutoML_0d720723-98c3-40bc-84a4-3dd30dacafef_45\", \"run_number\": 50, \"metric\": null, \"status\": \"Canceled\", \"run_type\": \"azureml.scriptrun\", \"training_percent\": \"100\", \"start_time\": \"2021-05-14T17:30:24.221504Z\", \"end_time\": \"2021-05-14T17:30:44.782043Z\", \"created_time\": \"2021-05-14T17:30:24.221504Z\", \"created_time_dt\": \"2021-05-14T17:30:24.221504Z\", \"duration\": \"0:00:20\", \"iteration\": \"45\", \"goal\": null, \"run_name\": \"Canceled\", \"run_properties\": null}, {\"run_id\": \"AutoML_0d720723-98c3-40bc-84a4-3dd30dacafef_46\", \"run_number\": 51, \"metric\": null, \"status\": \"Canceled\", \"run_type\": \"azureml.scriptrun\", \"training_percent\": \"100\", \"start_time\": \"2021-05-14T17:30:34.949947Z\", \"end_time\": \"2021-05-14T17:30:44.830231Z\", \"created_time\": \"2021-05-14T17:30:34.949947Z\", \"created_time_dt\": \"2021-05-14T17:30:34.949947Z\", \"duration\": \"0:00:09\", \"iteration\": \"46\", \"goal\": null, \"run_name\": \"Canceled\", \"run_properties\": null}, {\"run_id\": \"AutoML_0d720723-98c3-40bc-84a4-3dd30dacafef_47\", \"run_number\": 52, \"metric\": null, \"status\": \"Completed\", \"run_type\": \"azureml.scriptrun\", \"training_percent\": \"100\", \"start_time\": \"2021-05-14T17:30:54.205779Z\", \"end_time\": \"2021-05-14T17:31:57.625479Z\", \"created_time\": \"2021-05-14T17:30:48.526869Z\", \"created_time_dt\": \"2021-05-14T17:30:48.526869Z\", \"duration\": \"0:01:09\", \"iteration\": \"47\", \"goal\": \"AUC_weighted_max\", \"run_name\": \"VotingEnsemble\", \"run_properties\": \"classification_labels=None,\\n                              estimators=[('27',\\n                                           Pipeline(memory=None,\\n                                                    steps=[('standardscalerwrapper',\\n                                                            <azureml.automl.runtime.shared.model_wrappers.StandardScalerWrapper object at 0x7f476c4f65f8>\", \"primary_metric\": 0.92525523, \"best_metric\": 0.92525523}, {\"run_id\": \"AutoML_0d720723-98c3-40bc-84a4-3dd30dacafef_48\", \"run_number\": 53, \"metric\": null, \"status\": \"Completed\", \"run_type\": \"azureml.scriptrun\", \"training_percent\": \"100\", \"start_time\": \"2021-05-14T17:30:54.229607Z\", \"end_time\": \"2021-05-14T17:32:09.045995Z\", \"created_time\": \"2021-05-14T17:30:48.559685Z\", \"created_time_dt\": \"2021-05-14T17:30:48.559685Z\", \"duration\": \"0:01:20\", \"iteration\": \"48\", \"goal\": \"AUC_weighted_max\", \"run_name\": \"StackEnsemble\", \"run_properties\": \"base_learners=[('27',\\n                                        Pipeline(memory=None,\\n                                                 steps=[('standardscalerwrapper',\\n                                                         <azureml.automl.runtime.shared.model_wrappers.StandardScalerWrapper object at 0x7faf043e4940>\", \"primary_metric\": 0.91633726, \"best_metric\": 0.92525523}], \"children_metrics\": {\"categories\": [0], \"series\": {\"f1_score_micro\": [{\"categories\": [\"0\", \"1\", \"2\", \"3\", \"4\", \"5\", \"6\", \"7\", \"8\", \"9\", \"10\", \"11\", \"12\", \"13\", \"14\", \"15\", \"16\", \"17\", \"18\", \"19\", \"20\", \"21\", \"22\", \"23\", \"24\", \"25\", \"26\", \"27\", \"28\", \"29\", \"30\", \"31\", \"32\", \"33\", \"34\", \"35\", \"36\", \"37\", \"38\", \"39\", \"40\", \"41\", \"42\", \"47\", \"48\"], \"mode\": \"markers\", \"name\": \"f1_score_micro\", \"stepped\": false, \"type\": \"scatter\", \"data\": [0.9475281322972195, 0.943527744219705, 0.8682357225352093, 0.8505899907898042, 0.859293825181712, 0.8701163036414163, 0.8647068087668305, 0.859293825181712, 0.859293825181712, 0.8315246861157295, 0.8256480362879057, 0.8138816124354921, 0.8150606304664771, 0.9317629816580212, 0.8614124692495086, 0.859293825181712, 0.8275279528778207, 0.7922270200298501, 0.7983510360473508, 0.8148219029885957, 0.9037624247933688, 0.8804694674699339, 0.8630581438465127, 0.9491754681849535, 0.8663516527184697, 0.9115284605682676, 0.949881682874219, 0.9505872330471926, 0.9312920057361046, 0.9458807964094856, 0.9317618187545104, 0.9190561011234312, 0.9331734174876766, 0.9395255287223877, 0.8917645831422849, 0.9449401735982361, 0.9487044922630368, 0.9482335163411202, 0.9482343469864851, 0.9310574314850477, 0.9056446671903055, 0.8720012041035211, 0.8745893289315774, 0.9482330179539012, 0.9543515517119934]}, {\"categories\": [\"0\", \"1\", \"2\", \"3\", \"4\", \"5\", \"6\", \"7\", \"8\", \"9\", \"10\", \"11\", \"12\", \"13\", \"14\", \"15\", \"16\", \"17\", \"18\", \"19\", \"20\", \"21\", \"22\", \"23\", \"24\", \"25\", \"26\", \"27\", \"28\", \"29\", \"30\", \"31\", \"32\", \"33\", \"34\", \"35\", \"36\", \"37\", \"38\", \"39\", \"40\", \"41\", \"42\", \"47\", \"48\"], \"mode\": \"lines\", \"name\": \"f1_score_micro_max\", \"stepped\": true, \"type\": \"scatter\", \"data\": [0.9475281322972195, 0.9475281322972195, 0.9475281322972195, 0.9475281322972195, 0.9475281322972195, 0.9475281322972195, 0.9475281322972195, 0.9475281322972195, 0.9475281322972195, 0.9475281322972195, 0.9475281322972195, 0.9475281322972195, 0.9475281322972195, 0.9475281322972195, 0.9475281322972195, 0.9475281322972195, 0.9475281322972195, 0.9475281322972195, 0.9475281322972195, 0.9475281322972195, 0.9475281322972195, 0.9475281322972195, 0.9475281322972195, 0.9491754681849535, 0.9491754681849535, 0.9491754681849535, 0.949881682874219, 0.9505872330471926, 0.9505872330471926, 0.9505872330471926, 0.9505872330471926, 0.9505872330471926, 0.9505872330471926, 0.9505872330471926, 0.9505872330471926, 0.9505872330471926, 0.9505872330471926, 0.9505872330471926, 0.9505872330471926, 0.9505872330471926, 0.9505872330471926, 0.9505872330471926, 0.9505872330471926, 0.9505872330471926, 0.9543515517119934]}], \"average_precision_score_weighted\": [{\"categories\": [\"0\", \"1\", \"2\", \"3\", \"4\", \"5\", \"6\", \"7\", \"8\", \"9\", \"10\", \"11\", \"12\", \"13\", \"14\", \"15\", \"16\", \"17\", \"18\", \"19\", \"20\", \"21\", \"22\", \"23\", \"24\", \"25\", \"26\", \"27\", \"28\", \"29\", \"30\", \"31\", \"32\", \"33\", \"34\", \"35\", \"36\", \"37\", \"38\", \"39\", \"40\", \"41\", \"42\", \"47\", \"48\"], \"mode\": \"markers\", \"name\": \"average_precision_score_weighted\", \"stepped\": false, \"type\": \"scatter\", \"data\": [0.9470075117163247, 0.9527778143688038, 0.8995426112306492, 0.9017271352202326, 0.8721961803717142, 0.8944206913791805, 0.9124956049656529, 0.9003288458709596, 0.895183246137254, 0.8940631629640649, 0.8840737044982755, 0.8682837742452931, 0.8789817380600303, 0.9472091751653212, 0.8910271150739262, 0.8949168741573854, 0.9026901744852958, 0.8905339761391046, 0.8630417621744929, 0.8862287431754631, 0.9206386517055319, 0.923580168928274, 0.894182209199676, 0.9516598969276213, 0.9105735695885979, 0.9452983882376915, 0.9529217741858232, 0.9559267389542727, 0.9455058767702534, 0.9525537392289669, 0.948303622813803, 0.9446524666113096, 0.9497504652059439, 0.9518462235171513, 0.9301929965976271, 0.9547994707845047, 0.9539165401807596, 0.9534614116279276, 0.9520921068111052, 0.9476902216638322, 0.9331685837563839, 0.8888089591951746, 0.9183945201131265, 0.9598613075857915, 0.954144577697976]}, {\"categories\": [\"0\", \"1\", \"2\", \"3\", \"4\", \"5\", \"6\", \"7\", \"8\", \"9\", \"10\", \"11\", \"12\", \"13\", \"14\", \"15\", \"16\", \"17\", \"18\", \"19\", \"20\", \"21\", \"22\", \"23\", \"24\", \"25\", \"26\", \"27\", \"28\", \"29\", \"30\", \"31\", \"32\", \"33\", \"34\", \"35\", \"36\", \"37\", \"38\", \"39\", \"40\", \"41\", \"42\", \"47\", \"48\"], \"mode\": \"lines\", \"name\": \"average_precision_score_weighted_max\", \"stepped\": true, \"type\": \"scatter\", \"data\": [0.9470075117163247, 0.9527778143688038, 0.9527778143688038, 0.9527778143688038, 0.9527778143688038, 0.9527778143688038, 0.9527778143688038, 0.9527778143688038, 0.9527778143688038, 0.9527778143688038, 0.9527778143688038, 0.9527778143688038, 0.9527778143688038, 0.9527778143688038, 0.9527778143688038, 0.9527778143688038, 0.9527778143688038, 0.9527778143688038, 0.9527778143688038, 0.9527778143688038, 0.9527778143688038, 0.9527778143688038, 0.9527778143688038, 0.9527778143688038, 0.9527778143688038, 0.9527778143688038, 0.9529217741858232, 0.9559267389542727, 0.9559267389542727, 0.9559267389542727, 0.9559267389542727, 0.9559267389542727, 0.9559267389542727, 0.9559267389542727, 0.9559267389542727, 0.9559267389542727, 0.9559267389542727, 0.9559267389542727, 0.9559267389542727, 0.9559267389542727, 0.9559267389542727, 0.9559267389542727, 0.9559267389542727, 0.9598613075857915, 0.9598613075857915]}], \"precision_score_micro\": [{\"categories\": [\"0\", \"1\", \"2\", \"3\", \"4\", \"5\", \"6\", \"7\", \"8\", \"9\", \"10\", \"11\", \"12\", \"13\", \"14\", \"15\", \"16\", \"17\", \"18\", \"19\", \"20\", \"21\", \"22\", \"23\", \"24\", \"25\", \"26\", \"27\", \"28\", \"29\", \"30\", \"31\", \"32\", \"33\", \"34\", \"35\", \"36\", \"37\", \"38\", \"39\", \"40\", \"41\", \"42\", \"47\", \"48\"], \"mode\": \"markers\", \"name\": \"precision_score_micro\", \"stepped\": false, \"type\": \"scatter\", \"data\": [0.9475281322972195, 0.943527744219705, 0.8682357225352094, 0.8505899907898042, 0.859293825181712, 0.8701163036414163, 0.8647068087668305, 0.859293825181712, 0.859293825181712, 0.8315246861157295, 0.8256480362879057, 0.8138816124354921, 0.8150606304664771, 0.9317629816580212, 0.8614124692495086, 0.859293825181712, 0.8275279528778207, 0.7922270200298501, 0.7983510360473508, 0.8148219029885956, 0.9037624247933688, 0.8804694674699339, 0.8630581438465127, 0.9491754681849535, 0.8663516527184697, 0.9115284605682678, 0.949881682874219, 0.9505872330471926, 0.9312920057361046, 0.9458807964094856, 0.9317618187545104, 0.9190561011234313, 0.9331734174876766, 0.9395255287223877, 0.8917645831422849, 0.9449401735982361, 0.9487044922630368, 0.9482335163411202, 0.9482343469864851, 0.9310574314850477, 0.9056446671903055, 0.8720012041035211, 0.8745893289315774, 0.9482330179539012, 0.9543515517119934]}, {\"categories\": [\"0\", \"1\", \"2\", \"3\", \"4\", \"5\", \"6\", \"7\", \"8\", \"9\", \"10\", \"11\", \"12\", \"13\", \"14\", \"15\", \"16\", \"17\", \"18\", \"19\", \"20\", \"21\", \"22\", \"23\", \"24\", \"25\", \"26\", \"27\", \"28\", \"29\", \"30\", \"31\", \"32\", \"33\", \"34\", \"35\", \"36\", \"37\", \"38\", \"39\", \"40\", \"41\", \"42\", \"47\", \"48\"], \"mode\": \"lines\", \"name\": \"precision_score_micro_max\", \"stepped\": true, \"type\": \"scatter\", \"data\": [0.9475281322972195, 0.9475281322972195, 0.9475281322972195, 0.9475281322972195, 0.9475281322972195, 0.9475281322972195, 0.9475281322972195, 0.9475281322972195, 0.9475281322972195, 0.9475281322972195, 0.9475281322972195, 0.9475281322972195, 0.9475281322972195, 0.9475281322972195, 0.9475281322972195, 0.9475281322972195, 0.9475281322972195, 0.9475281322972195, 0.9475281322972195, 0.9475281322972195, 0.9475281322972195, 0.9475281322972195, 0.9475281322972195, 0.9491754681849535, 0.9491754681849535, 0.9491754681849535, 0.949881682874219, 0.9505872330471926, 0.9505872330471926, 0.9505872330471926, 0.9505872330471926, 0.9505872330471926, 0.9505872330471926, 0.9505872330471926, 0.9505872330471926, 0.9505872330471926, 0.9505872330471926, 0.9505872330471926, 0.9505872330471926, 0.9505872330471926, 0.9505872330471926, 0.9505872330471926, 0.9505872330471926, 0.9505872330471926, 0.9543515517119934]}], \"recall_score_weighted\": [{\"categories\": [\"0\", \"1\", \"2\", \"3\", \"4\", \"5\", \"6\", \"7\", \"8\", \"9\", \"10\", \"11\", \"12\", \"13\", \"14\", \"15\", \"16\", \"17\", \"18\", \"19\", \"20\", \"21\", \"22\", \"23\", \"24\", \"25\", \"26\", \"27\", \"28\", \"29\", \"30\", \"31\", \"32\", \"33\", \"34\", \"35\", \"36\", \"37\", \"38\", \"39\", \"40\", \"41\", \"42\", \"47\", \"48\"], \"mode\": \"markers\", \"name\": \"recall_score_weighted\", \"stepped\": false, \"type\": \"scatter\", \"data\": [0.9475281322972195, 0.943527744219705, 0.8682357225352094, 0.8505899907898042, 0.859293825181712, 0.8701163036414163, 0.8647068087668305, 0.859293825181712, 0.859293825181712, 0.8315246861157295, 0.8256480362879057, 0.8138816124354921, 0.8150606304664771, 0.9317629816580212, 0.8614124692495086, 0.859293825181712, 0.8275279528778207, 0.7922270200298501, 0.7983510360473508, 0.8148219029885956, 0.9037624247933688, 0.8804694674699339, 0.8630581438465127, 0.9491754681849535, 0.8663516527184697, 0.9115284605682678, 0.949881682874219, 0.9505872330471926, 0.9312920057361046, 0.9458807964094856, 0.9317618187545104, 0.9190561011234313, 0.9331734174876766, 0.9395255287223877, 0.8917645831422849, 0.9449401735982361, 0.9487044922630368, 0.9482335163411202, 0.9482343469864851, 0.9310574314850477, 0.9056446671903055, 0.8720012041035211, 0.8745893289315774, 0.9482330179539012, 0.9543515517119934]}, {\"categories\": [\"0\", \"1\", \"2\", \"3\", \"4\", \"5\", \"6\", \"7\", \"8\", \"9\", \"10\", \"11\", \"12\", \"13\", \"14\", \"15\", \"16\", \"17\", \"18\", \"19\", \"20\", \"21\", \"22\", \"23\", \"24\", \"25\", \"26\", \"27\", \"28\", \"29\", \"30\", \"31\", \"32\", \"33\", \"34\", \"35\", \"36\", \"37\", \"38\", \"39\", \"40\", \"41\", \"42\", \"47\", \"48\"], \"mode\": \"lines\", \"name\": \"recall_score_weighted_max\", \"stepped\": true, \"type\": \"scatter\", \"data\": [0.9475281322972195, 0.9475281322972195, 0.9475281322972195, 0.9475281322972195, 0.9475281322972195, 0.9475281322972195, 0.9475281322972195, 0.9475281322972195, 0.9475281322972195, 0.9475281322972195, 0.9475281322972195, 0.9475281322972195, 0.9475281322972195, 0.9475281322972195, 0.9475281322972195, 0.9475281322972195, 0.9475281322972195, 0.9475281322972195, 0.9475281322972195, 0.9475281322972195, 0.9475281322972195, 0.9475281322972195, 0.9475281322972195, 0.9491754681849535, 0.9491754681849535, 0.9491754681849535, 0.949881682874219, 0.9505872330471926, 0.9505872330471926, 0.9505872330471926, 0.9505872330471926, 0.9505872330471926, 0.9505872330471926, 0.9505872330471926, 0.9505872330471926, 0.9505872330471926, 0.9505872330471926, 0.9505872330471926, 0.9505872330471926, 0.9505872330471926, 0.9505872330471926, 0.9505872330471926, 0.9505872330471926, 0.9505872330471926, 0.9543515517119934]}], \"log_loss\": [{\"categories\": [\"0\", \"1\", \"2\", \"3\", \"4\", \"5\", \"6\", \"7\", \"8\", \"9\", \"10\", \"11\", \"12\", \"13\", \"14\", \"15\", \"16\", \"17\", \"18\", \"19\", \"20\", \"21\", \"22\", \"23\", \"24\", \"25\", \"26\", \"27\", \"28\", \"29\", \"30\", \"31\", \"32\", \"33\", \"34\", \"35\", \"36\", \"37\", \"38\", \"39\", \"40\", \"41\", \"42\", \"47\", \"48\"], \"mode\": \"markers\", \"name\": \"log_loss\", \"stepped\": false, \"type\": \"scatter\", \"data\": [0.20289810147641282, 0.18759161209382716, 0.31812027609579174, 0.5615388268105632, 0.3631461992757625, 0.29678864039497915, 0.292079723848436, 0.3323341855997977, 0.3465365120157855, 0.5792357631602371, 0.5551194794847712, 0.5751604866344521, 0.6403544954192206, 0.33380255549422605, 0.3416307661366164, 0.306776693211119, 0.4762201511970061, 0.6248191511678126, 0.6321182165971316, 0.4934767466069667, 0.2649074250071266, 0.2929880106235114, 0.3293148687448218, 0.17850665624768003, 0.31818770583701067, 0.2585202627857041, 0.1723754736501233, 0.17642182857152844, 0.22244860123365304, 0.18836115932725353, 0.20699004667582063, 0.35044443815369225, 0.20207650169816171, 0.19322922153986608, 0.3714292173503815, 0.1880558703681722, 0.18043427016262106, 0.18880718258915855, 0.18211093373242573, 0.2156549108080493, 0.3536319605792582, 0.3298414201417445, 0.3034941422500094, 0.21058035673956096, 0.15592239151668805]}, {\"categories\": [\"0\", \"1\", \"2\", \"3\", \"4\", \"5\", \"6\", \"7\", \"8\", \"9\", \"10\", \"11\", \"12\", \"13\", \"14\", \"15\", \"16\", \"17\", \"18\", \"19\", \"20\", \"21\", \"22\", \"23\", \"24\", \"25\", \"26\", \"27\", \"28\", \"29\", \"30\", \"31\", \"32\", \"33\", \"34\", \"35\", \"36\", \"37\", \"38\", \"39\", \"40\", \"41\", \"42\", \"47\", \"48\"], \"mode\": \"lines\", \"name\": \"log_loss_min\", \"stepped\": true, \"type\": \"scatter\", \"data\": [0.20289810147641282, 0.18759161209382716, 0.18759161209382716, 0.18759161209382716, 0.18759161209382716, 0.18759161209382716, 0.18759161209382716, 0.18759161209382716, 0.18759161209382716, 0.18759161209382716, 0.18759161209382716, 0.18759161209382716, 0.18759161209382716, 0.18759161209382716, 0.18759161209382716, 0.18759161209382716, 0.18759161209382716, 0.18759161209382716, 0.18759161209382716, 0.18759161209382716, 0.18759161209382716, 0.18759161209382716, 0.18759161209382716, 0.17850665624768003, 0.17850665624768003, 0.17850665624768003, 0.1723754736501233, 0.1723754736501233, 0.1723754736501233, 0.1723754736501233, 0.1723754736501233, 0.1723754736501233, 0.1723754736501233, 0.1723754736501233, 0.1723754736501233, 0.1723754736501233, 0.1723754736501233, 0.1723754736501233, 0.1723754736501233, 0.1723754736501233, 0.1723754736501233, 0.1723754736501233, 0.1723754736501233, 0.1723754736501233, 0.15592239151668805]}], \"AUC_macro\": [{\"categories\": [\"0\", \"1\", \"2\", \"3\", \"4\", \"5\", \"6\", \"7\", \"8\", \"9\", \"10\", \"11\", \"12\", \"13\", \"14\", \"15\", \"16\", \"17\", \"18\", \"19\", \"20\", \"21\", \"22\", \"23\", \"24\", \"25\", \"26\", \"27\", \"28\", \"29\", \"30\", \"31\", \"32\", \"33\", \"34\", \"35\", \"36\", \"37\", \"38\", \"39\", \"40\", \"41\", \"42\", \"47\", \"48\"], \"mode\": \"markers\", \"name\": \"AUC_macro\", \"stepped\": false, \"type\": \"scatter\", \"data\": [0.8945939214995663, 0.9118146898595055, 0.8462246516811215, 0.8360849842275392, 0.7603659894556661, 0.8443639678866323, 0.8695196832679191, 0.8576007081452041, 0.8357499659035348, 0.845171814876242, 0.8109513270459995, 0.7467380340473467, 0.7863819655756371, 0.9029311905002401, 0.817332418584683, 0.8579157775436448, 0.8579906068970237, 0.8296615588985286, 0.7367753251154797, 0.8247732356032591, 0.8677657781810191, 0.8663230165998823, 0.8275865319334677, 0.9081016659604959, 0.8515824692383048, 0.9059102525848525, 0.9074245516939156, 0.913840838059946, 0.9047887524886636, 0.9108939552109607, 0.9059795774434859, 0.9001449096691716, 0.9080282834746664, 0.9093570789657593, 0.8783474739802558, 0.9132789861900473, 0.9102084631456427, 0.9090551460187468, 0.9112407473225895, 0.9073559752701114, 0.8917717105495363, 0.8275595808921433, 0.8673846730774523, 0.9252552329904044, 0.9163372617823797]}, {\"categories\": [\"0\", \"1\", \"2\", \"3\", \"4\", \"5\", \"6\", \"7\", \"8\", \"9\", \"10\", \"11\", \"12\", \"13\", \"14\", \"15\", \"16\", \"17\", \"18\", \"19\", \"20\", \"21\", \"22\", \"23\", \"24\", \"25\", \"26\", \"27\", \"28\", \"29\", \"30\", \"31\", \"32\", \"33\", \"34\", \"35\", \"36\", \"37\", \"38\", \"39\", \"40\", \"41\", \"42\", \"47\", \"48\"], \"mode\": \"lines\", \"name\": \"AUC_macro_max\", \"stepped\": true, \"type\": \"scatter\", \"data\": [0.8945939214995663, 0.9118146898595055, 0.9118146898595055, 0.9118146898595055, 0.9118146898595055, 0.9118146898595055, 0.9118146898595055, 0.9118146898595055, 0.9118146898595055, 0.9118146898595055, 0.9118146898595055, 0.9118146898595055, 0.9118146898595055, 0.9118146898595055, 0.9118146898595055, 0.9118146898595055, 0.9118146898595055, 0.9118146898595055, 0.9118146898595055, 0.9118146898595055, 0.9118146898595055, 0.9118146898595055, 0.9118146898595055, 0.9118146898595055, 0.9118146898595055, 0.9118146898595055, 0.9118146898595055, 0.913840838059946, 0.913840838059946, 0.913840838059946, 0.913840838059946, 0.913840838059946, 0.913840838059946, 0.913840838059946, 0.913840838059946, 0.913840838059946, 0.913840838059946, 0.913840838059946, 0.913840838059946, 0.913840838059946, 0.913840838059946, 0.913840838059946, 0.913840838059946, 0.9252552329904044, 0.9252552329904044]}], \"precision_score_weighted\": [{\"categories\": [\"0\", \"1\", \"2\", \"3\", \"4\", \"5\", \"6\", \"7\", \"8\", \"9\", \"10\", \"11\", \"12\", \"13\", \"14\", \"15\", \"16\", \"17\", \"18\", \"19\", \"20\", \"21\", \"22\", \"23\", \"24\", \"25\", \"26\", \"27\", \"28\", \"29\", \"30\", \"31\", \"32\", \"33\", \"34\", \"35\", \"36\", \"37\", \"38\", \"39\", \"40\", \"41\", \"42\", \"47\", \"48\"], \"mode\": \"markers\", \"name\": \"precision_score_weighted\", \"stepped\": false, \"type\": \"scatter\", \"data\": [0.9465601233522909, 0.942708032169183, 0.8241505154669921, 0.8724335199082991, 0.7384232561014045, 0.861203822079308, 0.825307667401972, 0.7384232561014045, 0.7384232561014045, 0.8831679296443143, 0.863735265134916, 0.8373080605475448, 0.856464171430802, 0.9310433892772307, 0.7803264746907933, 0.7384232561014045, 0.8864380449838586, 0.8727758872852451, 0.8336971145497237, 0.8747974595838371, 0.89703216838318, 0.8898638408178904, 0.8506639269163503, 0.9482978093190771, 0.8766703117318198, 0.9125467021463125, 0.948963501155995, 0.9497605672743369, 0.9278222300346627, 0.9448394476274594, 0.9286095431786223, 0.9211467744154843, 0.9302233778965302, 0.9372645633491358, 0.894683623137016, 0.9440962181947796, 0.9477047937567112, 0.9475722064923685, 0.9471154493387943, 0.9289105264223867, 0.8979115092972805, 0.8526161255186967, 0.8906309033364902, 0.9496361807917945, 0.9533729972894346]}, {\"categories\": [\"0\", \"1\", \"2\", \"3\", \"4\", \"5\", \"6\", \"7\", \"8\", \"9\", \"10\", \"11\", \"12\", \"13\", \"14\", \"15\", \"16\", \"17\", \"18\", \"19\", \"20\", \"21\", \"22\", \"23\", \"24\", \"25\", \"26\", \"27\", \"28\", \"29\", \"30\", \"31\", \"32\", \"33\", \"34\", \"35\", \"36\", \"37\", \"38\", \"39\", \"40\", \"41\", \"42\", \"47\", \"48\"], \"mode\": \"lines\", \"name\": \"precision_score_weighted_max\", \"stepped\": true, \"type\": \"scatter\", \"data\": [0.9465601233522909, 0.9465601233522909, 0.9465601233522909, 0.9465601233522909, 0.9465601233522909, 0.9465601233522909, 0.9465601233522909, 0.9465601233522909, 0.9465601233522909, 0.9465601233522909, 0.9465601233522909, 0.9465601233522909, 0.9465601233522909, 0.9465601233522909, 0.9465601233522909, 0.9465601233522909, 0.9465601233522909, 0.9465601233522909, 0.9465601233522909, 0.9465601233522909, 0.9465601233522909, 0.9465601233522909, 0.9465601233522909, 0.9482978093190771, 0.9482978093190771, 0.9482978093190771, 0.948963501155995, 0.9497605672743369, 0.9497605672743369, 0.9497605672743369, 0.9497605672743369, 0.9497605672743369, 0.9497605672743369, 0.9497605672743369, 0.9497605672743369, 0.9497605672743369, 0.9497605672743369, 0.9497605672743369, 0.9497605672743369, 0.9497605672743369, 0.9497605672743369, 0.9497605672743369, 0.9497605672743369, 0.9497605672743369, 0.9533729972894346]}], \"accuracy\": [{\"categories\": [\"0\", \"1\", \"2\", \"3\", \"4\", \"5\", \"6\", \"7\", \"8\", \"9\", \"10\", \"11\", \"12\", \"13\", \"14\", \"15\", \"16\", \"17\", \"18\", \"19\", \"20\", \"21\", \"22\", \"23\", \"24\", \"25\", \"26\", \"27\", \"28\", \"29\", \"30\", \"31\", \"32\", \"33\", \"34\", \"35\", \"36\", \"37\", \"38\", \"39\", \"40\", \"41\", \"42\", \"47\", \"48\"], \"mode\": \"markers\", \"name\": \"accuracy\", \"stepped\": false, \"type\": \"scatter\", \"data\": [0.9475281322972195, 0.943527744219705, 0.8682357225352094, 0.8505899907898042, 0.859293825181712, 0.8701163036414163, 0.8647068087668305, 0.859293825181712, 0.859293825181712, 0.8315246861157295, 0.8256480362879057, 0.8138816124354921, 0.8150606304664771, 0.9317629816580212, 0.8614124692495086, 0.859293825181712, 0.8275279528778207, 0.7922270200298501, 0.7983510360473508, 0.8148219029885956, 0.9037624247933688, 0.8804694674699339, 0.8630581438465127, 0.9491754681849535, 0.8663516527184697, 0.9115284605682678, 0.949881682874219, 0.9505872330471926, 0.9312920057361046, 0.9458807964094856, 0.9317618187545104, 0.9190561011234313, 0.9331734174876766, 0.9395255287223877, 0.8917645831422849, 0.9449401735982361, 0.9487044922630368, 0.9482335163411202, 0.9482343469864851, 0.9310574314850477, 0.9056446671903055, 0.8720012041035211, 0.8745893289315774, 0.9482330179539012, 0.9543515517119934]}, {\"categories\": [\"0\", \"1\", \"2\", \"3\", \"4\", \"5\", \"6\", \"7\", \"8\", \"9\", \"10\", \"11\", \"12\", \"13\", \"14\", \"15\", \"16\", \"17\", \"18\", \"19\", \"20\", \"21\", \"22\", \"23\", \"24\", \"25\", \"26\", \"27\", \"28\", \"29\", \"30\", \"31\", \"32\", \"33\", \"34\", \"35\", \"36\", \"37\", \"38\", \"39\", \"40\", \"41\", \"42\", \"47\", \"48\"], \"mode\": \"lines\", \"name\": \"accuracy_max\", \"stepped\": true, \"type\": \"scatter\", \"data\": [0.9475281322972195, 0.9475281322972195, 0.9475281322972195, 0.9475281322972195, 0.9475281322972195, 0.9475281322972195, 0.9475281322972195, 0.9475281322972195, 0.9475281322972195, 0.9475281322972195, 0.9475281322972195, 0.9475281322972195, 0.9475281322972195, 0.9475281322972195, 0.9475281322972195, 0.9475281322972195, 0.9475281322972195, 0.9475281322972195, 0.9475281322972195, 0.9475281322972195, 0.9475281322972195, 0.9475281322972195, 0.9475281322972195, 0.9491754681849535, 0.9491754681849535, 0.9491754681849535, 0.949881682874219, 0.9505872330471926, 0.9505872330471926, 0.9505872330471926, 0.9505872330471926, 0.9505872330471926, 0.9505872330471926, 0.9505872330471926, 0.9505872330471926, 0.9505872330471926, 0.9505872330471926, 0.9505872330471926, 0.9505872330471926, 0.9505872330471926, 0.9505872330471926, 0.9505872330471926, 0.9505872330471926, 0.9505872330471926, 0.9543515517119934]}], \"balanced_accuracy\": [{\"categories\": [\"0\", \"1\", \"2\", \"3\", \"4\", \"5\", \"6\", \"7\", \"8\", \"9\", \"10\", \"11\", \"12\", \"13\", \"14\", \"15\", \"16\", \"17\", \"18\", \"19\", \"20\", \"21\", \"22\", \"23\", \"24\", \"25\", \"26\", \"27\", \"28\", \"29\", \"30\", \"31\", \"32\", \"33\", \"34\", \"35\", \"36\", \"37\", \"38\", \"39\", \"40\", \"41\", \"42\", \"47\", \"48\"], \"mode\": \"markers\", \"name\": \"balanced_accuracy\", \"stepped\": false, \"type\": \"scatter\", \"data\": [0.8373267985462295, 0.8217085071702014, 0.5424013916060186, 0.7614788918808033, 0.5, 0.5495984400112289, 0.5229900754523504, 0.5, 0.5, 0.80135882278725, 0.7457040206173716, 0.6805078205733812, 0.7306529723645464, 0.7784033197489305, 0.5088467129373707, 0.5, 0.8110787843245042, 0.778880865988859, 0.6764642401250276, 0.781965940596684, 0.6976111093055112, 0.5785324598773556, 0.5195433730382809, 0.8432898819409381, 0.5261676415923224, 0.6995757832973489, 0.8454871099916349, 0.8485628326117441, 0.805449751799482, 0.8322988344761052, 0.7974903284964053, 0.7247450307767728, 0.8015558435077615, 0.8211599146482906, 0.6286628365731111, 0.8269244956037071, 0.8452352273168543, 0.8380237016975626, 0.8436798010175682, 0.7869069820068685, 0.7139094812145054, 0.6450600290079852, 0.554656917489312, 0.8228566457002033, 0.8629816115157176]}, {\"categories\": [\"0\", \"1\", \"2\", \"3\", \"4\", \"5\", \"6\", \"7\", \"8\", \"9\", \"10\", \"11\", \"12\", \"13\", \"14\", \"15\", \"16\", \"17\", \"18\", \"19\", \"20\", \"21\", \"22\", \"23\", \"24\", \"25\", \"26\", \"27\", \"28\", \"29\", \"30\", \"31\", \"32\", \"33\", \"34\", \"35\", \"36\", \"37\", \"38\", \"39\", \"40\", \"41\", \"42\", \"47\", \"48\"], \"mode\": \"lines\", \"name\": \"balanced_accuracy_max\", \"stepped\": true, \"type\": \"scatter\", \"data\": [0.8373267985462295, 0.8373267985462295, 0.8373267985462295, 0.8373267985462295, 0.8373267985462295, 0.8373267985462295, 0.8373267985462295, 0.8373267985462295, 0.8373267985462295, 0.8373267985462295, 0.8373267985462295, 0.8373267985462295, 0.8373267985462295, 0.8373267985462295, 0.8373267985462295, 0.8373267985462295, 0.8373267985462295, 0.8373267985462295, 0.8373267985462295, 0.8373267985462295, 0.8373267985462295, 0.8373267985462295, 0.8373267985462295, 0.8432898819409381, 0.8432898819409381, 0.8432898819409381, 0.8454871099916349, 0.8485628326117441, 0.8485628326117441, 0.8485628326117441, 0.8485628326117441, 0.8485628326117441, 0.8485628326117441, 0.8485628326117441, 0.8485628326117441, 0.8485628326117441, 0.8485628326117441, 0.8485628326117441, 0.8485628326117441, 0.8485628326117441, 0.8485628326117441, 0.8485628326117441, 0.8485628326117441, 0.8485628326117441, 0.8629816115157176]}], \"norm_macro_recall\": [{\"categories\": [\"0\", \"1\", \"2\", \"3\", \"4\", \"5\", \"6\", \"7\", \"8\", \"9\", \"10\", \"11\", \"12\", \"13\", \"14\", \"15\", \"16\", \"17\", \"18\", \"19\", \"20\", \"21\", \"22\", \"23\", \"24\", \"25\", \"26\", \"27\", \"28\", \"29\", \"30\", \"31\", \"32\", \"33\", \"34\", \"35\", \"36\", \"37\", \"38\", \"39\", \"40\", \"41\", \"42\", \"47\", \"48\"], \"mode\": \"markers\", \"name\": \"norm_macro_recall\", \"stepped\": false, \"type\": \"scatter\", \"data\": [0.6746535970924591, 0.6434170143404029, 0.0848027832120372, 0.5229577837616066, 0.0, 0.09919688002245779, 0.04598015090470079, 0.0, 0.0, 0.6027176455745004, 0.4914080412347431, 0.3610156411467625, 0.46130594472909303, 0.5568066394978612, 0.017693425874741504, 0.0, 0.6221575686490085, 0.5577617319777182, 0.35292848025005524, 0.5639318811933679, 0.3952222186110225, 0.15706491975471124, 0.03908674607656167, 0.6865797638818765, 0.05233528318464472, 0.3991515665946977, 0.6909742199832699, 0.6971256652234882, 0.610899503598964, 0.6645976689522103, 0.5949806569928103, 0.4494900615535456, 0.6031116870155231, 0.6423198292965814, 0.2573256731462223, 0.6538489912074142, 0.6904704546337084, 0.676047403395125, 0.6873596020351366, 0.5738139640137369, 0.42781896242901096, 0.2901200580159704, 0.10931383497862408, 0.6457132914004068, 0.7259632230314353]}, {\"categories\": [\"0\", \"1\", \"2\", \"3\", \"4\", \"5\", \"6\", \"7\", \"8\", \"9\", \"10\", \"11\", \"12\", \"13\", \"14\", \"15\", \"16\", \"17\", \"18\", \"19\", \"20\", \"21\", \"22\", \"23\", \"24\", \"25\", \"26\", \"27\", \"28\", \"29\", \"30\", \"31\", \"32\", \"33\", \"34\", \"35\", \"36\", \"37\", \"38\", \"39\", \"40\", \"41\", \"42\", \"47\", \"48\"], \"mode\": \"lines\", \"name\": \"norm_macro_recall_max\", \"stepped\": true, \"type\": \"scatter\", \"data\": [0.6746535970924591, 0.6746535970924591, 0.6746535970924591, 0.6746535970924591, 0.6746535970924591, 0.6746535970924591, 0.6746535970924591, 0.6746535970924591, 0.6746535970924591, 0.6746535970924591, 0.6746535970924591, 0.6746535970924591, 0.6746535970924591, 0.6746535970924591, 0.6746535970924591, 0.6746535970924591, 0.6746535970924591, 0.6746535970924591, 0.6746535970924591, 0.6746535970924591, 0.6746535970924591, 0.6746535970924591, 0.6746535970924591, 0.6865797638818765, 0.6865797638818765, 0.6865797638818765, 0.6909742199832699, 0.6971256652234882, 0.6971256652234882, 0.6971256652234882, 0.6971256652234882, 0.6971256652234882, 0.6971256652234882, 0.6971256652234882, 0.6971256652234882, 0.6971256652234882, 0.6971256652234882, 0.6971256652234882, 0.6971256652234882, 0.6971256652234882, 0.6971256652234882, 0.6971256652234882, 0.6971256652234882, 0.6971256652234882, 0.7259632230314353]}], \"AUC_micro\": [{\"categories\": [\"0\", \"1\", \"2\", \"3\", \"4\", \"5\", \"6\", \"7\", \"8\", \"9\", \"10\", \"11\", \"12\", \"13\", \"14\", \"15\", \"16\", \"17\", \"18\", \"19\", \"20\", \"21\", \"22\", \"23\", \"24\", \"25\", \"26\", \"27\", \"28\", \"29\", \"30\", \"31\", \"32\", \"33\", \"34\", \"35\", \"36\", \"37\", \"38\", \"39\", \"40\", \"41\", \"42\", \"47\", \"48\"], \"mode\": \"markers\", \"name\": \"AUC_micro\", \"stepped\": false, \"type\": \"scatter\", \"data\": [0.9676869528121402, 0.9710625119914686, 0.9431234741507347, 0.9034247250587568, 0.922268307297493, 0.9429226689702169, 0.9486277470040062, 0.9455892041600725, 0.9403487195941115, 0.8667398021642571, 0.8572930089359772, 0.837856577096415, 0.8488725189193431, 0.9664364830763922, 0.9360793958660065, 0.9457531562969854, 0.8712963611381773, 0.8511970680345811, 0.8129736184849102, 0.862255739226749, 0.9541477047796293, 0.9491037584618703, 0.938475363550888, 0.9706763604927958, 0.9444244117181092, 0.9638483064098771, 0.9711477698575566, 0.9725169023123784, 0.967984754818728, 0.9708482297697394, 0.9681487824264039, 0.963694424934519, 0.9690821598265756, 0.970100268763376, 0.9545418823726229, 0.9715125050967338, 0.9716865592091266, 0.9708509753861918, 0.9714933140467553, 0.9682552090294619, 0.9611263169933103, 0.9378006871220751, 0.9484689292712138, 0.974286402091726, 0.974762984358173]}, {\"categories\": [\"0\", \"1\", \"2\", \"3\", \"4\", \"5\", \"6\", \"7\", \"8\", \"9\", \"10\", \"11\", \"12\", \"13\", \"14\", \"15\", \"16\", \"17\", \"18\", \"19\", \"20\", \"21\", \"22\", \"23\", \"24\", \"25\", \"26\", \"27\", \"28\", \"29\", \"30\", \"31\", \"32\", \"33\", \"34\", \"35\", \"36\", \"37\", \"38\", \"39\", \"40\", \"41\", \"42\", \"47\", \"48\"], \"mode\": \"lines\", \"name\": \"AUC_micro_max\", \"stepped\": true, \"type\": \"scatter\", \"data\": [0.9676869528121402, 0.9710625119914686, 0.9710625119914686, 0.9710625119914686, 0.9710625119914686, 0.9710625119914686, 0.9710625119914686, 0.9710625119914686, 0.9710625119914686, 0.9710625119914686, 0.9710625119914686, 0.9710625119914686, 0.9710625119914686, 0.9710625119914686, 0.9710625119914686, 0.9710625119914686, 0.9710625119914686, 0.9710625119914686, 0.9710625119914686, 0.9710625119914686, 0.9710625119914686, 0.9710625119914686, 0.9710625119914686, 0.9710625119914686, 0.9710625119914686, 0.9710625119914686, 0.9711477698575566, 0.9725169023123784, 0.9725169023123784, 0.9725169023123784, 0.9725169023123784, 0.9725169023123784, 0.9725169023123784, 0.9725169023123784, 0.9725169023123784, 0.9725169023123784, 0.9725169023123784, 0.9725169023123784, 0.9725169023123784, 0.9725169023123784, 0.9725169023123784, 0.9725169023123784, 0.9725169023123784, 0.974286402091726, 0.974762984358173]}], \"f1_score_macro\": [{\"categories\": [\"0\", \"1\", \"2\", \"3\", \"4\", \"5\", \"6\", \"7\", \"8\", \"9\", \"10\", \"11\", \"12\", \"13\", \"14\", \"15\", \"16\", \"17\", \"18\", \"19\", \"20\", \"21\", \"22\", \"23\", \"24\", \"25\", \"26\", \"27\", \"28\", \"29\", \"30\", \"31\", \"32\", \"33\", \"34\", \"35\", \"36\", \"37\", \"38\", \"39\", \"40\", \"41\", \"42\", \"47\", \"48\"], \"mode\": \"markers\", \"name\": \"f1_score_macro\", \"stepped\": false, \"type\": \"scatter\", \"data\": [0.8780542064565968, 0.8662820952296553, 0.5397665006717959, 0.7270486202203604, 0.4621555837673555, 0.5554545775772373, 0.5065662487952757, 0.4621555837673555, 0.4621555837673555, 0.7275726885840955, 0.6991141956184043, 0.6579582933049737, 0.6851690754202453, 0.8306877261743342, 0.47979927032331543, 0.4621555837673555, 0.7277115472820185, 0.6885985800254613, 0.6465360301733637, 0.706290016656384, 0.7447217168094076, 0.6027311953630625, 0.5022739485658614, 0.882766974170885, 0.5133249732962774, 0.7567497531938875, 0.8842594873789137, 0.8864288317298076, 0.8403906376207626, 0.873778644021487, 0.838256532049864, 0.781712700787557, 0.8418984906327296, 0.8586791531978574, 0.67030791261763, 0.8706443185999522, 0.8820805367882606, 0.8791033229079813, 0.8810403235038312, 0.832892738238557, 0.7588600546590674, 0.6740485559656503, 0.5637017857154246, 0.8745034374928219, 0.8965270310182714]}, {\"categories\": [\"0\", \"1\", \"2\", \"3\", \"4\", \"5\", \"6\", \"7\", \"8\", \"9\", \"10\", \"11\", \"12\", \"13\", \"14\", \"15\", \"16\", \"17\", \"18\", \"19\", \"20\", \"21\", \"22\", \"23\", \"24\", \"25\", \"26\", \"27\", \"28\", \"29\", \"30\", \"31\", \"32\", \"33\", \"34\", \"35\", \"36\", \"37\", \"38\", \"39\", \"40\", \"41\", \"42\", \"47\", \"48\"], \"mode\": \"lines\", \"name\": \"f1_score_macro_max\", \"stepped\": true, \"type\": \"scatter\", \"data\": [0.8780542064565968, 0.8780542064565968, 0.8780542064565968, 0.8780542064565968, 0.8780542064565968, 0.8780542064565968, 0.8780542064565968, 0.8780542064565968, 0.8780542064565968, 0.8780542064565968, 0.8780542064565968, 0.8780542064565968, 0.8780542064565968, 0.8780542064565968, 0.8780542064565968, 0.8780542064565968, 0.8780542064565968, 0.8780542064565968, 0.8780542064565968, 0.8780542064565968, 0.8780542064565968, 0.8780542064565968, 0.8780542064565968, 0.882766974170885, 0.882766974170885, 0.882766974170885, 0.8842594873789137, 0.8864288317298076, 0.8864288317298076, 0.8864288317298076, 0.8864288317298076, 0.8864288317298076, 0.8864288317298076, 0.8864288317298076, 0.8864288317298076, 0.8864288317298076, 0.8864288317298076, 0.8864288317298076, 0.8864288317298076, 0.8864288317298076, 0.8864288317298076, 0.8864288317298076, 0.8864288317298076, 0.8864288317298076, 0.8965270310182714]}], \"recall_score_macro\": [{\"categories\": [\"0\", \"1\", \"2\", \"3\", \"4\", \"5\", \"6\", \"7\", \"8\", \"9\", \"10\", \"11\", \"12\", \"13\", \"14\", \"15\", \"16\", \"17\", \"18\", \"19\", \"20\", \"21\", \"22\", \"23\", \"24\", \"25\", \"26\", \"27\", \"28\", \"29\", \"30\", \"31\", \"32\", \"33\", \"34\", \"35\", \"36\", \"37\", \"38\", \"39\", \"40\", \"41\", \"42\", \"47\", \"48\"], \"mode\": \"markers\", \"name\": \"recall_score_macro\", \"stepped\": false, \"type\": \"scatter\", \"data\": [0.8373267985462295, 0.8217085071702014, 0.5424013916060186, 0.7614788918808033, 0.5, 0.5495984400112289, 0.5229900754523504, 0.5, 0.5, 0.80135882278725, 0.7457040206173716, 0.6805078205733812, 0.7306529723645464, 0.7784033197489305, 0.5088467129373707, 0.5, 0.8110787843245042, 0.778880865988859, 0.6764642401250276, 0.781965940596684, 0.6976111093055112, 0.5785324598773556, 0.5195433730382809, 0.8432898819409381, 0.5261676415923224, 0.6995757832973489, 0.8454871099916349, 0.8485628326117441, 0.805449751799482, 0.8322988344761052, 0.7974903284964053, 0.7247450307767728, 0.8015558435077615, 0.8211599146482906, 0.6286628365731111, 0.8269244956037071, 0.8452352273168543, 0.8380237016975626, 0.8436798010175682, 0.7869069820068685, 0.7139094812145054, 0.6450600290079852, 0.554656917489312, 0.8228566457002033, 0.8629816115157176]}, {\"categories\": [\"0\", \"1\", \"2\", \"3\", \"4\", \"5\", \"6\", \"7\", \"8\", \"9\", \"10\", \"11\", \"12\", \"13\", \"14\", \"15\", \"16\", \"17\", \"18\", \"19\", \"20\", \"21\", \"22\", \"23\", \"24\", \"25\", \"26\", \"27\", \"28\", \"29\", \"30\", \"31\", \"32\", \"33\", \"34\", \"35\", \"36\", \"37\", \"38\", \"39\", \"40\", \"41\", \"42\", \"47\", \"48\"], \"mode\": \"lines\", \"name\": \"recall_score_macro_max\", \"stepped\": true, \"type\": \"scatter\", \"data\": [0.8373267985462295, 0.8373267985462295, 0.8373267985462295, 0.8373267985462295, 0.8373267985462295, 0.8373267985462295, 0.8373267985462295, 0.8373267985462295, 0.8373267985462295, 0.8373267985462295, 0.8373267985462295, 0.8373267985462295, 0.8373267985462295, 0.8373267985462295, 0.8373267985462295, 0.8373267985462295, 0.8373267985462295, 0.8373267985462295, 0.8373267985462295, 0.8373267985462295, 0.8373267985462295, 0.8373267985462295, 0.8373267985462295, 0.8432898819409381, 0.8432898819409381, 0.8432898819409381, 0.8454871099916349, 0.8485628326117441, 0.8485628326117441, 0.8485628326117441, 0.8485628326117441, 0.8485628326117441, 0.8485628326117441, 0.8485628326117441, 0.8485628326117441, 0.8485628326117441, 0.8485628326117441, 0.8485628326117441, 0.8485628326117441, 0.8485628326117441, 0.8485628326117441, 0.8485628326117441, 0.8485628326117441, 0.8485628326117441, 0.8629816115157176]}], \"recall_score_micro\": [{\"categories\": [\"0\", \"1\", \"2\", \"3\", \"4\", \"5\", \"6\", \"7\", \"8\", \"9\", \"10\", \"11\", \"12\", \"13\", \"14\", \"15\", \"16\", \"17\", \"18\", \"19\", \"20\", \"21\", \"22\", \"23\", \"24\", \"25\", \"26\", \"27\", \"28\", \"29\", \"30\", \"31\", \"32\", \"33\", \"34\", \"35\", \"36\", \"37\", \"38\", \"39\", \"40\", \"41\", \"42\", \"47\", \"48\"], \"mode\": \"markers\", \"name\": \"recall_score_micro\", \"stepped\": false, \"type\": \"scatter\", \"data\": [0.9475281322972195, 0.943527744219705, 0.8682357225352094, 0.8505899907898042, 0.859293825181712, 0.8701163036414163, 0.8647068087668305, 0.859293825181712, 0.859293825181712, 0.8315246861157295, 0.8256480362879057, 0.8138816124354921, 0.8150606304664771, 0.9317629816580212, 0.8614124692495086, 0.859293825181712, 0.8275279528778207, 0.7922270200298501, 0.7983510360473508, 0.8148219029885956, 0.9037624247933688, 0.8804694674699339, 0.8630581438465127, 0.9491754681849535, 0.8663516527184697, 0.9115284605682678, 0.949881682874219, 0.9505872330471926, 0.9312920057361046, 0.9458807964094856, 0.9317618187545104, 0.9190561011234313, 0.9331734174876766, 0.9395255287223877, 0.8917645831422849, 0.9449401735982361, 0.9487044922630368, 0.9482335163411202, 0.9482343469864851, 0.9310574314850477, 0.9056446671903055, 0.8720012041035211, 0.8745893289315774, 0.9482330179539012, 0.9543515517119934]}, {\"categories\": [\"0\", \"1\", \"2\", \"3\", \"4\", \"5\", \"6\", \"7\", \"8\", \"9\", \"10\", \"11\", \"12\", \"13\", \"14\", \"15\", \"16\", \"17\", \"18\", \"19\", \"20\", \"21\", \"22\", \"23\", \"24\", \"25\", \"26\", \"27\", \"28\", \"29\", \"30\", \"31\", \"32\", \"33\", \"34\", \"35\", \"36\", \"37\", \"38\", \"39\", \"40\", \"41\", \"42\", \"47\", \"48\"], \"mode\": \"lines\", \"name\": \"recall_score_micro_max\", \"stepped\": true, \"type\": \"scatter\", \"data\": [0.9475281322972195, 0.9475281322972195, 0.9475281322972195, 0.9475281322972195, 0.9475281322972195, 0.9475281322972195, 0.9475281322972195, 0.9475281322972195, 0.9475281322972195, 0.9475281322972195, 0.9475281322972195, 0.9475281322972195, 0.9475281322972195, 0.9475281322972195, 0.9475281322972195, 0.9475281322972195, 0.9475281322972195, 0.9475281322972195, 0.9475281322972195, 0.9475281322972195, 0.9475281322972195, 0.9475281322972195, 0.9475281322972195, 0.9491754681849535, 0.9491754681849535, 0.9491754681849535, 0.949881682874219, 0.9505872330471926, 0.9505872330471926, 0.9505872330471926, 0.9505872330471926, 0.9505872330471926, 0.9505872330471926, 0.9505872330471926, 0.9505872330471926, 0.9505872330471926, 0.9505872330471926, 0.9505872330471926, 0.9505872330471926, 0.9505872330471926, 0.9505872330471926, 0.9505872330471926, 0.9505872330471926, 0.9505872330471926, 0.9543515517119934]}], \"weighted_accuracy\": [{\"categories\": [\"0\", \"1\", \"2\", \"3\", \"4\", \"5\", \"6\", \"7\", \"8\", \"9\", \"10\", \"11\", \"12\", \"13\", \"14\", \"15\", \"16\", \"17\", \"18\", \"19\", \"20\", \"21\", \"22\", \"23\", \"24\", \"25\", \"26\", \"27\", \"28\", \"29\", \"30\", \"31\", \"32\", \"33\", \"34\", \"35\", \"36\", \"37\", \"38\", \"39\", \"40\", \"41\", \"42\", \"47\", \"48\"], \"mode\": \"markers\", \"name\": \"weighted_accuracy\", \"stepped\": false, \"type\": \"scatter\", \"data\": [0.9826464046431177, 0.982344485801225, 0.9722932397272365, 0.8794148943425407, 0.9738109668650204, 0.9722728849576551, 0.9736836292119307, 0.9738109668650204, 0.9738109668650204, 0.8411275973109786, 0.8507136914281505, 0.8565754390840196, 0.8422066551035851, 0.9807898559058312, 0.9737628337062851, 0.9738109668650204, 0.8327616843570559, 0.796333346918887, 0.8371425787022183, 0.8251345377438364, 0.9693920937877718, 0.9768286198828221, 0.9725061235277731, 0.9829370216830878, 0.9748769917712928, 0.979074270762561, 0.9830998767629641, 0.9830053655889565, 0.9713803141064205, 0.9821029577977475, 0.9745749861093715, 0.980941619372177, 0.975075411716411, 0.9771564253016359, 0.9752436135039241, 0.982592428764594, 0.981546305017392, 0.9832439731342711, 0.9814524621231496, 0.9769168532820737, 0.966814183109693, 0.944472000173768, 0.9766365726204965, 0.9881414900413116, 0.9834781754505028]}, {\"categories\": [\"0\", \"1\", \"2\", \"3\", \"4\", \"5\", \"6\", \"7\", \"8\", \"9\", \"10\", \"11\", \"12\", \"13\", \"14\", \"15\", \"16\", \"17\", \"18\", \"19\", \"20\", \"21\", \"22\", \"23\", \"24\", \"25\", \"26\", \"27\", \"28\", \"29\", \"30\", \"31\", \"32\", \"33\", \"34\", \"35\", \"36\", \"37\", \"38\", \"39\", \"40\", \"41\", \"42\", \"47\", \"48\"], \"mode\": \"lines\", \"name\": \"weighted_accuracy_max\", \"stepped\": true, \"type\": \"scatter\", \"data\": [0.9826464046431177, 0.9826464046431177, 0.9826464046431177, 0.9826464046431177, 0.9826464046431177, 0.9826464046431177, 0.9826464046431177, 0.9826464046431177, 0.9826464046431177, 0.9826464046431177, 0.9826464046431177, 0.9826464046431177, 0.9826464046431177, 0.9826464046431177, 0.9826464046431177, 0.9826464046431177, 0.9826464046431177, 0.9826464046431177, 0.9826464046431177, 0.9826464046431177, 0.9826464046431177, 0.9826464046431177, 0.9826464046431177, 0.9829370216830878, 0.9829370216830878, 0.9829370216830878, 0.9830998767629641, 0.9830998767629641, 0.9830998767629641, 0.9830998767629641, 0.9830998767629641, 0.9830998767629641, 0.9830998767629641, 0.9830998767629641, 0.9830998767629641, 0.9830998767629641, 0.9830998767629641, 0.9832439731342711, 0.9832439731342711, 0.9832439731342711, 0.9832439731342711, 0.9832439731342711, 0.9832439731342711, 0.9881414900413116, 0.9881414900413116]}], \"precision_score_macro\": [{\"categories\": [\"0\", \"1\", \"2\", \"3\", \"4\", \"5\", \"6\", \"7\", \"8\", \"9\", \"10\", \"11\", \"12\", \"13\", \"14\", \"15\", \"16\", \"17\", \"18\", \"19\", \"20\", \"21\", \"22\", \"23\", \"24\", \"25\", \"26\", \"27\", \"28\", \"29\", \"30\", \"31\", \"32\", \"33\", \"34\", \"35\", \"36\", \"37\", \"38\", \"39\", \"40\", \"41\", \"42\", \"47\", \"48\"], \"mode\": \"markers\", \"name\": \"precision_score_macro\", \"stepped\": false, \"type\": \"scatter\", \"data\": [0.9371356459833455, 0.9355498701706931, 0.7162949320293733, 0.7075015704443374, 0.429646912590856, 0.8332197897918571, 0.73243881686785, 0.429646912590856, 0.429646912590856, 0.6989985620339437, 0.6801092380620853, 0.644623219452289, 0.666314237830155, 0.9267444078598581, 0.5717600638347138, 0.429646912590856, 0.6989809959917311, 0.6681054089879247, 0.6320961423734769, 0.6809711860524329, 0.8619324161123586, 0.9186564729825762, 0.8193481545160184, 0.9391655608213867, 0.9050201853321772, 0.917281852542847, 0.9391844244196724, 0.9398812105900226, 0.8920568414383777, 0.9350848707336922, 0.9020619848547086, 0.9294845568627818, 0.9046418552543533, 0.9150070776050763, 0.9024530135735077, 0.9367937406715718, 0.9346789940875001, 0.9401919367181287, 0.933893182201512, 0.9115479572436062, 0.8533529380851684, 0.7392479030340259, 0.936334664392071, 0.9604777129593245, 0.9411719786416967]}, {\"categories\": [\"0\", \"1\", \"2\", \"3\", \"4\", \"5\", \"6\", \"7\", \"8\", \"9\", \"10\", \"11\", \"12\", \"13\", \"14\", \"15\", \"16\", \"17\", \"18\", \"19\", \"20\", \"21\", \"22\", \"23\", \"24\", \"25\", \"26\", \"27\", \"28\", \"29\", \"30\", \"31\", \"32\", \"33\", \"34\", \"35\", \"36\", \"37\", \"38\", \"39\", \"40\", \"41\", \"42\", \"47\", \"48\"], \"mode\": \"lines\", \"name\": \"precision_score_macro_max\", \"stepped\": true, \"type\": \"scatter\", \"data\": [0.9371356459833455, 0.9371356459833455, 0.9371356459833455, 0.9371356459833455, 0.9371356459833455, 0.9371356459833455, 0.9371356459833455, 0.9371356459833455, 0.9371356459833455, 0.9371356459833455, 0.9371356459833455, 0.9371356459833455, 0.9371356459833455, 0.9371356459833455, 0.9371356459833455, 0.9371356459833455, 0.9371356459833455, 0.9371356459833455, 0.9371356459833455, 0.9371356459833455, 0.9371356459833455, 0.9371356459833455, 0.9371356459833455, 0.9391655608213867, 0.9391655608213867, 0.9391655608213867, 0.9391844244196724, 0.9398812105900226, 0.9398812105900226, 0.9398812105900226, 0.9398812105900226, 0.9398812105900226, 0.9398812105900226, 0.9398812105900226, 0.9398812105900226, 0.9398812105900226, 0.9398812105900226, 0.9401919367181287, 0.9401919367181287, 0.9401919367181287, 0.9401919367181287, 0.9401919367181287, 0.9401919367181287, 0.9604777129593245, 0.9604777129593245]}], \"average_precision_score_micro\": [{\"categories\": [\"0\", \"1\", \"2\", \"3\", \"4\", \"5\", \"6\", \"7\", \"8\", \"9\", \"10\", \"11\", \"12\", \"13\", \"14\", \"15\", \"16\", \"17\", \"18\", \"19\", \"20\", \"21\", \"22\", \"23\", \"24\", \"25\", \"26\", \"27\", \"28\", \"29\", \"30\", \"31\", \"32\", \"33\", \"34\", \"35\", \"36\", \"37\", \"38\", \"39\", \"40\", \"41\", \"42\", \"47\", \"48\"], \"mode\": \"markers\", \"name\": \"average_precision_score_micro\", \"stepped\": false, \"type\": \"scatter\", \"data\": [0.9573725685555249, 0.9622171415821849, 0.9355333326995007, 0.888564078661772, 0.9137342586605667, 0.9334301752708077, 0.9424775691116093, 0.9380302062337847, 0.9312997420170573, 0.8362767572855695, 0.818975907877343, 0.8034775065130694, 0.8129892534345284, 0.9585200287520473, 0.9250500952540287, 0.9412673794576497, 0.8432396734840784, 0.8347321018399093, 0.7647403714725961, 0.8441822721651936, 0.9440211524488965, 0.9399717127618898, 0.9298452017816358, 0.9603695323575377, 0.9351355257166638, 0.956549921024389, 0.9612128373594334, 0.9650922052857598, 0.9588910328668069, 0.961475920988652, 0.9600551154118978, 0.9556004548084908, 0.9614953007914432, 0.9634302060843672, 0.9472325079163425, 0.9637717593332976, 0.9630171745177155, 0.962529412751917, 0.9613854388602174, 0.9595094933689469, 0.9525714518386342, 0.9288743260272088, 0.9401996183901646, 0.9654203990850391, 0.9658558549674711]}, {\"categories\": [\"0\", \"1\", \"2\", \"3\", \"4\", \"5\", \"6\", \"7\", \"8\", \"9\", \"10\", \"11\", \"12\", \"13\", \"14\", \"15\", \"16\", \"17\", \"18\", \"19\", \"20\", \"21\", \"22\", \"23\", \"24\", \"25\", \"26\", \"27\", \"28\", \"29\", \"30\", \"31\", \"32\", \"33\", \"34\", \"35\", \"36\", \"37\", \"38\", \"39\", \"40\", \"41\", \"42\", \"47\", \"48\"], \"mode\": \"lines\", \"name\": \"average_precision_score_micro_max\", \"stepped\": true, \"type\": \"scatter\", \"data\": [0.9573725685555249, 0.9622171415821849, 0.9622171415821849, 0.9622171415821849, 0.9622171415821849, 0.9622171415821849, 0.9622171415821849, 0.9622171415821849, 0.9622171415821849, 0.9622171415821849, 0.9622171415821849, 0.9622171415821849, 0.9622171415821849, 0.9622171415821849, 0.9622171415821849, 0.9622171415821849, 0.9622171415821849, 0.9622171415821849, 0.9622171415821849, 0.9622171415821849, 0.9622171415821849, 0.9622171415821849, 0.9622171415821849, 0.9622171415821849, 0.9622171415821849, 0.9622171415821849, 0.9622171415821849, 0.9650922052857598, 0.9650922052857598, 0.9650922052857598, 0.9650922052857598, 0.9650922052857598, 0.9650922052857598, 0.9650922052857598, 0.9650922052857598, 0.9650922052857598, 0.9650922052857598, 0.9650922052857598, 0.9650922052857598, 0.9650922052857598, 0.9650922052857598, 0.9650922052857598, 0.9650922052857598, 0.9654203990850391, 0.9658558549674711]}], \"average_precision_score_macro\": [{\"categories\": [\"0\", \"1\", \"2\", \"3\", \"4\", \"5\", \"6\", \"7\", \"8\", \"9\", \"10\", \"11\", \"12\", \"13\", \"14\", \"15\", \"16\", \"17\", \"18\", \"19\", \"20\", \"21\", \"22\", \"23\", \"24\", \"25\", \"26\", \"27\", \"28\", \"29\", \"30\", \"31\", \"32\", \"33\", \"34\", \"35\", \"36\", \"37\", \"38\", \"39\", \"40\", \"41\", \"42\", \"47\", \"48\"], \"mode\": \"markers\", \"name\": \"average_precision_score_macro\", \"stepped\": false, \"type\": \"scatter\", \"data\": [0.9005004247184077, 0.9071976661655903, 0.7492797552363569, 0.7584884155815709, 0.6979114518772079, 0.7330379361730724, 0.7782533295373057, 0.7447866929159139, 0.7422529631851603, 0.727673905246646, 0.722084126362213, 0.7027390291232347, 0.7159702344265897, 0.8841725154737926, 0.7433459877565486, 0.7118780535413861, 0.7494519214734611, 0.7242567069283031, 0.6858798352697378, 0.7144960629694991, 0.8178835548261575, 0.8285812916951679, 0.7416121573724584, 0.9078200887951668, 0.7896618071420948, 0.8777470931779314, 0.9124726034602006, 0.9129617658316134, 0.8831376012383635, 0.9081719486814764, 0.8900068651177105, 0.8778667667265675, 0.8935463485004002, 0.8970930216529966, 0.836306055078686, 0.9099563100903102, 0.9117357368649276, 0.9084479756336713, 0.9095531071351074, 0.8896268987616476, 0.8402041828851817, 0.7226365564970202, 0.8063104544243865, 0.923973032168135, 0.9190993378485448]}, {\"categories\": [\"0\", \"1\", \"2\", \"3\", \"4\", \"5\", \"6\", \"7\", \"8\", \"9\", \"10\", \"11\", \"12\", \"13\", \"14\", \"15\", \"16\", \"17\", \"18\", \"19\", \"20\", \"21\", \"22\", \"23\", \"24\", \"25\", \"26\", \"27\", \"28\", \"29\", \"30\", \"31\", \"32\", \"33\", \"34\", \"35\", \"36\", \"37\", \"38\", \"39\", \"40\", \"41\", \"42\", \"47\", \"48\"], \"mode\": \"lines\", \"name\": \"average_precision_score_macro_max\", \"stepped\": true, \"type\": \"scatter\", \"data\": [0.9005004247184077, 0.9071976661655903, 0.9071976661655903, 0.9071976661655903, 0.9071976661655903, 0.9071976661655903, 0.9071976661655903, 0.9071976661655903, 0.9071976661655903, 0.9071976661655903, 0.9071976661655903, 0.9071976661655903, 0.9071976661655903, 0.9071976661655903, 0.9071976661655903, 0.9071976661655903, 0.9071976661655903, 0.9071976661655903, 0.9071976661655903, 0.9071976661655903, 0.9071976661655903, 0.9071976661655903, 0.9071976661655903, 0.9078200887951668, 0.9078200887951668, 0.9078200887951668, 0.9124726034602006, 0.9129617658316134, 0.9129617658316134, 0.9129617658316134, 0.9129617658316134, 0.9129617658316134, 0.9129617658316134, 0.9129617658316134, 0.9129617658316134, 0.9129617658316134, 0.9129617658316134, 0.9129617658316134, 0.9129617658316134, 0.9129617658316134, 0.9129617658316134, 0.9129617658316134, 0.9129617658316134, 0.923973032168135, 0.923973032168135]}], \"f1_score_weighted\": [{\"categories\": [\"0\", \"1\", \"2\", \"3\", \"4\", \"5\", \"6\", \"7\", \"8\", \"9\", \"10\", \"11\", \"12\", \"13\", \"14\", \"15\", \"16\", \"17\", \"18\", \"19\", \"20\", \"21\", \"22\", \"23\", \"24\", \"25\", \"26\", \"27\", \"28\", \"29\", \"30\", \"31\", \"32\", \"33\", \"34\", \"35\", \"36\", \"37\", \"38\", \"39\", \"40\", \"41\", \"42\", \"47\", \"48\"], \"mode\": \"markers\", \"name\": \"f1_score_weighted\", \"stepped\": false, \"type\": \"scatter\", \"data\": [0.9441703867892585, 0.9392708112342086, 0.8187375864838867, 0.8588258661860532, 0.794276482828713, 0.8242468440434664, 0.8085123944829875, 0.794276482828713, 0.794276482828713, 0.8484816748312314, 0.8389379070373418, 0.8238606590196101, 0.8305066297624876, 0.9245576748889283, 0.8000155328142927, 0.794276482828713, 0.8460641837042749, 0.8175351924774761, 0.8129007976473832, 0.8346332039406604, 0.889532477668704, 0.8412467593542844, 0.8068464040984878, 0.9460951047328162, 0.8110094055519844, 0.89618513966349, 0.9468973420457911, 0.9477619003027219, 0.926918915560126, 0.9422609256293836, 0.9265663444320585, 0.9061726357714637, 0.9281959440020868, 0.9354680375351162, 0.8648296123875877, 0.9410129125653444, 0.9457731691881152, 0.9448072946754463, 0.9452788132636778, 0.924920331623935, 0.8939846259479216, 0.8564131467881152, 0.8282247350437068, 0.9436279907944249, 0.9521083742561465]}, {\"categories\": [\"0\", \"1\", \"2\", \"3\", \"4\", \"5\", \"6\", \"7\", \"8\", \"9\", \"10\", \"11\", \"12\", \"13\", \"14\", \"15\", \"16\", \"17\", \"18\", \"19\", \"20\", \"21\", \"22\", \"23\", \"24\", \"25\", \"26\", \"27\", \"28\", \"29\", \"30\", \"31\", \"32\", \"33\", \"34\", \"35\", \"36\", \"37\", \"38\", \"39\", \"40\", \"41\", \"42\", \"47\", \"48\"], \"mode\": \"lines\", \"name\": \"f1_score_weighted_max\", \"stepped\": true, \"type\": \"scatter\", \"data\": [0.9441703867892585, 0.9441703867892585, 0.9441703867892585, 0.9441703867892585, 0.9441703867892585, 0.9441703867892585, 0.9441703867892585, 0.9441703867892585, 0.9441703867892585, 0.9441703867892585, 0.9441703867892585, 0.9441703867892585, 0.9441703867892585, 0.9441703867892585, 0.9441703867892585, 0.9441703867892585, 0.9441703867892585, 0.9441703867892585, 0.9441703867892585, 0.9441703867892585, 0.9441703867892585, 0.9441703867892585, 0.9441703867892585, 0.9460951047328162, 0.9460951047328162, 0.9460951047328162, 0.9468973420457911, 0.9477619003027219, 0.9477619003027219, 0.9477619003027219, 0.9477619003027219, 0.9477619003027219, 0.9477619003027219, 0.9477619003027219, 0.9477619003027219, 0.9477619003027219, 0.9477619003027219, 0.9477619003027219, 0.9477619003027219, 0.9477619003027219, 0.9477619003027219, 0.9477619003027219, 0.9477619003027219, 0.9477619003027219, 0.9521083742561465]}], \"matthews_correlation\": [{\"categories\": [\"0\", \"1\", \"2\", \"3\", \"4\", \"5\", \"6\", \"7\", \"8\", \"9\", \"10\", \"11\", \"12\", \"13\", \"14\", \"15\", \"16\", \"17\", \"18\", \"19\", \"20\", \"21\", \"22\", \"23\", \"24\", \"25\", \"26\", \"27\", \"28\", \"29\", \"30\", \"31\", \"32\", \"33\", \"34\", \"35\", \"36\", \"37\", \"38\", \"39\", \"40\", \"41\", \"42\", \"47\", \"48\"], \"mode\": \"markers\", \"name\": \"matthews_correlation\", \"stepped\": false, \"type\": \"scatter\", \"data\": [0.767987454867512, 0.7484498696312781, 0.199172187587926, 0.4651286728749544, 0.0, 0.2537802221833989, 0.14847930645196414, 0.0, 0.0, 0.4897685577007411, 0.4198867287052948, 0.3229979811525036, 0.39112468040648957, 0.6892931696365583, 0.0647437107258662, 0.0, 0.49756693799997026, 0.4329858963771905, 0.3053368759859463, 0.4517848810199759, 0.5336390173510291, 0.36146153778074375, 0.15608149226475151, 0.7764812746018267, 0.20171563353728694, 0.5771297092748442, 0.7789800922981446, 0.782920450191158, 0.6916929263981562, 0.7603702822764501, 0.6914622167309035, 0.6191526439980638, 0.6983104623663445, 0.7295282640433468, 0.4490788388498131, 0.7557589023601116, 0.7743198656024078, 0.7710766567476585, 0.7720885201635364, 0.6867105598912128, 0.5496230237775926, 0.37253119736343066, 0.3051551913010941, 0.7708459963617581, 0.8002889999337633]}, {\"categories\": [\"0\", \"1\", \"2\", \"3\", \"4\", \"5\", \"6\", \"7\", \"8\", \"9\", \"10\", \"11\", \"12\", \"13\", \"14\", \"15\", \"16\", \"17\", \"18\", \"19\", \"20\", \"21\", \"22\", \"23\", \"24\", \"25\", \"26\", \"27\", \"28\", \"29\", \"30\", \"31\", \"32\", \"33\", \"34\", \"35\", \"36\", \"37\", \"38\", \"39\", \"40\", \"41\", \"42\", \"47\", \"48\"], \"mode\": \"lines\", \"name\": \"matthews_correlation_max\", \"stepped\": true, \"type\": \"scatter\", \"data\": [0.767987454867512, 0.767987454867512, 0.767987454867512, 0.767987454867512, 0.767987454867512, 0.767987454867512, 0.767987454867512, 0.767987454867512, 0.767987454867512, 0.767987454867512, 0.767987454867512, 0.767987454867512, 0.767987454867512, 0.767987454867512, 0.767987454867512, 0.767987454867512, 0.767987454867512, 0.767987454867512, 0.767987454867512, 0.767987454867512, 0.767987454867512, 0.767987454867512, 0.767987454867512, 0.7764812746018267, 0.7764812746018267, 0.7764812746018267, 0.7789800922981446, 0.782920450191158, 0.782920450191158, 0.782920450191158, 0.782920450191158, 0.782920450191158, 0.782920450191158, 0.782920450191158, 0.782920450191158, 0.782920450191158, 0.782920450191158, 0.782920450191158, 0.782920450191158, 0.782920450191158, 0.782920450191158, 0.782920450191158, 0.782920450191158, 0.782920450191158, 0.8002889999337633]}], \"AUC_weighted\": [{\"categories\": [\"0\", \"1\", \"2\", \"3\", \"4\", \"5\", \"6\", \"7\", \"8\", \"9\", \"10\", \"11\", \"12\", \"13\", \"14\", \"15\", \"16\", \"17\", \"18\", \"19\", \"20\", \"21\", \"22\", \"23\", \"24\", \"25\", \"26\", \"27\", \"28\", \"29\", \"30\", \"31\", \"32\", \"33\", \"34\", \"35\", \"36\", \"37\", \"38\", \"39\", \"40\", \"41\", \"42\", \"47\", \"48\"], \"mode\": \"markers\", \"name\": \"AUC_weighted\", \"stepped\": false, \"type\": \"scatter\", \"data\": [0.8945939214995663, 0.9118146898595055, 0.8462246516811215, 0.8360849842275391, 0.7603659894556661, 0.8443639678866323, 0.8695196832679191, 0.8576007081452041, 0.8357499659035348, 0.845171814876242, 0.8109513270459994, 0.7467380340473467, 0.7863819655756369, 0.9029311905002398, 0.817332418584683, 0.8579157775436448, 0.8579906068970237, 0.8296615588985286, 0.7367753251154796, 0.824773235603259, 0.8677657781810192, 0.8663230165998823, 0.8275865319334675, 0.9081016659604959, 0.8515824692383048, 0.9059102525848525, 0.9074247960488536, 0.913840838059946, 0.9047887524886636, 0.9108939552109607, 0.9059795774434861, 0.9001449096691716, 0.9080282834746664, 0.9093570789657593, 0.8783474739802557, 0.9132789861900473, 0.9102084631456427, 0.9090551460187468, 0.9112407473225895, 0.9073559752701114, 0.8917717105495364, 0.8275595808921435, 0.8673846730774523, 0.9252552329904044, 0.9163372617823796]}, {\"categories\": [\"0\", \"1\", \"2\", \"3\", \"4\", \"5\", \"6\", \"7\", \"8\", \"9\", \"10\", \"11\", \"12\", \"13\", \"14\", \"15\", \"16\", \"17\", \"18\", \"19\", \"20\", \"21\", \"22\", \"23\", \"24\", \"25\", \"26\", \"27\", \"28\", \"29\", \"30\", \"31\", \"32\", \"33\", \"34\", \"35\", \"36\", \"37\", \"38\", \"39\", \"40\", \"41\", \"42\", \"47\", \"48\"], \"mode\": \"lines\", \"name\": \"AUC_weighted_max\", \"stepped\": true, \"type\": \"scatter\", \"data\": [0.8945939214995663, 0.9118146898595055, 0.9118146898595055, 0.9118146898595055, 0.9118146898595055, 0.9118146898595055, 0.9118146898595055, 0.9118146898595055, 0.9118146898595055, 0.9118146898595055, 0.9118146898595055, 0.9118146898595055, 0.9118146898595055, 0.9118146898595055, 0.9118146898595055, 0.9118146898595055, 0.9118146898595055, 0.9118146898595055, 0.9118146898595055, 0.9118146898595055, 0.9118146898595055, 0.9118146898595055, 0.9118146898595055, 0.9118146898595055, 0.9118146898595055, 0.9118146898595055, 0.9118146898595055, 0.913840838059946, 0.913840838059946, 0.913840838059946, 0.913840838059946, 0.913840838059946, 0.913840838059946, 0.913840838059946, 0.913840838059946, 0.913840838059946, 0.913840838059946, 0.913840838059946, 0.913840838059946, 0.913840838059946, 0.913840838059946, 0.913840838059946, 0.913840838059946, 0.9252552329904044, 0.9252552329904044]}]}, \"metricName\": null, \"primaryMetricName\": \"AUC_weighted\", \"showLegend\": false}, \"run_metrics\": [{\"name\": \"experiment_status\", \"run_id\": \"AutoML_0d720723-98c3-40bc-84a4-3dd30dacafef\", \"categories\": [0, 1, 2, 3, 4, 5, 6, 7, 8, 9, 10, 11, 12, 13, 14], \"series\": [{\"data\": [\"DatasetEvaluation\", \"FeaturesGeneration\", \"DatasetFeaturization\", \"DatasetFeaturizationCompleted\", \"DatasetBalancing\", \"DatasetCrossValidationSplit\", \"ModelSelection\", \"BestRunExplainModel\", \"ModelExplanationDataSetSetup\", \"PickSurrogateModel\", \"EngineeredFeatureExplanations\", \"EngineeredFeatureExplanations\", \"RawFeaturesExplanations\", \"RawFeaturesExplanations\", \"BestRunExplainModel\"]}]}, {\"name\": \"experiment_status_description\", \"run_id\": \"AutoML_0d720723-98c3-40bc-84a4-3dd30dacafef\", \"categories\": [0, 1, 2, 3, 4, 5, 6, 7, 8, 9, 10, 11, 12, 13, 14], \"series\": [{\"data\": [\"Gathering dataset statistics.\", \"Generating features for the dataset.\", \"Beginning to fit featurizers and featurize the dataset.\", \"Completed fit featurizers and featurizing the dataset.\", \"Performing class balancing sweeping\", \"Generating individually featurized CV splits.\", \"Beginning model selection.\", \"Best run model explanations started\", \"Model explanations data setup completed\", \"Choosing LightGBM as the surrogate model for explanations\", \"Computation of engineered features started\", \"Computation of engineered features completed\", \"Computation of raw features started\", \"Computation of raw features completed\", \"Best run model explanations completed\"]}]}, {\"name\": \"average_precision_score_micro\", \"run_id\": \"AutoML_0d720723-98c3-40bc-84a4-3dd30dacafef\", \"categories\": [0], \"series\": [{\"data\": [0.9654203990850391]}]}, {\"name\": \"recall_score_weighted\", \"run_id\": \"AutoML_0d720723-98c3-40bc-84a4-3dd30dacafef\", \"categories\": [0], \"series\": [{\"data\": [0.9482330179539012]}]}, {\"name\": \"balanced_accuracy\", \"run_id\": \"AutoML_0d720723-98c3-40bc-84a4-3dd30dacafef\", \"categories\": [0], \"series\": [{\"data\": [0.8228566457002033]}]}, {\"name\": \"AUC_macro\", \"run_id\": \"AutoML_0d720723-98c3-40bc-84a4-3dd30dacafef\", \"categories\": [0], \"series\": [{\"data\": [0.9252552329904044]}]}, {\"name\": \"average_precision_score_weighted\", \"run_id\": \"AutoML_0d720723-98c3-40bc-84a4-3dd30dacafef\", \"categories\": [0], \"series\": [{\"data\": [0.9598613075857915]}]}, {\"name\": \"accuracy\", \"run_id\": \"AutoML_0d720723-98c3-40bc-84a4-3dd30dacafef\", \"categories\": [0], \"series\": [{\"data\": [0.9482330179539012]}]}, {\"name\": \"AUC_weighted\", \"run_id\": \"AutoML_0d720723-98c3-40bc-84a4-3dd30dacafef\", \"categories\": [0], \"series\": [{\"data\": [0.9252552329904044]}]}, {\"name\": \"AUC_micro\", \"run_id\": \"AutoML_0d720723-98c3-40bc-84a4-3dd30dacafef\", \"categories\": [0], \"series\": [{\"data\": [0.974286402091726]}]}, {\"name\": \"weighted_accuracy\", \"run_id\": \"AutoML_0d720723-98c3-40bc-84a4-3dd30dacafef\", \"categories\": [0], \"series\": [{\"data\": [0.9881414900413116]}]}, {\"name\": \"norm_macro_recall\", \"run_id\": \"AutoML_0d720723-98c3-40bc-84a4-3dd30dacafef\", \"categories\": [0], \"series\": [{\"data\": [0.6457132914004068]}]}, {\"name\": \"precision_score_macro\", \"run_id\": \"AutoML_0d720723-98c3-40bc-84a4-3dd30dacafef\", \"categories\": [0], \"series\": [{\"data\": [0.9604777129593245]}]}, {\"name\": \"precision_score_weighted\", \"run_id\": \"AutoML_0d720723-98c3-40bc-84a4-3dd30dacafef\", \"categories\": [0], \"series\": [{\"data\": [0.9496361807917945]}]}, {\"name\": \"recall_score_macro\", \"run_id\": \"AutoML_0d720723-98c3-40bc-84a4-3dd30dacafef\", \"categories\": [0], \"series\": [{\"data\": [0.8228566457002033]}]}, {\"name\": \"precision_score_micro\", \"run_id\": \"AutoML_0d720723-98c3-40bc-84a4-3dd30dacafef\", \"categories\": [0], \"series\": [{\"data\": [0.9482330179539012]}]}, {\"name\": \"f1_score_weighted\", \"run_id\": \"AutoML_0d720723-98c3-40bc-84a4-3dd30dacafef\", \"categories\": [0], \"series\": [{\"data\": [0.9436279907944249]}]}, {\"name\": \"average_precision_score_macro\", \"run_id\": \"AutoML_0d720723-98c3-40bc-84a4-3dd30dacafef\", \"categories\": [0], \"series\": [{\"data\": [0.923973032168135]}]}, {\"name\": \"log_loss\", \"run_id\": \"AutoML_0d720723-98c3-40bc-84a4-3dd30dacafef\", \"categories\": [0], \"series\": [{\"data\": [0.21058035673956096]}]}, {\"name\": \"f1_score_macro\", \"run_id\": \"AutoML_0d720723-98c3-40bc-84a4-3dd30dacafef\", \"categories\": [0], \"series\": [{\"data\": [0.8745034374928219]}]}, {\"name\": \"matthews_correlation\", \"run_id\": \"AutoML_0d720723-98c3-40bc-84a4-3dd30dacafef\", \"categories\": [0], \"series\": [{\"data\": [0.7708459963617581]}]}, {\"name\": \"recall_score_micro\", \"run_id\": \"AutoML_0d720723-98c3-40bc-84a4-3dd30dacafef\", \"categories\": [0], \"series\": [{\"data\": [0.9482330179539012]}]}, {\"name\": \"f1_score_micro\", \"run_id\": \"AutoML_0d720723-98c3-40bc-84a4-3dd30dacafef\", \"categories\": [0], \"series\": [{\"data\": [0.9482330179539012]}]}], \"run_logs\": \"\\nRun is completed.\", \"graph\": {}, \"widget_settings\": {\"childWidgetDisplay\": \"popup\", \"send_telemetry\": false, \"log_level\": \"INFO\", \"sdk_version\": \"1.27.0\"}, \"loading\": false}"
          },
          "metadata": {}
        },
        {
          "output_type": "display_data",
          "data": {
            "text/plain": "<IPython.core.display.HTML object>",
            "text/html": "<table style=\"width:100%\"><tr><th>Experiment</th><th>Id</th><th>Type</th><th>Status</th><th>Details Page</th><th>Docs Page</th></tr><tr><td>customer-churn</td><td>AutoML_0d720723-98c3-40bc-84a4-3dd30dacafef</td><td>automl</td><td>Completed</td><td><a href=\"https://ml.azure.com/runs/AutoML_0d720723-98c3-40bc-84a4-3dd30dacafef?wsid=/subscriptions/3e42d11f-d64d-4173-af9b-12ecaa1030b3/resourcegroups/aml-quickstarts-144814/workspaces/quick-starts-ws-144814&amp;tid=660b3398-b80e-49d2-bc5b-ac1dc93b5254\" target=\"_blank\" rel=\"noopener\">Link to Azure Machine Learning studio</a></td><td><a href=\"https://docs.microsoft.com/en-us/python/api/overview/azure/ml/intro?view=azure-ml-py\" target=\"_blank\" rel=\"noopener\">Link to Documentation</a></td></tr></table>"
          },
          "metadata": {}
        },
        {
          "output_type": "stream",
          "name": "stdout",
          "text": [
            "DURATION: Time taken for the current iteration.\n",
            "METRIC: The result of computing score on the fitted pipeline.\n",
            "BEST: The best observed score thus far.\n",
            "****************************************************************************************************\n",
            "\n",
            " ITERATION   PIPELINE                                       DURATION      METRIC      BEST\n",
            "         0   MaxAbsScaler LightGBM                          0:01:31       0.8946    0.8946\n",
            "         1   MaxAbsScaler XGBoostClassifier                 0:00:42       0.9118    0.9118\n",
            "         2   MaxAbsScaler RandomForest                      0:00:42       0.8462    0.9118\n",
            "         3   MaxAbsScaler RandomForest                      0:00:44       0.8361    0.9118\n",
            "         4   MaxAbsScaler RandomForest                      0:01:31       0.7604    0.9118\n",
            "         5   MaxAbsScaler ExtremeRandomTrees                0:01:28       0.8444    0.9118\n",
            "         6   MaxAbsScaler ExtremeRandomTrees                0:00:41       0.8695    0.9118\n",
            "         7   MaxAbsScaler ExtremeRandomTrees                0:00:44       0.8576    0.9118\n",
            "         8   MaxAbsScaler RandomForest                      0:00:45       0.8357    0.9118\n",
            "         9   MaxAbsScaler ExtremeRandomTrees                0:00:43       0.8452    0.9118\n",
            "        10   MaxAbsScaler RandomForest                      0:00:43       0.8110    0.9118\n",
            "        11   MaxAbsScaler RandomForest                      0:00:41       0.7467    0.9118\n",
            "        12   MaxAbsScaler RandomForest                      0:00:43       0.7864    0.9118\n",
            "        13   StandardScalerWrapper XGBoostClassifier        0:00:43       0.9029    0.9118\n",
            "        14   MaxAbsScaler RandomForest                      0:00:41       0.8173    0.9118\n",
            "        15   StandardScalerWrapper ExtremeRandomTrees       0:00:44       0.8579    0.9118\n",
            "        16   MaxAbsScaler ExtremeRandomTrees                0:00:40       0.8580    0.9118\n",
            "        17   MaxAbsScaler ExtremeRandomTrees                0:00:41       0.8297    0.9118\n",
            "        18   MaxAbsScaler RandomForest                      0:00:42       0.7368    0.9118\n",
            "        19   StandardScalerWrapper LogisticRegression       0:00:42       0.8248    0.9118\n",
            "        20   MaxAbsScaler LightGBM                          0:00:43       0.8678    0.9118\n",
            "        21   MaxAbsScaler LightGBM                          0:00:44       0.8663    0.9118\n",
            "        22   MaxAbsScaler LightGBM                          0:00:44       0.8276    0.9118\n",
            "        23   StandardScalerWrapper XGBoostClassifier        0:00:43       0.9081    0.9118\n",
            "        24   MaxAbsScaler LightGBM                          0:00:42       0.8516    0.9118\n",
            "        25   TruncatedSVDWrapper XGBoostClassifier          0:00:43       0.9059    0.9118\n",
            "        26   StandardScalerWrapper XGBoostClassifier        0:00:46       0.9074    0.9118\n",
            "        27   StandardScalerWrapper XGBoostClassifier        0:00:44       0.9138    0.9138\n",
            "        28   SparseNormalizer XGBoostClassifier             0:00:41       0.9048    0.9138\n",
            "        29   StandardScalerWrapper XGBoostClassifier        0:00:41       0.9109    0.9138\n",
            "        30   SparseNormalizer XGBoostClassifier             0:00:49       0.9060    0.9138\n",
            "        31   SparseNormalizer XGBoostClassifier             0:00:41       0.9001    0.9138\n",
            "        32   SparseNormalizer XGBoostClassifier             0:00:45       0.9080    0.9138\n",
            "        33   SparseNormalizer XGBoostClassifier             0:00:46       0.9094    0.9138\n",
            "        34   SparseNormalizer XGBoostClassifier             0:00:41       0.8783    0.9138\n",
            "        35   StandardScalerWrapper XGBoostClassifier        0:00:43       0.9133    0.9138\n",
            "        36   StandardScalerWrapper XGBoostClassifier        0:00:42       0.9102    0.9138\n",
            "        37   StandardScalerWrapper XGBoostClassifier        0:00:49       0.9091    0.9138\n",
            "        38   StandardScalerWrapper XGBoostClassifier        0:00:43       0.9112    0.9138\n",
            "        39   MaxAbsScaler LightGBM                          0:00:40       0.9074    0.9138\n",
            "        40   StandardScalerWrapper XGBoostClassifier        0:00:42       0.8918    0.9138\n",
            "        41   MaxAbsScaler LogisticRegression                0:00:45       0.8276    0.9138\n",
            "        42   StandardScalerWrapper RandomForest             0:00:52       0.8674    0.9138\n",
            "        43                                                  0:00:13          nan    0.9138\n",
            "        44                                                  0:00:11          nan    0.9138\n",
            "        45                                                  0:00:21          nan    0.9138\n",
            "        46                                                  0:00:10          nan    0.9138\n",
            "        47    VotingEnsemble                                0:01:03       0.9253    0.9253\n",
            "        48    StackEnsemble                                 0:01:15       0.9163    0.9253\n"
          ]
        },
        {
          "output_type": "execute_result",
          "execution_count": 12,
          "data": {
            "text/plain": "{'runId': 'AutoML_0d720723-98c3-40bc-84a4-3dd30dacafef',\n 'target': 'capstone-cluster',\n 'status': 'Completed',\n 'startTimeUtc': '2021-05-14T17:14:32.70178Z',\n 'endTimeUtc': '2021-05-14T17:32:12.638898Z',\n 'properties': {'num_iterations': '1000',\n  'training_type': 'TrainFull',\n  'acquisition_function': 'EI',\n  'primary_metric': 'AUC_weighted',\n  'train_split': '0',\n  'acquisition_parameter': '0',\n  'num_cross_validation': None,\n  'target': 'capstone-cluster',\n  'AMLSettingsJsonString': '{\"path\":null,\"name\":\"customer-churn\",\"subscription_id\":\"3e42d11f-d64d-4173-af9b-12ecaa1030b3\",\"resource_group\":\"aml-quickstarts-144814\",\"workspace_name\":\"quick-starts-ws-144814\",\"region\":\"southcentralus\",\"compute_target\":\"capstone-cluster\",\"spark_service\":null,\"azure_service\":\"remote\",\"many_models\":false,\"pipeline_fetch_max_batch_size\":1,\"enable_batch_run\":false,\"enable_run_restructure\":false,\"start_auxiliary_runs_before_parent_complete\":false,\"iterations\":1000,\"primary_metric\":\"AUC_weighted\",\"task_type\":\"classification\",\"data_script\":null,\"test_size\":0.0,\"validation_size\":0.0,\"n_cross_validations\":null,\"y_min\":null,\"y_max\":null,\"num_classes\":null,\"featurization\":\"auto\",\"_ignore_package_version_incompatibilities\":false,\"is_timeseries\":false,\"max_cores_per_iteration\":1,\"max_concurrent_iterations\":5,\"iteration_timeout_minutes\":null,\"mem_in_mb\":null,\"enforce_time_on_windows\":false,\"experiment_timeout_minutes\":20,\"experiment_exit_score\":null,\"whitelist_models\":null,\"blacklist_algos\":[\"TensorFlowLinearClassifier\",\"TensorFlowDNN\"],\"supported_models\":[\"GradientBoosting\",\"RandomForest\",\"MultinomialNaiveBayes\",\"LightGBM\",\"TensorFlowDNN\",\"SVM\",\"SGD\",\"DecisionTree\",\"BernoulliNaiveBayes\",\"ExtremeRandomTrees\",\"KNN\",\"AveragedPerceptronClassifier\",\"XGBoostClassifier\",\"TensorFlowLinearClassifier\",\"LinearSVM\",\"LogisticRegression\"],\"private_models\":[],\"auto_blacklist\":true,\"blacklist_samples_reached\":false,\"exclude_nan_labels\":true,\"verbosity\":20,\"_debug_log\":\"azureml_automl.log\",\"show_warnings\":false,\"model_explainability\":true,\"service_url\":null,\"sdk_url\":null,\"sdk_packages\":null,\"enable_onnx_compatible_models\":false,\"enable_split_onnx_featurizer_estimator_models\":false,\"vm_type\":\"STANDARD_DS12_V2\",\"telemetry_verbosity\":20,\"send_telemetry\":true,\"enable_dnn\":false,\"scenario\":\"SDK-1.13.0\",\"environment_label\":null,\"save_mlflow\":false,\"force_text_dnn\":false,\"enable_feature_sweeping\":true,\"enable_early_stopping\":true,\"early_stopping_n_iters\":10,\"metrics\":null,\"enable_metric_confidence\":false,\"enable_ensembling\":true,\"enable_stack_ensembling\":true,\"ensemble_iterations\":15,\"enable_tf\":false,\"enable_subsampling\":null,\"subsample_seed\":null,\"enable_nimbusml\":false,\"enable_streaming\":false,\"force_streaming\":false,\"track_child_runs\":true,\"allowed_private_models\":[],\"label_column_name\":\"churn\",\"weight_column_name\":null,\"cv_split_column_names\":null,\"enable_local_managed\":false,\"_local_managed_run_id\":null,\"cost_mode\":1,\"lag_length\":0,\"metric_operation\":\"maximize\",\"preprocess\":true}',\n  'DataPrepJsonString': '{\\\\\"training_data\\\\\": {\\\\\"datasetId\\\\\": \\\\\"068b8578-e263-4243-ae8b-2d62a207025b\\\\\"}, \\\\\"datasets\\\\\": 0}',\n  'EnableSubsampling': None,\n  'runTemplate': 'AutoML',\n  'azureml.runsource': 'automl',\n  'display_task_type': 'classification',\n  'dependencies_versions': '{\"azureml-widgets\": \"1.27.0\", \"azureml-train\": \"1.27.0\", \"azureml-train-restclients-hyperdrive\": \"1.27.0\", \"azureml-train-core\": \"1.27.0\", \"azureml-train-automl\": \"1.27.0\", \"azureml-train-automl-runtime\": \"1.27.0\", \"azureml-train-automl-client\": \"1.27.0\", \"azureml-tensorboard\": \"1.27.0\", \"azureml-telemetry\": \"1.27.0\", \"azureml-sdk\": \"1.27.0\", \"azureml-samples\": \"0+unknown\", \"azureml-pipeline\": \"1.27.0\", \"azureml-pipeline-steps\": \"1.27.0\", \"azureml-pipeline-core\": \"1.27.0\", \"azureml-opendatasets\": \"1.27.0\", \"azureml-model-management-sdk\": \"1.0.1b6.post1\", \"azureml-mlflow\": \"1.27.0\", \"azureml-interpret\": \"1.27.0\", \"azureml-explain-model\": \"1.27.0\", \"azureml-defaults\": \"1.27.0\", \"azureml-dataset-runtime\": \"1.27.0\", \"azureml-dataprep\": \"2.14.2\", \"azureml-dataprep-rslex\": \"1.12.1\", \"azureml-dataprep-native\": \"33.0.0\", \"azureml-datadrift\": \"1.27.0\", \"azureml-core\": \"1.27.0\", \"azureml-contrib-services\": \"1.27.0\", \"azureml-contrib-server\": \"1.27.0\", \"azureml-contrib-reinforcementlearning\": \"1.27.0\", \"azureml-contrib-pipeline-steps\": \"1.27.0\", \"azureml-contrib-notebook\": \"1.27.0\", \"azureml-contrib-gbdt\": \"1.27.0\", \"azureml-contrib-fairness\": \"1.27.0\", \"azureml-contrib-dataset\": \"1.27.0\", \"azureml-cli-common\": \"1.27.0\", \"azureml-automl-runtime\": \"1.27.0\", \"azureml-automl-dnn-nlp\": \"1.27.0\", \"azureml-automl-core\": \"1.27.0\", \"azureml-accel-models\": \"1.27.0\"}',\n  '_aml_system_scenario_identification': 'Remote.Parent',\n  'ClientType': 'SDK',\n  'environment_cpu_name': 'AzureML-AutoML',\n  'environment_cpu_label': 'prod',\n  'environment_gpu_name': 'AzureML-AutoML-GPU',\n  'environment_gpu_label': 'prod',\n  'root_attribution': 'automl',\n  'attribution': 'AutoML',\n  'Orchestrator': 'AutoML',\n  'CancelUri': 'https://southcentralus.api.azureml.ms/jasmine/v1.0/subscriptions/3e42d11f-d64d-4173-af9b-12ecaa1030b3/resourceGroups/aml-quickstarts-144814/providers/Microsoft.MachineLearningServices/workspaces/quick-starts-ws-144814/experimentids/7ee04062-a696-42ee-bf34-a4e3979000df/cancel/AutoML_0d720723-98c3-40bc-84a4-3dd30dacafef',\n  'ClientSdkVersion': '1.27.0.post1',\n  'snapshotId': '00000000-0000-0000-0000-000000000000',\n  'SetupRunId': 'AutoML_0d720723-98c3-40bc-84a4-3dd30dacafef_setup',\n  'SetupRunContainerId': 'dcid.AutoML_0d720723-98c3-40bc-84a4-3dd30dacafef_setup',\n  'FeaturizationRunJsonPath': 'featurizer_container.json',\n  'FeaturizationRunId': 'AutoML_0d720723-98c3-40bc-84a4-3dd30dacafef_featurize',\n  'ProblemInfoJsonString': '{\"dataset_num_categorical\": 0, \"is_sparse\": true, \"subsampling\": false, \"dataset_classes\": 2, \"dataset_features\": 145, \"dataset_samples\": 4250, \"single_frequency_class_detected\": false}',\n  'ModelExplainRunId': 'AutoML_0d720723-98c3-40bc-84a4-3dd30dacafef_ModelExplain'},\n 'inputDatasets': [{'dataset': {'id': '068b8578-e263-4243-ae8b-2d62a207025b'}, 'consumptionDetails': {'type': 'RunInput', 'inputName': 'training_data', 'mechanism': 'Direct'}}],\n 'outputDatasets': [],\n 'logFiles': {},\n 'submittedBy': 'ODL_User 144814'}"
          },
          "metadata": {}
        }
      ],
      "execution_count": 12,
      "metadata": {
        "collapsed": true,
        "jupyter": {
          "source_hidden": false,
          "outputs_hidden": false
        },
        "nteract": {
          "transient": {
            "deleting": false
          }
        },
        "gather": {
          "logged": 1621013939785
        }
      }
    },
    {
      "cell_type": "markdown",
      "source": [
        "## Best Model\n",
        "\n",
        "TODO: In the cell below, get the best model from the automl experiments and display all the properties of the model.\n",
        "\n"
      ],
      "metadata": {}
    },
    {
      "cell_type": "code",
      "source": [
        "best_run, best_model = remote_run.get_output()\r\n",
        "print(best_run)\r\n",
        "print(best_model)\r\n",
        "best_run.get_tags()\r\n",
        "best_run_metrics = best_run.get_metrics()"
      ],
      "outputs": [
        {
          "output_type": "stream",
          "name": "stdout",
          "text": [
            "Run(Experiment: customer-churn,\n",
            "Id: AutoML_0d720723-98c3-40bc-84a4-3dd30dacafef_47,\n",
            "Type: azureml.scriptrun,\n",
            "Status: Completed)\n",
            "Pipeline(memory=None,\n",
            "         steps=[('datatransformer',\n",
            "                 DataTransformer(enable_dnn=None, enable_feature_sweeping=None,\n",
            "                                 feature_sweeping_config=None,\n",
            "                                 feature_sweeping_timeout=None,\n",
            "                                 featurization_config=None, force_text_dnn=None,\n",
            "                                 is_cross_validation=None,\n",
            "                                 is_onnx_compatible=None, logger=None,\n",
            "                                 observer=None, task=None, working_dir=None)),\n",
            "                ('prefittedsoftvotingclassifier',...\n",
            "                                                                                                  random_state=None,\n",
            "                                                                                                  verbose=0,\n",
            "                                                                                                  warm_start=False))],\n",
            "                                                                     verbose=False))],\n",
            "                                               flatten_transform=None,\n",
            "                                               weights=[0.13333333333333333,\n",
            "                                                        0.06666666666666667,\n",
            "                                                        0.06666666666666667,\n",
            "                                                        0.06666666666666667,\n",
            "                                                        0.06666666666666667,\n",
            "                                                        0.06666666666666667,\n",
            "                                                        0.13333333333333333,\n",
            "                                                        0.06666666666666667,\n",
            "                                                        0.06666666666666667,\n",
            "                                                        0.13333333333333333,\n",
            "                                                        0.06666666666666667,\n",
            "                                                        0.06666666666666667]))],\n",
            "         verbose=False)\n",
            "Y_transformer(['LabelEncoder', LabelEncoder()])\n"
          ]
        }
      ],
      "execution_count": 13,
      "metadata": {
        "gather": {
          "logged": 1621013943481
        },
        "jupyter": {
          "outputs_hidden": false,
          "source_hidden": false
        },
        "nteract": {
          "transient": {
            "deleting": false
          }
        }
      }
    },
    {
      "cell_type": "code",
      "source": [
        "best_run_metrics"
      ],
      "outputs": [
        {
          "output_type": "execute_result",
          "execution_count": 14,
          "data": {
            "text/plain": "{'recall_score_micro': 0.9482330179539012,\n 'f1_score_micro': 0.9482330179539012,\n 'average_precision_score_weighted': 0.9598613075857915,\n 'AUC_weighted': 0.9252552329904044,\n 'recall_score_weighted': 0.9482330179539012,\n 'precision_score_macro': 0.9604777129593245,\n 'f1_score_weighted': 0.9436279907944249,\n 'average_precision_score_micro': 0.9654203990850391,\n 'accuracy': 0.9482330179539012,\n 'average_precision_score_macro': 0.923973032168135,\n 'AUC_micro': 0.974286402091726,\n 'norm_macro_recall': 0.6457132914004068,\n 'AUC_macro': 0.9252552329904044,\n 'log_loss': 0.21058035673956096,\n 'precision_score_micro': 0.9482330179539012,\n 'recall_score_macro': 0.8228566457002033,\n 'precision_score_weighted': 0.9496361807917945,\n 'f1_score_macro': 0.8745034374928219,\n 'weighted_accuracy': 0.9881414900413116,\n 'matthews_correlation': 0.7708459963617581,\n 'balanced_accuracy': 0.8228566457002033,\n 'accuracy_table': 'aml://artifactId/ExperimentRun/dcid.AutoML_0d720723-98c3-40bc-84a4-3dd30dacafef_47/accuracy_table',\n 'confusion_matrix': 'aml://artifactId/ExperimentRun/dcid.AutoML_0d720723-98c3-40bc-84a4-3dd30dacafef_47/confusion_matrix'}"
          },
          "metadata": {}
        }
      ],
      "execution_count": 14,
      "metadata": {
        "collapsed": true,
        "jupyter": {
          "source_hidden": false,
          "outputs_hidden": false
        },
        "nteract": {
          "transient": {
            "deleting": false
          }
        },
        "gather": {
          "logged": 1621013950679
        }
      }
    },
    {
      "cell_type": "markdown",
      "source": [
        "## Model Deployment\n",
        "\n",
        "Remember you have to deploy only one of the two models you trained.. Perform the steps in the rest of this notebook only if you wish to deploy this model.\n",
        "\n",
        "TODO: In the cell below, register the model, create an inference config and deploy the model as a web service."
      ],
      "metadata": {}
    },
    {
      "cell_type": "code",
      "source": [
        "from azureml.core import Model\r\n",
        "\r\n",
        "# Register model\r\n",
        "model = best_run.register_model(model_path='outputs/model.pkl', model_name='model',\r\n",
        "                        tags={'Training context':'Auto ML'},\r\n",
        "                        properties={'AUC': best_run_metrics['AUC_weighted']})\r\n",
        "\r\n",
        "print(model)"
      ],
      "outputs": [
        {
          "output_type": "stream",
          "name": "stdout",
          "text": [
            "Model(workspace=Workspace.create(name='quick-starts-ws-144814', subscription_id='3e42d11f-d64d-4173-af9b-12ecaa1030b3', resource_group='aml-quickstarts-144814'), name=model, id=model:1, version=1, tags={'Training context': 'Auto ML'}, properties={'AUC': '0.9252552329904044'})\n"
          ]
        }
      ],
      "execution_count": 15,
      "metadata": {
        "gather": {
          "logged": 1621013972997
        },
        "jupyter": {
          "outputs_hidden": false,
          "source_hidden": false
        },
        "nteract": {
          "transient": {
            "deleting": false
          }
        }
      }
    },
    {
      "cell_type": "code",
      "source": [
        "# create inference_config\r\n",
        "from azureml.core.model import InferenceConfig\r\n",
        "from azureml.core.environment import Environment\r\n",
        "\r\n",
        "env = best_run.get_environment()\r\n",
        "\r\n",
        "inference_config = InferenceConfig(entry_script=\"scoring.py\", environment=env )"
      ],
      "outputs": [],
      "execution_count": 16,
      "metadata": {
        "collapsed": true,
        "jupyter": {
          "source_hidden": false,
          "outputs_hidden": false
        },
        "nteract": {
          "transient": {
            "deleting": false
          }
        },
        "gather": {
          "logged": 1621013979267
        }
      }
    },
    {
      "cell_type": "code",
      "source": [
        "from azureml.core.webservice import Webservice, AciWebservice\r\n",
        "deployment_config = AciWebservice.deploy_configuration(cpu_cores=1, memory_gb = 1)"
      ],
      "outputs": [],
      "execution_count": 17,
      "metadata": {
        "collapsed": true,
        "jupyter": {
          "source_hidden": false,
          "outputs_hidden": false
        },
        "nteract": {
          "transient": {
            "deleting": false
          }
        },
        "gather": {
          "logged": 1621013982060
        }
      }
    },
    {
      "cell_type": "code",
      "source": [
        "service=Model.deploy(workspace=ws,\r\n",
        "                    name=\"deploy-service\",\r\n",
        "                    models=[model],\r\n",
        "                    inference_config=inference_config,\r\n",
        "                    deployment_config=deployment_config)\r\n",
        "service.wait_for_deployment(show_output=True)"
      ],
      "outputs": [
        {
          "output_type": "stream",
          "name": "stdout",
          "text": [
            "Tips: You can try get_logs(): https://aka.ms/debugimage#dockerlog or local deployment: https://aka.ms/debugimage#debug-locally to debug if deployment takes longer than 10 minutes.\n",
            "Running\n",
            "2021-05-14 17:39:49+00:00 Creating Container Registry if not exists.\n",
            "2021-05-14 17:39:50+00:00 Registering the environment.\n",
            "2021-05-14 17:39:50+00:00 Use the existing image.\n",
            "2021-05-14 17:39:50+00:00 Generating deployment configuration.\n",
            "2021-05-14 17:39:52+00:00 Submitting deployment to compute.\n",
            "2021-05-14 17:39:54+00:00 Checking the status of deployment deploy-service..\n",
            "2021-05-14 17:43:06+00:00 Checking the status of inference endpoint deploy-service.\n",
            "Succeeded\n",
            "ACI service creation operation finished, operation \"Succeeded\"\n"
          ]
        }
      ],
      "execution_count": 18,
      "metadata": {
        "collapsed": true,
        "jupyter": {
          "source_hidden": false,
          "outputs_hidden": false
        },
        "nteract": {
          "transient": {
            "deleting": false
          }
        },
        "gather": {
          "logged": 1621014190595
        }
      }
    },
    {
      "cell_type": "code",
      "source": [
        "scoring_uri = service.scoring_uri\r\n",
        "\r\n",
        "print(f'\\nservice state: {service.state}\\n')\r\n",
        "print(f'scoring URI: \\n{service.scoring_uri}\\n')\r\n",
        "print(f'swagger URI: \\n{service.swagger_uri}\\n')\r\n",
        "\r\n",
        "print(service.scoring_uri)\r\n",
        "print(service.swagger_uri)"
      ],
      "outputs": [
        {
          "output_type": "stream",
          "name": "stdout",
          "text": [
            "\n",
            "service state: Healthy\n",
            "\n",
            "scoring URI: \n",
            "http://974ba161-2a5c-430e-95fb-c052de047cd6.southcentralus.azurecontainer.io/score\n",
            "\n",
            "swagger URI: \n",
            "http://974ba161-2a5c-430e-95fb-c052de047cd6.southcentralus.azurecontainer.io/swagger.json\n",
            "\n",
            "http://974ba161-2a5c-430e-95fb-c052de047cd6.southcentralus.azurecontainer.io/score\n",
            "http://974ba161-2a5c-430e-95fb-c052de047cd6.southcentralus.azurecontainer.io/swagger.json\n"
          ]
        }
      ],
      "execution_count": 19,
      "metadata": {
        "gather": {
          "logged": 1621014228653
        },
        "jupyter": {
          "outputs_hidden": false,
          "source_hidden": false
        },
        "nteract": {
          "transient": {
            "deleting": false
          }
        }
      }
    },
    {
      "cell_type": "markdown",
      "source": [
        "TODO: In the cell below, send a request to the web service you deployed to test it."
      ],
      "metadata": {
        "collapsed": true,
        "gather": {
          "logged": 1598431657736
        },
        "jupyter": {
          "outputs_hidden": false,
          "source_hidden": false
        },
        "nteract": {
          "transient": {
            "deleting": false
          }
        }
      }
    },
    {
      "cell_type": "code",
      "source": [
        "df.columns"
      ],
      "outputs": [
        {
          "output_type": "execute_result",
          "execution_count": 20,
          "data": {
            "text/plain": "Index(['state', 'account_length', 'area_code', 'international_plan',\n       'voice_mail_plan', 'number_vmail_messages', 'total_day_minutes',\n       'total_day_calls', 'total_day_charge', 'total_eve_minutes',\n       'total_eve_calls', 'total_eve_charge', 'total_night_minutes',\n       'total_night_calls', 'total_night_charge', 'total_intl_minutes',\n       'total_intl_calls', 'total_intl_charge',\n       'number_customer_service_calls', 'churn'],\n      dtype='object')"
          },
          "metadata": {}
        }
      ],
      "execution_count": 20,
      "metadata": {
        "collapsed": true,
        "jupyter": {
          "source_hidden": false,
          "outputs_hidden": false
        },
        "nteract": {
          "transient": {
            "deleting": false
          }
        },
        "gather": {
          "logged": 1621014231543
        }
      }
    },
    {
      "cell_type": "code",
      "source": [
        "\r\n",
        "import requests\r\n",
        "import json\r\n",
        "\r\n",
        "data={\"data\":\r\n",
        "  [{\r\n",
        "     'state': \"OH\", 'account_length': 100, 'area_code': \"area_code_415\", 'international_plan':\"no\",\r\n",
        "       'voice_mail_plan': \"no\", 'number_vmail_messages': 26 , 'total_day_minutes': 123.0,\r\n",
        "       'total_day_calls': 42, 'total_day_charge': 42.0, 'total_eve_minutes': 42.0,\r\n",
        "       'total_eve_calls': 42, 'total_eve_charge': 42.0, 'total_night_minutes': 42.0,\r\n",
        "       'total_night_calls': 42, 'total_night_charge': 42.0, 'total_intl_minutes': 42.0,\r\n",
        "       'total_intl_calls': 42, 'total_intl_charge': 42.0,\r\n",
        "       'number_customer_service_calls': 42\r\n",
        "     }, {\r\n",
        "     'state': \"OH\", 'account_length': 100, 'area_code': \"area_code_415\", 'international_plan':\"no\",\r\n",
        "       'voice_mail_plan': \"no\", 'number_vmail_messages': 26 , 'total_day_minutes': 123.0,\r\n",
        "       'total_day_calls': 42, 'total_day_charge': 42.0, 'total_eve_minutes': 42.0,\r\n",
        "       'total_eve_calls': 42, 'total_eve_charge': 42.0, 'total_night_minutes': 42.0,\r\n",
        "       'total_night_calls': 42, 'total_night_charge': 42.0, 'total_intl_minutes': 42.0,\r\n",
        "       'total_intl_calls': 42, 'total_intl_charge': 42.0,\r\n",
        "       'number_customer_service_calls': 42\r\n",
        "     }\r\n",
        "     ]\r\n",
        "  }\r\n",
        "\r\n",
        "input_data=json.dumps(data)\r\n",
        "\r\n",
        "headers={'Content-Type':'application/json'}\r\n",
        "\r\n",
        "result=requests.post(scoring_uri, input_data, headers=headers)\r\n",
        "print(\"Status Code: \", result.status_code)\r\n",
        "print(\"Predicted value: \",result.text)"
      ],
      "outputs": [
        {
          "output_type": "stream",
          "name": "stdout",
          "text": [
            "Status Code:  200\n",
            "Predicted value:  [\"no\", \"no\"]\n"
          ]
        }
      ],
      "execution_count": 21,
      "metadata": {
        "collapsed": true,
        "jupyter": {
          "source_hidden": false,
          "outputs_hidden": false
        },
        "nteract": {
          "transient": {
            "deleting": false
          }
        },
        "gather": {
          "logged": 1621014235575
        }
      }
    },
    {
      "cell_type": "markdown",
      "source": [
        "TODO: In the cell below, print the logs of the web service and delete the service"
      ],
      "metadata": {
        "collapsed": true,
        "gather": {
          "logged": 1598432765711
        },
        "jupyter": {
          "outputs_hidden": false,
          "source_hidden": false
        },
        "nteract": {
          "transient": {
            "deleting": false
          }
        }
      }
    },
    {
      "cell_type": "code",
      "source": [
        "service.delete()"
      ],
      "outputs": [],
      "execution_count": null,
      "metadata": {
        "jupyter": {
          "outputs_hidden": false,
          "source_hidden": false
        },
        "nteract": {
          "transient": {
            "deleting": false
          }
        }
      }
    }
  ],
  "metadata": {
    "kernel_info": {
      "name": "python3"
    },
    "kernelspec": {
      "name": "python3",
      "language": "python",
      "display_name": "Python 3"
    },
    "language_info": {
      "name": "python",
      "version": "3.6.9",
      "mimetype": "text/x-python",
      "codemirror_mode": {
        "name": "ipython",
        "version": 3
      },
      "pygments_lexer": "ipython3",
      "nbconvert_exporter": "python",
      "file_extension": ".py"
    },
    "nteract": {
      "version": "nteract-front-end@1.0.0"
    },
    "microsoft": {
      "host": {
        "AzureML": {
          "notebookHasBeenCompleted": true
        }
      }
    }
  },
  "nbformat": 4,
  "nbformat_minor": 2
}