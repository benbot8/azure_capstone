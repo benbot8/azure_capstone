{
  "cells": [
    {
      "cell_type": "markdown",
      "source": [
        "# Automated ML\n",
        "\n",
        "TODO: Import Dependencies. In the cell below, import all the dependencies that you will need to complete the project."
      ],
      "metadata": {}
    },
    {
      "cell_type": "code",
      "source": [
        "import logging\n",
        "import os\n",
        "import csv\n",
        "import joblib, pickle\n",
        "\n",
        "from matplotlib import pyplot as plt\n",
        "import numpy as np\n",
        "import pandas as pd\n",
        "from sklearn import datasets\n",
        "import pkg_resources\n",
        "\n",
        "import azureml.core\n",
        "from azureml.core.experiment import Experiment\n",
        "from azureml.core.workspace import Workspace\n",
        "from azureml.train.automl import AutoMLConfig\n",
        "from azureml.core.dataset import Dataset\n",
        "\n",
        "from azureml.pipeline.steps import AutoMLStep\n",
        "\n",
        "# Check core SDK version number\n",
        "print(\"SDK version:\", azureml.core.VERSION)"
      ],
      "outputs": [
        {
          "output_type": "stream",
          "name": "stdout",
          "text": [
            "SDK version: 1.27.0\n"
          ]
        }
      ],
      "execution_count": 1,
      "metadata": {
        "gather": {
          "logged": 1620491697198
        },
        "jupyter": {
          "outputs_hidden": false,
          "source_hidden": false
        },
        "nteract": {
          "transient": {
            "deleting": false
          }
        }
      }
    },
    {
      "cell_type": "code",
      "source": [
        "ws = Workspace.from_config()\n",
        "\n",
        "experiment_name = 'customer-churn'\n",
        "project_folder = './pipeline-project'\n",
        "\n",
        "experiment=Experiment(ws, experiment_name)\n",
        "experiment"
      ],
      "outputs": [
        {
          "output_type": "execute_result",
          "execution_count": 8,
          "data": {
            "text/plain": "Experiment(Name: customer-churn,\nWorkspace: quick-starts-ws-144229)",
            "text/html": "<table style=\"width:100%\"><tr><th>Name</th><th>Workspace</th><th>Report Page</th><th>Docs Page</th></tr><tr><td>customer-churn</td><td>quick-starts-ws-144229</td><td><a href=\"https://ml.azure.com/experiments/id/55b21594-a031-4be1-8dbf-876492e4bca8?wsid=/subscriptions/b968fb36-f06a-4c76-a15f-afab68ae7667/resourcegroups/aml-quickstarts-144229/workspaces/quick-starts-ws-144229&amp;tid=660b3398-b80e-49d2-bc5b-ac1dc93b5254\" target=\"_blank\" rel=\"noopener\">Link to Azure Machine Learning studio</a></td><td><a href=\"https://docs.microsoft.com/en-us/python/api/azureml-core/azureml.core.experiment.Experiment?view=azure-ml-py\" target=\"_blank\" rel=\"noopener\">Link to Documentation</a></td></tr></table>"
          },
          "metadata": {}
        }
      ],
      "execution_count": 8,
      "metadata": {
        "gather": {
          "logged": 1620492513338
        },
        "jupyter": {
          "outputs_hidden": false,
          "source_hidden": false
        },
        "nteract": {
          "transient": {
            "deleting": false
          }
        }
      }
    },
    {
      "cell_type": "markdown",
      "source": [
        "## Create or Attach an AmlCompute Cluster"
      ],
      "metadata": {
        "nteract": {
          "transient": {
            "deleting": false
          }
        }
      }
    },
    {
      "cell_type": "code",
      "source": [
        "from azureml.core.compute import AmlCompute\r\n",
        "from azureml.core.compute import ComputeTarget\r\n",
        "from azureml.core.compute_target import ComputeTargetException\r\n",
        "\r\n",
        "# NOTE: update the cluster name to match the existing cluster\r\n",
        "# Choose a name for your CPU cluster\r\n",
        "amlcompute_cluster_name = \"capstone-cluster\"\r\n",
        "\r\n",
        "# Verify that cluster does not exist already\r\n",
        "try:\r\n",
        "    compute_target = ComputeTarget(workspace=ws, name=amlcompute_cluster_name)\r\n",
        "    print('Found existing cluster, use it.')\r\n",
        "except ComputeTargetException:\r\n",
        "    compute_config = AmlCompute.provisioning_configuration(vm_size='STANDARD_D2_V2',# for GPU, use \"STANDARD_NC6\"\r\n",
        "                                                           #vm_priority = 'lowpriority', # optional\r\n",
        "                                                           max_nodes=4)\r\n",
        "    compute_target = ComputeTarget.create(ws, amlcompute_cluster_name, compute_config)\r\n",
        "\r\n",
        "compute_target.wait_for_completion(show_output=True, min_node_count = 1, timeout_in_minutes = 10)\r\n",
        "# For a more detailed view of current AmlCompute status, use get_status()."
      ],
      "outputs": [
        {
          "output_type": "stream",
          "name": "stdout",
          "text": [
            "Found existing cluster, use it.\n",
            "Succeeded\n",
            "AmlCompute wait for completion finished\n",
            "\n",
            "Minimum number of nodes requested have been provisioned\n"
          ]
        }
      ],
      "execution_count": 4,
      "metadata": {
        "collapsed": true,
        "jupyter": {
          "source_hidden": false,
          "outputs_hidden": false
        },
        "nteract": {
          "transient": {
            "deleting": false
          }
        },
        "gather": {
          "logged": 1620492281982
        }
      }
    },
    {
      "cell_type": "markdown",
      "source": [
        "## Dataset\n",
        "\n",
        "### Overview\n",
        "This notebook is used to predict whether a customer will change telecommunications provider, something known as \"churning\".\n",
        "\n",
        "The dataset is part of the Kaggle Customer Churn Prediction 2020 (https://www.kaggle.com/c/customer-churn-prediction-2020/overview).\n",
        "\n",
        "The training dataset contains 4250 samples. Each sample contains 19 features and 1 boolean variable \"churn\" which indicates the class of the sample. The 19 input features and 1 target variable are:\n",
        "\n",
        "\"state\", string. 2-letter code of the US state of customer residence\n",
        "\"account_length\", numerical. Number of months the customer has been with the current telco provider\n",
        "\"area_code\", string=\"area_code_AAA\" where AAA = 3 digit area code.\n",
        "\"international_plan\", . The customer has international plan.\n",
        "\"voice_mail_plan\", . The customer has voice mail plan.\n",
        "\"number_vmail_messages\", numerical. Number of voice-mail messages.\n",
        "\"total_day_minutes\", numerical. Total minutes of day calls.\n",
        "\"total_day_calls\", numerical. Total minutes of day calls.\n",
        "\"total_day_charge\", numerical. Total charge of day calls.\n",
        "\"total_eve_minutes\", numerical. Total minutes of evening calls.\n",
        "\"total_eve_calls\", numerical. Total number of evening calls.\n",
        "\"total_eve_charge\", numerical. Total charge of evening calls.\n",
        "\"total_night_minutes\", numerical. Total minutes of night calls.\n",
        "\"total_night_calls\", numerical. Total number of night calls.\n",
        "\"total_night_charge\", numerical. Total charge of night calls.\n",
        "\"total_intl_minutes\", numerical. Total minutes of international calls.\n",
        "\"total_intl_calls\", numerical. Total number of international calls.\n",
        "\"total_intl_charge\", numerical. Total charge of international calls\n",
        "\"number_customer_service_calls\", numerical. Number of calls to customer service\n",
        "\"churn\", . Customer churn - target variable.\n",
        "\n"
      ],
      "metadata": {}
    },
    {
      "cell_type": "code",
      "source": [
        "# Try to load the dataset from the Workspace. \r\n",
        "found = False\r\n",
        "key = \"customer-churn\"\r\n",
        "\r\n",
        "if key in ws.datasets.keys(): \r\n",
        "        found = True\r\n",
        "        dataset = ws.datasets[key] \r\n",
        "\r\n",
        "df = dataset.to_pandas_dataframe()\r\n",
        "df.describe()"
      ],
      "outputs": [
        {
          "output_type": "execute_result",
          "execution_count": 3,
          "data": {
            "text/plain": "       account_length  number_vmail_messages  total_day_minutes  \\\ncount     4250.000000            4250.000000        4250.000000   \nmean       100.236235               7.631765         180.259600   \nstd         39.698401              13.439882          54.012373   \nmin          1.000000               0.000000           0.000000   \n25%         73.000000               0.000000         143.325000   \n50%        100.000000               0.000000         180.450000   \n75%        127.000000              16.000000         216.200000   \nmax        243.000000              52.000000         351.500000   \n\n       total_day_calls  total_day_charge  total_eve_minutes  total_eve_calls  \\\ncount      4250.000000       4250.000000        4250.000000      4250.000000   \nmean         99.907294         30.644682         200.173906       100.176471   \nstd          19.850817          9.182096          50.249518        19.908591   \nmin           0.000000          0.000000           0.000000         0.000000   \n25%          87.000000         24.365000         165.925000        87.000000   \n50%         100.000000         30.680000         200.700000       100.000000   \n75%         113.000000         36.750000         233.775000       114.000000   \nmax         165.000000         59.760000         359.300000       170.000000   \n\n       total_eve_charge  total_night_minutes  total_night_calls  \\\ncount       4250.000000          4250.000000        4250.000000   \nmean          17.015012           200.527882          99.839529   \nstd            4.271212            50.353548          20.093220   \nmin            0.000000             0.000000           0.000000   \n25%           14.102500           167.225000          86.000000   \n50%           17.060000           200.450000         100.000000   \n75%           19.867500           234.700000         113.000000   \nmax           30.540000           395.000000         175.000000   \n\n       total_night_charge  total_intl_minutes  total_intl_calls  \\\ncount         4250.000000         4250.000000       4250.000000   \nmean             9.023892           10.256071          4.426353   \nstd              2.265922            2.760102          2.463069   \nmin              0.000000            0.000000          0.000000   \n25%              7.522500            8.500000          3.000000   \n50%              9.020000           10.300000          4.000000   \n75%             10.560000           12.000000          6.000000   \nmax             17.770000           20.000000         20.000000   \n\n       total_intl_charge  number_customer_service_calls  \ncount        4250.000000                    4250.000000  \nmean            2.769654                       1.559059  \nstd             0.745204                       1.311434  \nmin             0.000000                       0.000000  \n25%             2.300000                       1.000000  \n50%             2.780000                       1.000000  \n75%             3.240000                       2.000000  \nmax             5.400000                       9.000000  ",
            "text/html": "<div>\n<style scoped>\n    .dataframe tbody tr th:only-of-type {\n        vertical-align: middle;\n    }\n\n    .dataframe tbody tr th {\n        vertical-align: top;\n    }\n\n    .dataframe thead th {\n        text-align: right;\n    }\n</style>\n<table border=\"1\" class=\"dataframe\">\n  <thead>\n    <tr style=\"text-align: right;\">\n      <th></th>\n      <th>account_length</th>\n      <th>number_vmail_messages</th>\n      <th>total_day_minutes</th>\n      <th>total_day_calls</th>\n      <th>total_day_charge</th>\n      <th>total_eve_minutes</th>\n      <th>total_eve_calls</th>\n      <th>total_eve_charge</th>\n      <th>total_night_minutes</th>\n      <th>total_night_calls</th>\n      <th>total_night_charge</th>\n      <th>total_intl_minutes</th>\n      <th>total_intl_calls</th>\n      <th>total_intl_charge</th>\n      <th>number_customer_service_calls</th>\n    </tr>\n  </thead>\n  <tbody>\n    <tr>\n      <th>count</th>\n      <td>4250.000000</td>\n      <td>4250.000000</td>\n      <td>4250.000000</td>\n      <td>4250.000000</td>\n      <td>4250.000000</td>\n      <td>4250.000000</td>\n      <td>4250.000000</td>\n      <td>4250.000000</td>\n      <td>4250.000000</td>\n      <td>4250.000000</td>\n      <td>4250.000000</td>\n      <td>4250.000000</td>\n      <td>4250.000000</td>\n      <td>4250.000000</td>\n      <td>4250.000000</td>\n    </tr>\n    <tr>\n      <th>mean</th>\n      <td>100.236235</td>\n      <td>7.631765</td>\n      <td>180.259600</td>\n      <td>99.907294</td>\n      <td>30.644682</td>\n      <td>200.173906</td>\n      <td>100.176471</td>\n      <td>17.015012</td>\n      <td>200.527882</td>\n      <td>99.839529</td>\n      <td>9.023892</td>\n      <td>10.256071</td>\n      <td>4.426353</td>\n      <td>2.769654</td>\n      <td>1.559059</td>\n    </tr>\n    <tr>\n      <th>std</th>\n      <td>39.698401</td>\n      <td>13.439882</td>\n      <td>54.012373</td>\n      <td>19.850817</td>\n      <td>9.182096</td>\n      <td>50.249518</td>\n      <td>19.908591</td>\n      <td>4.271212</td>\n      <td>50.353548</td>\n      <td>20.093220</td>\n      <td>2.265922</td>\n      <td>2.760102</td>\n      <td>2.463069</td>\n      <td>0.745204</td>\n      <td>1.311434</td>\n    </tr>\n    <tr>\n      <th>min</th>\n      <td>1.000000</td>\n      <td>0.000000</td>\n      <td>0.000000</td>\n      <td>0.000000</td>\n      <td>0.000000</td>\n      <td>0.000000</td>\n      <td>0.000000</td>\n      <td>0.000000</td>\n      <td>0.000000</td>\n      <td>0.000000</td>\n      <td>0.000000</td>\n      <td>0.000000</td>\n      <td>0.000000</td>\n      <td>0.000000</td>\n      <td>0.000000</td>\n    </tr>\n    <tr>\n      <th>25%</th>\n      <td>73.000000</td>\n      <td>0.000000</td>\n      <td>143.325000</td>\n      <td>87.000000</td>\n      <td>24.365000</td>\n      <td>165.925000</td>\n      <td>87.000000</td>\n      <td>14.102500</td>\n      <td>167.225000</td>\n      <td>86.000000</td>\n      <td>7.522500</td>\n      <td>8.500000</td>\n      <td>3.000000</td>\n      <td>2.300000</td>\n      <td>1.000000</td>\n    </tr>\n    <tr>\n      <th>50%</th>\n      <td>100.000000</td>\n      <td>0.000000</td>\n      <td>180.450000</td>\n      <td>100.000000</td>\n      <td>30.680000</td>\n      <td>200.700000</td>\n      <td>100.000000</td>\n      <td>17.060000</td>\n      <td>200.450000</td>\n      <td>100.000000</td>\n      <td>9.020000</td>\n      <td>10.300000</td>\n      <td>4.000000</td>\n      <td>2.780000</td>\n      <td>1.000000</td>\n    </tr>\n    <tr>\n      <th>75%</th>\n      <td>127.000000</td>\n      <td>16.000000</td>\n      <td>216.200000</td>\n      <td>113.000000</td>\n      <td>36.750000</td>\n      <td>233.775000</td>\n      <td>114.000000</td>\n      <td>19.867500</td>\n      <td>234.700000</td>\n      <td>113.000000</td>\n      <td>10.560000</td>\n      <td>12.000000</td>\n      <td>6.000000</td>\n      <td>3.240000</td>\n      <td>2.000000</td>\n    </tr>\n    <tr>\n      <th>max</th>\n      <td>243.000000</td>\n      <td>52.000000</td>\n      <td>351.500000</td>\n      <td>165.000000</td>\n      <td>59.760000</td>\n      <td>359.300000</td>\n      <td>170.000000</td>\n      <td>30.540000</td>\n      <td>395.000000</td>\n      <td>175.000000</td>\n      <td>17.770000</td>\n      <td>20.000000</td>\n      <td>20.000000</td>\n      <td>5.400000</td>\n      <td>9.000000</td>\n    </tr>\n  </tbody>\n</table>\n</div>"
          },
          "metadata": {}
        }
      ],
      "execution_count": 3,
      "metadata": {
        "collapsed": true,
        "jupyter": {
          "source_hidden": false,
          "outputs_hidden": false
        },
        "nteract": {
          "transient": {
            "deleting": false
          }
        },
        "gather": {
          "logged": 1620492094659
        }
      }
    },
    {
      "cell_type": "code",
      "source": [
        "df.head(5)"
      ],
      "outputs": [
        {
          "output_type": "execute_result",
          "execution_count": 7,
          "data": {
            "text/plain": "  state  account_length      area_code international_plan voice_mail_plan  \\\n0    OH             107  area_code_415                 no             yes   \n1    NJ             137  area_code_415                 no              no   \n2    OH              84  area_code_408                yes              no   \n3    OK              75  area_code_415                yes              no   \n4    MA             121  area_code_510                 no             yes   \n\n   number_vmail_messages  total_day_minutes  total_day_calls  \\\n0                     26              161.6              123   \n1                      0              243.4              114   \n2                      0              299.4               71   \n3                      0              166.7              113   \n4                     24              218.2               88   \n\n   total_day_charge  total_eve_minutes  total_eve_calls  total_eve_charge  \\\n0             27.47              195.5              103             16.62   \n1             41.38              121.2              110             10.30   \n2             50.90               61.9               88              5.26   \n3             28.34              148.3              122             12.61   \n4             37.09              348.5              108             29.62   \n\n   total_night_minutes  total_night_calls  total_night_charge  \\\n0                254.4                103               11.45   \n1                162.6                104                7.32   \n2                196.9                 89                8.86   \n3                186.9                121                8.41   \n4                212.6                118                9.57   \n\n   total_intl_minutes  total_intl_calls  total_intl_charge  \\\n0                13.7                 3               3.70   \n1                12.2                 5               3.29   \n2                 6.6                 7               1.78   \n3                10.1                 3               2.73   \n4                 7.5                 7               2.03   \n\n   number_customer_service_calls churn  \n0                              1    no  \n1                              0    no  \n2                              2    no  \n3                              3    no  \n4                              3    no  ",
            "text/html": "<div>\n<style scoped>\n    .dataframe tbody tr th:only-of-type {\n        vertical-align: middle;\n    }\n\n    .dataframe tbody tr th {\n        vertical-align: top;\n    }\n\n    .dataframe thead th {\n        text-align: right;\n    }\n</style>\n<table border=\"1\" class=\"dataframe\">\n  <thead>\n    <tr style=\"text-align: right;\">\n      <th></th>\n      <th>state</th>\n      <th>account_length</th>\n      <th>area_code</th>\n      <th>international_plan</th>\n      <th>voice_mail_plan</th>\n      <th>number_vmail_messages</th>\n      <th>total_day_minutes</th>\n      <th>total_day_calls</th>\n      <th>total_day_charge</th>\n      <th>total_eve_minutes</th>\n      <th>total_eve_calls</th>\n      <th>total_eve_charge</th>\n      <th>total_night_minutes</th>\n      <th>total_night_calls</th>\n      <th>total_night_charge</th>\n      <th>total_intl_minutes</th>\n      <th>total_intl_calls</th>\n      <th>total_intl_charge</th>\n      <th>number_customer_service_calls</th>\n      <th>churn</th>\n    </tr>\n  </thead>\n  <tbody>\n    <tr>\n      <th>0</th>\n      <td>OH</td>\n      <td>107</td>\n      <td>area_code_415</td>\n      <td>no</td>\n      <td>yes</td>\n      <td>26</td>\n      <td>161.6</td>\n      <td>123</td>\n      <td>27.47</td>\n      <td>195.5</td>\n      <td>103</td>\n      <td>16.62</td>\n      <td>254.4</td>\n      <td>103</td>\n      <td>11.45</td>\n      <td>13.7</td>\n      <td>3</td>\n      <td>3.70</td>\n      <td>1</td>\n      <td>no</td>\n    </tr>\n    <tr>\n      <th>1</th>\n      <td>NJ</td>\n      <td>137</td>\n      <td>area_code_415</td>\n      <td>no</td>\n      <td>no</td>\n      <td>0</td>\n      <td>243.4</td>\n      <td>114</td>\n      <td>41.38</td>\n      <td>121.2</td>\n      <td>110</td>\n      <td>10.30</td>\n      <td>162.6</td>\n      <td>104</td>\n      <td>7.32</td>\n      <td>12.2</td>\n      <td>5</td>\n      <td>3.29</td>\n      <td>0</td>\n      <td>no</td>\n    </tr>\n    <tr>\n      <th>2</th>\n      <td>OH</td>\n      <td>84</td>\n      <td>area_code_408</td>\n      <td>yes</td>\n      <td>no</td>\n      <td>0</td>\n      <td>299.4</td>\n      <td>71</td>\n      <td>50.90</td>\n      <td>61.9</td>\n      <td>88</td>\n      <td>5.26</td>\n      <td>196.9</td>\n      <td>89</td>\n      <td>8.86</td>\n      <td>6.6</td>\n      <td>7</td>\n      <td>1.78</td>\n      <td>2</td>\n      <td>no</td>\n    </tr>\n    <tr>\n      <th>3</th>\n      <td>OK</td>\n      <td>75</td>\n      <td>area_code_415</td>\n      <td>yes</td>\n      <td>no</td>\n      <td>0</td>\n      <td>166.7</td>\n      <td>113</td>\n      <td>28.34</td>\n      <td>148.3</td>\n      <td>122</td>\n      <td>12.61</td>\n      <td>186.9</td>\n      <td>121</td>\n      <td>8.41</td>\n      <td>10.1</td>\n      <td>3</td>\n      <td>2.73</td>\n      <td>3</td>\n      <td>no</td>\n    </tr>\n    <tr>\n      <th>4</th>\n      <td>MA</td>\n      <td>121</td>\n      <td>area_code_510</td>\n      <td>no</td>\n      <td>yes</td>\n      <td>24</td>\n      <td>218.2</td>\n      <td>88</td>\n      <td>37.09</td>\n      <td>348.5</td>\n      <td>108</td>\n      <td>29.62</td>\n      <td>212.6</td>\n      <td>118</td>\n      <td>9.57</td>\n      <td>7.5</td>\n      <td>7</td>\n      <td>2.03</td>\n      <td>3</td>\n      <td>no</td>\n    </tr>\n  </tbody>\n</table>\n</div>"
          },
          "metadata": {}
        }
      ],
      "execution_count": 7,
      "metadata": {
        "collapsed": true,
        "jupyter": {
          "source_hidden": false,
          "outputs_hidden": false
        },
        "nteract": {
          "transient": {
            "deleting": false
          }
        },
        "gather": {
          "logged": 1620492349086
        }
      }
    },
    {
      "cell_type": "markdown",
      "source": [
        "## AutoML Configuration\n",
        "\n",
        "The AutoML experiment will timeout after 20 minutes and uses a maximum of 5 concurrent iterations. It is, however, very possible to adjust those parameters (though a deep learning experiment has a limit of 24 hours).\n",
        "The primary metric is AUC_weighted (area under the curve weighted), which is the metric I want to optimize. The best-fit model will be chosen based on this metric. The binary classification predicts, whether a customer is going to leave the company or not (given in the lab column \"churn\"). \n",
        "Early stopping is enabled if the score is not improving in the short term."
      ],
      "metadata": {}
    },
    {
      "cell_type": "code",
      "source": [
        "automl_settings = {\n",
        "    \"experiment_timeout_minutes\": 20,\n",
        "    \"max_concurrent_iterations\": 5,\n",
        "    \"primary_metric\" : 'AUC_weighted'\n",
        "}\n",
        "automl_config = AutoMLConfig(compute_target=compute_target,\n",
        "                             task = \"classification\",\n",
        "                             training_data=dataset,\n",
        "                             label_column_name=\"churn\",   \n",
        "                             path = project_folder,\n",
        "                             enable_early_stopping= True,\n",
        "                             featurization= 'auto',\n",
        "                             debug_log = \"automl_errors.log\",\n",
        "                             **automl_settings\n",
        "                            )"
      ],
      "outputs": [],
      "execution_count": 9,
      "metadata": {
        "gather": {
          "logged": 1620492554899
        },
        "jupyter": {
          "outputs_hidden": false,
          "source_hidden": false
        },
        "nteract": {
          "transient": {
            "deleting": false
          }
        }
      }
    },
    {
      "cell_type": "code",
      "source": [
        "# TODO: Submit your experiment\n",
        "remote_run = experiment.submit(automl_config)"
      ],
      "outputs": [
        {
          "output_type": "stream",
          "name": "stdout",
          "text": [
            "Submitting remote run.\n"
          ]
        },
        {
          "output_type": "display_data",
          "data": {
            "text/plain": "<IPython.core.display.HTML object>",
            "text/html": "<table style=\"width:100%\"><tr><th>Experiment</th><th>Id</th><th>Type</th><th>Status</th><th>Details Page</th><th>Docs Page</th></tr><tr><td>customer-churn</td><td>AutoML_02a88637-5957-40bb-9d85-ab32cf15d653</td><td>automl</td><td>NotStarted</td><td><a href=\"https://ml.azure.com/runs/AutoML_02a88637-5957-40bb-9d85-ab32cf15d653?wsid=/subscriptions/b968fb36-f06a-4c76-a15f-afab68ae7667/resourcegroups/aml-quickstarts-144229/workspaces/quick-starts-ws-144229&amp;tid=660b3398-b80e-49d2-bc5b-ac1dc93b5254\" target=\"_blank\" rel=\"noopener\">Link to Azure Machine Learning studio</a></td><td><a href=\"https://docs.microsoft.com/en-us/python/api/overview/azure/ml/intro?view=azure-ml-py\" target=\"_blank\" rel=\"noopener\">Link to Documentation</a></td></tr></table>"
          },
          "metadata": {}
        }
      ],
      "execution_count": 10,
      "metadata": {
        "gather": {
          "logged": 1620492583112
        },
        "jupyter": {
          "outputs_hidden": false,
          "source_hidden": false
        },
        "nteract": {
          "transient": {
            "deleting": false
          }
        }
      }
    },
    {
      "cell_type": "markdown",
      "source": [
        "## Run Details\n",
        "\n",
        "OPTIONAL: Write about the different models trained and their performance. Why do you think some models did better than others?\n",
        "\n",
        "TODO: In the cell below, use the `RunDetails` widget to show the different experiments."
      ],
      "metadata": {}
    },
    {
      "cell_type": "code",
      "source": [
        "from azureml.widgets import RunDetails\r\n",
        "\r\n",
        "RunDetails(remote_run).show()\r\n",
        "remote_run.wait_for_completion(show_output=True)"
      ],
      "outputs": [
        {
          "output_type": "display_data",
          "data": {
            "text/plain": "_AutoMLWidget(widget_settings={'childWidgetDisplay': 'popup', 'send_telemetry': False, 'log_level': 'INFO', 's…",
            "application/vnd.jupyter.widget-view+json": {
              "version_major": 2,
              "version_minor": 0,
              "model_id": "dba16d55c9764194a4219871ac3b10d0"
            }
          },
          "metadata": {}
        },
        {
          "output_type": "display_data",
          "data": {
            "application/aml.mini.widget.v1": "{\"status\": \"Completed\", \"workbench_run_details_uri\": \"https://ml.azure.com/runs/AutoML_02a88637-5957-40bb-9d85-ab32cf15d653?wsid=/subscriptions/b968fb36-f06a-4c76-a15f-afab68ae7667/resourcegroups/aml-quickstarts-144229/workspaces/quick-starts-ws-144229&tid=660b3398-b80e-49d2-bc5b-ac1dc93b5254\", \"run_id\": \"AutoML_02a88637-5957-40bb-9d85-ab32cf15d653\", \"run_properties\": {\"run_id\": \"AutoML_02a88637-5957-40bb-9d85-ab32cf15d653\", \"created_utc\": \"2021-05-08T16:49:41.576719Z\", \"properties\": {\"num_iterations\": \"1000\", \"training_type\": \"TrainFull\", \"acquisition_function\": \"EI\", \"primary_metric\": \"AUC_weighted\", \"train_split\": \"0\", \"acquisition_parameter\": \"0\", \"num_cross_validation\": null, \"target\": \"capstone-cluster\", \"AMLSettingsJsonString\": \"{\\\"path\\\":null,\\\"name\\\":\\\"customer-churn\\\",\\\"subscription_id\\\":\\\"b968fb36-f06a-4c76-a15f-afab68ae7667\\\",\\\"resource_group\\\":\\\"aml-quickstarts-144229\\\",\\\"workspace_name\\\":\\\"quick-starts-ws-144229\\\",\\\"region\\\":\\\"southcentralus\\\",\\\"compute_target\\\":\\\"capstone-cluster\\\",\\\"spark_service\\\":null,\\\"azure_service\\\":\\\"remote\\\",\\\"many_models\\\":false,\\\"pipeline_fetch_max_batch_size\\\":1,\\\"enable_batch_run\\\":false,\\\"enable_run_restructure\\\":false,\\\"start_auxiliary_runs_before_parent_complete\\\":false,\\\"iterations\\\":1000,\\\"primary_metric\\\":\\\"AUC_weighted\\\",\\\"task_type\\\":\\\"classification\\\",\\\"data_script\\\":null,\\\"test_size\\\":0.0,\\\"validation_size\\\":0.0,\\\"n_cross_validations\\\":null,\\\"y_min\\\":null,\\\"y_max\\\":null,\\\"num_classes\\\":null,\\\"featurization\\\":\\\"auto\\\",\\\"_ignore_package_version_incompatibilities\\\":false,\\\"is_timeseries\\\":false,\\\"max_cores_per_iteration\\\":1,\\\"max_concurrent_iterations\\\":5,\\\"iteration_timeout_minutes\\\":null,\\\"mem_in_mb\\\":null,\\\"enforce_time_on_windows\\\":false,\\\"experiment_timeout_minutes\\\":20,\\\"experiment_exit_score\\\":null,\\\"whitelist_models\\\":null,\\\"blacklist_algos\\\":[\\\"TensorFlowLinearClassifier\\\",\\\"TensorFlowDNN\\\"],\\\"supported_models\\\":[\\\"SVM\\\",\\\"DecisionTree\\\",\\\"GradientBoosting\\\",\\\"MultinomialNaiveBayes\\\",\\\"LinearSVM\\\",\\\"KNN\\\",\\\"LogisticRegression\\\",\\\"SGD\\\",\\\"XGBoostClassifier\\\",\\\"ExtremeRandomTrees\\\",\\\"LightGBM\\\",\\\"TensorFlowDNN\\\",\\\"AveragedPerceptronClassifier\\\",\\\"TensorFlowLinearClassifier\\\",\\\"BernoulliNaiveBayes\\\",\\\"RandomForest\\\"],\\\"private_models\\\":[],\\\"auto_blacklist\\\":true,\\\"blacklist_samples_reached\\\":false,\\\"exclude_nan_labels\\\":true,\\\"verbosity\\\":20,\\\"_debug_log\\\":\\\"azureml_automl.log\\\",\\\"show_warnings\\\":false,\\\"model_explainability\\\":true,\\\"service_url\\\":null,\\\"sdk_url\\\":null,\\\"sdk_packages\\\":null,\\\"enable_onnx_compatible_models\\\":false,\\\"enable_split_onnx_featurizer_estimator_models\\\":false,\\\"vm_type\\\":\\\"STANDARD_DS3_V2\\\",\\\"telemetry_verbosity\\\":20,\\\"send_telemetry\\\":true,\\\"enable_dnn\\\":false,\\\"scenario\\\":\\\"SDK-1.13.0\\\",\\\"environment_label\\\":null,\\\"save_mlflow\\\":false,\\\"force_text_dnn\\\":false,\\\"enable_feature_sweeping\\\":true,\\\"enable_early_stopping\\\":true,\\\"early_stopping_n_iters\\\":10,\\\"metrics\\\":null,\\\"enable_metric_confidence\\\":false,\\\"enable_ensembling\\\":true,\\\"enable_stack_ensembling\\\":true,\\\"ensemble_iterations\\\":15,\\\"enable_tf\\\":false,\\\"enable_subsampling\\\":null,\\\"subsample_seed\\\":null,\\\"enable_nimbusml\\\":false,\\\"enable_streaming\\\":false,\\\"force_streaming\\\":false,\\\"track_child_runs\\\":true,\\\"allowed_private_models\\\":[],\\\"label_column_name\\\":\\\"churn\\\",\\\"weight_column_name\\\":null,\\\"cv_split_column_names\\\":null,\\\"enable_local_managed\\\":false,\\\"_local_managed_run_id\\\":null,\\\"cost_mode\\\":1,\\\"lag_length\\\":0,\\\"metric_operation\\\":\\\"maximize\\\",\\\"preprocess\\\":true}\", \"DataPrepJsonString\": \"{\\\\\\\"training_data\\\\\\\": {\\\\\\\"datasetId\\\\\\\": \\\\\\\"4d037514-2225-431d-9742-15b321e38419\\\\\\\"}, \\\\\\\"datasets\\\\\\\": 0}\", \"EnableSubsampling\": null, \"runTemplate\": \"AutoML\", \"azureml.runsource\": \"automl\", \"display_task_type\": \"classification\", \"dependencies_versions\": \"{\\\"azureml-widgets\\\": \\\"1.27.0\\\", \\\"azureml-train\\\": \\\"1.27.0\\\", \\\"azureml-train-restclients-hyperdrive\\\": \\\"1.27.0\\\", \\\"azureml-train-core\\\": \\\"1.27.0\\\", \\\"azureml-train-automl\\\": \\\"1.27.0\\\", \\\"azureml-train-automl-runtime\\\": \\\"1.27.0\\\", \\\"azureml-train-automl-client\\\": \\\"1.27.0\\\", \\\"azureml-tensorboard\\\": \\\"1.27.0\\\", \\\"azureml-telemetry\\\": \\\"1.27.0\\\", \\\"azureml-sdk\\\": \\\"1.27.0\\\", \\\"azureml-samples\\\": \\\"0+unknown\\\", \\\"azureml-pipeline\\\": \\\"1.27.0\\\", \\\"azureml-pipeline-steps\\\": \\\"1.27.0\\\", \\\"azureml-pipeline-core\\\": \\\"1.27.0\\\", \\\"azureml-opendatasets\\\": \\\"1.27.0\\\", \\\"azureml-model-management-sdk\\\": \\\"1.0.1b6.post1\\\", \\\"azureml-mlflow\\\": \\\"1.27.0\\\", \\\"azureml-interpret\\\": \\\"1.27.0\\\", \\\"azureml-explain-model\\\": \\\"1.27.0\\\", \\\"azureml-defaults\\\": \\\"1.27.0\\\", \\\"azureml-dataset-runtime\\\": \\\"1.27.0\\\", \\\"azureml-dataprep\\\": \\\"2.14.2\\\", \\\"azureml-dataprep-rslex\\\": \\\"1.12.1\\\", \\\"azureml-dataprep-native\\\": \\\"33.0.0\\\", \\\"azureml-datadrift\\\": \\\"1.27.0\\\", \\\"azureml-core\\\": \\\"1.27.0\\\", \\\"azureml-contrib-services\\\": \\\"1.27.0\\\", \\\"azureml-contrib-server\\\": \\\"1.27.0\\\", \\\"azureml-contrib-reinforcementlearning\\\": \\\"1.27.0\\\", \\\"azureml-contrib-pipeline-steps\\\": \\\"1.27.0\\\", \\\"azureml-contrib-notebook\\\": \\\"1.27.0\\\", \\\"azureml-contrib-gbdt\\\": \\\"1.27.0\\\", \\\"azureml-contrib-fairness\\\": \\\"1.27.0\\\", \\\"azureml-contrib-dataset\\\": \\\"1.27.0\\\", \\\"azureml-cli-common\\\": \\\"1.27.0\\\", \\\"azureml-automl-runtime\\\": \\\"1.27.0\\\", \\\"azureml-automl-dnn-nlp\\\": \\\"1.27.0\\\", \\\"azureml-automl-core\\\": \\\"1.27.0\\\", \\\"azureml-accel-models\\\": \\\"1.27.0\\\"}\", \"_aml_system_scenario_identification\": \"Remote.Parent\", \"ClientType\": \"SDK\", \"environment_cpu_name\": \"AzureML-AutoML\", \"environment_cpu_label\": \"prod\", \"environment_gpu_name\": \"AzureML-AutoML-GPU\", \"environment_gpu_label\": \"prod\", \"root_attribution\": \"automl\", \"attribution\": \"AutoML\", \"Orchestrator\": \"AutoML\", \"CancelUri\": \"https://southcentralus.api.azureml.ms/jasmine/v1.0/subscriptions/b968fb36-f06a-4c76-a15f-afab68ae7667/resourceGroups/aml-quickstarts-144229/providers/Microsoft.MachineLearningServices/workspaces/quick-starts-ws-144229/experimentids/55b21594-a031-4be1-8dbf-876492e4bca8/cancel/AutoML_02a88637-5957-40bb-9d85-ab32cf15d653\", \"ClientSdkVersion\": \"1.27.0.post1\", \"snapshotId\": \"00000000-0000-0000-0000-000000000000\", \"SetupRunId\": \"AutoML_02a88637-5957-40bb-9d85-ab32cf15d653_setup\", \"SetupRunContainerId\": \"dcid.AutoML_02a88637-5957-40bb-9d85-ab32cf15d653_setup\", \"FeaturizationRunJsonPath\": \"featurizer_container.json\", \"FeaturizationRunId\": \"AutoML_02a88637-5957-40bb-9d85-ab32cf15d653_featurize\", \"ProblemInfoJsonString\": \"{\\\"dataset_num_categorical\\\": 0, \\\"is_sparse\\\": true, \\\"subsampling\\\": false, \\\"dataset_classes\\\": 2, \\\"dataset_features\\\": 145, \\\"dataset_samples\\\": 4250, \\\"single_frequency_class_detected\\\": false}\", \"ModelExplainRunId\": \"AutoML_02a88637-5957-40bb-9d85-ab32cf15d653_ModelExplain\"}, \"tags\": {\"model_explain_run\": \"best_run\", \"_aml_system_azureml.automlComponent\": \"AutoML\", \"pipeline_id\": \"\", \"score\": \"\", \"predicted_cost\": \"\", \"fit_time\": \"\", \"training_percent\": \"\", \"iteration\": \"\", \"run_preprocessor\": \"\", \"run_algorithm\": \"\", \"dynamic_whitelisting_iterations\": \"<25>;<30>;<35>;<40>;<45>;\", \"automl_best_child_run_id\": \"AutoML_02a88637-5957-40bb-9d85-ab32cf15d653_50\", \"model_explain_best_run_child_id\": \"AutoML_02a88637-5957-40bb-9d85-ab32cf15d653_50\"}, \"end_time_utc\": \"2021-05-08T17:09:51.470725Z\", \"status\": \"Completed\", \"log_files\": {}, \"log_groups\": [], \"run_duration\": \"0:20:09\", \"run_number\": \"1\", \"run_queued_details\": {\"status\": \"Completed\", \"details\": null}}, \"child_runs\": [{\"run_id\": \"AutoML_02a88637-5957-40bb-9d85-ab32cf15d653_0\", \"run_number\": 5, \"metric\": null, \"status\": \"Completed\", \"run_type\": \"azureml.scriptrun\", \"training_percent\": \"100\", \"start_time\": \"2021-05-08T16:54:26.381164Z\", \"end_time\": \"2021-05-08T16:55:15.174157Z\", \"created_time\": \"2021-05-08T16:53:13.908852Z\", \"created_time_dt\": \"2021-05-08T16:53:13.908852Z\", \"duration\": \"0:02:01\", \"iteration\": \"0\", \"goal\": \"AUC_weighted_max\", \"run_name\": \"MaxAbsScaler, LightGBM\", \"run_properties\": \"copy=True\", \"primary_metric\": 0.89459392, \"best_metric\": 0.89459392}, {\"run_id\": \"AutoML_02a88637-5957-40bb-9d85-ab32cf15d653_1\", \"run_number\": 6, \"metric\": null, \"status\": \"Completed\", \"run_type\": \"azureml.scriptrun\", \"training_percent\": \"100\", \"start_time\": \"2021-05-08T16:56:26.256816Z\", \"end_time\": \"2021-05-08T16:58:09.125417Z\", \"created_time\": \"2021-05-08T16:53:13.965591Z\", \"created_time_dt\": \"2021-05-08T16:53:13.965591Z\", \"duration\": \"0:04:55\", \"iteration\": \"1\", \"goal\": \"AUC_weighted_max\", \"run_name\": \"MaxAbsScaler, XGBoostClassifier\", \"run_properties\": \"copy=True\", \"primary_metric\": 0.91181469, \"best_metric\": 0.91181469}, {\"run_id\": \"AutoML_02a88637-5957-40bb-9d85-ab32cf15d653_2\", \"run_number\": 7, \"metric\": null, \"status\": \"Completed\", \"run_type\": \"azureml.scriptrun\", \"training_percent\": \"100\", \"start_time\": \"2021-05-08T16:55:31.647507Z\", \"end_time\": \"2021-05-08T16:56:21.183755Z\", \"created_time\": \"2021-05-08T16:53:13.969465Z\", \"created_time_dt\": \"2021-05-08T16:53:13.969465Z\", \"duration\": \"0:03:07\", \"iteration\": \"2\", \"goal\": \"AUC_weighted_max\", \"run_name\": \"MaxAbsScaler, RandomForest\", \"run_properties\": \"copy=True\", \"primary_metric\": 0.84968569, \"best_metric\": 0.91181469}, {\"run_id\": \"AutoML_02a88637-5957-40bb-9d85-ab32cf15d653_3\", \"run_number\": 8, \"metric\": null, \"status\": \"Completed\", \"run_type\": \"azureml.scriptrun\", \"training_percent\": \"100\", \"start_time\": \"2021-05-08T16:53:28.123428Z\", \"end_time\": \"2021-05-08T16:54:08.542261Z\", \"created_time\": \"2021-05-08T16:53:13.982982Z\", \"created_time_dt\": \"2021-05-08T16:53:13.982982Z\", \"duration\": \"0:00:54\", \"iteration\": \"3\", \"goal\": \"AUC_weighted_max\", \"run_name\": \"MaxAbsScaler, RandomForest\", \"run_properties\": \"copy=True\", \"primary_metric\": 0.83555766, \"best_metric\": 0.91181469}, {\"run_id\": \"AutoML_02a88637-5957-40bb-9d85-ab32cf15d653_4\", \"run_number\": 9, \"metric\": null, \"status\": \"Completed\", \"run_type\": \"azureml.scriptrun\", \"training_percent\": \"100\", \"start_time\": \"2021-05-08T16:56:26.165113Z\", \"end_time\": \"2021-05-08T16:58:15.560945Z\", \"created_time\": \"2021-05-08T16:53:13.988018Z\", \"created_time_dt\": \"2021-05-08T16:53:13.988018Z\", \"duration\": \"0:05:01\", \"iteration\": \"4\", \"goal\": \"AUC_weighted_max\", \"run_name\": \"MaxAbsScaler, RandomForest\", \"run_properties\": \"copy=True\", \"primary_metric\": 0.77421996, \"best_metric\": 0.91181469}, {\"run_id\": \"AutoML_02a88637-5957-40bb-9d85-ab32cf15d653_5\", \"run_number\": 10, \"metric\": null, \"status\": \"Completed\", \"run_type\": \"azureml.scriptrun\", \"training_percent\": \"100\", \"start_time\": \"2021-05-08T16:56:25.307999Z\", \"end_time\": \"2021-05-08T16:58:00.742186Z\", \"created_time\": \"2021-05-08T16:54:11.612406Z\", \"created_time_dt\": \"2021-05-08T16:54:11.612406Z\", \"duration\": \"0:03:49\", \"iteration\": \"5\", \"goal\": \"AUC_weighted_max\", \"run_name\": \"MaxAbsScaler, ExtremeRandomTrees\", \"run_properties\": \"copy=True\", \"primary_metric\": 0.84298169, \"best_metric\": 0.91181469}, {\"run_id\": \"AutoML_02a88637-5957-40bb-9d85-ab32cf15d653_6\", \"run_number\": 11, \"metric\": null, \"status\": \"Completed\", \"run_type\": \"azureml.scriptrun\", \"training_percent\": \"100\", \"start_time\": \"2021-05-08T16:56:32.564722Z\", \"end_time\": \"2021-05-08T16:57:17.510954Z\", \"created_time\": \"2021-05-08T16:55:18.301538Z\", \"created_time_dt\": \"2021-05-08T16:55:18.301538Z\", \"duration\": \"0:01:59\", \"iteration\": \"6\", \"goal\": \"AUC_weighted_max\", \"run_name\": \"MaxAbsScaler, ExtremeRandomTrees\", \"run_properties\": \"copy=True\", \"primary_metric\": 0.87934788, \"best_metric\": 0.91181469}, {\"run_id\": \"AutoML_02a88637-5957-40bb-9d85-ab32cf15d653_7\", \"run_number\": 12, \"metric\": null, \"status\": \"Completed\", \"run_type\": \"azureml.scriptrun\", \"training_percent\": \"100\", \"start_time\": \"2021-05-08T16:57:30.709064Z\", \"end_time\": \"2021-05-08T16:58:14.396061Z\", \"created_time\": \"2021-05-08T16:56:24.477376Z\", \"created_time_dt\": \"2021-05-08T16:56:24.477376Z\", \"duration\": \"0:01:49\", \"iteration\": \"7\", \"goal\": \"AUC_weighted_max\", \"run_name\": \"MaxAbsScaler, ExtremeRandomTrees\", \"run_properties\": \"copy=True\", \"primary_metric\": 0.85519921, \"best_metric\": 0.91181469}, {\"run_id\": \"AutoML_02a88637-5957-40bb-9d85-ab32cf15d653_8\", \"run_number\": 13, \"metric\": null, \"status\": \"Completed\", \"run_type\": \"azureml.scriptrun\", \"training_percent\": \"100\", \"start_time\": \"2021-05-08T16:58:12.107652Z\", \"end_time\": \"2021-05-08T16:58:59.437024Z\", \"created_time\": \"2021-05-08T16:57:20.653596Z\", \"created_time_dt\": \"2021-05-08T16:57:20.653596Z\", \"duration\": \"0:01:38\", \"iteration\": \"8\", \"goal\": \"AUC_weighted_max\", \"run_name\": \"MaxAbsScaler, RandomForest\", \"run_properties\": \"copy=True\", \"primary_metric\": 0.84956353, \"best_metric\": 0.91181469}, {\"run_id\": \"AutoML_02a88637-5957-40bb-9d85-ab32cf15d653_9\", \"run_number\": 14, \"metric\": null, \"status\": \"Completed\", \"run_type\": \"azureml.scriptrun\", \"training_percent\": \"100\", \"start_time\": \"2021-05-08T16:58:22.520727Z\", \"end_time\": \"2021-05-08T16:59:07.104455Z\", \"created_time\": \"2021-05-08T16:58:04.030266Z\", \"created_time_dt\": \"2021-05-08T16:58:04.030266Z\", \"duration\": \"0:01:03\", \"iteration\": \"9\", \"goal\": \"AUC_weighted_max\", \"run_name\": \"MaxAbsScaler, ExtremeRandomTrees\", \"run_properties\": \"copy=True\", \"primary_metric\": 0.84993684, \"best_metric\": 0.91181469}, {\"run_id\": \"AutoML_02a88637-5957-40bb-9d85-ab32cf15d653_10\", \"run_number\": 15, \"metric\": null, \"status\": \"Completed\", \"run_type\": \"azureml.scriptrun\", \"training_percent\": \"100\", \"start_time\": \"2021-05-08T16:58:28.474643Z\", \"end_time\": \"2021-05-08T16:59:12.318508Z\", \"created_time\": \"2021-05-08T16:58:12.198075Z\", \"created_time_dt\": \"2021-05-08T16:58:12.198075Z\", \"duration\": \"0:01:00\", \"iteration\": \"10\", \"goal\": \"AUC_weighted_max\", \"run_name\": \"MaxAbsScaler, RandomForest\", \"run_properties\": \"copy=True\", \"primary_metric\": 0.83033906, \"best_metric\": 0.91181469}, {\"run_id\": \"AutoML_02a88637-5957-40bb-9d85-ab32cf15d653_11\", \"run_number\": 16, \"metric\": null, \"status\": \"Completed\", \"run_type\": \"azureml.scriptrun\", \"training_percent\": \"100\", \"start_time\": \"2021-05-08T16:58:28.864221Z\", \"end_time\": \"2021-05-08T16:59:14.199937Z\", \"created_time\": \"2021-05-08T16:58:17.406068Z\", \"created_time_dt\": \"2021-05-08T16:58:17.406068Z\", \"duration\": \"0:00:56\", \"iteration\": \"11\", \"goal\": \"AUC_weighted_max\", \"run_name\": \"MaxAbsScaler, RandomForest\", \"run_properties\": \"copy=True\", \"primary_metric\": 0.75934576, \"best_metric\": 0.91181469}, {\"run_id\": \"AutoML_02a88637-5957-40bb-9d85-ab32cf15d653_12\", \"run_number\": 17, \"metric\": null, \"status\": \"Completed\", \"run_type\": \"azureml.scriptrun\", \"training_percent\": \"100\", \"start_time\": \"2021-05-08T16:59:12.707934Z\", \"end_time\": \"2021-05-08T16:59:57.418804Z\", \"created_time\": \"2021-05-08T16:58:21.525281Z\", \"created_time_dt\": \"2021-05-08T16:58:21.525281Z\", \"duration\": \"0:01:35\", \"iteration\": \"12\", \"goal\": \"AUC_weighted_max\", \"run_name\": \"MaxAbsScaler, RandomForest\", \"run_properties\": \"copy=True\", \"primary_metric\": 0.78674136, \"best_metric\": 0.91181469}, {\"run_id\": \"AutoML_02a88637-5957-40bb-9d85-ab32cf15d653_13\", \"run_number\": 18, \"metric\": null, \"status\": \"Completed\", \"run_type\": \"azureml.scriptrun\", \"training_percent\": \"100\", \"start_time\": \"2021-05-08T16:59:19.817577Z\", \"end_time\": \"2021-05-08T17:00:00.85738Z\", \"created_time\": \"2021-05-08T16:59:03.430318Z\", \"created_time_dt\": \"2021-05-08T16:59:03.430318Z\", \"duration\": \"0:00:57\", \"iteration\": \"13\", \"goal\": \"AUC_weighted_max\", \"run_name\": \"StandardScalerWrapper, XGBoostClassifier\", \"run_properties\": \"<azureml.automl.runtime.shared.model_wrappers.StandardScalerWrapper object at 0x7f86d67de588\", \"primary_metric\": 0.90293119, \"best_metric\": 0.91181469}, {\"run_id\": \"AutoML_02a88637-5957-40bb-9d85-ab32cf15d653_14\", \"run_number\": 19, \"metric\": null, \"status\": \"Completed\", \"run_type\": \"azureml.scriptrun\", \"training_percent\": \"100\", \"start_time\": \"2021-05-08T16:59:25.141026Z\", \"end_time\": \"2021-05-08T17:00:05.583231Z\", \"created_time\": \"2021-05-08T16:59:10.061578Z\", \"created_time_dt\": \"2021-05-08T16:59:10.061578Z\", \"duration\": \"0:00:55\", \"iteration\": \"14\", \"goal\": \"AUC_weighted_max\", \"run_name\": \"MaxAbsScaler, RandomForest\", \"run_properties\": \"copy=True\", \"primary_metric\": 0.81063366, \"best_metric\": 0.91181469}, {\"run_id\": \"AutoML_02a88637-5957-40bb-9d85-ab32cf15d653_15\", \"run_number\": 20, \"metric\": null, \"status\": \"Completed\", \"run_type\": \"azureml.scriptrun\", \"training_percent\": \"100\", \"start_time\": \"2021-05-08T16:59:31.84289Z\", \"end_time\": \"2021-05-08T17:00:15.851423Z\", \"created_time\": \"2021-05-08T16:59:15.69367Z\", \"created_time_dt\": \"2021-05-08T16:59:15.69367Z\", \"duration\": \"0:01:00\", \"iteration\": \"15\", \"goal\": \"AUC_weighted_max\", \"run_name\": \"StandardScalerWrapper, ExtremeRandomTrees\", \"run_properties\": \"<azureml.automl.runtime.shared.model_wrappers.StandardScalerWrapper object at 0x7f886a81b630\", \"primary_metric\": 0.84807371, \"best_metric\": 0.91181469}, {\"run_id\": \"AutoML_02a88637-5957-40bb-9d85-ab32cf15d653_16\", \"run_number\": 21, \"metric\": null, \"status\": \"Completed\", \"run_type\": \"azureml.scriptrun\", \"training_percent\": \"100\", \"start_time\": \"2021-05-08T17:00:14.820234Z\", \"end_time\": \"2021-05-08T17:00:59.262887Z\", \"created_time\": \"2021-05-08T16:59:20.835761Z\", \"created_time_dt\": \"2021-05-08T16:59:20.835761Z\", \"duration\": \"0:01:38\", \"iteration\": \"16\", \"goal\": \"AUC_weighted_max\", \"run_name\": \"MaxAbsScaler, ExtremeRandomTrees\", \"run_properties\": \"copy=True\", \"primary_metric\": 0.8530556, \"best_metric\": 0.91181469}, {\"run_id\": \"AutoML_02a88637-5957-40bb-9d85-ab32cf15d653_17\", \"run_number\": 22, \"metric\": null, \"status\": \"Completed\", \"run_type\": \"azureml.scriptrun\", \"training_percent\": \"100\", \"start_time\": \"2021-05-08T17:00:17.341664Z\", \"end_time\": \"2021-05-08T17:01:01.245445Z\", \"created_time\": \"2021-05-08T17:00:01.05032Z\", \"created_time_dt\": \"2021-05-08T17:00:01.05032Z\", \"duration\": \"0:01:00\", \"iteration\": \"17\", \"goal\": \"AUC_weighted_max\", \"run_name\": \"MaxAbsScaler, ExtremeRandomTrees\", \"run_properties\": \"copy=True\", \"primary_metric\": 0.83397343, \"best_metric\": 0.91181469}, {\"run_id\": \"AutoML_02a88637-5957-40bb-9d85-ab32cf15d653_18\", \"run_number\": 23, \"metric\": null, \"status\": \"Completed\", \"run_type\": \"azureml.scriptrun\", \"training_percent\": \"100\", \"start_time\": \"2021-05-08T17:00:19.733295Z\", \"end_time\": \"2021-05-08T17:01:03.048912Z\", \"created_time\": \"2021-05-08T17:00:05.770226Z\", \"created_time_dt\": \"2021-05-08T17:00:05.770226Z\", \"duration\": \"0:00:57\", \"iteration\": \"18\", \"goal\": \"AUC_weighted_max\", \"run_name\": \"MaxAbsScaler, RandomForest\", \"run_properties\": \"copy=True\", \"primary_metric\": 0.72951777, \"best_metric\": 0.91181469}, {\"run_id\": \"AutoML_02a88637-5957-40bb-9d85-ab32cf15d653_19\", \"run_number\": 24, \"metric\": null, \"status\": \"Completed\", \"run_type\": \"azureml.scriptrun\", \"training_percent\": \"100\", \"start_time\": \"2021-05-08T17:00:33.607463Z\", \"end_time\": \"2021-05-08T17:01:16.547828Z\", \"created_time\": \"2021-05-08T17:00:10.039675Z\", \"created_time_dt\": \"2021-05-08T17:00:10.039675Z\", \"duration\": \"0:01:06\", \"iteration\": \"19\", \"goal\": \"AUC_weighted_max\", \"run_name\": \"StandardScalerWrapper, LogisticRegression\", \"run_properties\": \"<azureml.automl.runtime.shared.model_wrappers.StandardScalerWrapper object at 0x7f11d92ddda0\", \"primary_metric\": 0.82448401, \"best_metric\": 0.91181469}, {\"run_id\": \"AutoML_02a88637-5957-40bb-9d85-ab32cf15d653_20\", \"run_number\": 25, \"metric\": null, \"status\": \"Completed\", \"run_type\": \"azureml.scriptrun\", \"training_percent\": \"100\", \"start_time\": \"2021-05-08T17:01:16.852688Z\", \"end_time\": \"2021-05-08T17:02:01.990313Z\", \"created_time\": \"2021-05-08T17:00:18.748788Z\", \"created_time_dt\": \"2021-05-08T17:00:18.748788Z\", \"duration\": \"0:01:43\", \"iteration\": \"20\", \"goal\": \"AUC_weighted_max\", \"run_name\": \"SparseNormalizer, LightGBM\", \"run_properties\": \"<azureml.automl.runtime.shared.model_wrappers.SparseNormalizer object at 0x7f79ec6f3ef0\", \"primary_metric\": 0.89305285, \"best_metric\": 0.91181469}, {\"run_id\": \"AutoML_02a88637-5957-40bb-9d85-ab32cf15d653_21\", \"run_number\": 26, \"metric\": null, \"status\": \"Completed\", \"run_type\": \"azureml.scriptrun\", \"training_percent\": \"100\", \"start_time\": \"2021-05-08T17:01:15.517238Z\", \"end_time\": \"2021-05-08T17:02:04.699686Z\", \"created_time\": \"2021-05-08T17:01:01.660785Z\", \"created_time_dt\": \"2021-05-08T17:01:01.660785Z\", \"duration\": \"0:01:03\", \"iteration\": \"21\", \"goal\": \"AUC_weighted_max\", \"run_name\": \"TruncatedSVDWrapper, XGBoostClassifier\", \"run_properties\": \"n_components=0.2573684210526316, random_state=None\", \"primary_metric\": 0.91034317, \"best_metric\": 0.91181469}, {\"run_id\": \"AutoML_02a88637-5957-40bb-9d85-ab32cf15d653_23\", \"run_number\": 27, \"metric\": null, \"status\": \"Completed\", \"run_type\": \"azureml.scriptrun\", \"training_percent\": \"100\", \"start_time\": \"2021-05-08T17:01:30.213835Z\", \"end_time\": \"2021-05-08T17:02:16.833341Z\", \"created_time\": \"2021-05-08T17:01:04.785642Z\", \"created_time_dt\": \"2021-05-08T17:01:04.785642Z\", \"duration\": \"0:01:12\", \"iteration\": \"23\", \"goal\": \"AUC_weighted_max\", \"run_name\": \"StandardScalerWrapper, XGBoostClassifier\", \"run_properties\": \"<azureml.automl.runtime.shared.model_wrappers.StandardScalerWrapper object at 0x7ff21caa6208\", \"primary_metric\": 0.90810167, \"best_metric\": 0.91181469}, {\"run_id\": \"AutoML_02a88637-5957-40bb-9d85-ab32cf15d653_22\", \"run_number\": 28, \"metric\": null, \"status\": \"Completed\", \"run_type\": \"azureml.scriptrun\", \"training_percent\": \"100\", \"start_time\": \"2021-05-08T17:01:18.724563Z\", \"end_time\": \"2021-05-08T17:02:01.905906Z\", \"created_time\": \"2021-05-08T17:01:04.795208Z\", \"created_time_dt\": \"2021-05-08T17:01:04.795208Z\", \"duration\": \"0:00:57\", \"iteration\": \"22\", \"goal\": \"AUC_weighted_max\", \"run_name\": \"MaxAbsScaler, LightGBM\", \"run_properties\": \"copy=True\", \"primary_metric\": 0.85158247, \"best_metric\": 0.91181469}, {\"run_id\": \"AutoML_02a88637-5957-40bb-9d85-ab32cf15d653_24\", \"run_number\": 29, \"metric\": null, \"status\": \"Completed\", \"run_type\": \"azureml.scriptrun\", \"training_percent\": \"100\", \"start_time\": \"2021-05-08T17:02:15.251688Z\", \"end_time\": \"2021-05-08T17:02:56.778591Z\", \"created_time\": \"2021-05-08T17:01:18.336746Z\", \"created_time_dt\": \"2021-05-08T17:01:18.336746Z\", \"duration\": \"0:01:38\", \"iteration\": \"24\", \"goal\": \"AUC_weighted_max\", \"run_name\": \"MaxAbsScaler, LightGBM\", \"run_properties\": \"copy=True\", \"primary_metric\": 0.82758653, \"best_metric\": 0.91181469}, {\"run_id\": \"AutoML_02a88637-5957-40bb-9d85-ab32cf15d653_25\", \"run_number\": 30, \"metric\": null, \"status\": \"Completed\", \"run_type\": \"azureml.scriptrun\", \"training_percent\": \"100\", \"start_time\": \"2021-05-08T17:02:19.705604Z\", \"end_time\": \"2021-05-08T17:03:05.840656Z\", \"created_time\": \"2021-05-08T17:02:04.858884Z\", \"created_time_dt\": \"2021-05-08T17:02:04.858884Z\", \"duration\": \"0:01:00\", \"iteration\": \"25\", \"goal\": \"AUC_weighted_max\", \"run_name\": \"SparseNormalizer, XGBoostClassifier\", \"run_properties\": \"<azureml.automl.runtime.shared.model_wrappers.SparseNormalizer object at 0x7f0217294fd0\", \"primary_metric\": 0.90802828, \"best_metric\": 0.91181469}, {\"run_id\": \"AutoML_02a88637-5957-40bb-9d85-ab32cf15d653_26\", \"run_number\": 31, \"metric\": null, \"status\": \"Completed\", \"run_type\": \"azureml.scriptrun\", \"training_percent\": \"100\", \"start_time\": \"2021-05-08T17:02:16.703062Z\", \"end_time\": \"2021-05-08T17:03:02.178489Z\", \"created_time\": \"2021-05-08T17:02:04.869576Z\", \"created_time_dt\": \"2021-05-08T17:02:04.869576Z\", \"duration\": \"0:00:57\", \"iteration\": \"26\", \"goal\": \"AUC_weighted_max\", \"run_name\": \"SparseNormalizer, XGBoostClassifier\", \"run_properties\": \"<azureml.automl.runtime.shared.model_wrappers.SparseNormalizer object at 0x7fd83d556048\", \"primary_metric\": 0.90658312, \"best_metric\": 0.91181469}, {\"run_id\": \"AutoML_02a88637-5957-40bb-9d85-ab32cf15d653_27\", \"run_number\": 32, \"metric\": null, \"status\": \"Completed\", \"run_type\": \"azureml.scriptrun\", \"training_percent\": \"100\", \"start_time\": \"2021-05-08T17:02:34.160925Z\", \"end_time\": \"2021-05-08T17:03:17.718177Z\", \"created_time\": \"2021-05-08T17:02:08.849517Z\", \"created_time_dt\": \"2021-05-08T17:02:08.849517Z\", \"duration\": \"0:01:08\", \"iteration\": \"27\", \"goal\": \"AUC_weighted_max\", \"run_name\": \"SparseNormalizer, XGBoostClassifier\", \"run_properties\": \"<azureml.automl.runtime.shared.model_wrappers.SparseNormalizer object at 0x7f133d8eee80\", \"primary_metric\": 0.89439163, \"best_metric\": 0.91181469}, {\"run_id\": \"AutoML_02a88637-5957-40bb-9d85-ab32cf15d653_28\", \"run_number\": 33, \"metric\": null, \"status\": \"Completed\", \"run_type\": \"azureml.scriptrun\", \"training_percent\": \"100\", \"start_time\": \"2021-05-08T17:03:12.768591Z\", \"end_time\": \"2021-05-08T17:03:57.144379Z\", \"created_time\": \"2021-05-08T17:02:18.806517Z\", \"created_time_dt\": \"2021-05-08T17:02:18.806517Z\", \"duration\": \"0:01:38\", \"iteration\": \"28\", \"goal\": \"AUC_weighted_max\", \"run_name\": \"StandardScalerWrapper, XGBoostClassifier\", \"run_properties\": \"<azureml.automl.runtime.shared.model_wrappers.StandardScalerWrapper object at 0x7f80a26270f0\", \"primary_metric\": 0.91089396, \"best_metric\": 0.91181469}, {\"run_id\": \"AutoML_02a88637-5957-40bb-9d85-ab32cf15d653_29\", \"run_number\": 34, \"metric\": null, \"status\": \"Completed\", \"run_type\": \"azureml.scriptrun\", \"training_percent\": \"100\", \"start_time\": \"2021-05-08T17:03:16.843092Z\", \"end_time\": \"2021-05-08T17:04:01.479832Z\", \"created_time\": \"2021-05-08T17:02:58.667442Z\", \"created_time_dt\": \"2021-05-08T17:02:58.667442Z\", \"duration\": \"0:01:02\", \"iteration\": \"29\", \"goal\": \"AUC_weighted_max\", \"run_name\": \"SparseNormalizer, XGBoostClassifier\", \"run_properties\": \"<azureml.automl.runtime.shared.model_wrappers.SparseNormalizer object at 0x7f4d11569a20\", \"primary_metric\": 0.90597958, \"best_metric\": 0.91181469}, {\"run_id\": \"AutoML_02a88637-5957-40bb-9d85-ab32cf15d653_30\", \"run_number\": 35, \"metric\": null, \"status\": \"Completed\", \"run_type\": \"azureml.scriptrun\", \"training_percent\": \"100\", \"start_time\": \"2021-05-08T17:03:22.732838Z\", \"end_time\": \"2021-05-08T17:04:09.656257Z\", \"created_time\": \"2021-05-08T17:03:05.253524Z\", \"created_time_dt\": \"2021-05-08T17:03:05.253524Z\", \"duration\": \"0:01:04\", \"iteration\": \"30\", \"goal\": \"AUC_weighted_max\", \"run_name\": \"TruncatedSVDWrapper, XGBoostClassifier\", \"run_properties\": \"n_components=0.3068421052631579, random_state=None\", \"primary_metric\": 0.90872998, \"best_metric\": 0.91181469}, {\"run_id\": \"AutoML_02a88637-5957-40bb-9d85-ab32cf15d653_31\", \"run_number\": 36, \"metric\": null, \"status\": \"Completed\", \"run_type\": \"azureml.scriptrun\", \"training_percent\": \"100\", \"start_time\": \"2021-05-08T17:03:34.22611Z\", \"end_time\": \"2021-05-08T17:04:30.459563Z\", \"created_time\": \"2021-05-08T17:03:08.221983Z\", \"created_time_dt\": \"2021-05-08T17:03:08.221983Z\", \"duration\": \"0:01:22\", \"iteration\": \"31\", \"goal\": \"AUC_weighted_max\", \"run_name\": \"TruncatedSVDWrapper, XGBoostClassifier\", \"run_properties\": \"n_components=0.2573684210526316, random_state=None\", \"primary_metric\": 0.91219299, \"best_metric\": 0.91219299}, {\"run_id\": \"AutoML_02a88637-5957-40bb-9d85-ab32cf15d653_32\", \"run_number\": 37, \"metric\": null, \"status\": \"Completed\", \"run_type\": \"azureml.scriptrun\", \"training_percent\": \"100\", \"start_time\": \"2021-05-08T17:04:11.076261Z\", \"end_time\": \"2021-05-08T17:04:58.507257Z\", \"created_time\": \"2021-05-08T17:03:19.614903Z\", \"created_time_dt\": \"2021-05-08T17:03:19.614903Z\", \"duration\": \"0:01:38\", \"iteration\": \"32\", \"goal\": \"AUC_weighted_max\", \"run_name\": \"SparseNormalizer, XGBoostClassifier\", \"run_properties\": \"<azureml.automl.runtime.shared.model_wrappers.SparseNormalizer object at 0x7fcdd6082dd8\", \"primary_metric\": 0.90812451, \"best_metric\": 0.91219299}, {\"run_id\": \"AutoML_02a88637-5957-40bb-9d85-ab32cf15d653_33\", \"run_number\": 38, \"metric\": null, \"status\": \"Completed\", \"run_type\": \"azureml.scriptrun\", \"training_percent\": \"100\", \"start_time\": \"2021-05-08T17:04:17.172647Z\", \"end_time\": \"2021-05-08T17:05:01.850461Z\", \"created_time\": \"2021-05-08T17:03:58.989596Z\", \"created_time_dt\": \"2021-05-08T17:03:58.989596Z\", \"duration\": \"0:01:02\", \"iteration\": \"33\", \"goal\": \"AUC_weighted_max\", \"run_name\": \"SparseNormalizer, XGBoostClassifier\", \"run_properties\": \"<azureml.automl.runtime.shared.model_wrappers.SparseNormalizer object at 0x7f7c449bdd30\", \"primary_metric\": 0.90486572, \"best_metric\": 0.91219299}, {\"run_id\": \"AutoML_02a88637-5957-40bb-9d85-ab32cf15d653_34\", \"run_number\": 39, \"metric\": null, \"status\": \"Completed\", \"run_type\": \"azureml.scriptrun\", \"training_percent\": \"100\", \"start_time\": \"2021-05-08T17:04:22.513334Z\", \"end_time\": \"2021-05-08T17:05:10.149177Z\", \"created_time\": \"2021-05-08T17:04:03.352101Z\", \"created_time_dt\": \"2021-05-08T17:04:03.352101Z\", \"duration\": \"0:01:06\", \"iteration\": \"34\", \"goal\": \"AUC_weighted_max\", \"run_name\": \"StandardScalerWrapper, XGBoostClassifier\", \"run_properties\": \"<azureml.automl.runtime.shared.model_wrappers.StandardScalerWrapper object at 0x7fd06c124cc0\", \"primary_metric\": 0.89177171, \"best_metric\": 0.91219299}, {\"run_id\": \"AutoML_02a88637-5957-40bb-9d85-ab32cf15d653_35\", \"run_number\": 40, \"metric\": null, \"status\": \"Completed\", \"run_type\": \"azureml.scriptrun\", \"training_percent\": \"100\", \"start_time\": \"2021-05-08T17:04:45.763675Z\", \"end_time\": \"2021-05-08T17:05:34.760734Z\", \"created_time\": \"2021-05-08T17:04:13.144109Z\", \"created_time_dt\": \"2021-05-08T17:04:13.144109Z\", \"duration\": \"0:01:21\", \"iteration\": \"35\", \"goal\": \"AUC_weighted_max\", \"run_name\": \"SparseNormalizer, XGBoostClassifier\", \"run_properties\": \"<azureml.automl.runtime.shared.model_wrappers.SparseNormalizer object at 0x7f99e6718b70\", \"primary_metric\": 0.89697137, \"best_metric\": 0.91219299}, {\"run_id\": \"AutoML_02a88637-5957-40bb-9d85-ab32cf15d653_36\", \"run_number\": 41, \"metric\": null, \"status\": \"Completed\", \"run_type\": \"azureml.scriptrun\", \"training_percent\": \"100\", \"start_time\": \"2021-05-08T17:05:12.656591Z\", \"end_time\": \"2021-05-08T17:05:57.153235Z\", \"created_time\": \"2021-05-08T17:04:32.292042Z\", \"created_time_dt\": \"2021-05-08T17:04:32.292042Z\", \"duration\": \"0:01:24\", \"iteration\": \"36\", \"goal\": \"AUC_weighted_max\", \"run_name\": \"StandardScalerWrapper, XGBoostClassifier\", \"run_properties\": \"<azureml.automl.runtime.shared.model_wrappers.StandardScalerWrapper object at 0x7fde464f9ba8\", \"primary_metric\": 0.89914371, \"best_metric\": 0.91219299}, {\"run_id\": \"AutoML_02a88637-5957-40bb-9d85-ab32cf15d653_37\", \"run_number\": 42, \"metric\": null, \"status\": \"Completed\", \"run_type\": \"azureml.scriptrun\", \"training_percent\": \"100\", \"start_time\": \"2021-05-08T17:05:18.907207Z\", \"end_time\": \"2021-05-08T17:06:09.55543Z\", \"created_time\": \"2021-05-08T17:05:00.663973Z\", \"created_time_dt\": \"2021-05-08T17:05:00.663973Z\", \"duration\": \"0:01:08\", \"iteration\": \"37\", \"goal\": \"AUC_weighted_max\", \"run_name\": \"StandardScalerWrapper, XGBoostClassifier\", \"run_properties\": \"<azureml.automl.runtime.shared.model_wrappers.StandardScalerWrapper object at 0x7fbdba347518\", \"primary_metric\": 0.91072056, \"best_metric\": 0.91219299}, {\"run_id\": \"AutoML_02a88637-5957-40bb-9d85-ab32cf15d653_38\", \"run_number\": 43, \"metric\": null, \"status\": \"Completed\", \"run_type\": \"azureml.scriptrun\", \"training_percent\": \"100\", \"start_time\": \"2021-05-08T17:05:23.330178Z\", \"end_time\": \"2021-05-08T17:06:10.909774Z\", \"created_time\": \"2021-05-08T17:05:03.926525Z\", \"created_time_dt\": \"2021-05-08T17:05:03.926525Z\", \"duration\": \"0:01:06\", \"iteration\": \"38\", \"goal\": \"AUC_weighted_max\", \"run_name\": \"SparseNormalizer, XGBoostClassifier\", \"run_properties\": \"<azureml.automl.runtime.shared.model_wrappers.SparseNormalizer object at 0x7fa7ad729908\", \"primary_metric\": 0.90162339, \"best_metric\": 0.91219299}, {\"run_id\": \"AutoML_02a88637-5957-40bb-9d85-ab32cf15d653_39\", \"run_number\": 44, \"metric\": null, \"status\": \"Completed\", \"run_type\": \"azureml.scriptrun\", \"training_percent\": \"100\", \"start_time\": \"2021-05-08T17:05:52.264302Z\", \"end_time\": \"2021-05-08T17:06:43.453552Z\", \"created_time\": \"2021-05-08T17:05:12.032031Z\", \"created_time_dt\": \"2021-05-08T17:05:12.032031Z\", \"duration\": \"0:01:31\", \"iteration\": \"39\", \"goal\": \"AUC_weighted_max\", \"run_name\": \"StandardScalerWrapper, XGBoostClassifier\", \"run_properties\": \"<azureml.automl.runtime.shared.model_wrappers.StandardScalerWrapper object at 0x7fc2e55dd208\", \"primary_metric\": 0.90905515, \"best_metric\": 0.91219299}, {\"run_id\": \"AutoML_02a88637-5957-40bb-9d85-ab32cf15d653_40\", \"run_number\": 45, \"metric\": null, \"status\": \"Completed\", \"run_type\": \"azureml.scriptrun\", \"training_percent\": \"100\", \"start_time\": \"2021-05-08T17:06:12.957142Z\", \"end_time\": \"2021-05-08T17:06:56.024215Z\", \"created_time\": \"2021-05-08T17:05:37.805796Z\", \"created_time_dt\": \"2021-05-08T17:05:37.805796Z\", \"duration\": \"0:01:18\", \"iteration\": \"40\", \"goal\": \"AUC_weighted_max\", \"run_name\": \"TruncatedSVDWrapper, XGBoostClassifier\", \"run_properties\": \"n_components=0.10894736842105263, random_state=None\", \"primary_metric\": 0.81258908, \"best_metric\": 0.91219299}, {\"run_id\": \"AutoML_02a88637-5957-40bb-9d85-ab32cf15d653_41\", \"run_number\": 46, \"metric\": null, \"status\": \"Completed\", \"run_type\": \"azureml.scriptrun\", \"training_percent\": \"100\", \"start_time\": \"2021-05-08T17:06:22.132467Z\", \"end_time\": \"2021-05-08T17:07:08.180328Z\", \"created_time\": \"2021-05-08T17:05:59.139578Z\", \"created_time_dt\": \"2021-05-08T17:05:59.139578Z\", \"duration\": \"0:01:09\", \"iteration\": \"41\", \"goal\": \"AUC_weighted_max\", \"run_name\": \"TruncatedSVDWrapper, XGBoostClassifier\", \"run_properties\": \"n_components=0.8015789473684211, random_state=None\", \"primary_metric\": 0.90353886, \"best_metric\": 0.91219299}, {\"run_id\": \"AutoML_02a88637-5957-40bb-9d85-ab32cf15d653_42\", \"run_number\": 47, \"metric\": null, \"status\": \"Completed\", \"run_type\": \"azureml.scriptrun\", \"training_percent\": \"100\", \"start_time\": \"2021-05-08T17:06:25.654021Z\", \"end_time\": \"2021-05-08T17:07:11.750607Z\", \"created_time\": \"2021-05-08T17:06:11.706166Z\", \"created_time_dt\": \"2021-05-08T17:06:11.706166Z\", \"duration\": \"0:01:00\", \"iteration\": \"42\", \"goal\": \"AUC_weighted_max\", \"run_name\": \"MaxAbsScaler, LightGBM\", \"run_properties\": \"copy=True\", \"primary_metric\": 0.80742525, \"best_metric\": 0.91219299}, {\"run_id\": \"AutoML_02a88637-5957-40bb-9d85-ab32cf15d653_43\", \"run_number\": 48, \"metric\": null, \"status\": \"Completed\", \"run_type\": \"azureml.scriptrun\", \"training_percent\": \"100\", \"start_time\": \"2021-05-08T17:06:58.439542Z\", \"end_time\": \"2021-05-08T17:07:57.536421Z\", \"created_time\": \"2021-05-08T17:06:14.811099Z\", \"created_time_dt\": \"2021-05-08T17:06:14.811099Z\", \"duration\": \"0:01:42\", \"iteration\": \"43\", \"goal\": \"AUC_weighted_max\", \"run_name\": \"SparseNormalizer, XGBoostClassifier\", \"run_properties\": \"<azureml.automl.runtime.shared.model_wrappers.SparseNormalizer object at 0x7f01dd044128\", \"primary_metric\": 0.90014827, \"best_metric\": 0.91219299}, {\"run_id\": \"AutoML_02a88637-5957-40bb-9d85-ab32cf15d653_44\", \"run_number\": 49, \"metric\": null, \"status\": \"Completed\", \"run_type\": \"azureml.scriptrun\", \"training_percent\": \"100\", \"start_time\": \"2021-05-08T17:07:13.732559Z\", \"end_time\": \"2021-05-08T17:08:07.6214Z\", \"created_time\": \"2021-05-08T17:06:45.930911Z\", \"created_time_dt\": \"2021-05-08T17:06:45.930911Z\", \"duration\": \"0:01:21\", \"iteration\": \"44\", \"goal\": \"AUC_weighted_max\", \"run_name\": \"TruncatedSVDWrapper, XGBoostClassifier\", \"run_properties\": \"n_components=0.40578947368421053, random_state=None\", \"primary_metric\": 0.9085394, \"best_metric\": 0.91219299}, {\"run_id\": \"AutoML_02a88637-5957-40bb-9d85-ab32cf15d653_45\", \"run_number\": 50, \"metric\": null, \"status\": \"Canceled\", \"run_type\": \"azureml.scriptrun\", \"training_percent\": \"100\", \"start_time\": \"2021-05-08T17:07:27.280988Z\", \"end_time\": \"2021-05-08T17:08:20.109429Z\", \"created_time\": \"2021-05-08T17:06:59.408583Z\", \"created_time_dt\": \"2021-05-08T17:06:59.408583Z\", \"duration\": \"0:01:20\", \"iteration\": \"45\", \"goal\": \"AUC_weighted_max\", \"run_name\": \"SparseNormalizer, XGBoostClassifier\", \"run_properties\": \"<azureml.automl.runtime.shared.model_wrappers.SparseNormalizer object at 0x7f9a0077c128\", \"primary_metric\": 0.90967722, \"best_metric\": 0.91219299}, {\"run_id\": \"AutoML_02a88637-5957-40bb-9d85-ab32cf15d653_46\", \"run_number\": 51, \"metric\": null, \"status\": \"Completed\", \"run_type\": \"azureml.scriptrun\", \"training_percent\": \"100\", \"start_time\": \"2021-05-08T17:07:24.83195Z\", \"end_time\": \"2021-05-08T17:08:14.143625Z\", \"created_time\": \"2021-05-08T17:07:10.43058Z\", \"created_time_dt\": \"2021-05-08T17:07:10.43058Z\", \"duration\": \"0:01:03\", \"iteration\": \"46\", \"goal\": \"AUC_weighted_max\", \"run_name\": \"SparseNormalizer, XGBoostClassifier\", \"run_properties\": \"<azureml.automl.runtime.shared.model_wrappers.SparseNormalizer object at 0x7f34966ede48\", \"primary_metric\": 0.90676743, \"best_metric\": 0.91219299}, {\"run_id\": \"AutoML_02a88637-5957-40bb-9d85-ab32cf15d653_47\", \"run_number\": 52, \"metric\": null, \"status\": \"Canceled\", \"run_type\": \"azureml.scriptrun\", \"training_percent\": \"100\", \"start_time\": \"2021-05-08T17:08:11.323747Z\", \"end_time\": \"2021-05-08T17:08:20.14888Z\", \"created_time\": \"2021-05-08T17:07:13.550254Z\", \"created_time_dt\": \"2021-05-08T17:07:13.550254Z\", \"duration\": \"0:01:06\", \"iteration\": \"47\", \"goal\": null, \"run_name\": \"Canceled\", \"run_properties\": null}, {\"run_id\": \"AutoML_02a88637-5957-40bb-9d85-ab32cf15d653_48\", \"run_number\": 53, \"metric\": null, \"status\": \"Canceled\", \"run_type\": \"azureml.scriptrun\", \"training_percent\": \"100\", \"start_time\": \"2021-05-08T17:07:59.289325Z\", \"end_time\": \"2021-05-08T17:08:20.154076Z\", \"created_time\": \"2021-05-08T17:07:59.289325Z\", \"created_time_dt\": \"2021-05-08T17:07:59.289325Z\", \"duration\": \"0:00:20\", \"iteration\": \"48\", \"goal\": null, \"run_name\": \"Canceled\", \"run_properties\": null}, {\"run_id\": \"AutoML_02a88637-5957-40bb-9d85-ab32cf15d653_49\", \"run_number\": 54, \"metric\": null, \"status\": \"Canceled\", \"run_type\": \"azureml.scriptrun\", \"training_percent\": \"100\", \"start_time\": \"2021-05-08T17:08:09.831369Z\", \"end_time\": \"2021-05-08T17:08:24.186849Z\", \"created_time\": \"2021-05-08T17:08:09.831369Z\", \"created_time_dt\": \"2021-05-08T17:08:09.831369Z\", \"duration\": \"0:00:14\", \"iteration\": \"49\", \"goal\": null, \"run_name\": \"Canceled\", \"run_properties\": null}, {\"run_id\": \"AutoML_02a88637-5957-40bb-9d85-ab32cf15d653_50\", \"run_number\": 55, \"metric\": null, \"status\": \"Completed\", \"run_type\": \"azureml.scriptrun\", \"training_percent\": \"100\", \"start_time\": \"2021-05-08T17:08:32.052882Z\", \"end_time\": \"2021-05-08T17:09:36.73439Z\", \"created_time\": \"2021-05-08T17:08:24.994001Z\", \"created_time_dt\": \"2021-05-08T17:08:24.994001Z\", \"duration\": \"0:01:11\", \"iteration\": \"50\", \"goal\": \"AUC_weighted_max\", \"run_name\": \"VotingEnsemble\", \"run_properties\": \"classification_labels=None,\\n                              estimators=[('31',\\n                                           Pipeline(memory=None,\\n                                                    steps=[('truncatedsvdwrapper',\\n                                                            TruncatedSVDWrapper(n_components=0.2573684210526316,\\n                                                                                random_state=None\", \"primary_metric\": 0.92417899, \"best_metric\": 0.92417899}, {\"run_id\": \"AutoML_02a88637-5957-40bb-9d85-ab32cf15d653_51\", \"run_number\": 56, \"metric\": null, \"status\": \"Completed\", \"run_type\": \"azureml.scriptrun\", \"training_percent\": \"100\", \"start_time\": \"2021-05-08T17:08:32.73957Z\", \"end_time\": \"2021-05-08T17:09:47.357886Z\", \"created_time\": \"2021-05-08T17:08:25.023496Z\", \"created_time_dt\": \"2021-05-08T17:08:25.023496Z\", \"duration\": \"0:01:22\", \"iteration\": \"51\", \"goal\": \"AUC_weighted_max\", \"run_name\": \"StackEnsemble\", \"run_properties\": \"base_learners=[('31',\\n                                        Pipeline(memory=None,\\n                                                 steps=[('truncatedsvdwrapper',\\n                                                         TruncatedSVDWrapper(n_components=0.2573684210526316,\\n                                                                             random_state=None\", \"primary_metric\": 0.92278786, \"best_metric\": 0.92417899}], \"children_metrics\": {\"categories\": [0], \"series\": {\"AUC_micro\": [{\"categories\": [\"0\", \"1\", \"2\", \"3\", \"4\", \"5\", \"6\", \"7\", \"8\", \"9\", \"10\", \"11\", \"12\", \"13\", \"14\", \"15\", \"16\", \"17\", \"18\", \"19\", \"20\", \"21\", \"22\", \"23\", \"24\", \"25\", \"26\", \"27\", \"28\", \"29\", \"30\", \"31\", \"32\", \"33\", \"34\", \"35\", \"36\", \"37\", \"38\", \"39\", \"40\", \"41\", \"42\", \"43\", \"44\", \"45\", \"46\", \"50\", \"51\"], \"mode\": \"markers\", \"name\": \"AUC_micro\", \"stepped\": false, \"type\": \"scatter\", \"data\": [0.9676869528121402, 0.9710625119914686, 0.944043604029671, 0.9010492809160935, 0.9255470704364962, 0.9422501970802104, 0.9510197793116099, 0.9450398355858058, 0.9437143853830628, 0.8777750943060406, 0.869004840520638, 0.832198830143815, 0.8471993213090768, 0.9664364830763922, 0.9342143195962196, 0.9433520064155463, 0.8616021337522378, 0.8638298578569493, 0.8109300135242257, 0.8616712951844612, 0.9620057346253185, 0.9700579185053916, 0.9444244117181092, 0.9706763604927958, 0.938475363550888, 0.9690821598265756, 0.9688143925915975, 0.9632361210341646, 0.9708482297697394, 0.9681487824264039, 0.9673794742681818, 0.9698597260614662, 0.9700247626996306, 0.9686994576914181, 0.9611263169933103, 0.9660313883140565, 0.9654202002696719, 0.9719512678621919, 0.9678783921925254, 0.9708509753861918, 0.9362928839752144, 0.9674704968380324, 0.9335622214222585, 0.9682065124695748, 0.9690204547352503, 0.9699856434274552, 0.9683998206412814, 0.9741089251801157, 0.9647259083498079]}, {\"categories\": [\"0\", \"1\", \"2\", \"3\", \"4\", \"5\", \"6\", \"7\", \"8\", \"9\", \"10\", \"11\", \"12\", \"13\", \"14\", \"15\", \"16\", \"17\", \"18\", \"19\", \"20\", \"21\", \"22\", \"23\", \"24\", \"25\", \"26\", \"27\", \"28\", \"29\", \"30\", \"31\", \"32\", \"33\", \"34\", \"35\", \"36\", \"37\", \"38\", \"39\", \"40\", \"41\", \"42\", \"43\", \"44\", \"45\", \"46\", \"50\", \"51\"], \"mode\": \"lines\", \"name\": \"AUC_micro_max\", \"stepped\": true, \"type\": \"scatter\", \"data\": [0.9676869528121402, 0.9710625119914686, 0.9710625119914686, 0.9710625119914686, 0.9710625119914686, 0.9710625119914686, 0.9710625119914686, 0.9710625119914686, 0.9710625119914686, 0.9710625119914686, 0.9710625119914686, 0.9710625119914686, 0.9710625119914686, 0.9710625119914686, 0.9710625119914686, 0.9710625119914686, 0.9710625119914686, 0.9710625119914686, 0.9710625119914686, 0.9710625119914686, 0.9710625119914686, 0.9710625119914686, 0.9710625119914686, 0.9710625119914686, 0.9710625119914686, 0.9710625119914686, 0.9710625119914686, 0.9710625119914686, 0.9710625119914686, 0.9710625119914686, 0.9710625119914686, 0.9710625119914686, 0.9710625119914686, 0.9710625119914686, 0.9710625119914686, 0.9710625119914686, 0.9710625119914686, 0.9719512678621919, 0.9719512678621919, 0.9719512678621919, 0.9719512678621919, 0.9719512678621919, 0.9719512678621919, 0.9719512678621919, 0.9719512678621919, 0.9719512678621919, 0.9719512678621919, 0.9741089251801157, 0.9741089251801157]}], \"average_precision_score_macro\": [{\"categories\": [\"0\", \"1\", \"2\", \"3\", \"4\", \"5\", \"6\", \"7\", \"8\", \"9\", \"10\", \"11\", \"12\", \"13\", \"14\", \"15\", \"16\", \"17\", \"18\", \"19\", \"20\", \"21\", \"22\", \"23\", \"24\", \"25\", \"26\", \"27\", \"28\", \"29\", \"30\", \"31\", \"32\", \"33\", \"34\", \"35\", \"36\", \"37\", \"38\", \"39\", \"40\", \"41\", \"42\", \"43\", \"44\", \"45\", \"46\", \"50\", \"51\"], \"mode\": \"markers\", \"name\": \"average_precision_score_macro\", \"stepped\": false, \"type\": \"scatter\", \"data\": [0.9005004247184077, 0.9071976661655903, 0.752274916268289, 0.7709369987038461, 0.7006698128328711, 0.7071089850556945, 0.8135280666825655, 0.7548988669162712, 0.7643479875935218, 0.7339712517227864, 0.7323305042228543, 0.6933051858745832, 0.715340194244877, 0.8841725154737926, 0.724662829033472, 0.7039330875761126, 0.7297500189827404, 0.7276455178297535, 0.6782287479113135, 0.715007988252577, 0.8416174497611052, 0.8982243662007944, 0.7896618071420948, 0.9078200887951668, 0.7416121573724584, 0.8935463485004002, 0.8838114599081507, 0.8606806294879906, 0.9081719486814764, 0.8900068651177105, 0.8842054966245264, 0.8934183601430711, 0.8979736842693686, 0.8870752737035317, 0.8402041828851817, 0.8757562734676122, 0.8619771001648294, 0.9142075824811098, 0.8861672607066188, 0.9084479756336713, 0.7730776342180623, 0.8883643757086482, 0.733220029370108, 0.8883920847289831, 0.891731245239377, 0.8950722736336406, 0.8917452662125357, 0.921533179694311, 0.9246660986357126]}, {\"categories\": [\"0\", \"1\", \"2\", \"3\", \"4\", \"5\", \"6\", \"7\", \"8\", \"9\", \"10\", \"11\", \"12\", \"13\", \"14\", \"15\", \"16\", \"17\", \"18\", \"19\", \"20\", \"21\", \"22\", \"23\", \"24\", \"25\", \"26\", \"27\", \"28\", \"29\", \"30\", \"31\", \"32\", \"33\", \"34\", \"35\", \"36\", \"37\", \"38\", \"39\", \"40\", \"41\", \"42\", \"43\", \"44\", \"45\", \"46\", \"50\", \"51\"], \"mode\": \"lines\", \"name\": \"average_precision_score_macro_max\", \"stepped\": true, \"type\": \"scatter\", \"data\": [0.9005004247184077, 0.9071976661655903, 0.9071976661655903, 0.9071976661655903, 0.9071976661655903, 0.9071976661655903, 0.9071976661655903, 0.9071976661655903, 0.9071976661655903, 0.9071976661655903, 0.9071976661655903, 0.9071976661655903, 0.9071976661655903, 0.9071976661655903, 0.9071976661655903, 0.9071976661655903, 0.9071976661655903, 0.9071976661655903, 0.9071976661655903, 0.9071976661655903, 0.9071976661655903, 0.9071976661655903, 0.9071976661655903, 0.9078200887951668, 0.9078200887951668, 0.9078200887951668, 0.9078200887951668, 0.9078200887951668, 0.9081719486814764, 0.9081719486814764, 0.9081719486814764, 0.9081719486814764, 0.9081719486814764, 0.9081719486814764, 0.9081719486814764, 0.9081719486814764, 0.9081719486814764, 0.9142075824811098, 0.9142075824811098, 0.9142075824811098, 0.9142075824811098, 0.9142075824811098, 0.9142075824811098, 0.9142075824811098, 0.9142075824811098, 0.9142075824811098, 0.9142075824811098, 0.921533179694311, 0.9246660986357126]}], \"average_precision_score_weighted\": [{\"categories\": [\"0\", \"1\", \"2\", \"3\", \"4\", \"5\", \"6\", \"7\", \"8\", \"9\", \"10\", \"11\", \"12\", \"13\", \"14\", \"15\", \"16\", \"17\", \"18\", \"19\", \"20\", \"21\", \"22\", \"23\", \"24\", \"25\", \"26\", \"27\", \"28\", \"29\", \"30\", \"31\", \"32\", \"33\", \"34\", \"35\", \"36\", \"37\", \"38\", \"39\", \"40\", \"41\", \"42\", \"43\", \"44\", \"45\", \"46\", \"50\", \"51\"], \"mode\": \"markers\", \"name\": \"average_precision_score_weighted\", \"stepped\": false, \"type\": \"scatter\", \"data\": [0.9470075117163247, 0.9527778143688038, 0.9003643258386799, 0.9053058820754871, 0.8731867343560186, 0.8883441531449717, 0.9234879907333206, 0.9017147903735344, 0.9063062595398775, 0.8958436190801035, 0.8900667368681424, 0.867953829342431, 0.8795801777615236, 0.9472091751653212, 0.8866690562166921, 0.8895898786252472, 0.8980822013648245, 0.8924518706133776, 0.854986849052206, 0.8862680294829072, 0.9352759700532549, 0.9516724075335862, 0.9105735695885979, 0.9516598969276213, 0.894182209199676, 0.9497504652059439, 0.9480032448719441, 0.9390142679817747, 0.9525537392289669, 0.948303622813803, 0.9471386465003534, 0.9513373529054118, 0.9503303584819992, 0.947374159455864, 0.9331685837563839, 0.941599169102492, 0.9408203603375794, 0.9540086686892174, 0.945027516054496, 0.9534614116279276, 0.9009037336145691, 0.9481597663564294, 0.8853524011789341, 0.9460419672848529, 0.9476281661124643, 0.9510347389248063, 0.9495696662015836, 0.9606744786228449, 0.9602739782957929]}, {\"categories\": [\"0\", \"1\", \"2\", \"3\", \"4\", \"5\", \"6\", \"7\", \"8\", \"9\", \"10\", \"11\", \"12\", \"13\", \"14\", \"15\", \"16\", \"17\", \"18\", \"19\", \"20\", \"21\", \"22\", \"23\", \"24\", \"25\", \"26\", \"27\", \"28\", \"29\", \"30\", \"31\", \"32\", \"33\", \"34\", \"35\", \"36\", \"37\", \"38\", \"39\", \"40\", \"41\", \"42\", \"43\", \"44\", \"45\", \"46\", \"50\", \"51\"], \"mode\": \"lines\", \"name\": \"average_precision_score_weighted_max\", \"stepped\": true, \"type\": \"scatter\", \"data\": [0.9470075117163247, 0.9527778143688038, 0.9527778143688038, 0.9527778143688038, 0.9527778143688038, 0.9527778143688038, 0.9527778143688038, 0.9527778143688038, 0.9527778143688038, 0.9527778143688038, 0.9527778143688038, 0.9527778143688038, 0.9527778143688038, 0.9527778143688038, 0.9527778143688038, 0.9527778143688038, 0.9527778143688038, 0.9527778143688038, 0.9527778143688038, 0.9527778143688038, 0.9527778143688038, 0.9527778143688038, 0.9527778143688038, 0.9527778143688038, 0.9527778143688038, 0.9527778143688038, 0.9527778143688038, 0.9527778143688038, 0.9527778143688038, 0.9527778143688038, 0.9527778143688038, 0.9527778143688038, 0.9527778143688038, 0.9527778143688038, 0.9527778143688038, 0.9527778143688038, 0.9527778143688038, 0.9540086686892174, 0.9540086686892174, 0.9540086686892174, 0.9540086686892174, 0.9540086686892174, 0.9540086686892174, 0.9540086686892174, 0.9540086686892174, 0.9540086686892174, 0.9540086686892174, 0.9606744786228449, 0.9606744786228449]}], \"precision_score_micro\": [{\"categories\": [\"0\", \"1\", \"2\", \"3\", \"4\", \"5\", \"6\", \"7\", \"8\", \"9\", \"10\", \"11\", \"12\", \"13\", \"14\", \"15\", \"16\", \"17\", \"18\", \"19\", \"20\", \"21\", \"22\", \"23\", \"24\", \"25\", \"26\", \"27\", \"28\", \"29\", \"30\", \"31\", \"32\", \"33\", \"34\", \"35\", \"36\", \"37\", \"38\", \"39\", \"40\", \"41\", \"42\", \"43\", \"44\", \"45\", \"46\", \"50\", \"51\"], \"mode\": \"markers\", \"name\": \"precision_score_micro\", \"stepped\": false, \"type\": \"scatter\", \"data\": [0.9475281322972195, 0.943527744219705, 0.8679986563480577, 0.8312952618659352, 0.859293825181712, 0.8604708496638213, 0.8649412168888144, 0.859293825181712, 0.859293825181712, 0.8458787364089805, 0.8303531438930288, 0.8018862627205031, 0.7992916588586003, 0.9317629816580212, 0.8599997076128316, 0.859293825181712, 0.8291706371515111, 0.8197595912958997, 0.7849331230803785, 0.8136455430227784, 0.9105858442081424, 0.9341150370733639, 0.8663516527184697, 0.9491754681849535, 0.8630581438465127, 0.9331734174876766, 0.9336445595386662, 0.9216443920805606, 0.9458807964094856, 0.9317618187545104, 0.92588035118357, 0.9331734174876766, 0.937174137823337, 0.9357612100575871, 0.9056446671903055, 0.9343499435825668, 0.9181163089575467, 0.953175524004322, 0.9338788015315771, 0.9482335163411202, 0.8811746853847615, 0.9329380125912548, 0.859293825181712, 0.9359972794703008, 0.9315264138580885, 0.9381142622473675, 0.9352915631682542, 0.9454088237131311, 0.8842291345206911]}, {\"categories\": [\"0\", \"1\", \"2\", \"3\", \"4\", \"5\", \"6\", \"7\", \"8\", \"9\", \"10\", \"11\", \"12\", \"13\", \"14\", \"15\", \"16\", \"17\", \"18\", \"19\", \"20\", \"21\", \"22\", \"23\", \"24\", \"25\", \"26\", \"27\", \"28\", \"29\", \"30\", \"31\", \"32\", \"33\", \"34\", \"35\", \"36\", \"37\", \"38\", \"39\", \"40\", \"41\", \"42\", \"43\", \"44\", \"45\", \"46\", \"50\", \"51\"], \"mode\": \"lines\", \"name\": \"precision_score_micro_max\", \"stepped\": true, \"type\": \"scatter\", \"data\": [0.9475281322972195, 0.9475281322972195, 0.9475281322972195, 0.9475281322972195, 0.9475281322972195, 0.9475281322972195, 0.9475281322972195, 0.9475281322972195, 0.9475281322972195, 0.9475281322972195, 0.9475281322972195, 0.9475281322972195, 0.9475281322972195, 0.9475281322972195, 0.9475281322972195, 0.9475281322972195, 0.9475281322972195, 0.9475281322972195, 0.9475281322972195, 0.9475281322972195, 0.9475281322972195, 0.9475281322972195, 0.9475281322972195, 0.9491754681849535, 0.9491754681849535, 0.9491754681849535, 0.9491754681849535, 0.9491754681849535, 0.9491754681849535, 0.9491754681849535, 0.9491754681849535, 0.9491754681849535, 0.9491754681849535, 0.9491754681849535, 0.9491754681849535, 0.9491754681849535, 0.9491754681849535, 0.953175524004322, 0.953175524004322, 0.953175524004322, 0.953175524004322, 0.953175524004322, 0.953175524004322, 0.953175524004322, 0.953175524004322, 0.953175524004322, 0.953175524004322, 0.953175524004322, 0.953175524004322]}], \"recall_score_macro\": [{\"categories\": [\"0\", \"1\", \"2\", \"3\", \"4\", \"5\", \"6\", \"7\", \"8\", \"9\", \"10\", \"11\", \"12\", \"13\", \"14\", \"15\", \"16\", \"17\", \"18\", \"19\", \"20\", \"21\", \"22\", \"23\", \"24\", \"25\", \"26\", \"27\", \"28\", \"29\", \"30\", \"31\", \"32\", \"33\", \"34\", \"35\", \"36\", \"37\", \"38\", \"39\", \"40\", \"41\", \"42\", \"43\", \"44\", \"45\", \"46\", \"50\", \"51\"], \"mode\": \"markers\", \"name\": \"recall_score_macro\", \"stepped\": false, \"type\": \"scatter\", \"data\": [0.8373267985462295, 0.8217085071702014, 0.5445558713602741, 0.7587114429070994, 0.5, 0.5179862006838237, 0.5202578381971171, 0.5, 0.5, 0.8087595287063358, 0.7817552850988078, 0.6789714412588445, 0.717032204957159, 0.7784033197489305, 0.5024240837280901, 0.5, 0.8062770429567984, 0.7844336461712117, 0.6698121254320095, 0.7812792474923137, 0.7499806609076979, 0.8026715344078665, 0.5261676415923224, 0.8432898819409381, 0.5195433730382809, 0.8015558435077615, 0.8136704708289715, 0.7602479285571934, 0.8322988344761052, 0.7974903284964053, 0.7600797412996941, 0.7964604063379263, 0.822962090943656, 0.81295531817435, 0.7139094812145054, 0.8282200673615548, 0.7787027047207721, 0.854047428205658, 0.8129354213021731, 0.8380237016975626, 0.5792410410845767, 0.7938862863734109, 0.5, 0.8221292568389394, 0.7917953978623875, 0.8130851587468156, 0.7985315891883764, 0.8197294110185475, 0.5851889846530837]}, {\"categories\": [\"0\", \"1\", \"2\", \"3\", \"4\", \"5\", \"6\", \"7\", \"8\", \"9\", \"10\", \"11\", \"12\", \"13\", \"14\", \"15\", \"16\", \"17\", \"18\", \"19\", \"20\", \"21\", \"22\", \"23\", \"24\", \"25\", \"26\", \"27\", \"28\", \"29\", \"30\", \"31\", \"32\", \"33\", \"34\", \"35\", \"36\", \"37\", \"38\", \"39\", \"40\", \"41\", \"42\", \"43\", \"44\", \"45\", \"46\", \"50\", \"51\"], \"mode\": \"lines\", \"name\": \"recall_score_macro_max\", \"stepped\": true, \"type\": \"scatter\", \"data\": [0.8373267985462295, 0.8373267985462295, 0.8373267985462295, 0.8373267985462295, 0.8373267985462295, 0.8373267985462295, 0.8373267985462295, 0.8373267985462295, 0.8373267985462295, 0.8373267985462295, 0.8373267985462295, 0.8373267985462295, 0.8373267985462295, 0.8373267985462295, 0.8373267985462295, 0.8373267985462295, 0.8373267985462295, 0.8373267985462295, 0.8373267985462295, 0.8373267985462295, 0.8373267985462295, 0.8373267985462295, 0.8373267985462295, 0.8432898819409381, 0.8432898819409381, 0.8432898819409381, 0.8432898819409381, 0.8432898819409381, 0.8432898819409381, 0.8432898819409381, 0.8432898819409381, 0.8432898819409381, 0.8432898819409381, 0.8432898819409381, 0.8432898819409381, 0.8432898819409381, 0.8432898819409381, 0.854047428205658, 0.854047428205658, 0.854047428205658, 0.854047428205658, 0.854047428205658, 0.854047428205658, 0.854047428205658, 0.854047428205658, 0.854047428205658, 0.854047428205658, 0.854047428205658, 0.854047428205658]}], \"f1_score_micro\": [{\"categories\": [\"0\", \"1\", \"2\", \"3\", \"4\", \"5\", \"6\", \"7\", \"8\", \"9\", \"10\", \"11\", \"12\", \"13\", \"14\", \"15\", \"16\", \"17\", \"18\", \"19\", \"20\", \"21\", \"22\", \"23\", \"24\", \"25\", \"26\", \"27\", \"28\", \"29\", \"30\", \"31\", \"32\", \"33\", \"34\", \"35\", \"36\", \"37\", \"38\", \"39\", \"40\", \"41\", \"42\", \"43\", \"44\", \"45\", \"46\", \"50\", \"51\"], \"mode\": \"markers\", \"name\": \"f1_score_micro\", \"stepped\": false, \"type\": \"scatter\", \"data\": [0.9475281322972195, 0.943527744219705, 0.8679986563480577, 0.8312952618659352, 0.859293825181712, 0.8604708496638213, 0.8649412168888144, 0.859293825181712, 0.859293825181712, 0.8458787364089805, 0.8303531438930288, 0.8018862627205031, 0.7992916588586003, 0.9317629816580212, 0.8599997076128316, 0.859293825181712, 0.8291706371515111, 0.8197595912958997, 0.7849331230803785, 0.8136455430227784, 0.9105858442081424, 0.9341150370733639, 0.8663516527184697, 0.9491754681849535, 0.8630581438465127, 0.9331734174876766, 0.9336445595386662, 0.9216443920805606, 0.9458807964094856, 0.9317618187545104, 0.92588035118357, 0.9331734174876766, 0.937174137823337, 0.9357612100575871, 0.9056446671903055, 0.9343499435825668, 0.9181163089575467, 0.953175524004322, 0.9338788015315771, 0.9482335163411202, 0.8811746853847615, 0.9329380125912548, 0.859293825181712, 0.9359972794703008, 0.9315264138580885, 0.9381142622473675, 0.9352915631682542, 0.9454088237131311, 0.8842291345206911]}, {\"categories\": [\"0\", \"1\", \"2\", \"3\", \"4\", \"5\", \"6\", \"7\", \"8\", \"9\", \"10\", \"11\", \"12\", \"13\", \"14\", \"15\", \"16\", \"17\", \"18\", \"19\", \"20\", \"21\", \"22\", \"23\", \"24\", \"25\", \"26\", \"27\", \"28\", \"29\", \"30\", \"31\", \"32\", \"33\", \"34\", \"35\", \"36\", \"37\", \"38\", \"39\", \"40\", \"41\", \"42\", \"43\", \"44\", \"45\", \"46\", \"50\", \"51\"], \"mode\": \"lines\", \"name\": \"f1_score_micro_max\", \"stepped\": true, \"type\": \"scatter\", \"data\": [0.9475281322972195, 0.9475281322972195, 0.9475281322972195, 0.9475281322972195, 0.9475281322972195, 0.9475281322972195, 0.9475281322972195, 0.9475281322972195, 0.9475281322972195, 0.9475281322972195, 0.9475281322972195, 0.9475281322972195, 0.9475281322972195, 0.9475281322972195, 0.9475281322972195, 0.9475281322972195, 0.9475281322972195, 0.9475281322972195, 0.9475281322972195, 0.9475281322972195, 0.9475281322972195, 0.9475281322972195, 0.9475281322972195, 0.9491754681849535, 0.9491754681849535, 0.9491754681849535, 0.9491754681849535, 0.9491754681849535, 0.9491754681849535, 0.9491754681849535, 0.9491754681849535, 0.9491754681849535, 0.9491754681849535, 0.9491754681849535, 0.9491754681849535, 0.9491754681849535, 0.9491754681849535, 0.953175524004322, 0.953175524004322, 0.953175524004322, 0.953175524004322, 0.953175524004322, 0.953175524004322, 0.953175524004322, 0.953175524004322, 0.953175524004322, 0.953175524004322, 0.953175524004322, 0.953175524004322]}], \"recall_score_micro\": [{\"categories\": [\"0\", \"1\", \"2\", \"3\", \"4\", \"5\", \"6\", \"7\", \"8\", \"9\", \"10\", \"11\", \"12\", \"13\", \"14\", \"15\", \"16\", \"17\", \"18\", \"19\", \"20\", \"21\", \"22\", \"23\", \"24\", \"25\", \"26\", \"27\", \"28\", \"29\", \"30\", \"31\", \"32\", \"33\", \"34\", \"35\", \"36\", \"37\", \"38\", \"39\", \"40\", \"41\", \"42\", \"43\", \"44\", \"45\", \"46\", \"50\", \"51\"], \"mode\": \"markers\", \"name\": \"recall_score_micro\", \"stepped\": false, \"type\": \"scatter\", \"data\": [0.9475281322972195, 0.943527744219705, 0.8679986563480577, 0.8312952618659352, 0.859293825181712, 0.8604708496638213, 0.8649412168888144, 0.859293825181712, 0.859293825181712, 0.8458787364089805, 0.8303531438930288, 0.8018862627205031, 0.7992916588586003, 0.9317629816580212, 0.8599997076128316, 0.859293825181712, 0.8291706371515111, 0.8197595912958997, 0.7849331230803785, 0.8136455430227784, 0.9105858442081424, 0.9341150370733639, 0.8663516527184697, 0.9491754681849535, 0.8630581438465127, 0.9331734174876766, 0.9336445595386662, 0.9216443920805606, 0.9458807964094856, 0.9317618187545104, 0.92588035118357, 0.9331734174876766, 0.937174137823337, 0.9357612100575871, 0.9056446671903055, 0.9343499435825668, 0.9181163089575467, 0.953175524004322, 0.9338788015315771, 0.9482335163411202, 0.8811746853847615, 0.9329380125912548, 0.859293825181712, 0.9359972794703008, 0.9315264138580885, 0.9381142622473675, 0.9352915631682542, 0.9454088237131311, 0.8842291345206911]}, {\"categories\": [\"0\", \"1\", \"2\", \"3\", \"4\", \"5\", \"6\", \"7\", \"8\", \"9\", \"10\", \"11\", \"12\", \"13\", \"14\", \"15\", \"16\", \"17\", \"18\", \"19\", \"20\", \"21\", \"22\", \"23\", \"24\", \"25\", \"26\", \"27\", \"28\", \"29\", \"30\", \"31\", \"32\", \"33\", \"34\", \"35\", \"36\", \"37\", \"38\", \"39\", \"40\", \"41\", \"42\", \"43\", \"44\", \"45\", \"46\", \"50\", \"51\"], \"mode\": \"lines\", \"name\": \"recall_score_micro_max\", \"stepped\": true, \"type\": \"scatter\", \"data\": [0.9475281322972195, 0.9475281322972195, 0.9475281322972195, 0.9475281322972195, 0.9475281322972195, 0.9475281322972195, 0.9475281322972195, 0.9475281322972195, 0.9475281322972195, 0.9475281322972195, 0.9475281322972195, 0.9475281322972195, 0.9475281322972195, 0.9475281322972195, 0.9475281322972195, 0.9475281322972195, 0.9475281322972195, 0.9475281322972195, 0.9475281322972195, 0.9475281322972195, 0.9475281322972195, 0.9475281322972195, 0.9475281322972195, 0.9491754681849535, 0.9491754681849535, 0.9491754681849535, 0.9491754681849535, 0.9491754681849535, 0.9491754681849535, 0.9491754681849535, 0.9491754681849535, 0.9491754681849535, 0.9491754681849535, 0.9491754681849535, 0.9491754681849535, 0.9491754681849535, 0.9491754681849535, 0.953175524004322, 0.953175524004322, 0.953175524004322, 0.953175524004322, 0.953175524004322, 0.953175524004322, 0.953175524004322, 0.953175524004322, 0.953175524004322, 0.953175524004322, 0.953175524004322, 0.953175524004322]}], \"weighted_accuracy\": [{\"categories\": [\"0\", \"1\", \"2\", \"3\", \"4\", \"5\", \"6\", \"7\", \"8\", \"9\", \"10\", \"11\", \"12\", \"13\", \"14\", \"15\", \"16\", \"17\", \"18\", \"19\", \"20\", \"21\", \"22\", \"23\", \"24\", \"25\", \"26\", \"27\", \"28\", \"29\", \"30\", \"31\", \"32\", \"33\", \"34\", \"35\", \"36\", \"37\", \"38\", \"39\", \"40\", \"41\", \"42\", \"43\", \"44\", \"45\", \"46\", \"50\", \"51\"], \"mode\": \"markers\", \"name\": \"weighted_accuracy\", \"stepped\": false, \"type\": \"scatter\", \"data\": [0.9826464046431177, 0.982344485801225, 0.9713512673035982, 0.8542664217726822, 0.9738109668650204, 0.96957458953798, 0.974849367298165, 0.9738109668650204, 0.9738109668650204, 0.8573611456385054, 0.845853438562362, 0.8409600915715504, 0.8252766287646067, 0.9807898559058312, 0.973947850748115, 0.9738109668650204, 0.8365103020849821, 0.8308677940052869, 0.821738324793159, 0.8237987205593497, 0.9617112715475971, 0.976107395584449, 0.9748769917712928, 0.9829370216830878, 0.9725061235277731, 0.975075411716411, 0.9718248731304064, 0.9729421350107791, 0.9821029577977475, 0.9745749861093715, 0.9788188223087229, 0.9768234578987375, 0.9735839569446755, 0.9748787144675073, 0.966814183109693, 0.9681657261758109, 0.9624631420011758, 0.9846272772005294, 0.9723402999222511, 0.9832439731342711, 0.977431882058449, 0.9772582104016215, 0.9738109668650204, 0.9722746453012463, 0.9760969644352736, 0.9778114694131764, 0.9786316018917484, 0.9855713811793283, 0.9785028662137436]}, {\"categories\": [\"0\", \"1\", \"2\", \"3\", \"4\", \"5\", \"6\", \"7\", \"8\", \"9\", \"10\", \"11\", \"12\", \"13\", \"14\", \"15\", \"16\", \"17\", \"18\", \"19\", \"20\", \"21\", \"22\", \"23\", \"24\", \"25\", \"26\", \"27\", \"28\", \"29\", \"30\", \"31\", \"32\", \"33\", \"34\", \"35\", \"36\", \"37\", \"38\", \"39\", \"40\", \"41\", \"42\", \"43\", \"44\", \"45\", \"46\", \"50\", \"51\"], \"mode\": \"lines\", \"name\": \"weighted_accuracy_max\", \"stepped\": true, \"type\": \"scatter\", \"data\": [0.9826464046431177, 0.9826464046431177, 0.9826464046431177, 0.9826464046431177, 0.9826464046431177, 0.9826464046431177, 0.9826464046431177, 0.9826464046431177, 0.9826464046431177, 0.9826464046431177, 0.9826464046431177, 0.9826464046431177, 0.9826464046431177, 0.9826464046431177, 0.9826464046431177, 0.9826464046431177, 0.9826464046431177, 0.9826464046431177, 0.9826464046431177, 0.9826464046431177, 0.9826464046431177, 0.9826464046431177, 0.9826464046431177, 0.9829370216830878, 0.9829370216830878, 0.9829370216830878, 0.9829370216830878, 0.9829370216830878, 0.9829370216830878, 0.9829370216830878, 0.9829370216830878, 0.9829370216830878, 0.9829370216830878, 0.9829370216830878, 0.9829370216830878, 0.9829370216830878, 0.9829370216830878, 0.9846272772005294, 0.9846272772005294, 0.9846272772005294, 0.9846272772005294, 0.9846272772005294, 0.9846272772005294, 0.9846272772005294, 0.9846272772005294, 0.9846272772005294, 0.9846272772005294, 0.9855713811793283, 0.9855713811793283]}], \"precision_score_weighted\": [{\"categories\": [\"0\", \"1\", \"2\", \"3\", \"4\", \"5\", \"6\", \"7\", \"8\", \"9\", \"10\", \"11\", \"12\", \"13\", \"14\", \"15\", \"16\", \"17\", \"18\", \"19\", \"20\", \"21\", \"22\", \"23\", \"24\", \"25\", \"26\", \"27\", \"28\", \"29\", \"30\", \"31\", \"32\", \"33\", \"34\", \"35\", \"36\", \"37\", \"38\", \"39\", \"40\", \"41\", \"42\", \"43\", \"44\", \"45\", \"46\", \"50\", \"51\"], \"mode\": \"markers\", \"name\": \"precision_score_weighted\", \"stepped\": false, \"type\": \"scatter\", \"data\": [0.9465601233522909, 0.942708032169183, 0.8644405438028193, 0.8680298281000137, 0.7384232561014045, 0.7685930172151849, 0.8833355854981043, 0.7384232561014045, 0.7384232561014045, 0.8883259835487128, 0.8760035211244118, 0.8355478151443984, 0.849195720925329, 0.9310433892772307, 0.8354203923178415, 0.7384232561014045, 0.8852924614110139, 0.8762247683096431, 0.8300592183904362, 0.8744590743434547, 0.903868392539172, 0.9314035989040291, 0.8766703117318198, 0.9482978093190771, 0.8506639269163503, 0.9302233778965302, 0.9303500249989506, 0.917904973230018, 0.9448394476274594, 0.9286095431786223, 0.9244932851551294, 0.930887928835857, 0.9343056316588143, 0.9330712499191839, 0.8979115092972805, 0.9312308902599572, 0.913046615431344, 0.9525287806512682, 0.9304685680454098, 0.9475722064923685, 0.8927377156559902, 0.9304498005471539, 0.7384232561014045, 0.9330006887884853, 0.9287588319337424, 0.9358837724537302, 0.9337764368267889, 0.9456853752369798, 0.8069032727787153]}, {\"categories\": [\"0\", \"1\", \"2\", \"3\", \"4\", \"5\", \"6\", \"7\", \"8\", \"9\", \"10\", \"11\", \"12\", \"13\", \"14\", \"15\", \"16\", \"17\", \"18\", \"19\", \"20\", \"21\", \"22\", \"23\", \"24\", \"25\", \"26\", \"27\", \"28\", \"29\", \"30\", \"31\", \"32\", \"33\", \"34\", \"35\", \"36\", \"37\", \"38\", \"39\", \"40\", \"41\", \"42\", \"43\", \"44\", \"45\", \"46\", \"50\", \"51\"], \"mode\": \"lines\", \"name\": \"precision_score_weighted_max\", \"stepped\": true, \"type\": \"scatter\", \"data\": [0.9465601233522909, 0.9465601233522909, 0.9465601233522909, 0.9465601233522909, 0.9465601233522909, 0.9465601233522909, 0.9465601233522909, 0.9465601233522909, 0.9465601233522909, 0.9465601233522909, 0.9465601233522909, 0.9465601233522909, 0.9465601233522909, 0.9465601233522909, 0.9465601233522909, 0.9465601233522909, 0.9465601233522909, 0.9465601233522909, 0.9465601233522909, 0.9465601233522909, 0.9465601233522909, 0.9465601233522909, 0.9465601233522909, 0.9482978093190771, 0.9482978093190771, 0.9482978093190771, 0.9482978093190771, 0.9482978093190771, 0.9482978093190771, 0.9482978093190771, 0.9482978093190771, 0.9482978093190771, 0.9482978093190771, 0.9482978093190771, 0.9482978093190771, 0.9482978093190771, 0.9482978093190771, 0.9525287806512682, 0.9525287806512682, 0.9525287806512682, 0.9525287806512682, 0.9525287806512682, 0.9525287806512682, 0.9525287806512682, 0.9525287806512682, 0.9525287806512682, 0.9525287806512682, 0.9525287806512682, 0.9525287806512682]}], \"matthews_correlation\": [{\"categories\": [\"0\", \"1\", \"2\", \"3\", \"4\", \"5\", \"6\", \"7\", \"8\", \"9\", \"10\", \"11\", \"12\", \"13\", \"14\", \"15\", \"16\", \"17\", \"18\", \"19\", \"20\", \"21\", \"22\", \"23\", \"24\", \"25\", \"26\", \"27\", \"28\", \"29\", \"30\", \"31\", \"32\", \"33\", \"34\", \"35\", \"36\", \"37\", \"38\", \"39\", \"40\", \"41\", \"42\", \"43\", \"44\", \"45\", \"46\", \"50\", \"51\"], \"mode\": \"markers\", \"name\": \"matthews_correlation\", \"stepped\": false, \"type\": \"scatter\", \"data\": [0.767987454867512, 0.7484498696312781, 0.23358654345809435, 0.43950711532541725, 0.0, 0.07156993353079964, 0.18494234558464098, 0.0, 0.0, 0.5155633360214197, 0.4654667754569924, 0.31209648655814265, 0.3599023128402932, 0.6892931696365583, 0.05191504362519515, 0.0, 0.4944435197884933, 0.46071504463264557, 0.287684826534694, 0.44999798697165644, 0.5888855361942166, 0.7031380644840036, 0.20171563353728694, 0.7764812746018267, 0.15608149226475151, 0.6983104623663445, 0.7035919842406031, 0.6378461308045446, 0.7603702822764501, 0.6914622167309035, 0.6580598878109499, 0.697779029769877, 0.7206231994702966, 0.7119563900955795, 0.5496230237775926, 0.710827836779322, 0.631127598877386, 0.7939520998957524, 0.7028472994201899, 0.7710766567476585, 0.36677777637463854, 0.6955018313657694, 0.0, 0.7148304929441193, 0.6886560588467866, 0.7211743300977179, 0.7072666481777801, 0.757070898382664, 0.22768705871276831]}, {\"categories\": [\"0\", \"1\", \"2\", \"3\", \"4\", \"5\", \"6\", \"7\", \"8\", \"9\", \"10\", \"11\", \"12\", \"13\", \"14\", \"15\", \"16\", \"17\", \"18\", \"19\", \"20\", \"21\", \"22\", \"23\", \"24\", \"25\", \"26\", \"27\", \"28\", \"29\", \"30\", \"31\", \"32\", \"33\", \"34\", \"35\", \"36\", \"37\", \"38\", \"39\", \"40\", \"41\", \"42\", \"43\", \"44\", \"45\", \"46\", \"50\", \"51\"], \"mode\": \"lines\", \"name\": \"matthews_correlation_max\", \"stepped\": true, \"type\": \"scatter\", \"data\": [0.767987454867512, 0.767987454867512, 0.767987454867512, 0.767987454867512, 0.767987454867512, 0.767987454867512, 0.767987454867512, 0.767987454867512, 0.767987454867512, 0.767987454867512, 0.767987454867512, 0.767987454867512, 0.767987454867512, 0.767987454867512, 0.767987454867512, 0.767987454867512, 0.767987454867512, 0.767987454867512, 0.767987454867512, 0.767987454867512, 0.767987454867512, 0.767987454867512, 0.767987454867512, 0.7764812746018267, 0.7764812746018267, 0.7764812746018267, 0.7764812746018267, 0.7764812746018267, 0.7764812746018267, 0.7764812746018267, 0.7764812746018267, 0.7764812746018267, 0.7764812746018267, 0.7764812746018267, 0.7764812746018267, 0.7764812746018267, 0.7764812746018267, 0.7939520998957524, 0.7939520998957524, 0.7939520998957524, 0.7939520998957524, 0.7939520998957524, 0.7939520998957524, 0.7939520998957524, 0.7939520998957524, 0.7939520998957524, 0.7939520998957524, 0.7939520998957524, 0.7939520998957524]}], \"log_loss\": [{\"categories\": [\"0\", \"1\", \"2\", \"3\", \"4\", \"5\", \"6\", \"7\", \"8\", \"9\", \"10\", \"11\", \"12\", \"13\", \"14\", \"15\", \"16\", \"17\", \"18\", \"19\", \"20\", \"21\", \"22\", \"23\", \"24\", \"25\", \"26\", \"27\", \"28\", \"29\", \"30\", \"31\", \"32\", \"33\", \"34\", \"35\", \"36\", \"37\", \"38\", \"39\", \"40\", \"41\", \"42\", \"43\", \"44\", \"45\", \"46\", \"50\", \"51\"], \"mode\": \"markers\", \"name\": \"log_loss\", \"stepped\": false, \"type\": \"scatter\", \"data\": [0.20289810147641282, 0.18759161209382716, 0.31265918473203475, 0.5620746964450197, 0.3578651496261953, 0.29685265935621286, 0.28684595422364795, 0.33482837354851536, 0.33778849829247015, 0.5708449082017001, 0.5667576940321518, 0.5680825343420124, 0.6413277104674534, 0.33380255549422605, 0.344803764691157, 0.3068870693278334, 0.48787759966088456, 0.6202631488411212, 0.6366432563703621, 0.4946813969019555, 0.24386695767179434, 0.1950229211527512, 0.31818770583701067, 0.17850665624768003, 0.3293148687448218, 0.20207650169816171, 0.31686556639611524, 0.33818208481857076, 0.18836115932725353, 0.20699004667582063, 0.2170979704406626, 0.21397726122105268, 0.188997873616667, 0.2105312767898165, 0.3536319605792582, 0.27496583819475456, 0.3286473858910079, 0.16441352698943976, 0.207152439660085, 0.18880718258915855, 0.32476660547061165, 0.22139454333648909, 0.3466882490610159, 0.20865216404123746, 0.2060233719500076, 0.19900338244532212, 0.2068364689230684, 0.20349933831762965, 0.3164938918097518]}, {\"categories\": [\"0\", \"1\", \"2\", \"3\", \"4\", \"5\", \"6\", \"7\", \"8\", \"9\", \"10\", \"11\", \"12\", \"13\", \"14\", \"15\", \"16\", \"17\", \"18\", \"19\", \"20\", \"21\", \"22\", \"23\", \"24\", \"25\", \"26\", \"27\", \"28\", \"29\", \"30\", \"31\", \"32\", \"33\", \"34\", \"35\", \"36\", \"37\", \"38\", \"39\", \"40\", \"41\", \"42\", \"43\", \"44\", \"45\", \"46\", \"50\", \"51\"], \"mode\": \"lines\", \"name\": \"log_loss_min\", \"stepped\": true, \"type\": \"scatter\", \"data\": [0.20289810147641282, 0.18759161209382716, 0.18759161209382716, 0.18759161209382716, 0.18759161209382716, 0.18759161209382716, 0.18759161209382716, 0.18759161209382716, 0.18759161209382716, 0.18759161209382716, 0.18759161209382716, 0.18759161209382716, 0.18759161209382716, 0.18759161209382716, 0.18759161209382716, 0.18759161209382716, 0.18759161209382716, 0.18759161209382716, 0.18759161209382716, 0.18759161209382716, 0.18759161209382716, 0.18759161209382716, 0.18759161209382716, 0.17850665624768003, 0.17850665624768003, 0.17850665624768003, 0.17850665624768003, 0.17850665624768003, 0.17850665624768003, 0.17850665624768003, 0.17850665624768003, 0.17850665624768003, 0.17850665624768003, 0.17850665624768003, 0.17850665624768003, 0.17850665624768003, 0.17850665624768003, 0.16441352698943976, 0.16441352698943976, 0.16441352698943976, 0.16441352698943976, 0.16441352698943976, 0.16441352698943976, 0.16441352698943976, 0.16441352698943976, 0.16441352698943976, 0.16441352698943976, 0.16441352698943976, 0.16441352698943976]}], \"precision_score_macro\": [{\"categories\": [\"0\", \"1\", \"2\", \"3\", \"4\", \"5\", \"6\", \"7\", \"8\", \"9\", \"10\", \"11\", \"12\", \"13\", \"14\", \"15\", \"16\", \"17\", \"18\", \"19\", \"20\", \"21\", \"22\", \"23\", \"24\", \"25\", \"26\", \"27\", \"28\", \"29\", \"30\", \"31\", \"32\", \"33\", \"34\", \"35\", \"36\", \"37\", \"38\", \"39\", \"40\", \"41\", \"42\", \"43\", \"44\", \"45\", \"46\", \"50\", \"51\"], \"mode\": \"markers\", \"name\": \"precision_score_macro\", \"stepped\": false, \"type\": \"scatter\", \"data\": [0.9371356459833455, 0.9355498701706931, 0.8494691076174918, 0.6867049996586235, 0.429646912590856, 0.5245021222677658, 0.9320911708022422, 0.429646912590856, 0.429646912590856, 0.715504471906662, 0.6923250220756844, 0.6363812674853421, 0.6493126566813827, 0.9267444078598581, 0.7632821377302202, 0.429646912590856, 0.6997617973101903, 0.6866769421414659, 0.6220159403657078, 0.679980216597352, 0.847577868045022, 0.9086486646698008, 0.9050201853321772, 0.9391655608213867, 0.8193481545160184, 0.9046418552543533, 0.8948089772716233, 0.8916422559059957, 0.9350848707336922, 0.9020619848547086, 0.9164358314813169, 0.9116955888804764, 0.9022161944141919, 0.9059373628280358, 0.8533529380851684, 0.8853279428322486, 0.8580748760805967, 0.9452835261143194, 0.8951722604806246, 0.9401919367181287, 0.9282289538643297, 0.9116927312220947, 0.429646912590856, 0.8971631149881704, 0.9069532014075447, 0.9159785488159032, 0.9200820709073461, 0.9485034589902304, 0.6063658075819222]}, {\"categories\": [\"0\", \"1\", \"2\", \"3\", \"4\", \"5\", \"6\", \"7\", \"8\", \"9\", \"10\", \"11\", \"12\", \"13\", \"14\", \"15\", \"16\", \"17\", \"18\", \"19\", \"20\", \"21\", \"22\", \"23\", \"24\", \"25\", \"26\", \"27\", \"28\", \"29\", \"30\", \"31\", \"32\", \"33\", \"34\", \"35\", \"36\", \"37\", \"38\", \"39\", \"40\", \"41\", \"42\", \"43\", \"44\", \"45\", \"46\", \"50\", \"51\"], \"mode\": \"lines\", \"name\": \"precision_score_macro_max\", \"stepped\": true, \"type\": \"scatter\", \"data\": [0.9371356459833455, 0.9371356459833455, 0.9371356459833455, 0.9371356459833455, 0.9371356459833455, 0.9371356459833455, 0.9371356459833455, 0.9371356459833455, 0.9371356459833455, 0.9371356459833455, 0.9371356459833455, 0.9371356459833455, 0.9371356459833455, 0.9371356459833455, 0.9371356459833455, 0.9371356459833455, 0.9371356459833455, 0.9371356459833455, 0.9371356459833455, 0.9371356459833455, 0.9371356459833455, 0.9371356459833455, 0.9371356459833455, 0.9391655608213867, 0.9391655608213867, 0.9391655608213867, 0.9391655608213867, 0.9391655608213867, 0.9391655608213867, 0.9391655608213867, 0.9391655608213867, 0.9391655608213867, 0.9391655608213867, 0.9391655608213867, 0.9391655608213867, 0.9391655608213867, 0.9391655608213867, 0.9452835261143194, 0.9452835261143194, 0.9452835261143194, 0.9452835261143194, 0.9452835261143194, 0.9452835261143194, 0.9452835261143194, 0.9452835261143194, 0.9452835261143194, 0.9452835261143194, 0.9485034589902304, 0.9485034589902304]}], \"balanced_accuracy\": [{\"categories\": [\"0\", \"1\", \"2\", \"3\", \"4\", \"5\", \"6\", \"7\", \"8\", \"9\", \"10\", \"11\", \"12\", \"13\", \"14\", \"15\", \"16\", \"17\", \"18\", \"19\", \"20\", \"21\", \"22\", \"23\", \"24\", \"25\", \"26\", \"27\", \"28\", \"29\", \"30\", \"31\", \"32\", \"33\", \"34\", \"35\", \"36\", \"37\", \"38\", \"39\", \"40\", \"41\", \"42\", \"43\", \"44\", \"45\", \"46\", \"50\", \"51\"], \"mode\": \"markers\", \"name\": \"balanced_accuracy\", \"stepped\": false, \"type\": \"scatter\", \"data\": [0.8373267985462295, 0.8217085071702014, 0.5445558713602741, 0.7587114429070994, 0.5, 0.5179862006838237, 0.5202578381971171, 0.5, 0.5, 0.8087595287063358, 0.7817552850988078, 0.6789714412588445, 0.717032204957159, 0.7784033197489305, 0.5024240837280901, 0.5, 0.8062770429567984, 0.7844336461712117, 0.6698121254320095, 0.7812792474923137, 0.7499806609076979, 0.8026715344078665, 0.5261676415923224, 0.8432898819409381, 0.5195433730382809, 0.8015558435077615, 0.8136704708289715, 0.7602479285571934, 0.8322988344761052, 0.7974903284964053, 0.7600797412996941, 0.7964604063379263, 0.822962090943656, 0.81295531817435, 0.7139094812145054, 0.8282200673615548, 0.7787027047207721, 0.854047428205658, 0.8129354213021731, 0.8380237016975626, 0.5792410410845767, 0.7938862863734109, 0.5, 0.8221292568389394, 0.7917953978623875, 0.8130851587468156, 0.7985315891883764, 0.8197294110185475, 0.5851889846530837]}, {\"categories\": [\"0\", \"1\", \"2\", \"3\", \"4\", \"5\", \"6\", \"7\", \"8\", \"9\", \"10\", \"11\", \"12\", \"13\", \"14\", \"15\", \"16\", \"17\", \"18\", \"19\", \"20\", \"21\", \"22\", \"23\", \"24\", \"25\", \"26\", \"27\", \"28\", \"29\", \"30\", \"31\", \"32\", \"33\", \"34\", \"35\", \"36\", \"37\", \"38\", \"39\", \"40\", \"41\", \"42\", \"43\", \"44\", \"45\", \"46\", \"50\", \"51\"], \"mode\": \"lines\", \"name\": \"balanced_accuracy_max\", \"stepped\": true, \"type\": \"scatter\", \"data\": [0.8373267985462295, 0.8373267985462295, 0.8373267985462295, 0.8373267985462295, 0.8373267985462295, 0.8373267985462295, 0.8373267985462295, 0.8373267985462295, 0.8373267985462295, 0.8373267985462295, 0.8373267985462295, 0.8373267985462295, 0.8373267985462295, 0.8373267985462295, 0.8373267985462295, 0.8373267985462295, 0.8373267985462295, 0.8373267985462295, 0.8373267985462295, 0.8373267985462295, 0.8373267985462295, 0.8373267985462295, 0.8373267985462295, 0.8432898819409381, 0.8432898819409381, 0.8432898819409381, 0.8432898819409381, 0.8432898819409381, 0.8432898819409381, 0.8432898819409381, 0.8432898819409381, 0.8432898819409381, 0.8432898819409381, 0.8432898819409381, 0.8432898819409381, 0.8432898819409381, 0.8432898819409381, 0.854047428205658, 0.854047428205658, 0.854047428205658, 0.854047428205658, 0.854047428205658, 0.854047428205658, 0.854047428205658, 0.854047428205658, 0.854047428205658, 0.854047428205658, 0.854047428205658, 0.854047428205658]}], \"AUC_macro\": [{\"categories\": [\"0\", \"1\", \"2\", \"3\", \"4\", \"5\", \"6\", \"7\", \"8\", \"9\", \"10\", \"11\", \"12\", \"13\", \"14\", \"15\", \"16\", \"17\", \"18\", \"19\", \"20\", \"21\", \"22\", \"23\", \"24\", \"25\", \"26\", \"27\", \"28\", \"29\", \"30\", \"31\", \"32\", \"33\", \"34\", \"35\", \"36\", \"37\", \"38\", \"39\", \"40\", \"41\", \"42\", \"43\", \"44\", \"45\", \"46\", \"50\", \"51\"], \"mode\": \"markers\", \"name\": \"AUC_macro\", \"stepped\": false, \"type\": \"scatter\", \"data\": [0.8945939214995663, 0.9118146898595055, 0.849685694314887, 0.8355576571331129, 0.7742199574107783, 0.842981690124137, 0.87934787638147, 0.8551992097229876, 0.8495635298534542, 0.8499368367625705, 0.8303390620404222, 0.7593457625372722, 0.7867413642335507, 0.9029311905002401, 0.8106336636319614, 0.8480737112921698, 0.8530555990999361, 0.8339734336810959, 0.7295177664592232, 0.8244840123908764, 0.8930528541948471, 0.9103431723126937, 0.8515824692383048, 0.9081016659604959, 0.8275865319334677, 0.9080282834746664, 0.9065831158647075, 0.8943916331693735, 0.9108939552109607, 0.9059795774434859, 0.9087299752571788, 0.9121929890002637, 0.9081245092103426, 0.9048657191445652, 0.8917717105495363, 0.8969716338001454, 0.8991437056431647, 0.9107205550467269, 0.9016233889203633, 0.9090551460187468, 0.8125890798738978, 0.9035388560361234, 0.8074252515701618, 0.9001485096011729, 0.9085394003494397, 0.9096772162479319, 0.9067674326105947, 0.9241789927412384, 0.9227878616806672]}, {\"categories\": [\"0\", \"1\", \"2\", \"3\", \"4\", \"5\", \"6\", \"7\", \"8\", \"9\", \"10\", \"11\", \"12\", \"13\", \"14\", \"15\", \"16\", \"17\", \"18\", \"19\", \"20\", \"21\", \"22\", \"23\", \"24\", \"25\", \"26\", \"27\", \"28\", \"29\", \"30\", \"31\", \"32\", \"33\", \"34\", \"35\", \"36\", \"37\", \"38\", \"39\", \"40\", \"41\", \"42\", \"43\", \"44\", \"45\", \"46\", \"50\", \"51\"], \"mode\": \"lines\", \"name\": \"AUC_macro_max\", \"stepped\": true, \"type\": \"scatter\", \"data\": [0.8945939214995663, 0.9118146898595055, 0.9118146898595055, 0.9118146898595055, 0.9118146898595055, 0.9118146898595055, 0.9118146898595055, 0.9118146898595055, 0.9118146898595055, 0.9118146898595055, 0.9118146898595055, 0.9118146898595055, 0.9118146898595055, 0.9118146898595055, 0.9118146898595055, 0.9118146898595055, 0.9118146898595055, 0.9118146898595055, 0.9118146898595055, 0.9118146898595055, 0.9118146898595055, 0.9118146898595055, 0.9118146898595055, 0.9118146898595055, 0.9118146898595055, 0.9118146898595055, 0.9118146898595055, 0.9118146898595055, 0.9118146898595055, 0.9118146898595055, 0.9118146898595055, 0.9121929890002637, 0.9121929890002637, 0.9121929890002637, 0.9121929890002637, 0.9121929890002637, 0.9121929890002637, 0.9121929890002637, 0.9121929890002637, 0.9121929890002637, 0.9121929890002637, 0.9121929890002637, 0.9121929890002637, 0.9121929890002637, 0.9121929890002637, 0.9121929890002637, 0.9121929890002637, 0.9241789927412384, 0.9241789927412384]}], \"AUC_weighted\": [{\"categories\": [\"0\", \"1\", \"2\", \"3\", \"4\", \"5\", \"6\", \"7\", \"8\", \"9\", \"10\", \"11\", \"12\", \"13\", \"14\", \"15\", \"16\", \"17\", \"18\", \"19\", \"20\", \"21\", \"22\", \"23\", \"24\", \"25\", \"26\", \"27\", \"28\", \"29\", \"30\", \"31\", \"32\", \"33\", \"34\", \"35\", \"36\", \"37\", \"38\", \"39\", \"40\", \"41\", \"42\", \"43\", \"44\", \"45\", \"46\", \"50\", \"51\"], \"mode\": \"markers\", \"name\": \"AUC_weighted\", \"stepped\": false, \"type\": \"scatter\", \"data\": [0.8945939214995663, 0.9118146898595055, 0.849685694314887, 0.8355576571331129, 0.7742199574107783, 0.8429816901241373, 0.87934787638147, 0.8551992097229876, 0.8495635298534543, 0.8499368367625705, 0.8303390620404222, 0.7593457625372722, 0.7867413642335507, 0.9029311905002398, 0.8106336636319615, 0.8480737112921698, 0.8530555990999361, 0.8339734336810959, 0.7295177664592233, 0.8244840123908764, 0.8930528541948469, 0.9103431723126937, 0.8515824692383048, 0.9081016659604959, 0.8275865319334675, 0.9080282834746664, 0.9065831158647075, 0.8943916331693735, 0.9108939552109607, 0.9059795774434861, 0.9087299752571788, 0.9121929890002637, 0.9081245092103426, 0.9048657191445653, 0.8917717105495364, 0.8969713688342972, 0.8991437056431647, 0.9107205550467269, 0.9016233889203633, 0.9090551460187468, 0.8125890798738977, 0.9035388560361234, 0.8074252515701618, 0.9001482652462345, 0.9085394003494397, 0.9096772162479319, 0.9067674326105947, 0.9241789927412384, 0.9227878616806672]}, {\"categories\": [\"0\", \"1\", \"2\", \"3\", \"4\", \"5\", \"6\", \"7\", \"8\", \"9\", \"10\", \"11\", \"12\", \"13\", \"14\", \"15\", \"16\", \"17\", \"18\", \"19\", \"20\", \"21\", \"22\", \"23\", \"24\", \"25\", \"26\", \"27\", \"28\", \"29\", \"30\", \"31\", \"32\", \"33\", \"34\", \"35\", \"36\", \"37\", \"38\", \"39\", \"40\", \"41\", \"42\", \"43\", \"44\", \"45\", \"46\", \"50\", \"51\"], \"mode\": \"lines\", \"name\": \"AUC_weighted_max\", \"stepped\": true, \"type\": \"scatter\", \"data\": [0.8945939214995663, 0.9118146898595055, 0.9118146898595055, 0.9118146898595055, 0.9118146898595055, 0.9118146898595055, 0.9118146898595055, 0.9118146898595055, 0.9118146898595055, 0.9118146898595055, 0.9118146898595055, 0.9118146898595055, 0.9118146898595055, 0.9118146898595055, 0.9118146898595055, 0.9118146898595055, 0.9118146898595055, 0.9118146898595055, 0.9118146898595055, 0.9118146898595055, 0.9118146898595055, 0.9118146898595055, 0.9118146898595055, 0.9118146898595055, 0.9118146898595055, 0.9118146898595055, 0.9118146898595055, 0.9118146898595055, 0.9118146898595055, 0.9118146898595055, 0.9118146898595055, 0.9121929890002637, 0.9121929890002637, 0.9121929890002637, 0.9121929890002637, 0.9121929890002637, 0.9121929890002637, 0.9121929890002637, 0.9121929890002637, 0.9121929890002637, 0.9121929890002637, 0.9121929890002637, 0.9121929890002637, 0.9121929890002637, 0.9121929890002637, 0.9121929890002637, 0.9121929890002637, 0.9241789927412384, 0.9241789927412384]}], \"average_precision_score_micro\": [{\"categories\": [\"0\", \"1\", \"2\", \"3\", \"4\", \"5\", \"6\", \"7\", \"8\", \"9\", \"10\", \"11\", \"12\", \"13\", \"14\", \"15\", \"16\", \"17\", \"18\", \"19\", \"20\", \"21\", \"22\", \"23\", \"24\", \"25\", \"26\", \"27\", \"28\", \"29\", \"30\", \"31\", \"32\", \"33\", \"34\", \"35\", \"36\", \"37\", \"38\", \"39\", \"40\", \"41\", \"42\", \"43\", \"44\", \"45\", \"46\", \"50\", \"51\"], \"mode\": \"markers\", \"name\": \"average_precision_score_micro\", \"stepped\": false, \"type\": \"scatter\", \"data\": [0.9573725685555249, 0.9622171415821849, 0.9355270849747256, 0.8914074289451918, 0.9150619673623952, 0.9345370634688789, 0.9441427410112618, 0.9363619560586116, 0.9377731937895835, 0.8519867528387999, 0.8328686596291184, 0.7880813509841618, 0.8191006894882791, 0.9585200287520473, 0.9252439154792196, 0.9370311965809467, 0.8355368453495261, 0.843794431817364, 0.7661003078817692, 0.8435670569428305, 0.9569434360350746, 0.9627344825298069, 0.9351355257166638, 0.9603695323575377, 0.9298452017816358, 0.9614953007914432, 0.9612574869154434, 0.9551230652678516, 0.961475920988652, 0.9600551154118978, 0.959541119380397, 0.963379058695761, 0.9616927041582862, 0.9608760381277947, 0.9525714518386342, 0.9565930372273672, 0.9577567601204416, 0.9620278382810009, 0.9581035421578571, 0.962529412751917, 0.9278626376380791, 0.9603880372327631, 0.9162750632237172, 0.9597120211739473, 0.95934984981805, 0.9630050883741884, 0.9612656643312162, 0.9672032663088771, 0.9573233600487164]}, {\"categories\": [\"0\", \"1\", \"2\", \"3\", \"4\", \"5\", \"6\", \"7\", \"8\", \"9\", \"10\", \"11\", \"12\", \"13\", \"14\", \"15\", \"16\", \"17\", \"18\", \"19\", \"20\", \"21\", \"22\", \"23\", \"24\", \"25\", \"26\", \"27\", \"28\", \"29\", \"30\", \"31\", \"32\", \"33\", \"34\", \"35\", \"36\", \"37\", \"38\", \"39\", \"40\", \"41\", \"42\", \"43\", \"44\", \"45\", \"46\", \"50\", \"51\"], \"mode\": \"lines\", \"name\": \"average_precision_score_micro_max\", \"stepped\": true, \"type\": \"scatter\", \"data\": [0.9573725685555249, 0.9622171415821849, 0.9622171415821849, 0.9622171415821849, 0.9622171415821849, 0.9622171415821849, 0.9622171415821849, 0.9622171415821849, 0.9622171415821849, 0.9622171415821849, 0.9622171415821849, 0.9622171415821849, 0.9622171415821849, 0.9622171415821849, 0.9622171415821849, 0.9622171415821849, 0.9622171415821849, 0.9622171415821849, 0.9622171415821849, 0.9622171415821849, 0.9622171415821849, 0.9627344825298069, 0.9627344825298069, 0.9627344825298069, 0.9627344825298069, 0.9627344825298069, 0.9627344825298069, 0.9627344825298069, 0.9627344825298069, 0.9627344825298069, 0.9627344825298069, 0.963379058695761, 0.963379058695761, 0.963379058695761, 0.963379058695761, 0.963379058695761, 0.963379058695761, 0.963379058695761, 0.963379058695761, 0.963379058695761, 0.963379058695761, 0.963379058695761, 0.963379058695761, 0.963379058695761, 0.963379058695761, 0.963379058695761, 0.963379058695761, 0.9672032663088771, 0.9672032663088771]}], \"f1_score_macro\": [{\"categories\": [\"0\", \"1\", \"2\", \"3\", \"4\", \"5\", \"6\", \"7\", \"8\", \"9\", \"10\", \"11\", \"12\", \"13\", \"14\", \"15\", \"16\", \"17\", \"18\", \"19\", \"20\", \"21\", \"22\", \"23\", \"24\", \"25\", \"26\", \"27\", \"28\", \"29\", \"30\", \"31\", \"32\", \"33\", \"34\", \"35\", \"36\", \"37\", \"38\", \"39\", \"40\", \"41\", \"42\", \"43\", \"44\", \"45\", \"46\", \"50\", \"51\"], \"mode\": \"markers\", \"name\": \"f1_score_macro\", \"stepped\": false, \"type\": \"scatter\", \"data\": [0.8780542064565968, 0.8662820952296553, 0.5456248668454552, 0.7102397061188858, 0.4621555837673555, 0.496131602056165, 0.5023784247773232, 0.4621555837673555, 0.4621555837673555, 0.7436769809469022, 0.7187851685532701, 0.6497302377460317, 0.6675429699159684, 0.8306877261743342, 0.4671407993189587, 0.4621555837673555, 0.7276874705459603, 0.7120356741534769, 0.6350455385856177, 0.7050926661303718, 0.7863188848653629, 0.8440233094752932, 0.5133249732962774, 0.882766974170885, 0.5022739485658614, 0.8418984906327296, 0.8471758395860004, 0.8064747726426383, 0.873778644021487, 0.838256532049864, 0.8129301372447942, 0.8395799354206469, 0.8559967219599361, 0.8496161503000578, 0.7588600546590674, 0.8527722752851364, 0.8102065284484987, 0.8920637133286933, 0.8464543306190205, 0.8791033229079813, 0.6038450711908737, 0.8385774328479556, 0.4621555837673555, 0.8531886819466261, 0.8351583276963156, 0.8534059225131551, 0.8436595020261434, 0.8686025560750575, 0.5811182803925992]}, {\"categories\": [\"0\", \"1\", \"2\", \"3\", \"4\", \"5\", \"6\", \"7\", \"8\", \"9\", \"10\", \"11\", \"12\", \"13\", \"14\", \"15\", \"16\", \"17\", \"18\", \"19\", \"20\", \"21\", \"22\", \"23\", \"24\", \"25\", \"26\", \"27\", \"28\", \"29\", \"30\", \"31\", \"32\", \"33\", \"34\", \"35\", \"36\", \"37\", \"38\", \"39\", \"40\", \"41\", \"42\", \"43\", \"44\", \"45\", \"46\", \"50\", \"51\"], \"mode\": \"lines\", \"name\": \"f1_score_macro_max\", \"stepped\": true, \"type\": \"scatter\", \"data\": [0.8780542064565968, 0.8780542064565968, 0.8780542064565968, 0.8780542064565968, 0.8780542064565968, 0.8780542064565968, 0.8780542064565968, 0.8780542064565968, 0.8780542064565968, 0.8780542064565968, 0.8780542064565968, 0.8780542064565968, 0.8780542064565968, 0.8780542064565968, 0.8780542064565968, 0.8780542064565968, 0.8780542064565968, 0.8780542064565968, 0.8780542064565968, 0.8780542064565968, 0.8780542064565968, 0.8780542064565968, 0.8780542064565968, 0.882766974170885, 0.882766974170885, 0.882766974170885, 0.882766974170885, 0.882766974170885, 0.882766974170885, 0.882766974170885, 0.882766974170885, 0.882766974170885, 0.882766974170885, 0.882766974170885, 0.882766974170885, 0.882766974170885, 0.882766974170885, 0.8920637133286933, 0.8920637133286933, 0.8920637133286933, 0.8920637133286933, 0.8920637133286933, 0.8920637133286933, 0.8920637133286933, 0.8920637133286933, 0.8920637133286933, 0.8920637133286933, 0.8920637133286933, 0.8920637133286933]}], \"recall_score_weighted\": [{\"categories\": [\"0\", \"1\", \"2\", \"3\", \"4\", \"5\", \"6\", \"7\", \"8\", \"9\", \"10\", \"11\", \"12\", \"13\", \"14\", \"15\", \"16\", \"17\", \"18\", \"19\", \"20\", \"21\", \"22\", \"23\", \"24\", \"25\", \"26\", \"27\", \"28\", \"29\", \"30\", \"31\", \"32\", \"33\", \"34\", \"35\", \"36\", \"37\", \"38\", \"39\", \"40\", \"41\", \"42\", \"43\", \"44\", \"45\", \"46\", \"50\", \"51\"], \"mode\": \"markers\", \"name\": \"recall_score_weighted\", \"stepped\": false, \"type\": \"scatter\", \"data\": [0.9475281322972195, 0.943527744219705, 0.8679986563480577, 0.8312952618659352, 0.859293825181712, 0.8604708496638213, 0.8649412168888144, 0.859293825181712, 0.859293825181712, 0.8458787364089805, 0.8303531438930288, 0.8018862627205031, 0.7992916588586003, 0.9317629816580212, 0.8599997076128316, 0.859293825181712, 0.8291706371515111, 0.8197595912958997, 0.7849331230803785, 0.8136455430227784, 0.9105858442081424, 0.9341150370733639, 0.8663516527184697, 0.9491754681849535, 0.8630581438465127, 0.9331734174876766, 0.9336445595386662, 0.9216443920805606, 0.9458807964094856, 0.9317618187545104, 0.92588035118357, 0.9331734174876766, 0.937174137823337, 0.9357612100575871, 0.9056446671903055, 0.9343499435825668, 0.9181163089575467, 0.953175524004322, 0.9338788015315771, 0.9482335163411202, 0.8811746853847615, 0.9329380125912548, 0.859293825181712, 0.9359972794703008, 0.9315264138580885, 0.9381142622473675, 0.9352915631682542, 0.9454088237131311, 0.8842291345206911]}, {\"categories\": [\"0\", \"1\", \"2\", \"3\", \"4\", \"5\", \"6\", \"7\", \"8\", \"9\", \"10\", \"11\", \"12\", \"13\", \"14\", \"15\", \"16\", \"17\", \"18\", \"19\", \"20\", \"21\", \"22\", \"23\", \"24\", \"25\", \"26\", \"27\", \"28\", \"29\", \"30\", \"31\", \"32\", \"33\", \"34\", \"35\", \"36\", \"37\", \"38\", \"39\", \"40\", \"41\", \"42\", \"43\", \"44\", \"45\", \"46\", \"50\", \"51\"], \"mode\": \"lines\", \"name\": \"recall_score_weighted_max\", \"stepped\": true, \"type\": \"scatter\", \"data\": [0.9475281322972195, 0.9475281322972195, 0.9475281322972195, 0.9475281322972195, 0.9475281322972195, 0.9475281322972195, 0.9475281322972195, 0.9475281322972195, 0.9475281322972195, 0.9475281322972195, 0.9475281322972195, 0.9475281322972195, 0.9475281322972195, 0.9475281322972195, 0.9475281322972195, 0.9475281322972195, 0.9475281322972195, 0.9475281322972195, 0.9475281322972195, 0.9475281322972195, 0.9475281322972195, 0.9475281322972195, 0.9475281322972195, 0.9491754681849535, 0.9491754681849535, 0.9491754681849535, 0.9491754681849535, 0.9491754681849535, 0.9491754681849535, 0.9491754681849535, 0.9491754681849535, 0.9491754681849535, 0.9491754681849535, 0.9491754681849535, 0.9491754681849535, 0.9491754681849535, 0.9491754681849535, 0.953175524004322, 0.953175524004322, 0.953175524004322, 0.953175524004322, 0.953175524004322, 0.953175524004322, 0.953175524004322, 0.953175524004322, 0.953175524004322, 0.953175524004322, 0.953175524004322, 0.953175524004322]}], \"accuracy\": [{\"categories\": [\"0\", \"1\", \"2\", \"3\", \"4\", \"5\", \"6\", \"7\", \"8\", \"9\", \"10\", \"11\", \"12\", \"13\", \"14\", \"15\", \"16\", \"17\", \"18\", \"19\", \"20\", \"21\", \"22\", \"23\", \"24\", \"25\", \"26\", \"27\", \"28\", \"29\", \"30\", \"31\", \"32\", \"33\", \"34\", \"35\", \"36\", \"37\", \"38\", \"39\", \"40\", \"41\", \"42\", \"43\", \"44\", \"45\", \"46\", \"50\", \"51\"], \"mode\": \"markers\", \"name\": \"accuracy\", \"stepped\": false, \"type\": \"scatter\", \"data\": [0.9475281322972195, 0.943527744219705, 0.8679986563480577, 0.8312952618659352, 0.859293825181712, 0.8604708496638213, 0.8649412168888144, 0.859293825181712, 0.859293825181712, 0.8458787364089805, 0.8303531438930288, 0.8018862627205031, 0.7992916588586003, 0.9317629816580212, 0.8599997076128316, 0.859293825181712, 0.8291706371515111, 0.8197595912958997, 0.7849331230803785, 0.8136455430227784, 0.9105858442081424, 0.9341150370733639, 0.8663516527184697, 0.9491754681849535, 0.8630581438465127, 0.9331734174876766, 0.9336445595386662, 0.9216443920805606, 0.9458807964094856, 0.9317618187545104, 0.92588035118357, 0.9331734174876766, 0.937174137823337, 0.9357612100575871, 0.9056446671903055, 0.9343499435825668, 0.9181163089575467, 0.953175524004322, 0.9338788015315771, 0.9482335163411202, 0.8811746853847615, 0.9329380125912548, 0.859293825181712, 0.9359972794703008, 0.9315264138580885, 0.9381142622473675, 0.9352915631682542, 0.9454088237131311, 0.8842291345206911]}, {\"categories\": [\"0\", \"1\", \"2\", \"3\", \"4\", \"5\", \"6\", \"7\", \"8\", \"9\", \"10\", \"11\", \"12\", \"13\", \"14\", \"15\", \"16\", \"17\", \"18\", \"19\", \"20\", \"21\", \"22\", \"23\", \"24\", \"25\", \"26\", \"27\", \"28\", \"29\", \"30\", \"31\", \"32\", \"33\", \"34\", \"35\", \"36\", \"37\", \"38\", \"39\", \"40\", \"41\", \"42\", \"43\", \"44\", \"45\", \"46\", \"50\", \"51\"], \"mode\": \"lines\", \"name\": \"accuracy_max\", \"stepped\": true, \"type\": \"scatter\", \"data\": [0.9475281322972195, 0.9475281322972195, 0.9475281322972195, 0.9475281322972195, 0.9475281322972195, 0.9475281322972195, 0.9475281322972195, 0.9475281322972195, 0.9475281322972195, 0.9475281322972195, 0.9475281322972195, 0.9475281322972195, 0.9475281322972195, 0.9475281322972195, 0.9475281322972195, 0.9475281322972195, 0.9475281322972195, 0.9475281322972195, 0.9475281322972195, 0.9475281322972195, 0.9475281322972195, 0.9475281322972195, 0.9475281322972195, 0.9491754681849535, 0.9491754681849535, 0.9491754681849535, 0.9491754681849535, 0.9491754681849535, 0.9491754681849535, 0.9491754681849535, 0.9491754681849535, 0.9491754681849535, 0.9491754681849535, 0.9491754681849535, 0.9491754681849535, 0.9491754681849535, 0.9491754681849535, 0.953175524004322, 0.953175524004322, 0.953175524004322, 0.953175524004322, 0.953175524004322, 0.953175524004322, 0.953175524004322, 0.953175524004322, 0.953175524004322, 0.953175524004322, 0.953175524004322, 0.953175524004322]}], \"norm_macro_recall\": [{\"categories\": [\"0\", \"1\", \"2\", \"3\", \"4\", \"5\", \"6\", \"7\", \"8\", \"9\", \"10\", \"11\", \"12\", \"13\", \"14\", \"15\", \"16\", \"17\", \"18\", \"19\", \"20\", \"21\", \"22\", \"23\", \"24\", \"25\", \"26\", \"27\", \"28\", \"29\", \"30\", \"31\", \"32\", \"33\", \"34\", \"35\", \"36\", \"37\", \"38\", \"39\", \"40\", \"41\", \"42\", \"43\", \"44\", \"45\", \"46\", \"50\", \"51\"], \"mode\": \"markers\", \"name\": \"norm_macro_recall\", \"stepped\": false, \"type\": \"scatter\", \"data\": [0.6746535970924591, 0.6434170143404029, 0.08911174272054811, 0.5174228858141988, 0.0, 0.03597240136764738, 0.04051567639423433, 0.0, 0.0, 0.6175190574126717, 0.5635105701976156, 0.3579428825176889, 0.434064409914318, 0.5568066394978612, 0.004848167456180071, 0.0, 0.6125540859135966, 0.5688672923424235, 0.3396242508640191, 0.5625584949846275, 0.499961321815396, 0.6053430688157329, 0.05233528318464472, 0.6865797638818765, 0.03908674607656167, 0.6031116870155231, 0.627340941657943, 0.5204958571143866, 0.6645976689522103, 0.5949806569928103, 0.5201594825993883, 0.5929208126758524, 0.6459241818873119, 0.6259106363486998, 0.42781896242901096, 0.6564401347231095, 0.557405409441544, 0.7080948564113161, 0.6258708426043461, 0.676047403395125, 0.1584820821691535, 0.5877725727468216, 0.0, 0.644258513677879, 0.583590795724775, 0.6261703174936312, 0.5970631783767529, 0.6394588220370948, 0.17037796930616725]}, {\"categories\": [\"0\", \"1\", \"2\", \"3\", \"4\", \"5\", \"6\", \"7\", \"8\", \"9\", \"10\", \"11\", \"12\", \"13\", \"14\", \"15\", \"16\", \"17\", \"18\", \"19\", \"20\", \"21\", \"22\", \"23\", \"24\", \"25\", \"26\", \"27\", \"28\", \"29\", \"30\", \"31\", \"32\", \"33\", \"34\", \"35\", \"36\", \"37\", \"38\", \"39\", \"40\", \"41\", \"42\", \"43\", \"44\", \"45\", \"46\", \"50\", \"51\"], \"mode\": \"lines\", \"name\": \"norm_macro_recall_max\", \"stepped\": true, \"type\": \"scatter\", \"data\": [0.6746535970924591, 0.6746535970924591, 0.6746535970924591, 0.6746535970924591, 0.6746535970924591, 0.6746535970924591, 0.6746535970924591, 0.6746535970924591, 0.6746535970924591, 0.6746535970924591, 0.6746535970924591, 0.6746535970924591, 0.6746535970924591, 0.6746535970924591, 0.6746535970924591, 0.6746535970924591, 0.6746535970924591, 0.6746535970924591, 0.6746535970924591, 0.6746535970924591, 0.6746535970924591, 0.6746535970924591, 0.6746535970924591, 0.6865797638818765, 0.6865797638818765, 0.6865797638818765, 0.6865797638818765, 0.6865797638818765, 0.6865797638818765, 0.6865797638818765, 0.6865797638818765, 0.6865797638818765, 0.6865797638818765, 0.6865797638818765, 0.6865797638818765, 0.6865797638818765, 0.6865797638818765, 0.7080948564113161, 0.7080948564113161, 0.7080948564113161, 0.7080948564113161, 0.7080948564113161, 0.7080948564113161, 0.7080948564113161, 0.7080948564113161, 0.7080948564113161, 0.7080948564113161, 0.7080948564113161, 0.7080948564113161]}], \"f1_score_weighted\": [{\"categories\": [\"0\", \"1\", \"2\", \"3\", \"4\", \"5\", \"6\", \"7\", \"8\", \"9\", \"10\", \"11\", \"12\", \"13\", \"14\", \"15\", \"16\", \"17\", \"18\", \"19\", \"20\", \"21\", \"22\", \"23\", \"24\", \"25\", \"26\", \"27\", \"28\", \"29\", \"30\", \"31\", \"32\", \"33\", \"34\", \"35\", \"36\", \"37\", \"38\", \"39\", \"40\", \"41\", \"42\", \"43\", \"44\", \"45\", \"46\", \"50\", \"51\"], \"mode\": \"markers\", \"name\": \"f1_score_weighted\", \"stepped\": false, \"type\": \"scatter\", \"data\": [0.9441703867892585, 0.9392708112342086, 0.8201921928388575, 0.8448370177633091, 0.794276482828713, 0.8040664104063522, 0.8075233489024244, 0.794276482828713, 0.794276482828713, 0.8597939686171127, 0.8460967432041436, 0.8154658904835949, 0.8177436067230316, 0.9245576748889283, 0.7959768643129652, 0.794276482828713, 0.8471688702045109, 0.83843182291539, 0.8029535844724861, 0.8337041267130284, 0.9033282347234043, 0.9290911641254959, 0.8110094055519844, 0.9460951047328162, 0.8068464040984878, 0.9281959440020868, 0.9297737012195338, 0.913767917351926, 0.9422609256293836, 0.9265663444320585, 0.917291057325536, 0.9274965177349044, 0.9336531970021428, 0.9313383391104094, 0.8939846259479216, 0.9315118521711104, 0.9130077695989695, 0.9504933575230989, 0.9297700209451928, 0.9448072946754463, 0.8419960768330181, 0.9272398039797461, 0.794276482828713, 0.932445004722001, 0.9256774738046382, 0.9335399146528283, 0.9297466010372998, 0.9406941740939398, 0.8384632246896414]}, {\"categories\": [\"0\", \"1\", \"2\", \"3\", \"4\", \"5\", \"6\", \"7\", \"8\", \"9\", \"10\", \"11\", \"12\", \"13\", \"14\", \"15\", \"16\", \"17\", \"18\", \"19\", \"20\", \"21\", \"22\", \"23\", \"24\", \"25\", \"26\", \"27\", \"28\", \"29\", \"30\", \"31\", \"32\", \"33\", \"34\", \"35\", \"36\", \"37\", \"38\", \"39\", \"40\", \"41\", \"42\", \"43\", \"44\", \"45\", \"46\", \"50\", \"51\"], \"mode\": \"lines\", \"name\": \"f1_score_weighted_max\", \"stepped\": true, \"type\": \"scatter\", \"data\": [0.9441703867892585, 0.9441703867892585, 0.9441703867892585, 0.9441703867892585, 0.9441703867892585, 0.9441703867892585, 0.9441703867892585, 0.9441703867892585, 0.9441703867892585, 0.9441703867892585, 0.9441703867892585, 0.9441703867892585, 0.9441703867892585, 0.9441703867892585, 0.9441703867892585, 0.9441703867892585, 0.9441703867892585, 0.9441703867892585, 0.9441703867892585, 0.9441703867892585, 0.9441703867892585, 0.9441703867892585, 0.9441703867892585, 0.9460951047328162, 0.9460951047328162, 0.9460951047328162, 0.9460951047328162, 0.9460951047328162, 0.9460951047328162, 0.9460951047328162, 0.9460951047328162, 0.9460951047328162, 0.9460951047328162, 0.9460951047328162, 0.9460951047328162, 0.9460951047328162, 0.9460951047328162, 0.9504933575230989, 0.9504933575230989, 0.9504933575230989, 0.9504933575230989, 0.9504933575230989, 0.9504933575230989, 0.9504933575230989, 0.9504933575230989, 0.9504933575230989, 0.9504933575230989, 0.9504933575230989, 0.9504933575230989]}]}, \"metricName\": null, \"primaryMetricName\": \"AUC_weighted\", \"showLegend\": false}, \"run_metrics\": [{\"name\": \"experiment_status\", \"run_id\": \"AutoML_02a88637-5957-40bb-9d85-ab32cf15d653\", \"categories\": [0, 1, 2, 3, 4, 5, 6, 7, 8, 9, 10, 11, 12, 13, 14], \"series\": [{\"data\": [\"DatasetEvaluation\", \"FeaturesGeneration\", \"DatasetFeaturization\", \"DatasetFeaturizationCompleted\", \"DatasetBalancing\", \"DatasetCrossValidationSplit\", \"ModelSelection\", \"BestRunExplainModel\", \"ModelExplanationDataSetSetup\", \"PickSurrogateModel\", \"EngineeredFeatureExplanations\", \"EngineeredFeatureExplanations\", \"RawFeaturesExplanations\", \"RawFeaturesExplanations\", \"BestRunExplainModel\"]}]}, {\"name\": \"experiment_status_description\", \"run_id\": \"AutoML_02a88637-5957-40bb-9d85-ab32cf15d653\", \"categories\": [0, 1, 2, 3, 4, 5, 6, 7, 8, 9, 10, 11, 12, 13, 14], \"series\": [{\"data\": [\"Gathering dataset statistics.\", \"Generating features for the dataset.\", \"Beginning to fit featurizers and featurize the dataset.\", \"Completed fit featurizers and featurizing the dataset.\", \"Performing class balancing sweeping\", \"Generating individually featurized CV splits.\", \"Beginning model selection.\", \"Best run model explanations started\", \"Model explanations data setup completed\", \"Choosing LightGBM as the surrogate model for explanations\", \"Computation of engineered features started\", \"Computation of engineered features completed\", \"Computation of raw features started\", \"Computation of raw features completed\", \"Best run model explanations completed\"]}]}, {\"name\": \"precision_score_macro\", \"run_id\": \"AutoML_02a88637-5957-40bb-9d85-ab32cf15d653\", \"categories\": [0], \"series\": [{\"data\": [0.9485034589902304]}]}, {\"name\": \"average_precision_score_micro\", \"run_id\": \"AutoML_02a88637-5957-40bb-9d85-ab32cf15d653\", \"categories\": [0], \"series\": [{\"data\": [0.9672032663088771]}]}, {\"name\": \"log_loss\", \"run_id\": \"AutoML_02a88637-5957-40bb-9d85-ab32cf15d653\", \"categories\": [0], \"series\": [{\"data\": [0.20349933831762965]}]}, {\"name\": \"f1_score_micro\", \"run_id\": \"AutoML_02a88637-5957-40bb-9d85-ab32cf15d653\", \"categories\": [0], \"series\": [{\"data\": [0.9454088237131311]}]}, {\"name\": \"precision_score_weighted\", \"run_id\": \"AutoML_02a88637-5957-40bb-9d85-ab32cf15d653\", \"categories\": [0], \"series\": [{\"data\": [0.9456853752369798]}]}, {\"name\": \"norm_macro_recall\", \"run_id\": \"AutoML_02a88637-5957-40bb-9d85-ab32cf15d653\", \"categories\": [0], \"series\": [{\"data\": [0.6394588220370948]}]}, {\"name\": \"accuracy\", \"run_id\": \"AutoML_02a88637-5957-40bb-9d85-ab32cf15d653\", \"categories\": [0], \"series\": [{\"data\": [0.9454088237131311]}]}, {\"name\": \"precision_score_micro\", \"run_id\": \"AutoML_02a88637-5957-40bb-9d85-ab32cf15d653\", \"categories\": [0], \"series\": [{\"data\": [0.9454088237131311]}]}, {\"name\": \"balanced_accuracy\", \"run_id\": \"AutoML_02a88637-5957-40bb-9d85-ab32cf15d653\", \"categories\": [0], \"series\": [{\"data\": [0.8197294110185475]}]}, {\"name\": \"AUC_weighted\", \"run_id\": \"AutoML_02a88637-5957-40bb-9d85-ab32cf15d653\", \"categories\": [0], \"series\": [{\"data\": [0.9241789927412384]}]}, {\"name\": \"f1_score_weighted\", \"run_id\": \"AutoML_02a88637-5957-40bb-9d85-ab32cf15d653\", \"categories\": [0], \"series\": [{\"data\": [0.9406941740939398]}]}, {\"name\": \"AUC_macro\", \"run_id\": \"AutoML_02a88637-5957-40bb-9d85-ab32cf15d653\", \"categories\": [0], \"series\": [{\"data\": [0.9241789927412384]}]}, {\"name\": \"recall_score_macro\", \"run_id\": \"AutoML_02a88637-5957-40bb-9d85-ab32cf15d653\", \"categories\": [0], \"series\": [{\"data\": [0.8197294110185475]}]}, {\"name\": \"matthews_correlation\", \"run_id\": \"AutoML_02a88637-5957-40bb-9d85-ab32cf15d653\", \"categories\": [0], \"series\": [{\"data\": [0.757070898382664]}]}, {\"name\": \"recall_score_micro\", \"run_id\": \"AutoML_02a88637-5957-40bb-9d85-ab32cf15d653\", \"categories\": [0], \"series\": [{\"data\": [0.9454088237131311]}]}, {\"name\": \"average_precision_score_macro\", \"run_id\": \"AutoML_02a88637-5957-40bb-9d85-ab32cf15d653\", \"categories\": [0], \"series\": [{\"data\": [0.921533179694311]}]}, {\"name\": \"average_precision_score_weighted\", \"run_id\": \"AutoML_02a88637-5957-40bb-9d85-ab32cf15d653\", \"categories\": [0], \"series\": [{\"data\": [0.9606744786228449]}]}, {\"name\": \"weighted_accuracy\", \"run_id\": \"AutoML_02a88637-5957-40bb-9d85-ab32cf15d653\", \"categories\": [0], \"series\": [{\"data\": [0.9855713811793283]}]}, {\"name\": \"AUC_micro\", \"run_id\": \"AutoML_02a88637-5957-40bb-9d85-ab32cf15d653\", \"categories\": [0], \"series\": [{\"data\": [0.9741089251801157]}]}, {\"name\": \"recall_score_weighted\", \"run_id\": \"AutoML_02a88637-5957-40bb-9d85-ab32cf15d653\", \"categories\": [0], \"series\": [{\"data\": [0.9454088237131311]}]}, {\"name\": \"f1_score_macro\", \"run_id\": \"AutoML_02a88637-5957-40bb-9d85-ab32cf15d653\", \"categories\": [0], \"series\": [{\"data\": [0.8686025560750575]}]}], \"run_logs\": \"\\nRun is completed.\", \"graph\": {}, \"widget_settings\": {\"childWidgetDisplay\": \"popup\", \"send_telemetry\": false, \"log_level\": \"INFO\", \"sdk_version\": \"1.27.0\"}, \"loading\": false}"
          },
          "metadata": {}
        },
        {
          "output_type": "display_data",
          "data": {
            "text/plain": "<IPython.core.display.HTML object>",
            "text/html": "<table style=\"width:100%\"><tr><th>Experiment</th><th>Id</th><th>Type</th><th>Status</th><th>Details Page</th><th>Docs Page</th></tr><tr><td>customer-churn</td><td>AutoML_02a88637-5957-40bb-9d85-ab32cf15d653</td><td>automl</td><td>Completed</td><td><a href=\"https://ml.azure.com/runs/AutoML_02a88637-5957-40bb-9d85-ab32cf15d653?wsid=/subscriptions/b968fb36-f06a-4c76-a15f-afab68ae7667/resourcegroups/aml-quickstarts-144229/workspaces/quick-starts-ws-144229&amp;tid=660b3398-b80e-49d2-bc5b-ac1dc93b5254\" target=\"_blank\" rel=\"noopener\">Link to Azure Machine Learning studio</a></td><td><a href=\"https://docs.microsoft.com/en-us/python/api/overview/azure/ml/intro?view=azure-ml-py\" target=\"_blank\" rel=\"noopener\">Link to Documentation</a></td></tr></table>"
          },
          "metadata": {}
        },
        {
          "output_type": "stream",
          "name": "stdout",
          "text": [
            "\n",
            "\n",
            "****************************************************************************************************\n",
            "DATA GUARDRAILS: \n",
            "\n",
            "TYPE:         Cross validation\n",
            "STATUS:       DONE\n",
            "DESCRIPTION:  Each iteration of the trained model was validated through cross-validation.\n",
            "              \n",
            "DETAILS:      \n",
            "+---------------------------------+\n",
            "|Number of folds                  |\n",
            "+=================================+\n",
            "|3                                |\n",
            "+---------------------------------+\n",
            "\n",
            "****************************************************************************************************\n",
            "\n",
            "TYPE:         Class balancing detection\n",
            "STATUS:       ALERTED\n",
            "DESCRIPTION:  To decrease model bias, please cancel the current run and fix balancing problem.\n",
            "              Learn more about imbalanced data: https://aka.ms/AutomatedMLImbalancedData\n",
            "DETAILS:      Imbalanced data can lead to a falsely perceived positive effect of a model's accuracy because the input data has bias towards one class.\n",
            "+---------------------------------+---------------------------------+--------------------------------------+\n",
            "|Size of the smallest class       |Name/Label of the smallest class |Number of samples in the training data|\n",
            "+=================================+=================================+======================================+\n",
            "|598                              |yes                              |4250                                  |\n",
            "+---------------------------------+---------------------------------+--------------------------------------+\n",
            "\n",
            "****************************************************************************************************\n",
            "\n",
            "TYPE:         Missing feature values imputation\n",
            "STATUS:       PASSED\n",
            "DESCRIPTION:  No feature missing values were detected in the training data.\n",
            "              Learn more about missing value imputation: https://aka.ms/AutomatedMLFeaturization\n",
            "\n",
            "****************************************************************************************************\n",
            "\n",
            "TYPE:         High cardinality feature detection\n",
            "STATUS:       PASSED\n",
            "DESCRIPTION:  Your inputs were analyzed, and no high cardinality features were detected.\n",
            "              Learn more about high cardinality feature handling: https://aka.ms/AutomatedMLFeaturization\n",
            "\n",
            "****************************************************************************************************\n",
            "\n",
            "****************************************************************************************************\n",
            "ITERATION: The iteration being evaluated.\n",
            "PIPELINE: A summary description of the pipeline being evaluated.\n",
            "DURATION: Time taken for the current iteration.\n",
            "METRIC: The result of computing score on the fitted pipeline.\n",
            "BEST: The best observed score thus far.\n",
            "****************************************************************************************************\n",
            "\n",
            " ITERATION   PIPELINE                                       DURATION      METRIC      BEST\n",
            "         0   MaxAbsScaler LightGBM                          0:00:49       0.8946    0.8946\n",
            "         1   MaxAbsScaler XGBoostClassifier                 0:01:43       0.9118    0.9118\n",
            "         2   MaxAbsScaler RandomForest                      0:00:50       0.8497    0.9118\n",
            "         3   MaxAbsScaler RandomForest                      0:00:40       0.8356    0.9118\n",
            "         4   MaxAbsScaler RandomForest                      0:01:49       0.7742    0.9118\n",
            "         5   MaxAbsScaler ExtremeRandomTrees                0:01:35       0.8430    0.9118\n",
            "         6   MaxAbsScaler ExtremeRandomTrees                0:00:45       0.8793    0.9118\n",
            "         7   MaxAbsScaler ExtremeRandomTrees                0:00:44       0.8552    0.9118\n",
            "         8   MaxAbsScaler RandomForest                      0:00:47       0.8496    0.9118\n",
            "         9   MaxAbsScaler ExtremeRandomTrees                0:00:45       0.8499    0.9118\n",
            "        10   MaxAbsScaler RandomForest                      0:00:44       0.8303    0.9118\n",
            "        11   MaxAbsScaler RandomForest                      0:00:45       0.7593    0.9118\n",
            "        12   MaxAbsScaler RandomForest                      0:00:45       0.7867    0.9118\n",
            "        13   StandardScalerWrapper XGBoostClassifier        0:00:41       0.9029    0.9118\n",
            "        14   MaxAbsScaler RandomForest                      0:00:40       0.8106    0.9118\n",
            "        15   StandardScalerWrapper ExtremeRandomTrees       0:00:44       0.8481    0.9118\n",
            "        16   MaxAbsScaler ExtremeRandomTrees                0:00:44       0.8531    0.9118\n",
            "        17   MaxAbsScaler ExtremeRandomTrees                0:00:44       0.8340    0.9118\n",
            "        18   MaxAbsScaler RandomForest                      0:00:43       0.7295    0.9118\n",
            "        19   StandardScalerWrapper LogisticRegression       0:00:43       0.8245    0.9118\n",
            "        20   SparseNormalizer LightGBM                      0:00:45       0.8931    0.9118\n",
            "        21   TruncatedSVDWrapper XGBoostClassifier          0:00:49       0.9103    0.9118\n",
            "        22   MaxAbsScaler LightGBM                          0:00:43       0.8516    0.9118\n",
            "        23   StandardScalerWrapper XGBoostClassifier        0:00:47       0.9081    0.9118\n",
            "        24   MaxAbsScaler LightGBM                          0:00:42       0.8276    0.9118\n",
            "        25   SparseNormalizer XGBoostClassifier             0:00:46       0.9080    0.9118\n",
            "        26   SparseNormalizer XGBoostClassifier             0:00:45       0.9066    0.9118\n",
            "        27   SparseNormalizer XGBoostClassifier             0:00:44       0.8944    0.9118\n",
            "        28   StandardScalerWrapper XGBoostClassifier        0:00:44       0.9109    0.9118\n",
            "        29   SparseNormalizer XGBoostClassifier             0:00:45       0.9060    0.9118\n",
            "        30   TruncatedSVDWrapper XGBoostClassifier          0:00:47       0.9087    0.9118\n",
            "        31   TruncatedSVDWrapper XGBoostClassifier          0:00:56       0.9122    0.9122\n",
            "        32   SparseNormalizer XGBoostClassifier             0:00:47       0.9081    0.9122\n",
            "        33   SparseNormalizer XGBoostClassifier             0:00:45       0.9049    0.9122\n",
            "        34   StandardScalerWrapper XGBoostClassifier        0:00:48       0.8918    0.9122\n",
            "        35   SparseNormalizer XGBoostClassifier             0:00:49       0.8970    0.9122\n",
            "        36   StandardScalerWrapper XGBoostClassifier        0:00:44       0.8991    0.9122\n",
            "        37   StandardScalerWrapper XGBoostClassifier        0:00:51       0.9107    0.9122\n",
            "        38   SparseNormalizer XGBoostClassifier             0:00:48       0.9016    0.9122\n",
            "        39   StandardScalerWrapper XGBoostClassifier        0:00:51       0.9091    0.9122\n",
            "        40   TruncatedSVDWrapper XGBoostClassifier          0:00:43       0.8126    0.9122\n",
            "        41   TruncatedSVDWrapper XGBoostClassifier          0:00:46       0.9035    0.9122\n",
            "        42   MaxAbsScaler LightGBM                          0:00:46       0.8074    0.9122\n",
            "        43   SparseNormalizer XGBoostClassifier             0:00:59       0.9001    0.9122\n",
            "        44   TruncatedSVDWrapper XGBoostClassifier          0:00:54       0.9085    0.9122\n",
            "        45   SparseNormalizer XGBoostClassifier             0:00:53       0.9097    0.9122\n",
            "        46   SparseNormalizer XGBoostClassifier             0:00:49       0.9068    0.9122\n",
            "        47                                                  0:00:09          nan    0.9122\n",
            "        48                                                  0:00:21          nan    0.9122\n",
            "        49                                                  0:00:14          nan    0.9122\n",
            "        50    VotingEnsemble                                0:01:05       0.9242    0.9242\n",
            "        51    StackEnsemble                                 0:01:15       0.9228    0.9242\n"
          ]
        },
        {
          "output_type": "execute_result",
          "execution_count": 26,
          "data": {
            "text/plain": "{'runId': 'AutoML_02a88637-5957-40bb-9d85-ab32cf15d653',\n 'target': 'capstone-cluster',\n 'status': 'Completed',\n 'startTimeUtc': '2021-05-08T16:49:56.208817Z',\n 'endTimeUtc': '2021-05-08T17:09:51.470725Z',\n 'properties': {'num_iterations': '1000',\n  'training_type': 'TrainFull',\n  'acquisition_function': 'EI',\n  'primary_metric': 'AUC_weighted',\n  'train_split': '0',\n  'acquisition_parameter': '0',\n  'num_cross_validation': None,\n  'target': 'capstone-cluster',\n  'AMLSettingsJsonString': '{\"path\":null,\"name\":\"customer-churn\",\"subscription_id\":\"b968fb36-f06a-4c76-a15f-afab68ae7667\",\"resource_group\":\"aml-quickstarts-144229\",\"workspace_name\":\"quick-starts-ws-144229\",\"region\":\"southcentralus\",\"compute_target\":\"capstone-cluster\",\"spark_service\":null,\"azure_service\":\"remote\",\"many_models\":false,\"pipeline_fetch_max_batch_size\":1,\"enable_batch_run\":false,\"enable_run_restructure\":false,\"start_auxiliary_runs_before_parent_complete\":false,\"iterations\":1000,\"primary_metric\":\"AUC_weighted\",\"task_type\":\"classification\",\"data_script\":null,\"test_size\":0.0,\"validation_size\":0.0,\"n_cross_validations\":null,\"y_min\":null,\"y_max\":null,\"num_classes\":null,\"featurization\":\"auto\",\"_ignore_package_version_incompatibilities\":false,\"is_timeseries\":false,\"max_cores_per_iteration\":1,\"max_concurrent_iterations\":5,\"iteration_timeout_minutes\":null,\"mem_in_mb\":null,\"enforce_time_on_windows\":false,\"experiment_timeout_minutes\":20,\"experiment_exit_score\":null,\"whitelist_models\":null,\"blacklist_algos\":[\"TensorFlowLinearClassifier\",\"TensorFlowDNN\"],\"supported_models\":[\"SVM\",\"DecisionTree\",\"GradientBoosting\",\"MultinomialNaiveBayes\",\"LinearSVM\",\"KNN\",\"LogisticRegression\",\"SGD\",\"XGBoostClassifier\",\"ExtremeRandomTrees\",\"LightGBM\",\"TensorFlowDNN\",\"AveragedPerceptronClassifier\",\"TensorFlowLinearClassifier\",\"BernoulliNaiveBayes\",\"RandomForest\"],\"private_models\":[],\"auto_blacklist\":true,\"blacklist_samples_reached\":false,\"exclude_nan_labels\":true,\"verbosity\":20,\"_debug_log\":\"azureml_automl.log\",\"show_warnings\":false,\"model_explainability\":true,\"service_url\":null,\"sdk_url\":null,\"sdk_packages\":null,\"enable_onnx_compatible_models\":false,\"enable_split_onnx_featurizer_estimator_models\":false,\"vm_type\":\"STANDARD_DS3_V2\",\"telemetry_verbosity\":20,\"send_telemetry\":true,\"enable_dnn\":false,\"scenario\":\"SDK-1.13.0\",\"environment_label\":null,\"save_mlflow\":false,\"force_text_dnn\":false,\"enable_feature_sweeping\":true,\"enable_early_stopping\":true,\"early_stopping_n_iters\":10,\"metrics\":null,\"enable_metric_confidence\":false,\"enable_ensembling\":true,\"enable_stack_ensembling\":true,\"ensemble_iterations\":15,\"enable_tf\":false,\"enable_subsampling\":null,\"subsample_seed\":null,\"enable_nimbusml\":false,\"enable_streaming\":false,\"force_streaming\":false,\"track_child_runs\":true,\"allowed_private_models\":[],\"label_column_name\":\"churn\",\"weight_column_name\":null,\"cv_split_column_names\":null,\"enable_local_managed\":false,\"_local_managed_run_id\":null,\"cost_mode\":1,\"lag_length\":0,\"metric_operation\":\"maximize\",\"preprocess\":true}',\n  'DataPrepJsonString': '{\\\\\"training_data\\\\\": {\\\\\"datasetId\\\\\": \\\\\"4d037514-2225-431d-9742-15b321e38419\\\\\"}, \\\\\"datasets\\\\\": 0}',\n  'EnableSubsampling': None,\n  'runTemplate': 'AutoML',\n  'azureml.runsource': 'automl',\n  'display_task_type': 'classification',\n  'dependencies_versions': '{\"azureml-widgets\": \"1.27.0\", \"azureml-train\": \"1.27.0\", \"azureml-train-restclients-hyperdrive\": \"1.27.0\", \"azureml-train-core\": \"1.27.0\", \"azureml-train-automl\": \"1.27.0\", \"azureml-train-automl-runtime\": \"1.27.0\", \"azureml-train-automl-client\": \"1.27.0\", \"azureml-tensorboard\": \"1.27.0\", \"azureml-telemetry\": \"1.27.0\", \"azureml-sdk\": \"1.27.0\", \"azureml-samples\": \"0+unknown\", \"azureml-pipeline\": \"1.27.0\", \"azureml-pipeline-steps\": \"1.27.0\", \"azureml-pipeline-core\": \"1.27.0\", \"azureml-opendatasets\": \"1.27.0\", \"azureml-model-management-sdk\": \"1.0.1b6.post1\", \"azureml-mlflow\": \"1.27.0\", \"azureml-interpret\": \"1.27.0\", \"azureml-explain-model\": \"1.27.0\", \"azureml-defaults\": \"1.27.0\", \"azureml-dataset-runtime\": \"1.27.0\", \"azureml-dataprep\": \"2.14.2\", \"azureml-dataprep-rslex\": \"1.12.1\", \"azureml-dataprep-native\": \"33.0.0\", \"azureml-datadrift\": \"1.27.0\", \"azureml-core\": \"1.27.0\", \"azureml-contrib-services\": \"1.27.0\", \"azureml-contrib-server\": \"1.27.0\", \"azureml-contrib-reinforcementlearning\": \"1.27.0\", \"azureml-contrib-pipeline-steps\": \"1.27.0\", \"azureml-contrib-notebook\": \"1.27.0\", \"azureml-contrib-gbdt\": \"1.27.0\", \"azureml-contrib-fairness\": \"1.27.0\", \"azureml-contrib-dataset\": \"1.27.0\", \"azureml-cli-common\": \"1.27.0\", \"azureml-automl-runtime\": \"1.27.0\", \"azureml-automl-dnn-nlp\": \"1.27.0\", \"azureml-automl-core\": \"1.27.0\", \"azureml-accel-models\": \"1.27.0\"}',\n  '_aml_system_scenario_identification': 'Remote.Parent',\n  'ClientType': 'SDK',\n  'environment_cpu_name': 'AzureML-AutoML',\n  'environment_cpu_label': 'prod',\n  'environment_gpu_name': 'AzureML-AutoML-GPU',\n  'environment_gpu_label': 'prod',\n  'root_attribution': 'automl',\n  'attribution': 'AutoML',\n  'Orchestrator': 'AutoML',\n  'CancelUri': 'https://southcentralus.api.azureml.ms/jasmine/v1.0/subscriptions/b968fb36-f06a-4c76-a15f-afab68ae7667/resourceGroups/aml-quickstarts-144229/providers/Microsoft.MachineLearningServices/workspaces/quick-starts-ws-144229/experimentids/55b21594-a031-4be1-8dbf-876492e4bca8/cancel/AutoML_02a88637-5957-40bb-9d85-ab32cf15d653',\n  'ClientSdkVersion': '1.27.0.post1',\n  'snapshotId': '00000000-0000-0000-0000-000000000000',\n  'SetupRunId': 'AutoML_02a88637-5957-40bb-9d85-ab32cf15d653_setup',\n  'SetupRunContainerId': 'dcid.AutoML_02a88637-5957-40bb-9d85-ab32cf15d653_setup',\n  'FeaturizationRunJsonPath': 'featurizer_container.json',\n  'FeaturizationRunId': 'AutoML_02a88637-5957-40bb-9d85-ab32cf15d653_featurize',\n  'ProblemInfoJsonString': '{\"dataset_num_categorical\": 0, \"is_sparse\": true, \"subsampling\": false, \"dataset_classes\": 2, \"dataset_features\": 145, \"dataset_samples\": 4250, \"single_frequency_class_detected\": false}',\n  'ModelExplainRunId': 'AutoML_02a88637-5957-40bb-9d85-ab32cf15d653_ModelExplain'},\n 'inputDatasets': [{'dataset': {'id': '4d037514-2225-431d-9742-15b321e38419'}, 'consumptionDetails': {'type': 'RunInput', 'inputName': 'training_data', 'mechanism': 'Direct'}}],\n 'outputDatasets': [],\n 'logFiles': {},\n 'submittedBy': 'ODL_User 144229'}"
          },
          "metadata": {}
        }
      ],
      "execution_count": 26,
      "metadata": {
        "collapsed": true,
        "jupyter": {
          "source_hidden": false,
          "outputs_hidden": false
        },
        "nteract": {
          "transient": {
            "deleting": false
          }
        },
        "gather": {
          "logged": 1620495602168
        }
      }
    },
    {
      "cell_type": "markdown",
      "source": [
        "## Best Model\n",
        "\n",
        "TODO: In the cell below, get the best model from the automl experiments and display all the properties of the model.\n",
        "\n"
      ],
      "metadata": {}
    },
    {
      "cell_type": "code",
      "source": [
        "best_run, fitted_model = remote_run.get_output()\r\n",
        "print(best_run)\r\n",
        "print(fitted_model)\r\n",
        "best_run.get_tags()\r\n",
        "best_run_metrics = best_run.get_metrics()\r\n",
        "for m in best_run_metrics:\r\n",
        "    metric = best_run_metrics[m]\r\n",
        "    print(m, metric)"
      ],
      "outputs": [
        {
          "output_type": "stream",
          "name": "stdout",
          "text": [
            "Run(Experiment: customer-churn,\n",
            "Id: AutoML_02a88637-5957-40bb-9d85-ab32cf15d653_50,\n",
            "Type: azureml.scriptrun,\n",
            "Status: Completed)\n",
            "Pipeline(memory=None,\n",
            "         steps=[('datatransformer',\n",
            "                 DataTransformer(enable_dnn=None, enable_feature_sweeping=None,\n",
            "                                 feature_sweeping_config=None,\n",
            "                                 feature_sweeping_timeout=None,\n",
            "                                 featurization_config=None, force_text_dnn=None,\n",
            "                                 is_cross_validation=None,\n",
            "                                 is_onnx_compatible=None, logger=None,\n",
            "                                 observer=None, task=None, working_dir=None)),\n",
            "                ('prefittedsoftvotingclassifier',...\n",
            "                                                                                               reg_lambda=1.1458333333333335,\n",
            "                                                                                               scale_pos_weight=1,\n",
            "                                                                                               seed=None,\n",
            "                                                                                               silent=None,\n",
            "                                                                                               subsample=0.5,\n",
            "                                                                                               tree_method='hist',\n",
            "                                                                                               verbose=-10,\n",
            "                                                                                               verbosity=0))],\n",
            "                                                                     verbose=False))],\n",
            "                                               flatten_transform=None,\n",
            "                                               weights=[0.2,\n",
            "                                                        0.06666666666666667,\n",
            "                                                        0.06666666666666667,\n",
            "                                                        0.06666666666666667,\n",
            "                                                        0.06666666666666667,\n",
            "                                                        0.06666666666666667,\n",
            "                                                        0.06666666666666667,\n",
            "                                                        0.06666666666666667,\n",
            "                                                        0.2,\n",
            "                                                        0.13333333333333333]))],\n",
            "         verbose=False)\n",
            "Y_transformer(['LabelEncoder', LabelEncoder()])\n",
            "weighted_accuracy 0.9855713811793283\n",
            "f1_score_macro 0.8686025560750575\n",
            "recall_score_micro 0.9454088237131311\n",
            "balanced_accuracy 0.8197294110185475\n",
            "log_loss 0.20349933831762965\n",
            "average_precision_score_macro 0.921533179694311\n",
            "precision_score_macro 0.9485034589902304\n",
            "AUC_weighted 0.9241789927412384\n",
            "precision_score_weighted 0.9456853752369798\n",
            "accuracy 0.9454088237131311\n",
            "f1_score_weighted 0.9406941740939398\n",
            "norm_macro_recall 0.6394588220370948\n",
            "average_precision_score_micro 0.9672032663088771\n",
            "recall_score_macro 0.8197294110185475\n",
            "average_precision_score_weighted 0.9606744786228449\n",
            "matthews_correlation 0.757070898382664\n",
            "AUC_macro 0.9241789927412384\n",
            "precision_score_micro 0.9454088237131311\n",
            "AUC_micro 0.9741089251801157\n",
            "f1_score_micro 0.9454088237131311\n",
            "recall_score_weighted 0.9454088237131311\n",
            "confusion_matrix aml://artifactId/ExperimentRun/dcid.AutoML_02a88637-5957-40bb-9d85-ab32cf15d653_50/confusion_matrix\n",
            "accuracy_table aml://artifactId/ExperimentRun/dcid.AutoML_02a88637-5957-40bb-9d85-ab32cf15d653_50/accuracy_table\n"
          ]
        }
      ],
      "execution_count": 28,
      "metadata": {
        "gather": {
          "logged": 1620498364207
        },
        "jupyter": {
          "outputs_hidden": false,
          "source_hidden": false
        },
        "nteract": {
          "transient": {
            "deleting": false
          }
        }
      }
    },
    {
      "cell_type": "code",
      "source": [
        "best_run_metrics"
      ],
      "outputs": [
        {
          "output_type": "execute_result",
          "execution_count": 29,
          "data": {
            "text/plain": "{'weighted_accuracy': 0.9855713811793283,\n 'f1_score_macro': 0.8686025560750575,\n 'recall_score_micro': 0.9454088237131311,\n 'balanced_accuracy': 0.8197294110185475,\n 'log_loss': 0.20349933831762965,\n 'average_precision_score_macro': 0.921533179694311,\n 'precision_score_macro': 0.9485034589902304,\n 'AUC_weighted': 0.9241789927412384,\n 'precision_score_weighted': 0.9456853752369798,\n 'accuracy': 0.9454088237131311,\n 'f1_score_weighted': 0.9406941740939398,\n 'norm_macro_recall': 0.6394588220370948,\n 'average_precision_score_micro': 0.9672032663088771,\n 'recall_score_macro': 0.8197294110185475,\n 'average_precision_score_weighted': 0.9606744786228449,\n 'matthews_correlation': 0.757070898382664,\n 'AUC_macro': 0.9241789927412384,\n 'precision_score_micro': 0.9454088237131311,\n 'AUC_micro': 0.9741089251801157,\n 'f1_score_micro': 0.9454088237131311,\n 'recall_score_weighted': 0.9454088237131311,\n 'confusion_matrix': 'aml://artifactId/ExperimentRun/dcid.AutoML_02a88637-5957-40bb-9d85-ab32cf15d653_50/confusion_matrix',\n 'accuracy_table': 'aml://artifactId/ExperimentRun/dcid.AutoML_02a88637-5957-40bb-9d85-ab32cf15d653_50/accuracy_table'}"
          },
          "metadata": {}
        }
      ],
      "execution_count": 29,
      "metadata": {
        "collapsed": true,
        "jupyter": {
          "source_hidden": false,
          "outputs_hidden": false
        },
        "nteract": {
          "transient": {
            "deleting": false
          }
        },
        "gather": {
          "logged": 1620498371514
        }
      }
    },
    {
      "cell_type": "code",
      "execution_count": null,
      "metadata": {},
      "outputs": [],
      "source": [
        "joblib.dump(fitted_model, 'automl_model.pkl')"
      ]
    },
    {
      "cell_type": "markdown",
      "source": [
        "## Model Deployment\n",
        "\n",
        "Remember you have to deploy only one of the two models you trained.. Perform the steps in the rest of this notebook only if you wish to deploy this model.\n",
        "\n",
        "TODO: In the cell below, register the model, create an inference config and deploy the model as a web service."
      ],
      "metadata": {}
    },
    {
      "cell_type": "code",
      "source": [
        "from azureml.core import Model\r\n",
        "\r\n",
        "# Register model\r\n",
        "best_run.register_model(model_path='outputs/model.pkl', model_name='automl_model',\r\n",
        "                        tags={'Training context':'Auto ML'},\r\n",
        "                        properties={'AUC': best_run_metrics['AUC_weighted'], 'Accuracy': best_run_metrics['accuracy']})\r\n",
        "\r\n",
        "# List registered models\r\n",
        "for model in Model.list(ws):\r\n",
        "    print(model.name, 'version:', model.version)\r\n",
        "    for tag_name in model.tags:\r\n",
        "        tag = model.tags[tag_name]\r\n",
        "        print ('\\t',tag_name, ':', tag)\r\n",
        "    for prop_name in model.properties:\r\n",
        "        prop = model.properties[prop_name]\r\n",
        "        print ('\\t',prop_name, ':', prop)\r\n",
        "    print('\\n')"
      ],
      "outputs": [
        {
          "output_type": "stream",
          "name": "stdout",
          "text": [
            "automl_model version: 1\n",
            "\t Training context : Auto ML\n",
            "\t AUC : 0.9241789927412384\n",
            "\t Accuracy : 0.9454088237131311\n",
            "\n",
            "\n"
          ]
        }
      ],
      "execution_count": 30,
      "metadata": {
        "gather": {
          "logged": 1620502804347
        },
        "jupyter": {
          "outputs_hidden": false,
          "source_hidden": false
        },
        "nteract": {
          "transient": {
            "deleting": false
          }
        }
      }
    },
    {
      "cell_type": "code",
      "source": [
        "# create inference_config\r\n",
        "from azureml.core.model import InferenceConfig\r\n",
        "from azureml.core.environment import Environment\r\n",
        "\r\n",
        "inference_config = InferenceConfig(entry_script=\"scoring.py\")"
      ],
      "outputs": [],
      "execution_count": 32,
      "metadata": {
        "collapsed": true,
        "jupyter": {
          "source_hidden": false,
          "outputs_hidden": false
        },
        "nteract": {
          "transient": {
            "deleting": false
          }
        },
        "gather": {
          "logged": 1620502938453
        }
      }
    },
    {
      "cell_type": "code",
      "source": [
        "from azureml.core.webservice import Webservice, AciWebservice\r\n",
        "deployment_config = AciWebservice.deploy_configuration(cpu_cores=1, memory_gb = 1)"
      ],
      "outputs": [],
      "execution_count": 31,
      "metadata": {
        "collapsed": true,
        "jupyter": {
          "source_hidden": false,
          "outputs_hidden": false
        },
        "nteract": {
          "transient": {
            "deleting": false
          }
        },
        "gather": {
          "logged": 1620502932537
        }
      }
    },
    {
      "cell_type": "code",
      "source": [
        "service=Model.deploy(workspace=ws,\r\n",
        "                    name=\"deploy-service\",\r\n",
        "                    models=[model],\r\n",
        "                    inference_config=inference_config,\r\n",
        "                    deployment_config=deployment_config)\r\n",
        "service.wait_for_deployment(show_output=True)"
      ],
      "outputs": [
        {
          "output_type": "stream",
          "name": "stdout",
          "text": [
            "Tips: You can try get_logs(): https://aka.ms/debugimage#dockerlog or local deployment: https://aka.ms/debugimage#debug-locally to debug if deployment takes longer than 10 minutes.\n",
            "Running\n",
            "2021-05-08 19:43:21+00:00 Creating Container Registry if not exists.\n",
            "2021-05-08 19:43:22+00:00 Use the existing image.\n",
            "2021-05-08 19:43:23+00:00 Generating deployment configuration.\n",
            "2021-05-08 19:43:24+00:00 Submitting deployment to compute..\n",
            "2021-05-08 19:43:32+00:00 Checking the status of deployment deploy-service..\n",
            "2021-05-08 19:47:39+00:00 Checking the status of inference endpoint deploy-service.\n",
            "Succeeded\n",
            "ACI service creation operation finished, operation \"Succeeded\"\n"
          ]
        }
      ],
      "execution_count": 33,
      "metadata": {
        "collapsed": true,
        "jupyter": {
          "source_hidden": false,
          "outputs_hidden": false
        },
        "nteract": {
          "transient": {
            "deleting": false
          }
        },
        "gather": {
          "logged": 1620503269443
        }
      }
    },
    {
      "cell_type": "code",
      "source": [
        "scoring_uri = service.scoring_uri\r\n",
        "\r\n",
        "print(f'\\nservice state: {service.state}\\n')\r\n",
        "print(f'scoring URI: \\n{service.scoring_uri}\\n')\r\n",
        "print(f'swagger URI: \\n{service.swagger_uri}\\n')\r\n",
        "\r\n",
        "print(service.scoring_uri)\r\n",
        "print(service.swagger_uri)"
      ],
      "outputs": [
        {
          "output_type": "stream",
          "name": "stdout",
          "text": [
            "\n",
            "service state: Healthy\n",
            "\n",
            "scoring URI: \n",
            "http://399cd9c7-3b61-4554-9dd5-15dffb1af83d.southcentralus.azurecontainer.io/score\n",
            "\n",
            "swagger URI: \n",
            "http://399cd9c7-3b61-4554-9dd5-15dffb1af83d.southcentralus.azurecontainer.io/swagger.json\n",
            "\n",
            "http://399cd9c7-3b61-4554-9dd5-15dffb1af83d.southcentralus.azurecontainer.io/score\n",
            "http://399cd9c7-3b61-4554-9dd5-15dffb1af83d.southcentralus.azurecontainer.io/swagger.json\n"
          ]
        }
      ],
      "execution_count": 34,
      "metadata": {
        "gather": {
          "logged": 1620503375525
        },
        "jupyter": {
          "outputs_hidden": false,
          "source_hidden": false
        },
        "nteract": {
          "transient": {
            "deleting": false
          }
        }
      }
    },
    {
      "cell_type": "markdown",
      "source": [
        "TODO: In the cell below, send a request to the web service you deployed to test it."
      ],
      "metadata": {
        "collapsed": true,
        "gather": {
          "logged": 1598431657736
        },
        "jupyter": {
          "outputs_hidden": false,
          "source_hidden": false
        },
        "nteract": {
          "transient": {
            "deleting": false
          }
        }
      }
    },
    {
      "cell_type": "code",
      "source": [
        "df.columns"
      ],
      "outputs": [
        {
          "output_type": "execute_result",
          "execution_count": 40,
          "data": {
            "text/plain": "Index(['state', 'account_length', 'area_code', 'international_plan',\n       'voice_mail_plan', 'number_vmail_messages', 'total_day_minutes',\n       'total_day_calls', 'total_day_charge', 'total_eve_minutes',\n       'total_eve_calls', 'total_eve_charge', 'total_night_minutes',\n       'total_night_calls', 'total_night_charge', 'total_intl_minutes',\n       'total_intl_calls', 'total_intl_charge',\n       'number_customer_service_calls', 'churn'],\n      dtype='object')"
          },
          "metadata": {}
        }
      ],
      "execution_count": 40,
      "metadata": {
        "collapsed": true,
        "jupyter": {
          "source_hidden": false,
          "outputs_hidden": false
        },
        "nteract": {
          "transient": {
            "deleting": false
          }
        },
        "gather": {
          "logged": 1620504191286
        }
      }
    },
    {
      "cell_type": "code",
      "source": [
        "\n",
        "import requests\n",
        "import json\n",
        "\n",
        "data={\"data\":\n",
        "  [{\n",
        "     'state': \"OH\", 'account_length': 100, 'area_code': \"area_code_415\", 'international_plan':\"no\",\n",
        "       'voice_mail_plan': \"no\", 'number_vmail_messages': 26 , 'total_day_minutes': 123.0,\n",
        "       'total_day_calls': 42, 'total_day_charge': 42.0, 'total_eve_minutes': 42.0,\n",
        "       'total_eve_calls': 42, 'total_eve_charge': 42.0, 'total_night_minutes': 42.0,\n",
        "       'total_night_calls': 42, 'total_night_charge': 42.0, 'total_intl_minutes': 42.0,\n",
        "       'total_intl_calls': 42, 'total_intl_charge': 42.0,\n",
        "       'number_customer_service_calls': 42\n",
        "     }, {\n",
        "     'state': \"OH\", 'account_length': 100, 'area_code': \"area_code_415\", 'international_plan':\"no\",\n",
        "       'voice_mail_plan': \"no\", 'number_vmail_messages': 26 , 'total_day_minutes': 123.0,\n",
        "       'total_day_calls': 42, 'total_day_charge': 42.0, 'total_eve_minutes': 42.0,\n",
        "       'total_eve_calls': 42, 'total_eve_charge': 42.0, 'total_night_minutes': 42.0,\n",
        "       'total_night_calls': 42, 'total_night_charge': 42.0, 'total_intl_minutes': 42.0,\n",
        "       'total_intl_calls': 42, 'total_intl_charge': 42.0,\n",
        "       'number_customer_service_calls': 42\n",
        "     }\n",
        "     ]\n",
        "  }\n",
        "\n",
        "input_data=json.dumps(data)\n",
        "\n",
        "headers={\"Content-Type\":\"application/json\"}\n",
        "\n",
        "result=requests.post(scoring_uri, input_data, headers=headers)\n",
        "print(\"Response Code: \",result.status_code)\n",
        "print(\"Predicted Value: \",result.text)"
      ],
      "outputs": [
        {
          "output_type": "stream",
          "name": "stdout",
          "text": [
            "The output is:  \"TransformException:\\n\\tMessage: Must pass 2-d input\\n\\tInnerException: ValueError: Must pass 2-d input\\n\\tErrorResponse \\n{\\n    \\\"error\\\": {\\n        \\\"code\\\": \\\"SystemError\\\",\\n        \\\"message\\\": \\\"Encountered an internal AutoML error. Error Message/Code: TransformException. Additional Info: TransformException:\\\\n\\\\tMessage: Must pass 2-d input\\\\n\\\\tInnerException: None\\\\n\\\\tErrorResponse \\\\n{\\\\n    \\\\\\\"error\\\\\\\": {\\\\n        \\\\\\\"message\\\\\\\": \\\\\\\"Must pass 2-d input\\\\\\\",\\\\n        \\\\\\\"target\\\\\\\": \\\\\\\"PipelineWithYTransformations\\\\\\\",\\\\n        \\\\\\\"reference_code\\\\\\\": \\\\\\\"08fdc9b9-6ab8-4c46-9e21-da462e287594\\\\\\\"\\\\n    }\\\\n}\\\",\\n        \\\"details_uri\\\": \\\"https://docs.microsoft.com/azure/machine-learning/resource-known-issues#automated-machine-learning\\\",\\n        \\\"target\\\": \\\"PipelineWithYTransformations\\\",\\n        \\\"inner_error\\\": {\\n            \\\"code\\\": \\\"ClientError\\\",\\n            \\\"inner_error\\\": {\\n                \\\"code\\\": \\\"AutoMLInternal\\\"\\n            }\\n        },\\n        \\\"reference_code\\\": \\\"08fdc9b9-6ab8-4c46-9e21-da462e287594\\\"\\n    }\\n}\"\n"
          ]
        }
      ],
      "execution_count": 42,
      "metadata": {
        "collapsed": true,
        "jupyter": {
          "source_hidden": false,
          "outputs_hidden": false
        },
        "nteract": {
          "transient": {
            "deleting": false
          }
        },
        "gather": {
          "logged": 1620504539360
        }
      }
    },
    {
      "cell_type": "markdown",
      "source": [
        "TODO: In the cell below, print the logs of the web service and delete the service"
      ],
      "metadata": {
        "collapsed": true,
        "gather": {
          "logged": 1598432765711
        },
        "jupyter": {
          "outputs_hidden": false,
          "source_hidden": false
        },
        "nteract": {
          "transient": {
            "deleting": false
          }
        }
      }
    },
    {
      "cell_type": "code",
      "source": [
        "print(service.get_logs())"
      ],
      "outputs": [],
      "execution_count": null,
      "metadata": {
        "jupyter": {
          "outputs_hidden": false,
          "source_hidden": false
        },
        "nteract": {
          "transient": {
            "deleting": false
          }
        }
      }
    },
    {
      "cell_type": "code",
      "execution_count": null,
      "metadata": {},
      "outputs": [],
      "source": [
        "service.delete()"
      ]
    }
  ],
  "metadata": {
    "kernel_info": {
      "name": "python3"
    },
    "kernelspec": {
      "name": "python3",
      "language": "python",
      "display_name": "Python 3"
    },
    "language_info": {
      "name": "python",
      "version": "3.6.9",
      "mimetype": "text/x-python",
      "codemirror_mode": {
        "name": "ipython",
        "version": 3
      },
      "pygments_lexer": "ipython3",
      "nbconvert_exporter": "python",
      "file_extension": ".py"
    },
    "nteract": {
      "version": "nteract-front-end@1.0.0"
    },
    "microsoft": {
      "host": {
        "AzureML": {
          "notebookHasBeenCompleted": true
        }
      }
    }
  },
  "nbformat": 4,
  "nbformat_minor": 2
}